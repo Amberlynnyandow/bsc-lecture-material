{
 "cells": [
  {
   "cell_type": "markdown",
   "metadata": {},
   "source": [
    "![](https://miro.medium.com/max/2460/1*LRD_hq6lX-D_BM4RJcRK8w.png)"
   ]
  },
  {
   "cell_type": "markdown",
   "metadata": {
    "ExecuteTime": {
     "end_time": "2021-05-27T23:29:35.517383Z",
     "start_time": "2021-05-27T23:29:35.513418Z"
    }
   },
   "source": [
    "## Questions to ponder when Pre-processing/Cleaning/ the Data\n",
    "* Do I have the right index?\n",
    "* Do we have missing values? Or null values? \n",
    "* Do we need to change any of our dtypes? \n",
    "* How about the column names? \n",
    "* Should we drop any columns? \n",
    "* Are there duplicates? \n",
    "* Check for outliers. "
   ]
  },
  {
   "cell_type": "code",
   "execution_count": null,
   "metadata": {
    "ExecuteTime": {
     "end_time": "2021-05-28T14:58:22.819729Z",
     "start_time": "2021-05-28T14:58:22.556819Z"
    }
   },
   "outputs": [],
   "source": [
    "import pandas as pd\n",
    "import numpy as np \n",
    "df = pd.read_csv('http://bit.ly/drinksbycountry')\n",
    "df.head()"
   ]
  },
  {
   "cell_type": "code",
   "execution_count": null,
   "metadata": {
    "ExecuteTime": {
     "end_time": "2021-05-28T14:58:26.337969Z",
     "start_time": "2021-05-28T14:58:26.333229Z"
    }
   },
   "outputs": [],
   "source": [
    "#Ignore me for now\n",
    "df.replace(0, np.nan, inplace=True)"
   ]
  },
  {
   "cell_type": "code",
   "execution_count": null,
   "metadata": {
    "ExecuteTime": {
     "end_time": "2021-05-28T14:58:28.770757Z",
     "start_time": "2021-05-28T14:58:28.765199Z"
    }
   },
   "outputs": [],
   "source": [
    "df.info()"
   ]
  },
  {
   "cell_type": "markdown",
   "metadata": {},
   "source": [
    "## Deal with null values \n",
    "- How many are there? \n",
    "- Should we delete them? Replace them? What should we replace them with? Mean or median or mode or zero?\n",
    "- Maybe we should get rid of the entire column. "
   ]
  },
  {
   "cell_type": "code",
   "execution_count": null,
   "metadata": {
    "ExecuteTime": {
     "end_time": "2021-05-28T14:58:43.301473Z",
     "start_time": "2021-05-28T14:58:43.297680Z"
    }
   },
   "outputs": [],
   "source": [
    "#isnull - how can we make this more helpful?\n",
    "print(df.isnull())"
   ]
  },
  {
   "cell_type": "code",
   "execution_count": null,
   "metadata": {
    "ExecuteTime": {
     "end_time": "2021-05-28T14:58:53.557202Z",
     "start_time": "2021-05-28T14:58:53.541145Z"
    }
   },
   "outputs": [],
   "source": [
    "#Lets view the rows with null values to gain more context\n",
    "df[df.isna().any(axis=1)]"
   ]
  },
  {
   "cell_type": "markdown",
   "metadata": {},
   "source": [
    "_A DataFrame object has two axes: “axis 0” and “axis 1”. “axis 0” represents rows and “axis 1” represents columns._"
   ]
  },
  {
   "cell_type": "markdown",
   "metadata": {},
   "source": [
    "### A couple ways to fill in values in an entire df"
   ]
  },
  {
   "cell_type": "code",
   "execution_count": null,
   "metadata": {
    "ExecuteTime": {
     "end_time": "2021-05-28T14:56:06.726694Z",
     "start_time": "2021-05-28T14:56:06.723029Z"
    }
   },
   "outputs": [],
   "source": [
    "df.fillna(0, inplace=True)"
   ]
  },
  {
   "cell_type": "code",
   "execution_count": null,
   "metadata": {
    "ExecuteTime": {
     "end_time": "2021-05-28T14:56:06.733294Z",
     "start_time": "2021-05-28T14:56:06.728787Z"
    }
   },
   "outputs": [],
   "source": [
    "print(df.isnull().sum())"
   ]
  },
  {
   "cell_type": "code",
   "execution_count": null,
   "metadata": {
    "ExecuteTime": {
     "end_time": "2021-05-28T14:56:06.740380Z",
     "start_time": "2021-05-28T14:56:06.737916Z"
    }
   },
   "outputs": [],
   "source": [
    "#df.replace(np.nan, 0, inplace=True)\n",
    "#df['column_name'].replace({0: None})"
   ]
  },
  {
   "cell_type": "markdown",
   "metadata": {},
   "source": [
    "## Changing the Index \n",
    "Index is like an address, that’s how any data point across the dataframe or series can be accessed. Rows and columns both have indexes, rows indices are called as index and for columns its general column names."
   ]
  },
  {
   "cell_type": "code",
   "execution_count": null,
   "metadata": {
    "ExecuteTime": {
     "end_time": "2021-05-28T14:56:06.748870Z",
     "start_time": "2021-05-28T14:56:06.743854Z"
    }
   },
   "outputs": [],
   "source": [
    "df['country'].nunique() "
   ]
  },
  {
   "cell_type": "code",
   "execution_count": null,
   "metadata": {
    "ExecuteTime": {
     "end_time": "2021-05-28T14:56:06.754280Z",
     "start_time": "2021-05-28T14:56:06.751061Z"
    }
   },
   "outputs": [],
   "source": [
    "df.set_index('country', inplace=True) #another way to do this - add index_col to read_csv()"
   ]
  },
  {
   "cell_type": "code",
   "execution_count": null,
   "metadata": {
    "ExecuteTime": {
     "end_time": "2021-05-28T14:56:06.762217Z",
     "start_time": "2021-05-28T14:56:06.756666Z"
    }
   },
   "outputs": [],
   "source": [
    "# sort index based on ascending order\n",
    "df.continent.value_counts().sort_index()"
   ]
  },
  {
   "cell_type": "markdown",
   "metadata": {},
   "source": [
    "## Double check our data types\n",
    "- object\n",
    "- int64\n",
    "- float64\n",
    "- datetime64\n",
    "- bool"
   ]
  },
  {
   "cell_type": "code",
   "execution_count": null,
   "metadata": {
    "ExecuteTime": {
     "end_time": "2021-05-28T14:56:06.768657Z",
     "start_time": "2021-05-28T14:56:06.764083Z"
    }
   },
   "outputs": [],
   "source": [
    "df.dtypes"
   ]
  },
  {
   "cell_type": "code",
   "execution_count": null,
   "metadata": {
    "ExecuteTime": {
     "end_time": "2021-05-28T14:56:06.773679Z",
     "start_time": "2021-05-28T14:56:06.771088Z"
    }
   },
   "outputs": [],
   "source": [
    "#df['column_name'].astype('int')"
   ]
  },
  {
   "cell_type": "markdown",
   "metadata": {},
   "source": [
    "## Dropping columns and rows \n",
    "[Documentation](https://pandas.pydata.org/pandas-docs/stable/reference/api/pandas.DataFrame.drop.html)\n",
    "- Pay attention to the index\n",
    "- _Notice:_ Without inplace = True we are only returning a copy UNLESS we set the line = to the new df\n"
   ]
  },
  {
   "cell_type": "code",
   "execution_count": null,
   "metadata": {
    "ExecuteTime": {
     "end_time": "2021-05-28T14:56:06.779456Z",
     "start_time": "2021-05-28T14:56:06.776843Z"
    }
   },
   "outputs": [],
   "source": [
    "#df.drop(['column_name', 'column_name'], axis=1)\n",
    "#df.drop(columns=['column_name', 'column_name'])\n",
    "\n",
    "#df.drop([0,1])"
   ]
  },
  {
   "cell_type": "markdown",
   "metadata": {},
   "source": [
    "## Lambda Functions \n",
    "A lambda function is a small anonymous function. Typically called a throw away function. \n",
    "A lambda function can take any number of arguments, but can only have one expression.\n",
    "\n",
    "_lambda arguments : expression_\n",
    "\n"
   ]
  },
  {
   "cell_type": "code",
   "execution_count": null,
   "metadata": {
    "ExecuteTime": {
     "end_time": "2021-05-28T14:56:06.786414Z",
     "start_time": "2021-05-28T14:56:06.781745Z"
    }
   },
   "outputs": [],
   "source": [
    "def my_func(x): \n",
    "    return x\n",
    "\n",
    "lambda x: x"
   ]
  },
  {
   "cell_type": "code",
   "execution_count": null,
   "metadata": {
    "ExecuteTime": {
     "end_time": "2021-05-28T14:56:06.792267Z",
     "start_time": "2021-05-28T14:56:06.788722Z"
    }
   },
   "outputs": [],
   "source": [
    "# Rename columns\n",
    "df = df.rename(columns = lambda x: x.replace(\" \", \"_\").lower())"
   ]
  },
  {
   "cell_type": "markdown",
   "metadata": {},
   "source": [
    "## Groupby Function \n",
    "Used to split the data into groups based on some criteria.\n",
    "\n",
    "> Table_name.groupby(['Group'])['Feature'].aggregation()\n",
    "\n",
    "**Table_name**: this would be the name of the DataFrame, the source of the data you are working on.\n",
    "<br>\n",
    "**groupby:** the group by in Python is for sorting data based on different criteria. In this case, the condition is Group.\n",
    "<br>\n",
    "**Feature:** the part of the data or feature you want to be inserted in the computation.<br>\n",
    "**aggregation():** the specific function name or aggregation you wish to execute with this operation.\n",
    "- mean(): Compute mean of groups\n",
    "- sum(): Compute sum of group values\n",
    "- size(): Compute group sizes\n",
    "- count(): Compute count of group\n",
    "- std(): Standard deviation of groups\n",
    "- var(): Compute variance of groups\n",
    "- sem(): Standard error of the mean of groups\n",
    "- describe(): Generates descriptive statistics\n",
    "- first(): Compute first of group values\n",
    "- last(): Compute last of group values\n",
    "- nth() : Take nth value, or a subset if n is a list\n",
    "- min(): Compute min of group values\n",
    "- max(): Compute max of group values"
   ]
  },
  {
   "cell_type": "code",
   "execution_count": null,
   "metadata": {
    "ExecuteTime": {
     "end_time": "2021-05-28T14:56:06.800886Z",
     "start_time": "2021-05-28T14:56:06.794155Z"
    }
   },
   "outputs": [],
   "source": [
    "#whats the average beer_servings per continent?\n",
    "df.groupby('continent').beer_servings.mean()"
   ]
  },
  {
   "cell_type": "code",
   "execution_count": null,
   "metadata": {
    "ExecuteTime": {
     "end_time": "2021-05-28T14:56:06.828327Z",
     "start_time": "2021-05-28T14:56:06.803498Z"
    }
   },
   "outputs": [],
   "source": [
    "#lets look at the descriptive stats for only wine servings and for all continents \n",
    "df.groupby(\"continent\")[\"wine_servings\"].describe()"
   ]
  },
  {
   "cell_type": "markdown",
   "metadata": {},
   "source": [
    "## apply() , map() and applymap()\n",
    "\n",
    "- apply() is used to apply a function along an axis of the DataFrame or on values of Series.\n",
    "- applymap() is used to apply a function to a DataFrame elementwise.\n",
    "- map() is used to substitute each value in a Series with another value.\n",
    "\n",
    "![](https://miro.medium.com/max/1796/1*deCRAl5DuNZ1a0TNGKYrNQ.png)\n"
   ]
  },
  {
   "cell_type": "code",
   "execution_count": null,
   "metadata": {
    "ExecuteTime": {
     "end_time": "2021-05-28T14:56:06.846697Z",
     "start_time": "2021-05-28T14:56:06.830470Z"
    }
   },
   "outputs": [],
   "source": [
    "#map - best used for mapping strings into ints\n",
    "df['num_cont'] = df['continent'].map({'Asia': 0, 'Europe': 1, })\n",
    "df.head()"
   ]
  },
  {
   "cell_type": "code",
   "execution_count": null,
   "metadata": {
    "ExecuteTime": {
     "end_time": "2021-05-28T14:56:06.876037Z",
     "start_time": "2021-05-28T14:56:06.848691Z"
    }
   },
   "outputs": [],
   "source": [
    "#apply - applies a function to each element in a series or df. \n",
    "df.loc[:, ['beer_servings','wine_servings']].apply(np.argmax, axis=1)"
   ]
  },
  {
   "cell_type": "code",
   "execution_count": null,
   "metadata": {},
   "outputs": [],
   "source": []
  }
 ],
 "metadata": {
  "kernelspec": {
   "display_name": "learn-env",
   "language": "python",
   "name": "learn-env"
  },
  "language_info": {
   "codemirror_mode": {
    "name": "ipython",
    "version": 3
   },
   "file_extension": ".py",
   "mimetype": "text/x-python",
   "name": "python",
   "nbconvert_exporter": "python",
   "pygments_lexer": "ipython3",
   "version": "3.6.6"
  },
  "toc": {
   "base_numbering": 1,
   "nav_menu": {},
   "number_sections": true,
   "sideBar": true,
   "skip_h1_title": true,
   "title_cell": "Table of Contents",
   "title_sidebar": "Contents",
   "toc_cell": false,
   "toc_position": {},
   "toc_section_display": true,
   "toc_window_display": false
  }
 },
 "nbformat": 4,
 "nbformat_minor": 2
}
