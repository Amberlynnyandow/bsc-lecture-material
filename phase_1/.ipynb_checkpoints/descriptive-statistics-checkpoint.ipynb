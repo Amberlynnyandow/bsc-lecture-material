{
 "cells": [
  {
   "cell_type": "markdown",
   "metadata": {},
   "source": [
    "# Descriptive/Summary Statistics\n",
    "\n",
    "Here are box plots that summarize the heights of 20 professional male athletes in basketball, football, hockey, and baseball. What information could be gathered from this visual?\n",
    "\n",
    "![](https://my.bakpax.com/static-content/qsta73884bc-2ca1-1fb6-8a6e-5db416493e1e-0)"
   ]
  },
  {
   "cell_type": "markdown",
   "metadata": {},
   "source": [
    "### Data Types \n",
    "\n",
    "- **Nominal Data** - Nominal data can be both qualitative and quantitative. However, the quantitative labels lack a numerical value or relationship (identification number). On the other hand, various types of qualitative data can be represented in nominal form. They may include words, letters, and symbols. <br/>\n",
    "\n",
    "**Examples include:** genotype, blood type, zip code, gender, race, eye color, political party\n",
    "\n",
    "- **Ordinal Data** - Data thats ordered. <br/>\n",
    "\n",
    "**Examples include:** likert scales, socio economic status\n",
    "\n",
    "- **Interval/Ratio Data** - An interval scale is one where there is order and the difference between two values is meaningful. <br/>\n",
    "\n",
    "**Examples include:** temperature, pH, SAT scores, credit scores. \n",
    "\n",
    "_Note:_ Differences between Quantitative(Numerical) and Qualitative(Categorical), Discrete and Continuous. \n"
   ]
  },
  {
   "cell_type": "markdown",
   "metadata": {},
   "source": [
    "## Central Tendency\n",
    "- First type of summary measure."
   ]
  },
  {
   "cell_type": "markdown",
   "metadata": {},
   "source": [
    "### Mean \n",
    "- Average or a sample or population. Must only be used on interval data. Sensitive to outliers. "
   ]
  },
  {
   "cell_type": "markdown",
   "metadata": {},
   "source": [
    "#### 🧠 Knowledge Check: Code the mean from scratch\n",
    "Write a function that outputs the mean of a collection of values. "
   ]
  },
  {
   "cell_type": "code",
   "execution_count": null,
   "metadata": {},
   "outputs": [],
   "source": []
  },
  {
   "cell_type": "markdown",
   "metadata": {
    "ExecuteTime": {
     "end_time": "2021-05-27T01:09:33.176097Z",
     "start_time": "2021-05-27T01:09:33.171282Z"
    }
   },
   "source": [
    "<details>\n",
    "    <summary>Possible Solution - don't look!</summary> \n",
    "<code> \n",
    "def mean(x):\n",
    "    return sum(x)/len(x)\n",
    "</code>\n",
    "</details>"
   ]
  },
  {
   "cell_type": "markdown",
   "metadata": {},
   "source": [
    "#### Outliers \n",
    "- Mean is very sensitive to outliers"
   ]
  },
  {
   "cell_type": "code",
   "execution_count": null,
   "metadata": {
    "ExecuteTime": {
     "end_time": "2021-05-27T12:57:23.453659Z",
     "start_time": "2021-05-27T12:57:22.791014Z"
    }
   },
   "outputs": [],
   "source": [
    "import pandas as pd \n",
    "df = pd.read_csv('heart.csv')"
   ]
  },
  {
   "cell_type": "code",
   "execution_count": null,
   "metadata": {
    "ExecuteTime": {
     "end_time": "2021-05-27T12:57:32.249759Z",
     "start_time": "2021-05-27T12:57:32.195543Z"
    }
   },
   "outputs": [],
   "source": [
    "df.describe()"
   ]
  },
  {
   "cell_type": "code",
   "execution_count": null,
   "metadata": {
    "ExecuteTime": {
     "end_time": "2021-05-27T12:58:41.556185Z",
     "start_time": "2021-05-27T12:58:40.889555Z"
    }
   },
   "outputs": [],
   "source": [
    "import matplotlib.pyplot as plt \n",
    "import numpy as np\n",
    "%matplotlib inline "
   ]
  },
  {
   "cell_type": "code",
   "execution_count": null,
   "metadata": {
    "ExecuteTime": {
     "end_time": "2021-05-27T13:01:58.454186Z",
     "start_time": "2021-05-27T13:01:58.449468Z"
    }
   },
   "outputs": [],
   "source": [
    "age_mean = np.mean(df.age)\n",
    "age_mean"
   ]
  },
  {
   "cell_type": "code",
   "execution_count": null,
   "metadata": {
    "ExecuteTime": {
     "end_time": "2021-05-27T13:02:21.890093Z",
     "start_time": "2021-05-27T13:02:21.777653Z"
    }
   },
   "outputs": [],
   "source": [
    "plt.hist(df['age'], bins=8)\n",
    "plt.axvline(age_mean, color='red')\n",
    "plt.title('Ages in Heart Disease Data')\n",
    "plt.show()"
   ]
  },
  {
   "cell_type": "code",
   "execution_count": null,
   "metadata": {
    "ExecuteTime": {
     "end_time": "2021-05-27T13:28:31.486755Z",
     "start_time": "2021-05-27T13:28:31.446682Z"
    }
   },
   "outputs": [],
   "source": [
    "#Return a new df that contains all persons between the ages of 42 and 70\n",
    "df_age_outliers = \n",
    "df_age_outliers"
   ]
  },
  {
   "cell_type": "code",
   "execution_count": null,
   "metadata": {
    "ExecuteTime": {
     "end_time": "2021-05-27T13:31:33.427725Z",
     "start_time": "2021-05-27T13:31:33.423416Z"
    }
   },
   "outputs": [],
   "source": [
    "outliers_age_mean = np.mean(df_age_outliers.age)\n",
    "outliers_age_mean"
   ]
  },
  {
   "cell_type": "markdown",
   "metadata": {},
   "source": [
    "### Median\n",
    "- The middle value. Helpful if a dataset has many outliers. "
   ]
  },
  {
   "cell_type": "code",
   "execution_count": null,
   "metadata": {
    "ExecuteTime": {
     "end_time": "2021-05-27T13:30:56.775519Z",
     "start_time": "2021-05-27T13:30:56.771227Z"
    }
   },
   "outputs": [],
   "source": [
    "age_median = np.median(df.age)\n",
    "age_median"
   ]
  },
  {
   "cell_type": "code",
   "execution_count": null,
   "metadata": {
    "ExecuteTime": {
     "end_time": "2021-05-27T13:35:29.780966Z",
     "start_time": "2021-05-27T13:35:29.666753Z"
    }
   },
   "outputs": [],
   "source": [
    "plt.hist(df.age, bins=8)\n",
    "plt.axvline(age_mean, color='red')\n",
    "plt.axvline(age_median, color='yellow')\n",
    "plt.title(\"Retirement Ages\")\n",
    "plt.show()"
   ]
  },
  {
   "cell_type": "code",
   "execution_count": null,
   "metadata": {
    "ExecuteTime": {
     "end_time": "2021-05-27T13:32:20.938658Z",
     "start_time": "2021-05-27T13:32:20.934300Z"
    }
   },
   "outputs": [],
   "source": [
    "outliers_age_median = np.median(df.age)\n",
    "outliers_age_median"
   ]
  },
  {
   "cell_type": "code",
   "execution_count": null,
   "metadata": {
    "ExecuteTime": {
     "end_time": "2021-05-27T13:35:55.670077Z",
     "start_time": "2021-05-27T13:35:55.560745Z"
    }
   },
   "outputs": [],
   "source": [
    "plt.hist(df_age_outliers.age, bins=8)\n",
    "plt.axvline(outliers_age_mean, color='red')\n",
    "plt.axvline(outliers_age_median, color='yellow')\n",
    "plt.title(\"Retirement Ages\")\n",
    "plt.show()"
   ]
  },
  {
   "cell_type": "markdown",
   "metadata": {},
   "source": [
    "### Mode\n",
    "- The most frequent value.\n",
    "- Use the mode with categorical, ordinal, and discrete data.\n",
    "- Mode is the only measure of central tendency that you can use with categorical data— like preferences. WAIT, does categorical data have a central value? \n",
    "- Ordinal and discrete data, the mode can be a value that is not in the center."
   ]
  },
  {
   "cell_type": "code",
   "execution_count": null,
   "metadata": {
    "ExecuteTime": {
     "end_time": "2021-05-27T13:38:27.107852Z",
     "start_time": "2021-05-27T13:38:26.996475Z"
    }
   },
   "outputs": [],
   "source": [
    "plt.hist(df['age'], bins=8)\n",
    "plt.title('Ages in Heart Disease Data')\n",
    "plt.show()"
   ]
  },
  {
   "cell_type": "code",
   "execution_count": null,
   "metadata": {
    "ExecuteTime": {
     "end_time": "2021-05-27T13:47:44.963216Z",
     "start_time": "2021-05-27T13:47:44.958140Z"
    }
   },
   "outputs": [],
   "source": [
    "age_mode = df.age.mode()\n",
    "age_mode"
   ]
  },
  {
   "cell_type": "markdown",
   "metadata": {},
   "source": [
    "## Dispersion\n",
    "- Second type of summary measure \n",
    "- This can tell you how much the values differ from each other or how spread out the values are. How would you measure that?"
   ]
  },
  {
   "cell_type": "markdown",
   "metadata": {},
   "source": [
    "### Variance and Standard Deviation\n",
    "\n",
    "![](https://www.biologyforlife.com/uploads/2/2/3/9/22392738/sd2_orig.png)\n",
    "\n",
    "Variance (standard deviation squared) is the average of the squared differences from the Mean. It will show the spread of the values. Below is our formula:\n",
    "\n",
    "$$ \\sigma^2 = \\frac{1}{N} \\sum{(x-\\bar{x})^2}$$"
   ]
  },
  {
   "cell_type": "markdown",
   "metadata": {},
   "source": [
    "## Covariance & Correlation\n",
    "- Third type of summary measure, the measure of _association_. This measures the relationships between the elements. \n",
    "- Covariance is used to determine how much two random variables vary together, whereas correlation is used to determine when a change in one variable can result in a change in another."
   ]
  },
  {
   "cell_type": "markdown",
   "metadata": {},
   "source": [
    "### 🧠 Why we should always look at our summary stats with a visual [datasaurus set](https://www.autodeskresearch.com/publications/samestats)"
   ]
  },
  {
   "cell_type": "markdown",
   "metadata": {},
   "source": [
    "## Discussion Questions"
   ]
  },
  {
   "cell_type": "markdown",
   "metadata": {},
   "source": [
    "1. A news article reported that of the 446 players on National Basketball Association rosters in 2015, only 146 made more than 5 million. The article also stated that the average NBA salary in 2015 was 5.2 million. What's going on here? Is this a mistake? "
   ]
  },
  {
   "cell_type": "markdown",
   "metadata": {},
   "source": [
    "2. [Do SUVs waste gas?](https://www.wsj.com/articles/suvs-use-more-gas-but-fitting-more-people-changes-the-equation-11558098000)"
   ]
  },
  {
   "cell_type": "markdown",
   "metadata": {},
   "source": [
    "3. Suppose QB Aaron Rodgers throws for 365yrds but no touchdowns. Meanwhile, Peyton Manning throws for a meager 127yrds but three touchdowns. Who played better? \n",
    "\n"
   ]
  },
  {
   "cell_type": "markdown",
   "metadata": {},
   "source": [
    "4. Who's the GOAT - [Lebron or Jordan?](https://www.landofbasketball.com/player_comparison/lebron_james_vs_michael_jordan.htm) "
   ]
  },
  {
   "cell_type": "code",
   "execution_count": null,
   "metadata": {},
   "outputs": [],
   "source": []
  }
 ],
 "metadata": {
  "kernelspec": {
   "display_name": "learn-env",
   "language": "python",
   "name": "learn-env"
  },
  "language_info": {
   "codemirror_mode": {
    "name": "ipython",
    "version": 3
   },
   "file_extension": ".py",
   "mimetype": "text/x-python",
   "name": "python",
   "nbconvert_exporter": "python",
   "pygments_lexer": "ipython3",
   "version": "3.6.6"
  },
  "toc": {
   "base_numbering": 1,
   "nav_menu": {},
   "number_sections": true,
   "sideBar": true,
   "skip_h1_title": true,
   "title_cell": "Table of Contents",
   "title_sidebar": "Contents",
   "toc_cell": false,
   "toc_position": {},
   "toc_section_display": true,
   "toc_window_display": false
  }
 },
 "nbformat": 4,
 "nbformat_minor": 2
}
