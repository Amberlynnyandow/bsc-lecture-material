{
 "cells": [
  {
   "cell_type": "markdown",
   "metadata": {},
   "source": [
    "### Nested Structures "
   ]
  },
  {
   "cell_type": "code",
   "execution_count": null,
   "metadata": {},
   "outputs": [],
   "source": [
    "avengers = {\n",
    "    \"Captain America\": {\n",
    "        'movies':['The First Avenger', 'The Avengers', 'Winter Solider', 'Age of Ultron', \n",
    "                  'Civil War', 'Infinity War', 'Endgame']\n",
    "    }, \n",
    "    \"Thor\": {\n",
    "        'movies':['Thor', 'The Dark World', 'Ragnarok']\n",
    "    }, \n",
    "    \"Iron Man\": {\n",
    "       'movies':['Iron Man', 'Iron Man 2', 'Iron Man 3'] \n",
    "    }}"
   ]
  }
 ],
 "metadata": {
  "kernelspec": {
   "display_name": "learn-env",
   "language": "python",
   "name": "learn-env"
  },
  "language_info": {
   "codemirror_mode": {
    "name": "ipython",
    "version": 3
   },
   "file_extension": ".py",
   "mimetype": "text/x-python",
   "name": "python",
   "nbconvert_exporter": "python",
   "pygments_lexer": "ipython3",
   "version": "3.6.6"
  },
  "toc": {
   "base_numbering": 1,
   "nav_menu": {},
   "number_sections": true,
   "sideBar": true,
   "skip_h1_title": true,
   "title_cell": "Table of Contents",
   "title_sidebar": "Contents",
   "toc_cell": false,
   "toc_position": {},
   "toc_section_display": true,
   "toc_window_display": false
  }
 },
 "nbformat": 4,
 "nbformat_minor": 2
}
