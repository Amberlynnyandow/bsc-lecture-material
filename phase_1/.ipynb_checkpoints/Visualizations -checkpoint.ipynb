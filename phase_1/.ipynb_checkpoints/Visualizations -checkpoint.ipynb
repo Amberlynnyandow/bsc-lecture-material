{
 "cells": [
  {
   "cell_type": "markdown",
   "metadata": {},
   "source": [
    "#               Intro to Plotting\n",
    "![](https://www.nobledesktop.com/image/pythondataviz.png)"
   ]
  },
  {
   "cell_type": "markdown",
   "metadata": {},
   "source": [
    "## Types of plots and when to use them \n",
    "- [The Visual Vocabulary](https://gramener.github.io/visual-vocabulary-vega/#)\n",
    "- [Matplotlib plots](https://matplotlib.org/stable/api/axes_api.html)"
   ]
  },
  {
   "cell_type": "markdown",
   "metadata": {},
   "source": [
    "## Anatomy of a Matplotlib visual \n",
    "* Understand how to style a plot \n",
    "* What is the goal of an effective visual? \n",
    "\n",
    "![](https://files.realpython.com/media/anatomy.7d033ebbfbc8.png)"
   ]
  },
  {
   "cell_type": "markdown",
   "metadata": {},
   "source": [
    "## Building with Matplotlib \n",
    "* Understand the difference between figure and axes objects. This is the \"object-oriented\" syntax, which is the preferred interface for Matplotlib. The object-oriented syntax uses <br/>\n",
    "```fig, ax = plt.subplots() or fig = plt.figure().``` "
   ]
  },
  {
   "cell_type": "code",
   "execution_count": null,
   "metadata": {
    "ExecuteTime": {
     "end_time": "2021-06-01T14:36:19.494619Z",
     "start_time": "2021-06-01T14:36:18.171345Z"
    }
   },
   "outputs": [],
   "source": [
    "import pandas as pd\n",
    "import numpy as np\n",
    "\n",
    "import matplotlib.pyplot as plt\n",
    "%matplotlib inline\n",
    "\n",
    "import seaborn"
   ]
  },
  {
   "cell_type": "code",
   "execution_count": null,
   "metadata": {
    "ExecuteTime": {
     "end_time": "2021-06-01T14:36:19.503523Z",
     "start_time": "2021-06-01T14:36:19.496774Z"
    }
   },
   "outputs": [],
   "source": [
    "#linspace creates a floating point array with equally spaced\n",
    "#numbers from 0-1000 with a total of 25 elements\n",
    "years = range(1975, 2000)\n",
    "# Create a numpy array of 25 values from 0 - 1000\n",
    "data = np.linspace(0, 1000, 25)\n",
    "data"
   ]
  },
  {
   "cell_type": "markdown",
   "metadata": {},
   "source": [
    "### Styling and labeling a plot "
   ]
  },
  {
   "cell_type": "code",
   "execution_count": null,
   "metadata": {
    "ExecuteTime": {
     "end_time": "2021-06-01T14:36:19.642852Z",
     "start_time": "2021-06-01T14:36:19.506362Z"
    }
   },
   "outputs": [],
   "source": [
    "# instantiate line plot - can label ax whatever you want\n",
    "fig, ax = plt.subplots()\n",
    "\n",
    "# passing in our x and y data into .plot function\n",
    "ax.plot(years, data, color='lightblue', linewidth=4, linestyle='-.')\n",
    "\n",
    "# Add labels for x and y axes\n",
    "ax.set_xlabel('Years')\n",
    "ax.set_ylabel('Random Floats')\n",
    "\n",
    "# Add a title for the plot\n",
    "ax.set_title('Practice Plot', color='blue', fontsize=20)\n",
    "\n",
    "# add a legend \n",
    "ax.legend([\"Example\"], loc=4);\n",
    "\n"
   ]
  },
  {
   "cell_type": "markdown",
   "metadata": {},
   "source": [
    "### Position, Length and Size "
   ]
  },
  {
   "cell_type": "code",
   "execution_count": null,
   "metadata": {
    "ExecuteTime": {
     "end_time": "2021-06-01T14:36:19.647638Z",
     "start_time": "2021-06-01T14:36:19.645102Z"
    }
   },
   "outputs": [],
   "source": [
    "# more fake data for zooming in and out \n",
    "# arange creates an array \n",
    "x = np.arange(101)\n",
    "y = x**2"
   ]
  },
  {
   "cell_type": "markdown",
   "metadata": {},
   "source": [
    "#### Zooming in and out using ```set_xlim(min,max) and/or set_ylim(min,max)```"
   ]
  },
  {
   "cell_type": "code",
   "execution_count": null,
   "metadata": {
    "ExecuteTime": {
     "end_time": "2021-06-01T14:36:19.756471Z",
     "start_time": "2021-06-01T14:36:19.649594Z"
    }
   },
   "outputs": [],
   "source": [
    "# let's zoom in \n",
    "# Create plot, draw graph, set title\n",
    "fig, ax = plt.subplots()\n",
    "ax.plot(x,y)\n",
    "ax.set_title(\"Zoomed Out\")\n",
    "\n",
    "# Set the limits of x and y to \"zoom out\"\n",
    "ax.set_xlim(min(x)-15, max(x)+15)\n",
    "ax.set_ylim(min(y)-1500, max(y)+1500);"
   ]
  },
  {
   "cell_type": "code",
   "execution_count": null,
   "metadata": {
    "ExecuteTime": {
     "end_time": "2021-06-01T14:36:19.878731Z",
     "start_time": "2021-06-01T14:36:19.758037Z"
    }
   },
   "outputs": [],
   "source": [
    "# Create plot, draw graph, set title\n",
    "fig, ax = plt.subplots()\n",
    "ax.plot(x,y)\n",
    "ax.set_title(\"Zoomed In\")\n",
    "\n",
    "# Set the limits of x and y to \"zoom in\"\n",
    "ax.set_xlim(80, 100)\n",
    "ax.set_ylim(6000, 10000);"
   ]
  },
  {
   "cell_type": "markdown",
   "metadata": {},
   "source": [
    "#### Using ```.set_xticks() and .set_yticks() ```"
   ]
  },
  {
   "cell_type": "code",
   "execution_count": null,
   "metadata": {
    "ExecuteTime": {
     "end_time": "2021-06-01T14:36:19.979849Z",
     "start_time": "2021-06-01T14:36:19.880360Z"
    }
   },
   "outputs": [],
   "source": [
    "# Create plot, draw graph, set title\n",
    "fig, ax = plt.subplots()\n",
    "ax.plot(x,y)\n",
    "ax.set_title(\"More Ticks on x-axis, Fewer Ticks on y-axis\")\n",
    "\n",
    "# Customize the x and y axis ticks so x-axis has 11 and y-axis has 5\n",
    "xticks = np.linspace(start=min(x), stop=max(x), num=11)\n",
    "yticks = np.linspace(start=min(y), stop=max(y), num=5)\n",
    "ax.set_xticks(xticks)\n",
    "ax.set_yticks(yticks);"
   ]
  },
  {
   "cell_type": "code",
   "execution_count": null,
   "metadata": {
    "ExecuteTime": {
     "end_time": "2021-06-01T14:36:20.101827Z",
     "start_time": "2021-06-01T14:36:19.982967Z"
    }
   },
   "outputs": [],
   "source": [
    "# Create plot, draw graph, set title\n",
    "fig, ax = plt.subplots()\n",
    "ax.plot(x,y)\n",
    "ax.set_title('Displaying Terrible Use of xticks and yticks')\n",
    "\n",
    "# Customize the x and y axis ticks so the max tick is higher than the max data\n",
    "xticks = np.linspace(start=min(x), stop=max(x)*2, num=11)\n",
    "yticks = np.linspace(start=min(y), stop=max(y)*10, num=11)\n",
    "ax.set_xticks(xticks)\n",
    "ax.set_yticks(yticks);"
   ]
  },
  {
   "cell_type": "markdown",
   "metadata": {},
   "source": [
    "## Creating multiple plots on 1 figure"
   ]
  },
  {
   "cell_type": "code",
   "execution_count": null,
   "metadata": {
    "ExecuteTime": {
     "end_time": "2021-06-01T14:36:20.238236Z",
     "start_time": "2021-06-01T14:36:20.104952Z"
    }
   },
   "outputs": [],
   "source": [
    "# Create fake data\n",
    "x1 = [1, 4, 6, 8]\n",
    "y1 = [10, 15, 27, 32]\n",
    "x2 = [0.5, 2.2, 4.2, 6.5]\n",
    "y2 = [21, 19, 9, 26]\n",
    "\n",
    "# Create the plot\n",
    "fig, ax = plt.subplots()\n",
    "\n",
    "# Generate a line plot\n",
    "ax.plot(x1, y1)\n",
    "\n",
    "# Draw a scatter plot on same axes\n",
    "ax.scatter(x2, y2)\n",
    "\n",
    "# Add a legend\n",
    "ax.legend([\"Dataset 1\", \"Dataset 2\"]);"
   ]
  },
  {
   "cell_type": "code",
   "execution_count": null,
   "metadata": {
    "ExecuteTime": {
     "end_time": "2021-06-01T14:36:20.383818Z",
     "start_time": "2021-06-01T14:36:20.240158Z"
    }
   },
   "outputs": [],
   "source": [
    "# Create the plot\n",
    "fig, ax = plt.subplots()\n",
    "\n",
    "# Set the limits of x and y axes\n",
    "ax.set_xlim(0, 9), ax.set_ylim(5,35)\n",
    "\n",
    "# Generate a line plot with custom styling\n",
    "ax.plot(x1, y1, color='lightblue', linewidth=3, linestyle = '-.')\n",
    "\n",
    "# Draw a scatter plot on same axes with custom styling\n",
    "ax.scatter(x2, y2, color='red', marker='x')\n",
    "\n",
    "# Add a legend\n",
    "ax.legend([\"Dataset 1\", \"Dataset 2\"]);"
   ]
  },
  {
   "cell_type": "markdown",
   "metadata": {},
   "source": [
    "We can also create multiple axes (i.e. multiple subplots) within a single figure by specifying the nrows and/or ncols arguments.\n",
    "\n",
    "For example, here we are creating 3 side-by-side axes within a figure:"
   ]
  },
  {
   "cell_type": "code",
   "execution_count": null,
   "metadata": {
    "ExecuteTime": {
     "end_time": "2021-06-01T14:36:20.636082Z",
     "start_time": "2021-06-01T14:36:20.385654Z"
    }
   },
   "outputs": [],
   "source": [
    "fig, axes = plt.subplots(figsize=(11, 3), ncols=3)"
   ]
  },
  {
   "cell_type": "code",
   "execution_count": null,
   "metadata": {
    "ExecuteTime": {
     "end_time": "2021-06-01T14:36:20.926840Z",
     "start_time": "2021-06-01T14:36:20.637915Z"
    }
   },
   "outputs": [],
   "source": [
    "fig, axes = plt.subplots(figsize=(3, 11), nrows=3)"
   ]
  },
  {
   "cell_type": "markdown",
   "metadata": {
    "ExecuteTime": {
     "end_time": "2021-06-01T13:42:50.592556Z",
     "start_time": "2021-06-01T13:42:50.589427Z"
    }
   },
   "source": [
    "__Note__: We have multiple axes now. "
   ]
  },
  {
   "cell_type": "code",
   "execution_count": null,
   "metadata": {
    "ExecuteTime": {
     "end_time": "2021-06-01T14:36:21.227852Z",
     "start_time": "2021-06-01T14:36:20.928373Z"
    }
   },
   "outputs": [],
   "source": [
    "fig, axes = plt.subplots(figsize=(11, 3), ncols=3)\n",
    "axes[1].set_facecolor(\"orange\")"
   ]
  },
  {
   "cell_type": "markdown",
   "metadata": {},
   "source": [
    "## Object-oreinted syntax vs. PyPlot syntax\n",
    "So far, all of these examples have used the \"object-oriented\" syntax, which is the preferred interface for Matplotlib. (The object-oriented syntax uses fig, ax = plt.subplots() or fig = plt.figure().)"
   ]
  },
  {
   "cell_type": "code",
   "execution_count": null,
   "metadata": {
    "ExecuteTime": {
     "end_time": "2021-06-01T14:36:21.357996Z",
     "start_time": "2021-06-01T14:36:21.229678Z"
    }
   },
   "outputs": [],
   "source": [
    "# You don't need to create the plot before adding the line\n",
    "\n",
    "# Use plot() function to create a plot using above values\n",
    "plt.plot(years, data)\n",
    "\n",
    "# Add a legend to the plot\n",
    "plt.legend([\"Sample Data\"]);\n",
    "\n",
    "# You will often see this line in examples, but it isn't \n",
    "# needed with %matplotlib inline\n",
    "# plt.show()"
   ]
  },
  {
   "cell_type": "markdown",
   "metadata": {},
   "source": [
    "## Avoiding ugly visuals \n",
    "> The research shows that the best visual patterns humans identify well are:\n",
    "\n",
    "- Positional changes (scatter plots)\n",
    "- Length changes (bar charts)\n",
    "\n",
    "> We're not so good at understanding:\n",
    "\n",
    "- Color hue changes \n",
    "- Area changes (pie charts)"
   ]
  },
  {
   "cell_type": "markdown",
   "metadata": {},
   "source": [
    "### Too much going on \n",
    "![](https://static1.squarespace.com/static/55b6a6dce4b089e11621d3ed/55b6d08fe4b0d8b921b02f83/55b6d0b6e4b0d8b921b03a36/1438044342911/1000w/)"
   ]
  },
  {
   "cell_type": "markdown",
   "metadata": {},
   "source": [
    "#### Tips - Don't use: \n",
    "- Heavy grid lines\n",
    "- Unnecessary text\n",
    "- Pictures surrounding the visual\n",
    "- Shading or 3d components\n",
    "- intense colors "
   ]
  },
  {
   "cell_type": "markdown",
   "metadata": {},
   "source": [
    "To use color well:\n",
    "- highlight interesting groups\n",
    "\n",
    "![](https://upload.wikimedia.org/wikipedia/en/timeline/15833eb5fd215305b5408fa1b9db622f.png)"
   ]
  },
  {
   "cell_type": "code",
   "execution_count": null,
   "metadata": {
    "ExecuteTime": {
     "end_time": "2021-06-01T14:36:21.590019Z",
     "start_time": "2021-06-01T14:36:21.359537Z"
    }
   },
   "outputs": [],
   "source": [
    "df = pd.read_csv('https://raw.githubusercontent.com/lindseyberlin/ds-lesson-hub/master/Phase1/Visualization-MatplotlibAndSeaborn/data/titanic.csv')"
   ]
  },
  {
   "cell_type": "code",
   "execution_count": null,
   "metadata": {
    "ExecuteTime": {
     "end_time": "2021-06-01T14:36:21.598282Z",
     "start_time": "2021-06-01T14:36:21.591520Z"
    }
   },
   "outputs": [],
   "source": [
    "df.info()"
   ]
  },
  {
   "cell_type": "code",
   "execution_count": null,
   "metadata": {
    "ExecuteTime": {
     "end_time": "2021-06-01T14:36:21.611852Z",
     "start_time": "2021-06-01T14:36:21.599791Z"
    }
   },
   "outputs": [],
   "source": [
    "df.head()"
   ]
  },
  {
   "cell_type": "markdown",
   "metadata": {},
   "source": [
    "## Let's explore!\n",
    "### What are the most common last names?\n",
    "\n"
   ]
  },
  {
   "cell_type": "code",
   "execution_count": null,
   "metadata": {
    "ExecuteTime": {
     "end_time": "2021-06-01T14:36:21.618943Z",
     "start_time": "2021-06-01T14:36:21.613462Z"
    }
   },
   "outputs": [],
   "source": [
    "df['Name']"
   ]
  },
  {
   "cell_type": "markdown",
   "metadata": {},
   "source": [
    "The last names are part of the full name column... first we'll need to grab the last names!\n",
    "\n",
    "So many ways to do this: "
   ]
  },
  {
   "cell_type": "code",
   "execution_count": null,
   "metadata": {
    "ExecuteTime": {
     "end_time": "2021-06-01T14:36:21.623215Z",
     "start_time": "2021-06-01T14:36:21.620814Z"
    }
   },
   "outputs": [],
   "source": [
    "# string and split method"
   ]
  },
  {
   "cell_type": "code",
   "execution_count": null,
   "metadata": {
    "ExecuteTime": {
     "end_time": "2021-06-01T14:36:21.629911Z",
     "start_time": "2021-06-01T14:36:21.625431Z"
    }
   },
   "outputs": [],
   "source": [
    "# use a for loop "
   ]
  },
  {
   "cell_type": "code",
   "execution_count": null,
   "metadata": {
    "ExecuteTime": {
     "end_time": "2021-06-01T14:36:21.634932Z",
     "start_time": "2021-06-01T14:36:21.632048Z"
    }
   },
   "outputs": [],
   "source": [
    "# use a list comp"
   ]
  },
  {
   "cell_type": "code",
   "execution_count": null,
   "metadata": {
    "ExecuteTime": {
     "end_time": "2021-06-01T14:36:21.640380Z",
     "start_time": "2021-06-01T14:36:21.636927Z"
    }
   },
   "outputs": [],
   "source": [
    "# how about lambda\n"
   ]
  },
  {
   "cell_type": "code",
   "execution_count": null,
   "metadata": {
    "ExecuteTime": {
     "end_time": "2021-06-01T14:36:21.655514Z",
     "start_time": "2021-06-01T14:36:21.645992Z"
    }
   },
   "outputs": [],
   "source": [
    "# how to get groupby to work on this\n",
    "df[['PassengerId', 'Last Name']].groupby(by='Last Name').count().sort_values(by='PassengerId',\n",
    "                                                                             ascending=False).head()"
   ]
  },
  {
   "cell_type": "code",
   "execution_count": null,
   "metadata": {
    "ExecuteTime": {
     "end_time": "2021-06-01T14:36:21.664589Z",
     "start_time": "2021-06-01T14:36:21.658267Z"
    }
   },
   "outputs": [],
   "source": [
    "# or use value counts \n",
    "df['Last Name'].value_counts().head(10)"
   ]
  },
  {
   "cell_type": "code",
   "execution_count": null,
   "metadata": {
    "ExecuteTime": {
     "end_time": "2021-06-01T14:36:21.672783Z",
     "start_time": "2021-06-01T14:36:21.666755Z"
    }
   },
   "outputs": [],
   "source": [
    "most_common_ln = df['Last Name'].value_counts().head(8)\n",
    "most_common_ln"
   ]
  },
  {
   "cell_type": "code",
   "execution_count": null,
   "metadata": {
    "ExecuteTime": {
     "end_time": "2021-06-01T14:36:21.839249Z",
     "start_time": "2021-06-01T14:36:21.675001Z"
    }
   },
   "outputs": [],
   "source": [
    "# Plot a bar graph of the most common names \n",
    "fig, ax = plt.subplots(figsize=(10,8))\n",
    "\n",
    "\n",
    "ax.bar(most_common_ln.index, most_common_ln)\n",
    "\n",
    "# Add labels for x and y axes\n",
    "ax.set_xlabel('Last Names')\n",
    "\n",
    "\n",
    "# Add a title for the plot\n",
    "ax.set_title('Most Common Last Names on Titanic', fontsize=15)\n",
    "\n",
    "\n",
    "ax.tick_params(axis='x', labelrotation = 45)\n",
    "\n",
    "# add a legend \n",
    "ax.legend([\"Example\"], loc=1);"
   ]
  },
  {
   "cell_type": "markdown",
   "metadata": {},
   "source": [
    "#### Practice Problem: Turn the last name values into percentage of total population. Then create a horizontal bar chart with the percentage of total population annotated at the end of each bar. "
   ]
  },
  {
   "cell_type": "code",
   "execution_count": null,
   "metadata": {},
   "outputs": [],
   "source": []
  },
  {
   "cell_type": "code",
   "execution_count": null,
   "metadata": {},
   "outputs": [],
   "source": []
  },
  {
   "cell_type": "markdown",
   "metadata": {},
   "source": [
    "### Who Paid the Most Fare?\n",
    "As always - a few ways we can do this: .loc versus sort_values"
   ]
  },
  {
   "cell_type": "code",
   "execution_count": null,
   "metadata": {
    "ExecuteTime": {
     "end_time": "2021-06-01T14:36:21.843327Z",
     "start_time": "2021-06-01T14:36:21.840848Z"
    }
   },
   "outputs": [],
   "source": [
    "max_fare = df['Fare'].max()"
   ]
  },
  {
   "cell_type": "code",
   "execution_count": null,
   "metadata": {
    "ExecuteTime": {
     "end_time": "2021-06-01T14:36:21.858096Z",
     "start_time": "2021-06-01T14:36:21.845111Z"
    }
   },
   "outputs": [],
   "source": [
    "df.loc[df['Fare'] == max_fare]"
   ]
  },
  {
   "cell_type": "code",
   "execution_count": null,
   "metadata": {
    "ExecuteTime": {
     "end_time": "2021-06-01T14:36:21.872878Z",
     "start_time": "2021-06-01T14:36:21.859718Z"
    }
   },
   "outputs": [],
   "source": [
    "df.sort_values(by='Fare', ascending = False).head()"
   ]
  },
  {
   "cell_type": "code",
   "execution_count": null,
   "metadata": {
    "ExecuteTime": {
     "end_time": "2021-06-01T14:36:22.005790Z",
     "start_time": "2021-06-01T14:36:21.875194Z"
    }
   },
   "outputs": [],
   "source": [
    "# plot a histogram but let's use the PyPlot syntax \n",
    "plt.hist(df['Fare']);"
   ]
  },
  {
   "cell_type": "code",
   "execution_count": null,
   "metadata": {
    "ExecuteTime": {
     "end_time": "2021-06-01T14:36:22.166210Z",
     "start_time": "2021-06-01T14:36:22.007392Z"
    }
   },
   "outputs": [],
   "source": [
    "plt.figure(figsize=(8,6))\n",
    "plt.hist(df['Fare'])\n",
    "plt.vlines(df['Fare'].mean(),0, 750, label=f'Average Fare: {df[\"Fare\"].mean():.2f}', color='red')\n",
    "plt.vlines(df['Fare'].median(),0, 750, label=f\"Median Fare: {df['Fare'].median():.2f}\", color='orange')\n",
    "plt.legend()\n",
    "plt.show()"
   ]
  },
  {
   "cell_type": "markdown",
   "metadata": {},
   "source": [
    "## Seaborn\n",
    "Seaborn and Matplotlib are two of Python's most powerful visualization libraries. Seaborn uses fewer syntax and has stunning default themes and Matplotlib is more easily customizable through accessing the classes.\n",
    "\n",
    "Matplotlib provides the basic functionality for creating plots and filling them with different kinds of shapes and colors, Seaborn takes this functionality a step farther by providing a bunch of ready-made mathematical visualizations that are commonly used in Data Science. Best of all, Seaborn is written to be simple to use and easy to understand, so most visualizations only take 1 or 2 lines of code!"
   ]
  },
  {
   "cell_type": "code",
   "execution_count": null,
   "metadata": {
    "ExecuteTime": {
     "end_time": "2021-06-01T14:36:22.172108Z",
     "start_time": "2021-06-01T14:36:22.168253Z"
    }
   },
   "outputs": [],
   "source": [
    "import seaborn as sns\n",
    "sns.set(style='darkgrid')\n",
    "# Same as sns.set_style('darkgrid')\n",
    "import warnings\n",
    "warnings.filterwarnings('ignore')"
   ]
  },
  {
   "cell_type": "code",
   "execution_count": null,
   "metadata": {
    "ExecuteTime": {
     "end_time": "2021-06-01T14:36:27.275041Z",
     "start_time": "2021-06-01T14:36:22.174239Z"
    }
   },
   "outputs": [],
   "source": [
    "# Let's take a look at how these columns overlap\n",
    "sns.pairplot(df, hue='Survived');"
   ]
  },
  {
   "cell_type": "code",
   "execution_count": null,
   "metadata": {
    "ExecuteTime": {
     "end_time": "2021-06-01T14:36:27.514268Z",
     "start_time": "2021-06-01T14:36:27.276697Z"
    }
   },
   "outputs": [],
   "source": [
    "# Let's try a categorical plot (used to be a factor plot)\n",
    "sns.catplot(x='Pclass', y='Age', data=df, col='Survived');"
   ]
  },
  {
   "cell_type": "code",
   "execution_count": null,
   "metadata": {},
   "outputs": [],
   "source": []
  }
 ],
 "metadata": {
  "kernelspec": {
   "display_name": "learn-env",
   "language": "python",
   "name": "learn-env"
  },
  "language_info": {
   "codemirror_mode": {
    "name": "ipython",
    "version": 3
   },
   "file_extension": ".py",
   "mimetype": "text/x-python",
   "name": "python",
   "nbconvert_exporter": "python",
   "pygments_lexer": "ipython3",
   "version": "3.6.6"
  },
  "toc": {
   "base_numbering": 1,
   "nav_menu": {},
   "number_sections": true,
   "sideBar": true,
   "skip_h1_title": true,
   "title_cell": "Table of Contents",
   "title_sidebar": "Contents",
   "toc_cell": false,
   "toc_position": {},
   "toc_section_display": true,
   "toc_window_display": false
  }
 },
 "nbformat": 4,
 "nbformat_minor": 2
}
