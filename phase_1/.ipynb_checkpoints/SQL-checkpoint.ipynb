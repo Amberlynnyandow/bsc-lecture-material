{
 "cells": [
  {
   "cell_type": "markdown",
   "metadata": {},
   "source": [
    "# SQL - The Language of Databases\n"
   ]
  },
  {
   "cell_type": "markdown",
   "metadata": {},
   "source": [
    "## Terminology \n",
    "- **Relational Database** -  a type of database that stores and provides access to data points that are related to one another(SQLite, MySQL(typically used in web application development), Postgres)\n",
    "- **Non-relational Database** - (often called NoSQL databases) are different from traditional relational databases in that they store their data in a non-tabular form\n",
    "    - **4 Major types:** \n",
    "        - **Document DBs** - stores data in documents similar to JSON objects(MongoDB) \n",
    "        - **Key/Value** - Useful for large databases that don’t need complex querying(Redis/DyanoDB)\n",
    "        - **Wide-column** - Flexible b/c each row doesn’t need to have the same columns. Good for storing IOT/User profile data(Cassandra)\n",
    "        - **Graph dbs** - good for pattern searches on social networks, fraud detection, recommendation systems - Neo4j \n",
    "- **Primary KEY** (like a DataFrame index), each table has one with a unique index for each row in the database. The name of the primary key is typically preceded by an asterix (\\*).\n",
    "- **Foreign KEY** - a field (or collection of fields) in one table, that refers to the PRIMARY KEY in another table. Used to prevent actions that would destroy table links\n",
    "- **Rows** - Sometimes referred to as _records_. \n",
    "- **Columns** - Sometimes referred to as _fields_.\n",
    "- **Schema** - Shows the structure of the database and how the tables are related to each other \n",
    "- **Char/Varchar** - string characters and variable length characters\n",
    "- **One to One Relationship** - Typically used for security reasons - like a customers table and a personal information table. \n",
    "- **One to Many** - Most common relationship. \n",
    "    - Customers can make many orders.\n",
    "    - Orders can contain many items.\n",
    "    - Items can have short and long descriptions .\n",
    "- **Many to Many** - Usually two one-to-many relationships with a table linking the two relationships.\n",
    "    - each order can contain multiple items. And each item can also be in multiple orders."
   ]
  },
  {
   "cell_type": "markdown",
   "metadata": {},
   "source": [
    "## Table Relationships \n",
    "![](https://docs.oracle.com/cd/F49540_01/DOC/java.815/a64686/05_deva.gif)"
   ]
  },
  {
   "cell_type": "markdown",
   "metadata": {},
   "source": [
    "![](https://www.softwareideas.net/i/DirectImage/1757/Food-Ordering-System--ER-Diagram-)"
   ]
  },
  {
   "cell_type": "markdown",
   "metadata": {},
   "source": [
    "# <br>\n",
    "<center><b><font size=150>Gotta SQL 'Em All</font></b></center>"
   ]
  },
  {
   "cell_type": "markdown",
   "metadata": {
    "ExecuteTime": {
     "end_time": "2021-06-02T12:34:36.041278Z",
     "start_time": "2021-06-02T12:34:36.037905Z"
    }
   },
   "source": [
    "<img src='images/pokemon_all.jpg'></img>"
   ]
  },
  {
   "cell_type": "markdown",
   "metadata": {},
   "source": [
    "## <center><b>The Database</b></center>"
   ]
  },
  {
   "cell_type": "markdown",
   "metadata": {},
   "source": [
    "<img src='images/schema.png'></img>"
   ]
  },
  {
   "cell_type": "markdown",
   "metadata": {},
   "source": [
    "## Connecting to the database"
   ]
  },
  {
   "cell_type": "code",
   "execution_count": null,
   "metadata": {
    "ExecuteTime": {
     "end_time": "2021-06-02T12:44:11.475650Z",
     "start_time": "2021-06-02T12:44:11.471653Z"
    }
   },
   "outputs": [],
   "source": [
    "import sqlite3 \n",
    "import pandas as pd\n",
    "\n",
    "conn = sqlite3.Connection('data/pokedex.db')\n",
    "cur = conn.cursor()"
   ]
  },
  {
   "cell_type": "markdown",
   "metadata": {},
   "source": [
    "## Using SELECT"
   ]
  },
  {
   "cell_type": "markdown",
   "metadata": {},
   "source": [
    "### Get a list of all Pokemon names"
   ]
  },
  {
   "cell_type": "code",
   "execution_count": null,
   "metadata": {
    "ExecuteTime": {
     "end_time": "2021-06-02T15:22:17.621298Z",
     "start_time": "2021-06-02T15:22:17.603416Z"
    }
   },
   "outputs": [],
   "source": [
    "\n",
    "df = pd.DataFrame(cur.fetchall())\n",
    "df.columns = [i[0] for i in cur.description]\n",
    "df"
   ]
  },
  {
   "cell_type": "markdown",
   "metadata": {},
   "source": [
    "Notice that each row is a Python ? and thus can only be indexed by the column index. However, PEP requires the column names (and other metadata) to be stored in the cursor description attribute. With that information, we can easily map column index to column name with that"
   ]
  },
  {
   "cell_type": "markdown",
   "metadata": {},
   "source": [
    "## Using WHERE for filtering\n",
    "It is used to extract only those records that fulfill a specified condition."
   ]
  },
  {
   "cell_type": "markdown",
   "metadata": {},
   "source": [
    "### Get the names of all Pokemon that have Water as their primary type (Type1)"
   ]
  },
  {
   "cell_type": "code",
   "execution_count": null,
   "metadata": {
    "ExecuteTime": {
     "end_time": "2021-06-02T12:44:54.423266Z",
     "start_time": "2021-06-02T12:44:54.412775Z"
    }
   },
   "outputs": [],
   "source": [
    "\n",
    "df = pd.DataFrame(cur.fetchall())\n",
    "df.columns = [i[0] for i in cur.description]\n",
    "df"
   ]
  },
  {
   "cell_type": "markdown",
   "metadata": {},
   "source": [
    "## Using ORDER BY\n",
    "The ORDER BY keyword is used to sort the result-set in ascending or descending order.\n",
    "\n",
    "The ORDER BY keyword sorts the records in ascending order by default. To sort the records in descending order, use the DESC keyword."
   ]
  },
  {
   "cell_type": "markdown",
   "metadata": {},
   "source": [
    "### Get the names and weights of each Pokemon from highest weight to lowest weight"
   ]
  },
  {
   "cell_type": "code",
   "execution_count": null,
   "metadata": {
    "ExecuteTime": {
     "end_time": "2021-06-02T12:45:31.724975Z",
     "start_time": "2021-06-02T12:45:31.712877Z"
    }
   },
   "outputs": [],
   "source": [
    "\n",
    "df = pd.DataFrame(cur.fetchall())\n",
    "df.columns = [i[0] for i in cur.description]\n",
    "df"
   ]
  },
  {
   "cell_type": "markdown",
   "metadata": {},
   "source": [
    "## Using LIMIT\n",
    "LIMIT statement is used to retrieve records from one or more tables in a database and limit the number of records returned based on a limit value.\n",
    "\n",
    "```\n",
    "SELECT expressions\n",
    "FROM tables\n",
    "[WHERE conditions]\n",
    "[ORDER BY expression [ ASC | DESC ]]\n",
    "LIMIT number_rows [ OFFSET offset_value ];```"
   ]
  },
  {
   "cell_type": "markdown",
   "metadata": {},
   "source": [
    "### Get the names and heights of the top 5 tallest Pokemon"
   ]
  },
  {
   "cell_type": "code",
   "execution_count": null,
   "metadata": {
    "ExecuteTime": {
     "end_time": "2021-06-02T12:46:16.452208Z",
     "start_time": "2021-06-02T12:46:16.444520Z"
    }
   },
   "outputs": [],
   "source": [
    "\n",
    "df = pd.DataFrame(cur.fetchall())\n",
    "df.columns = [i[0] for i in cur.description]\n",
    "df"
   ]
  },
  {
   "cell_type": "markdown",
   "metadata": {},
   "source": [
    "## Using GROUP BY\n",
    "The SQL GROUP BY clause can be used in a SELECT statement to collect data across multiple records and group the results based on some aggregate function\n",
    "\n",
    "```\n",
    "SELECT expression1, expression2, ... expression_n, \n",
    "       aggregate_function (aggregate_expression)\n",
    "FROM tables\n",
    "[WHERE conditions]\n",
    "GROUP BY expression1, expression2, ... expression_n\n",
    "[ORDER BY expression [ ASC | DESC ]];```"
   ]
  },
  {
   "cell_type": "markdown",
   "metadata": {},
   "source": [
    "### Get the type and average weight and height for each primary type"
   ]
  },
  {
   "cell_type": "code",
   "execution_count": null,
   "metadata": {
    "ExecuteTime": {
     "end_time": "2021-06-02T12:46:54.057335Z",
     "start_time": "2021-06-02T12:46:54.049149Z"
    }
   },
   "outputs": [],
   "source": [
    "\n",
    "df = pd.DataFrame(cur.fetchall())\n",
    "df.columns = [x[0] for x in cur.description]\n",
    "df"
   ]
  },
  {
   "cell_type": "markdown",
   "metadata": {},
   "source": [
    "## Using JOIN\n",
    "SQL Joins clause is used to combine records from two or more tables in a database. A JOIN is a means for combining fields from two tables by using values common to each.\n",
    "```SELECT column-names\n",
    "  FROM table-name1 JOIN table-name2 \n",
    "    ON column-name1 = column-name2\n",
    " WHERE condition``` \n",
    " \n",
    " ```SELECT column-names\n",
    "  FROM table-name1 INNER JOIN table-name2 \n",
    "    ON column-name1 = column-name2\n",
    " WHERE condition```\n",
    " \n",
    "### Types of JOINS\n",
    "- INNER JOIN − returns rows when there is a match in both tables.\n",
    "\n",
    "- LEFT JOIN − returns all rows from the left table, even if there are no matches in the right table.\n",
    "\n",
    "- RIGHT JOIN − returns all rows from the right table, even if there are no matches in the left table.\n",
    "\n",
    "- FULL JOIN − returns rows when there is a match in one of the tables.\n",
    "![](https://www.dofactory.com/img/sql/sql-joins.png)\n",
    "\n",
    "_The difference between inner and full join is Inner join returns only the matching rows between both the tables, non-matching rows are eliminated. Full Join or Full Outer Join returns all rows from both the tables (left & right tables), including non-matching rows from both the tables_"
   ]
  },
  {
   "cell_type": "markdown",
   "metadata": {},
   "source": [
    "### Create a table of move names, type, and type ID"
   ]
  },
  {
   "cell_type": "code",
   "execution_count": null,
   "metadata": {
    "ExecuteTime": {
     "end_time": "2021-06-02T12:47:27.945114Z",
     "start_time": "2021-06-02T12:47:27.928898Z"
    }
   },
   "outputs": [],
   "source": [
    "\n",
    "df = pd.DataFrame(cur.fetchall())\n",
    "df.columns = [i[0] for i in cur.description]\n",
    "df.head()"
   ]
  },
  {
   "cell_type": "markdown",
   "metadata": {},
   "source": [
    "## Combining methods"
   ]
  },
  {
   "cell_type": "markdown",
   "metadata": {},
   "source": [
    "### Find the two Pokemon types with the least weaknesses"
   ]
  },
  {
   "cell_type": "code",
   "execution_count": null,
   "metadata": {
    "ExecuteTime": {
     "end_time": "2021-06-02T12:49:20.421574Z",
     "start_time": "2021-06-02T12:49:20.414842Z"
    }
   },
   "outputs": [],
   "source": [
    "cur.execute('''\n",
    "            SELECT identifier as type, COUNT(attacking_type) AS num_weaknesses\n",
    "            FROM weaknesses\n",
    "            JOIN types\n",
    "            ON defending_type=id\n",
    "            WHERE damage_factor=200\n",
    "            GROUP BY defending_type\n",
    "            ORDER BY num_weaknesses\n",
    "            LIMIT 2\n",
    "            ''')\n",
    "df = pd.DataFrame(cur.fetchall())\n",
    "df.columns = [i[0] for i in cur.description]\n",
    "df"
   ]
  },
  {
   "cell_type": "markdown",
   "metadata": {},
   "source": [
    "### Find the top 5 Pokemon having the highest variety of move types."
   ]
  },
  {
   "cell_type": "code",
   "execution_count": null,
   "metadata": {
    "ExecuteTime": {
     "end_time": "2021-06-02T12:49:56.461479Z",
     "start_time": "2021-06-02T12:49:56.449651Z"
    }
   },
   "outputs": [],
   "source": [
    "cur.execute('''\n",
    "            SELECT name, COUNT(DISTINCT type_id) AS num_move_types\n",
    "            FROM pokemon\n",
    "            JOIN learned_moves\n",
    "            ON id=pokemon_id\n",
    "            GROUP BY name\n",
    "            ORDER BY num_move_types DESC\n",
    "            LIMIT 5\n",
    "            ''')\n",
    "df = pd.DataFrame(cur.fetchall())\n",
    "df.columns = [x[0] for x in cur.description]\n",
    "df"
   ]
  },
  {
   "cell_type": "markdown",
   "metadata": {},
   "source": [
    "### Get the names of all Pokemon who learn a super effective move against Water type Pokemon. Also include the name of one of these moves the Pokemon learns."
   ]
  },
  {
   "cell_type": "markdown",
   "metadata": {
    "ExecuteTime": {
     "end_time": "2021-06-02T12:50:25.276776Z",
     "start_time": "2021-06-02T12:50:25.273423Z"
    }
   },
   "source": [
    "First, try using a subquery to get types super effective against water."
   ]
  },
  {
   "cell_type": "code",
   "execution_count": null,
   "metadata": {
    "ExecuteTime": {
     "end_time": "2021-06-02T12:51:07.132801Z",
     "start_time": "2021-06-02T12:51:07.124813Z"
    }
   },
   "outputs": [],
   "source": [
    "cur.execute('''\n",
    "            SELECT identifier as type\n",
    "            FROM types\n",
    "            JOIN weaknesses\n",
    "            ON attacking_type=id\n",
    "            WHERE defending_type IN (SELECT id FROM types WHERE identifier=\"water\")\n",
    "            AND damage_factor=200\n",
    "            ''')\n",
    "df = pd.DataFrame(cur.fetchall())\n",
    "df.columns = [i[0] for i in cur.description]\n",
    "df.head()"
   ]
  },
  {
   "cell_type": "code",
   "execution_count": null,
   "metadata": {
    "ExecuteTime": {
     "end_time": "2021-06-02T12:52:46.045763Z",
     "start_time": "2021-06-02T12:52:46.033671Z"
    }
   },
   "outputs": [],
   "source": [
    "cur.execute('''\n",
    "            SELECT name, move\n",
    "            FROM Pokemon p\n",
    "            JOIN learned_moves m \n",
    "            ON p.id = pokemon_id\n",
    "            JOIN types t\n",
    "            ON type_id = t.id\n",
    "            JOIN weaknesses\n",
    "            ON attacking_type=t.id\n",
    "            WHERE defending_type IN (SELECT id FROM types WHERE identifier=\"water\")\n",
    "            AND damage_factor=200\n",
    "            GROUP BY name\n",
    "            ''')\n",
    "df = pd.DataFrame(cur.fetchall())\n",
    "df.columns = [i[0] for i in cur.description]\n",
    "df.head()"
   ]
  },
  {
   "cell_type": "markdown",
   "metadata": {},
   "source": [
    "## INSERT"
   ]
  },
  {
   "cell_type": "markdown",
   "metadata": {},
   "source": [
    "### <center>A new Pokemon was discovered! </center>"
   ]
  },
  {
   "cell_type": "markdown",
   "metadata": {},
   "source": [
    "<img src='images/celebi.png'></img>"
   ]
  },
  {
   "cell_type": "markdown",
   "metadata": {},
   "source": [
    "### Add Celebi to the database. Celebi is a Psychic and Grass type Pokemon who is 2 feet tall and weighs 11 pounds. Celebi is of the genus 'onion' and has a Pokedex ID of 251."
   ]
  },
  {
   "cell_type": "code",
   "execution_count": null,
   "metadata": {
    "ExecuteTime": {
     "end_time": "2021-06-02T12:53:56.843181Z",
     "start_time": "2021-06-02T12:53:56.838173Z"
    }
   },
   "outputs": [],
   "source": [
    "cur.execute('''\n",
    "            INSERT INTO pokemon (id, name, genus, height, weight, Type1, Type2)\n",
    "            VALUES(251, 'Celebi', 'onion', 2, 11, 'Grass', 'Psychic')\n",
    "            ''')\n",
    "cur.execute('''\n",
    "            SELECT *\n",
    "            FROM pokemon\n",
    "            WHERE name='Celebi'\n",
    "            ''')\n",
    "cur.fetchall()"
   ]
  },
  {
   "cell_type": "code",
   "execution_count": null,
   "metadata": {
    "ExecuteTime": {
     "end_time": "2021-06-02T12:54:30.708074Z",
     "start_time": "2021-06-02T12:54:30.703332Z"
    }
   },
   "outputs": [],
   "source": [
    "cur.execute('''\n",
    "            DELETE\n",
    "            FROM pokemon\n",
    "            WHERE name='Celebi'\n",
    "            ''')\n",
    "cur.execute('''\n",
    "            SELECT *\n",
    "            FROM pokemon\n",
    "            WHERE name='Celebi'\n",
    "            ''')\n",
    "cur.fetchall()"
   ]
  },
  {
   "cell_type": "markdown",
   "metadata": {},
   "source": [
    "## Database Management"
   ]
  },
  {
   "cell_type": "markdown",
   "metadata": {},
   "source": [
    "### Pokemon were recently discovered to have unique abilities. Add a new table to the database to store these abilties. Make sure to include the ability name, an ability ID, and a text description of the ability's effect.\n",
    "\n",
    "<br>\n",
    "\n",
    "#### Also, add the ability called Flash Fire. It should have an ID of 18 and has the effect \"Immune to Fire type moves. Being attacked by a fire-type move increase the power of future Fire type attacks.\""
   ]
  },
  {
   "cell_type": "code",
   "execution_count": null,
   "metadata": {
    "ExecuteTime": {
     "end_time": "2021-06-02T12:55:18.803993Z",
     "start_time": "2021-06-02T12:55:18.788831Z"
    }
   },
   "outputs": [],
   "source": [
    "cur.execute('''\n",
    "            CREATE TABLE abilities(\n",
    "            name TEXT,\n",
    "            id INTEGER,\n",
    "            effect TEXT\n",
    "            )\n",
    "            ''')"
   ]
  },
  {
   "cell_type": "code",
   "execution_count": null,
   "metadata": {
    "ExecuteTime": {
     "end_time": "2021-06-02T12:55:32.178027Z",
     "start_time": "2021-06-02T12:55:32.173100Z"
    }
   },
   "outputs": [],
   "source": [
    "cur.execute('''\n",
    "            INSERT INTO abilities (name, id, effect)\n",
    "            VALUES('Flash Fire', 18, \"Immune to fire-type moves. Being attacked by a Fire type move increase the power of future fire-type attacks.\")\n",
    "            ''')"
   ]
  },
  {
   "cell_type": "code",
   "execution_count": null,
   "metadata": {
    "ExecuteTime": {
     "end_time": "2021-06-02T12:55:41.605673Z",
     "start_time": "2021-06-02T12:55:41.601348Z"
    }
   },
   "outputs": [],
   "source": [
    "cur.execute('''\n",
    "            SELECT * FROM abilities\n",
    "            ''')\n",
    "cur.fetchall()"
   ]
  },
  {
   "cell_type": "code",
   "execution_count": null,
   "metadata": {
    "ExecuteTime": {
     "end_time": "2021-06-02T12:56:04.345534Z",
     "start_time": "2021-06-02T12:56:04.249360Z"
    }
   },
   "outputs": [],
   "source": [
    "cur.execute('''\n",
    "            DROP TABLE abilities\n",
    "            ''')\n",
    "cur.execute('''\n",
    "            SELECT * FROM abilities\n",
    "            ''')\n",
    "cur.fetchall()"
   ]
  },
  {
   "cell_type": "markdown",
   "metadata": {},
   "source": [
    "## Challenge Activity"
   ]
  },
  {
   "cell_type": "markdown",
   "metadata": {},
   "source": [
    "### <center>You're about to face gym leader Sabrina who has a team full of Psychic type Pokemon. "
   ]
  },
  {
   "cell_type": "markdown",
   "metadata": {
    "ExecuteTime": {
     "end_time": "2021-06-02T12:57:27.248735Z",
     "start_time": "2021-06-02T12:57:27.245311Z"
    }
   },
   "source": [
    "<img src='images/sabrina.png'></img>"
   ]
  },
  {
   "cell_type": "markdown",
   "metadata": {},
   "source": [
    "### <center>Your team currently consists of a Hitmonchan and an Arbok, both of which are weak to Psychic type attacks and have no moves that will be super effective against Psychic Pokemon."
   ]
  },
  {
   "cell_type": "markdown",
   "metadata": {},
   "source": [
    "<img src='images/team.jpg'></img>"
   ]
  },
  {
   "cell_type": "markdown",
   "metadata": {},
   "source": [
    "### <center>Assuming the highest level of Pokemon you could currently catch is 20, you want to find a Pokemon that has an attack which is super effective against Psychic type Pokemon with the highest possible power level. That Pokemon should also not be weak to Psychic type attacks.\n",
    "### <center>Which Pokemon should you try and catch to defeat Sabrina? "
   ]
  },
  {
   "cell_type": "markdown",
   "metadata": {},
   "source": [
    "#### Hints:\n",
    "- Your answer should return the name of the Pokemon, the name of the move, the power of the move, and the level at which the Pokemon learns the move.\n",
    "- If you need to compare text values and the columns do not have the same formatting (case-wise) you can use LOWER() to allow you to compare them.\n",
    "- If you have two columns of the same name from two different tables, you have to specify which one you are going to use. For example - pokemon.id vs types.id"
   ]
  },
  {
   "cell_type": "code",
   "execution_count": null,
   "metadata": {},
   "outputs": [],
   "source": []
  }
 ],
 "metadata": {
  "kernelspec": {
   "display_name": "learn-env",
   "language": "python",
   "name": "learn-env"
  },
  "language_info": {
   "codemirror_mode": {
    "name": "ipython",
    "version": 3
   },
   "file_extension": ".py",
   "mimetype": "text/x-python",
   "name": "python",
   "nbconvert_exporter": "python",
   "pygments_lexer": "ipython3",
   "version": "3.6.6"
  },
  "toc": {
   "base_numbering": 1,
   "nav_menu": {},
   "number_sections": true,
   "sideBar": true,
   "skip_h1_title": true,
   "title_cell": "Table of Contents",
   "title_sidebar": "Contents",
   "toc_cell": false,
   "toc_position": {},
   "toc_section_display": true,
   "toc_window_display": false
  }
 },
 "nbformat": 4,
 "nbformat_minor": 2
}
