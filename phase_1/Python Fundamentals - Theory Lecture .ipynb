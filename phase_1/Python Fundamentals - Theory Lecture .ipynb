{
 "cells": [
  {
   "cell_type": "markdown",
   "metadata": {},
   "source": [
    "![](https://i.redd.it/rxezjyf4ojx41.png)"
   ]
  },
  {
   "cell_type": "markdown",
   "metadata": {},
   "source": [
    "<font face=\"verdana\" size=\"6\" color=\"blue\">Why Python?</font> "
   ]
  },
  {
   "cell_type": "markdown",
   "metadata": {},
   "source": [
    "1. <font color=\"blue\" size=4>The Third Party Libraries!</font>\n",
    "2. <font color=\"blue\" size=4>Easy to learn</font>\n",
    "    * Readable - Fewer lines of code\n",
    "3. <font color=\"blue\" size=4>Well-Supported</font>\n",
    "    * User-contributed code and documentation \n"
   ]
  },
  {
   "cell_type": "markdown",
   "metadata": {},
   "source": [
    "<font face=\"verdana\" size=\"6\" color=\"blue\">Quick Review</font> "
   ]
  },
  {
   "cell_type": "markdown",
   "metadata": {},
   "source": [
    "<font color=\"blue\" size=4>Data Types- what are they?</font> \n",
    "- In python an objects type will determine what operators and methods will work. "
   ]
  },
  {
   "cell_type": "markdown",
   "metadata": {},
   "source": [
    "<font color=\"blue\" size=4>We assign **Variables** - No data declarations needed</font> \n"
   ]
  },
  {
   "cell_type": "code",
   "execution_count": 8,
   "metadata": {
    "ExecuteTime": {
     "end_time": "2021-05-25T15:50:53.786243Z",
     "start_time": "2021-05-25T15:50:53.782866Z"
    }
   },
   "outputs": [
    {
     "data": {
      "text/plain": [
       "7"
      ]
     },
     "execution_count": 8,
     "metadata": {},
     "output_type": "execute_result"
    }
   ],
   "source": [
    "n = 5 \n",
    "n = n + 1 \n",
    "n = n + 1 \n",
    "n"
   ]
  },
  {
   "cell_type": "code",
   "execution_count": 6,
   "metadata": {
    "ExecuteTime": {
     "end_time": "2021-05-25T15:49:45.707987Z",
     "start_time": "2021-05-25T15:49:45.705464Z"
    }
   },
   "outputs": [],
   "source": [
    "#coerce n variable\n",
    "my_number = 5\n",
    "\n"
   ]
  },
  {
   "cell_type": "code",
   "execution_count": 7,
   "metadata": {
    "ExecuteTime": {
     "end_time": "2021-05-25T15:49:48.694979Z",
     "start_time": "2021-05-25T15:49:48.691158Z"
    }
   },
   "outputs": [
    {
     "data": {
      "text/plain": [
       "5.0"
      ]
     },
     "execution_count": 7,
     "metadata": {},
     "output_type": "execute_result"
    }
   ],
   "source": [
    "float(my_number)"
   ]
  },
  {
   "cell_type": "code",
   "execution_count": 5,
   "metadata": {
    "ExecuteTime": {
     "end_time": "2021-05-25T15:49:32.812888Z",
     "start_time": "2021-05-25T15:49:32.809304Z"
    }
   },
   "outputs": [
    {
     "data": {
      "text/plain": [
       "int"
      ]
     },
     "execution_count": 5,
     "metadata": {},
     "output_type": "execute_result"
    }
   ],
   "source": [
    "type(my_number)"
   ]
  },
  {
   "cell_type": "markdown",
   "metadata": {},
   "source": [
    "## Methods\n",
    "\n",
    "A method is a function that belongs to an object. And in Python, everything is an object! Naturally, the methods that belong to a particular object can vary depending on the object's datatype.\n",
    "\n",
    "_data_type.method()_\n"
   ]
  },
  {
   "cell_type": "markdown",
   "metadata": {},
   "source": [
    "### String Methods\n",
    "\n",
    "Here are some common methods for strings:\n",
    "\n",
    "- ```.upper()```: converts a string to uppercase\n",
    "- ```.lower()```: converts a string to lowercase\n",
    "- ```.capitalize()```: makes the first letter of a string a capital"
   ]
  },
  {
   "cell_type": "code",
   "execution_count": 9,
   "metadata": {
    "ExecuteTime": {
     "end_time": "2021-05-25T15:52:39.298085Z",
     "start_time": "2021-05-25T15:52:39.295739Z"
    }
   },
   "outputs": [],
   "source": [
    "first_name = 'amber'\n",
    "middle_name = 'lynn'"
   ]
  },
  {
   "cell_type": "markdown",
   "metadata": {},
   "source": [
    "**Exercise: How would you print them together with first and middle name capitalized using an f-string?** "
   ]
  },
  {
   "cell_type": "code",
   "execution_count": 15,
   "metadata": {
    "ExecuteTime": {
     "end_time": "2021-05-25T15:58:57.873149Z",
     "start_time": "2021-05-25T15:58:57.869739Z"
    }
   },
   "outputs": [
    {
     "name": "stdout",
     "output_type": "stream",
     "text": [
      "Amber Lynn is the best\n"
     ]
    }
   ],
   "source": [
    "print(f\"{first_name} {middle_name}\".title(), \"is the best\")"
   ]
  },
  {
   "cell_type": "markdown",
   "metadata": {},
   "source": [
    "### List Methods\n",
    "\n",
    "Here are some useful methods for lists:\n",
    "\n",
    "* append(): adds an element to the end of a list\n",
    "* pop(): removes an element from the list\n",
    "* extend(): adds multiple elements to the end of a list\n",
    "* index(): returns (first) place in list where argument is found\n",
    "* remove(): removes element by value\n",
    "\n",
    "**Question: What's the difference between .remove() and del? How could I find out if I don't know?**"
   ]
  },
  {
   "cell_type": "code",
   "execution_count": 16,
   "metadata": {
    "ExecuteTime": {
     "end_time": "2021-05-25T16:02:28.970487Z",
     "start_time": "2021-05-25T16:02:28.967669Z"
    }
   },
   "outputs": [],
   "source": [
    "list_1 = [1, 2, 4]\n",
    "\n",
    "list_2 = [5, 6]"
   ]
  },
  {
   "cell_type": "code",
   "execution_count": 17,
   "metadata": {
    "ExecuteTime": {
     "end_time": "2021-05-25T16:02:50.150368Z",
     "start_time": "2021-05-25T16:02:50.146184Z"
    }
   },
   "outputs": [
    {
     "data": {
      "text/plain": [
       "[2, 4]"
      ]
     },
     "execution_count": 17,
     "metadata": {},
     "output_type": "execute_result"
    }
   ],
   "source": [
    "list_1.remove(1)\n",
    "list_1"
   ]
  },
  {
   "cell_type": "code",
   "execution_count": 18,
   "metadata": {
    "ExecuteTime": {
     "end_time": "2021-05-25T16:04:14.013491Z",
     "start_time": "2021-05-25T16:04:14.010673Z"
    }
   },
   "outputs": [],
   "source": [
    "del list_1[-1]"
   ]
  },
  {
   "cell_type": "code",
   "execution_count": 19,
   "metadata": {
    "ExecuteTime": {
     "end_time": "2021-05-25T16:04:20.474129Z",
     "start_time": "2021-05-25T16:04:20.470089Z"
    }
   },
   "outputs": [
    {
     "data": {
      "text/plain": [
       "[2]"
      ]
     },
     "execution_count": 19,
     "metadata": {},
     "output_type": "execute_result"
    }
   ],
   "source": [
    "list_1"
   ]
  },
  {
   "cell_type": "markdown",
   "metadata": {},
   "source": [
    "## Loops and List Comprehensions \n"
   ]
  },
  {
   "cell_type": "code",
   "execution_count": 23,
   "metadata": {
    "ExecuteTime": {
     "end_time": "2021-05-25T18:14:36.205937Z",
     "start_time": "2021-05-25T18:14:36.202573Z"
    }
   },
   "outputs": [],
   "source": [
    "word = 'abcdefghi'\n",
    "char_list = []"
   ]
  },
  {
   "cell_type": "code",
   "execution_count": 22,
   "metadata": {
    "ExecuteTime": {
     "end_time": "2021-05-25T18:14:10.110061Z",
     "start_time": "2021-05-25T18:14:10.106659Z"
    }
   },
   "outputs": [
    {
     "data": {
      "text/plain": [
       "['a', 'b', 'c', 'd', 'e', 'f', 'g', 'h', 'i']"
      ]
     },
     "execution_count": 22,
     "metadata": {},
     "output_type": "execute_result"
    }
   ],
   "source": [
    "#use a for loop to create a list of our letters \n",
    "for letter in word:\n",
    "    char_list.append(letter)\n",
    "char_list"
   ]
  },
  {
   "cell_type": "code",
   "execution_count": 24,
   "metadata": {
    "ExecuteTime": {
     "end_time": "2021-05-25T18:18:40.835856Z",
     "start_time": "2021-05-25T18:18:40.831905Z"
    }
   },
   "outputs": [
    {
     "data": {
      "text/plain": [
       "['a', 'b', 'c', 'd', 'e', 'f', 'g', 'h', 'i']"
      ]
     },
     "execution_count": 24,
     "metadata": {},
     "output_type": "execute_result"
    }
   ],
   "source": [
    "#Use a list comprehension to create a list of our letters\n",
    "char_list = [letter for letter in word]\n",
    "char_list "
   ]
  },
  {
   "cell_type": "markdown",
   "metadata": {
    "ExecuteTime": {
     "end_time": "2021-05-25T13:46:52.213070Z",
     "start_time": "2021-05-25T13:46:52.209028Z"
    }
   },
   "source": [
    "### Slicing and indexing\n",
    "A _slice_ is a subset of list elements. In the case of lists, a single slice will always be of contiguous elements. Slice notation takes the form - my_list[start:stop:step]"
   ]
  },
  {
   "cell_type": "code",
   "execution_count": 30,
   "metadata": {
    "ExecuteTime": {
     "end_time": "2021-05-25T18:20:04.456318Z",
     "start_time": "2021-05-25T18:20:04.452550Z"
    }
   },
   "outputs": [
    {
     "data": {
      "text/plain": [
       "'i'"
      ]
     },
     "execution_count": 30,
     "metadata": {},
     "output_type": "execute_result"
    }
   ],
   "source": [
    "#print the first element, the last element and the 5th element \n",
    "char_list[8]"
   ]
  },
  {
   "cell_type": "code",
   "execution_count": 32,
   "metadata": {
    "ExecuteTime": {
     "end_time": "2021-05-25T18:20:59.058631Z",
     "start_time": "2021-05-25T18:20:59.054578Z"
    }
   },
   "outputs": [
    {
     "data": {
      "text/plain": [
       "['f', 'e']"
      ]
     },
     "execution_count": 32,
     "metadata": {},
     "output_type": "execute_result"
    }
   ],
   "source": [
    "#practice indexing - print f, e in that order \n",
    "char_list[5:3:-1]"
   ]
  },
  {
   "cell_type": "code",
   "execution_count": 33,
   "metadata": {
    "ExecuteTime": {
     "end_time": "2021-05-25T18:22:51.209719Z",
     "start_time": "2021-05-25T18:22:51.205883Z"
    }
   },
   "outputs": [
    {
     "data": {
      "text/plain": [
       "['a', 'b']"
      ]
     },
     "execution_count": 33,
     "metadata": {},
     "output_type": "execute_result"
    }
   ],
   "source": [
    "char_list[0:2]"
   ]
  },
  {
   "cell_type": "markdown",
   "metadata": {},
   "source": [
    "### Dictionary Methods\n",
    "Here are some useful methods for dictionaries:\n",
    "\n",
    "- .keys(): returns an array of the dictionary's keys\n",
    "- .values(): returns an array of the dictionary's values\n",
    "- .items(): returns an array of key-value tuples"
   ]
  },
  {
   "cell_type": "code",
   "execution_count": 34,
   "metadata": {
    "ExecuteTime": {
     "end_time": "2021-05-25T18:25:11.945769Z",
     "start_time": "2021-05-25T18:25:11.943596Z"
    }
   },
   "outputs": [],
   "source": [
    "avengers_strength = {\"Captain America\": 90, \"Thor\": 95, \"Iron Man\": 80}"
   ]
  },
  {
   "cell_type": "code",
   "execution_count": 35,
   "metadata": {
    "ExecuteTime": {
     "end_time": "2021-05-25T18:25:30.968147Z",
     "start_time": "2021-05-25T18:25:30.964317Z"
    }
   },
   "outputs": [
    {
     "data": {
      "text/plain": [
       "dict_items([('Captain America', 90), ('Thor', 95), ('Iron Man', 80)])"
      ]
     },
     "execution_count": 35,
     "metadata": {},
     "output_type": "execute_result"
    }
   ],
   "source": [
    "#How can we access the keys and values in this dictionary? \n",
    "avengers_strength.items()"
   ]
  },
  {
   "cell_type": "code",
   "execution_count": 39,
   "metadata": {
    "ExecuteTime": {
     "end_time": "2021-05-25T18:29:11.036522Z",
     "start_time": "2021-05-25T18:29:11.033204Z"
    }
   },
   "outputs": [
    {
     "name": "stdout",
     "output_type": "stream",
     "text": [
      "Captain America 90\n",
      "Thor 95\n",
      "Iron Man 80\n"
     ]
    }
   ],
   "source": [
    "#Let's do it in a for loop \n",
    "for avenger in avengers_strength:\n",
    "    print(avenger, avengers_strength[avenger])"
   ]
  },
  {
   "cell_type": "code",
   "execution_count": 36,
   "metadata": {
    "ExecuteTime": {
     "end_time": "2021-05-25T18:26:18.224280Z",
     "start_time": "2021-05-25T18:26:18.220068Z"
    }
   },
   "outputs": [
    {
     "name": "stdout",
     "output_type": "stream",
     "text": [
      "dict_keys(['Captain America', 'Thor', 'Iron Man'])\n"
     ]
    },
    {
     "data": {
      "text/plain": [
       "dict_values([90, 95, 80])"
      ]
     },
     "execution_count": 36,
     "metadata": {},
     "output_type": "execute_result"
    }
   ],
   "source": [
    "print(avengers_strength.keys())\n",
    "avengers_strength.values()"
   ]
  },
  {
   "cell_type": "markdown",
   "metadata": {},
   "source": [
    "## Functions \n",
    "- The **def** keyword, paranthesis and a : are REQUIRED"
   ]
  },
  {
   "cell_type": "code",
   "execution_count": 40,
   "metadata": {
    "ExecuteTime": {
     "end_time": "2021-05-25T19:01:59.758058Z",
     "start_time": "2021-05-25T19:01:59.755884Z"
    }
   },
   "outputs": [],
   "source": [
    "#Build a function that will take an input string and add '-totally' to the end of it.\n",
    "def add_totally(string):\n",
    "    return string + \"-totally\""
   ]
  },
  {
   "cell_type": "code",
   "execution_count": 43,
   "metadata": {
    "ExecuteTime": {
     "end_time": "2021-05-25T19:02:49.994659Z",
     "start_time": "2021-05-25T19:02:49.990247Z"
    }
   },
   "outputs": [
    {
     "data": {
      "text/plain": [
       "'Really? -totally'"
      ]
     },
     "execution_count": 43,
     "metadata": {},
     "output_type": "execute_result"
    }
   ],
   "source": [
    "add_totally(\"Really? \")"
   ]
  },
  {
   "cell_type": "code",
   "execution_count": null,
   "metadata": {},
   "outputs": [],
   "source": [
    "#write a function for reverse words - Great Job --> taerG boJ"
   ]
  }
 ],
 "metadata": {
  "kernelspec": {
   "display_name": "learn-env",
   "language": "python",
   "name": "learn-env"
  },
  "language_info": {
   "codemirror_mode": {
    "name": "ipython",
    "version": 3
   },
   "file_extension": ".py",
   "mimetype": "text/x-python",
   "name": "python",
   "nbconvert_exporter": "python",
   "pygments_lexer": "ipython3",
   "version": "3.6.6"
  },
  "toc": {
   "base_numbering": 1,
   "nav_menu": {},
   "number_sections": true,
   "sideBar": true,
   "skip_h1_title": true,
   "title_cell": "Table of Contents",
   "title_sidebar": "Contents",
   "toc_cell": false,
   "toc_position": {},
   "toc_section_display": true,
   "toc_window_display": false
  }
 },
 "nbformat": 4,
 "nbformat_minor": 2
}
