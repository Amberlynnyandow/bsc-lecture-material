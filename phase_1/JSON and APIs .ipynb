{
 "cells": [
  {
   "cell_type": "markdown",
   "metadata": {},
   "source": [
    "# Objectives: \n",
    "- Understand the structure of a JSON file \n",
    "- How is JSON different from XML \n",
    "- Be able to make API calls using the requests library \n",
    "- Parse through the API response to access information "
   ]
  },
  {
   "cell_type": "markdown",
   "metadata": {},
   "source": [
    "## JSON - Java Script Object Notation \n",
    "\n",
    "*  JSON is simply a way of representing data independent of a platform — this means that it is something like a PDF or a txt file \n",
    "\n",
    "* Proponents say, JSON files take up less space, are faster(more easily parsed by web-browsers) and easier to work with than XML files"
   ]
  },
  {
   "cell_type": "markdown",
   "metadata": {},
   "source": [
    "**JSON VS. PYTHON** - What are the main differences? \n",
    "\n",
    "|JavaScript|JS Example               |Python Equivalent|Python Example           |\n",
    "|----------|-------------------------|-----------------|-------------------------|\n",
    "|Objects   |`{'key0':'v12','v':1}`   |Dictionaries     |`{'key0':'v12','v':1}`   |\n",
    "|Arrays    |`[1, 'one', 'two', 3, 5]`|Lists            |`[1, 'one', 'two', 3, 5]`|\n",
    "|Strings   |`'One'` or `\"Two\"`       |Strings          |`'One'` or `\"Two\"`       |\n",
    "|Numbers   |`1234.5` or `8675309`    |Numbers          |`1234.5` or `8675309`    |  \n",
    "|Boolean   |`true` or `false`        |Boolean          |`True` or `False`        |\n",
    "|Null Value|`null`                   |None Value       |`None`                   |"
   ]
  },
  {
   "cell_type": "markdown",
   "metadata": {},
   "source": [
    "## XML - Extensible Markup Language\n",
    "\n",
    "XML is a markup language created by the World Wide Web Consortium (W3C) to define a syntax for encoding documents that both humans and machines could read. It does this through the use of tags that define the structure of the document, as well as how the document should be stored and transported.\n",
    "\n",
    "**What's the difference between XML and HTML?** - It's _extensible_- no predefined markup language. XML allows users to create their own markup symbols to describe content. HTML focuses on presenting the content. XML is primarily used for data-description. "
   ]
  },
  {
   "cell_type": "code",
   "execution_count": null,
   "metadata": {
    "ExecuteTime": {
     "end_time": "2021-06-03T13:14:46.050996Z",
     "start_time": "2021-06-03T13:14:46.048082Z"
    }
   },
   "outputs": [],
   "source": [
    "#example - back to JSON \n",
    "gattaca = open(\"data/gattaca.txt\")\n",
    "print(gattaca.read())"
   ]
  },
  {
   "cell_type": "markdown",
   "metadata": {},
   "source": [
    "### How would this look in XML?\n",
    "\n",
    "* The increased size has to do with the end tags repeating the opening tags\n",
    "\n",
    "```XML\n",
    "<movie>\n",
    "    <title>Gattaca</title>\n",
    "    <release_year>1997</release_year>\n",
    "    <good_reviews>1</good_reviews>\n",
    "    <won_oscar>0</won_oscar>\n",
    "    <actors>\n",
    "        <actor>Ethan Hawke</actor>\n",
    "        <actor>Uma Thurman</actor>\n",
    "        <actor>Jude Law</actor>\n",
    "        <actor>Loren Dean</actor>\n",
    "    </actors>\n",
    "    <budget/>\n",
    "    <credits>\n",
    "        <director>Andrew Niccol</director>\n",
    "        <writer>Andrew Niccol</writer>\n",
    "        <composer>Michael Nyman</composer>\n",
    "    </credits>\n",
    "</movie>\n",
    "```\n"
   ]
  },
  {
   "cell_type": "markdown",
   "metadata": {},
   "source": [
    "## Reading JSON files"
   ]
  },
  {
   "cell_type": "code",
   "execution_count": null,
   "metadata": {
    "ExecuteTime": {
     "end_time": "2021-06-03T13:00:21.139953Z",
     "start_time": "2021-06-03T13:00:20.541479Z"
    }
   },
   "outputs": [],
   "source": [
    "import json\n",
    "import pandas as pd"
   ]
  },
  {
   "cell_type": "code",
   "execution_count": null,
   "metadata": {
    "ExecuteTime": {
     "end_time": "2021-06-03T13:25:31.662289Z",
     "start_time": "2021-06-03T13:25:31.658483Z"
    }
   },
   "outputs": [],
   "source": [
    "dir(json)"
   ]
  },
  {
   "cell_type": "code",
   "execution_count": null,
   "metadata": {
    "ExecuteTime": {
     "end_time": "2021-06-03T13:25:05.769111Z",
     "start_time": "2021-06-03T13:25:05.761760Z"
    }
   },
   "outputs": [],
   "source": [
    "#Load JSON from file. \n",
    "#This file contains song data from Spotify on Old Town Road by Lil Nas X.\n",
    "with open(\"data/old_town_road.json\", \"r\") as read_file:\n",
    "    data = json.load(read_file)"
   ]
  },
  {
   "cell_type": "markdown",
   "metadata": {},
   "source": [
    "Open method - 1st argument is the path to the file. 2nd argument is optional string argument **shift tab to view method** \n",
    "![](https://www.programmersought.com/images/56/a31d13d8b20c42a397f23c5f6c6c9ca0.png)"
   ]
  },
  {
   "cell_type": "code",
   "execution_count": null,
   "metadata": {
    "ExecuteTime": {
     "end_time": "2021-06-03T13:34:24.715747Z",
     "start_time": "2021-06-03T13:34:24.678167Z"
    }
   },
   "outputs": [],
   "source": [
    "#Print out data.\n",
    "print(json.dumps(data, indent=2))"
   ]
  },
  {
   "cell_type": "code",
   "execution_count": null,
   "metadata": {
    "ExecuteTime": {
     "end_time": "2021-06-03T13:34:50.758172Z",
     "start_time": "2021-06-03T13:34:50.754745Z"
    }
   },
   "outputs": [],
   "source": [
    "#Check type of data, get keys.\n",
    "type(data)"
   ]
  },
  {
   "cell_type": "code",
   "execution_count": null,
   "metadata": {
    "ExecuteTime": {
     "end_time": "2021-06-03T13:35:02.510746Z",
     "start_time": "2021-06-03T13:35:02.507369Z"
    }
   },
   "outputs": [],
   "source": [
    "#Explore 'track' by printing it out, checking its type and keys.\n",
    "data.keys()"
   ]
  },
  {
   "cell_type": "code",
   "execution_count": null,
   "metadata": {
    "ExecuteTime": {
     "end_time": "2021-06-03T13:35:48.802676Z",
     "start_time": "2021-06-03T13:35:48.798137Z"
    }
   },
   "outputs": [],
   "source": [
    "data['track']"
   ]
  },
  {
   "cell_type": "code",
   "execution_count": null,
   "metadata": {
    "ExecuteTime": {
     "end_time": "2021-06-03T13:36:18.928649Z",
     "start_time": "2021-06-03T13:36:18.925550Z"
    }
   },
   "outputs": [],
   "source": [
    "data['track'].keys()"
   ]
  },
  {
   "cell_type": "code",
   "execution_count": null,
   "metadata": {},
   "outputs": [],
   "source": [
    "#What key is the song in?"
   ]
  },
  {
   "cell_type": "markdown",
   "metadata": {},
   "source": [
    "| ID | Key   |\n",
    "|------|------|\n",
    "| 0 | C |\n",
    "1 |\tC♯ \n",
    "2  | D \n",
    "3  | D♯\n",
    "4  | E \n",
    "5  | F \n",
    "6  | F♯\n",
    "7  | G\n",
    "8  | G♯\n",
    "9  | A\n",
    "10 | A♯\t\n",
    "11 | B \t"
   ]
  },
  {
   "cell_type": "code",
   "execution_count": null,
   "metadata": {},
   "outputs": [],
   "source": [
    "#How long is the song?"
   ]
  },
  {
   "cell_type": "markdown",
   "metadata": {},
   "source": [
    "## <center>APIs \n",
    "An API is a set of programming code that enables data transmission between one software product and another\n",
    "\n",
    "![](https://content.altexsoft.com/media/2019/06/https-lh6-googleusercontent-com-_nyclktg8po_wx5-.png)\n",
    "\n",
    "### Examples\n",
    "\n",
    "**APIs make life easier for Developers** \n",
    "\n",
    "* If you want to embed a web browser to show one or more web pages, for example, you don’t have to program your own web browser from scratch just for your application. You use the WKWebView API to embed a WebKit (Safari) browser object in your application.\n",
    "\n",
    "* If you want to capture photos or video from the iPhone’s camera, you don’t have to write your own camera interface. You use the camera API to embed the iPhone’s built-in camera in your app. If APIs didn’t exist to make this easy, app developers would have to create their own camera software and interpret the camera hardware’s inputs\n",
    "\n",
    "**APIs control access to resources:**\n",
    "\n",
    "* APIs are also used to control access to hardware devices and software functions that an application may not necessarily have permission to use. That’s why APIs often play a big role in security.\n",
    "\n",
    "**APIs are used for communication between services:**\n",
    "\n",
    "* Ever see a Google Maps object embedded on a website? That website is using the Google Maps API to embed that map."
   ]
  },
  {
   "cell_type": "markdown",
   "metadata": {},
   "source": [
    "## Parts on an API\n",
    "\n",
    "* **Access Permissions**\n",
    "    + User allowed to ask?\n",
    "* **API Call/Request**\n",
    "    + To use an API, you make a request to a remote web server, and retrieve the data you need. We'll use the requests library to access web locations.\n",
    "    + *Methods*: what questions can we ask?\n",
    "    + *Parameters*: more info to be sent\n",
    "* **Repsonse**\n",
    "    + Result of request \n",
    "    \n",
    "[HTTP status codes](https://restfulapi.net/http-status-codes/)\n",
    "\n"
   ]
  },
  {
   "cell_type": "code",
   "execution_count": null,
   "metadata": {},
   "outputs": [],
   "source": [
    "# Uncomment and install requests if you dont have it already\n",
    "# conda install -c anaconda requests #can run in Jupyter\n",
    "# !pip install requests              #can run in Jupyter\n",
    "# python -m pip install requests     #run in terminal"
   ]
  },
  {
   "cell_type": "markdown",
   "metadata": {},
   "source": [
    "## The `.get()` Method\n",
    "\n",
    "Now that we have `requests` library ready in our working environment, we can start making some requests using the `.get()` method as shown below.\n",
    "\n",
    "We can use a GET request to retrieve information from the [OpenNotify API](http://open-notify.org/)."
   ]
  },
  {
   "cell_type": "code",
   "execution_count": null,
   "metadata": {
    "ExecuteTime": {
     "end_time": "2021-06-03T12:43:36.420396Z",
     "start_time": "2021-06-03T12:43:35.941630Z"
    }
   },
   "outputs": [],
   "source": [
    "import requests \n",
    "\n",
    "# Make a get request to get the latest position of the\n",
    "# International Space Station (ISS) from the opennotify api.\n",
    "\n",
    "url = 'http://api.open-notify.org/iss-now.json'\n",
    "iss_response = requests.get(url)"
   ]
  },
  {
   "cell_type": "markdown",
   "metadata": {},
   "source": [
    "This creates a `Response` object containing the response that we received"
   ]
  },
  {
   "cell_type": "code",
   "execution_count": null,
   "metadata": {
    "ExecuteTime": {
     "end_time": "2021-06-03T12:50:12.745612Z",
     "start_time": "2021-06-03T12:50:12.735837Z"
    }
   },
   "outputs": [],
   "source": [
    "type(iss_response)"
   ]
  },
  {
   "cell_type": "code",
   "execution_count": null,
   "metadata": {
    "ExecuteTime": {
     "end_time": "2021-06-03T12:51:08.617535Z",
     "start_time": "2021-06-03T12:51:08.614431Z"
    }
   },
   "outputs": [],
   "source": [
    "print(iss_response)"
   ]
  },
  {
   "cell_type": "markdown",
   "metadata": {},
   "source": [
    "The `Response` object contains a bunch of information about the response we got from the server. For example, it includes the status code, which can be helpful for diagnosing request issues. 200 means OK. "
   ]
  },
  {
   "cell_type": "code",
   "execution_count": null,
   "metadata": {
    "ExecuteTime": {
     "end_time": "2021-06-03T12:53:17.087306Z",
     "start_time": "2021-06-03T12:53:17.083593Z"
    }
   },
   "outputs": [],
   "source": [
    "iss_response.ok #== iss_response.ok"
   ]
  },
  {
   "cell_type": "markdown",
   "metadata": {},
   "source": [
    "The `Response` object also contains the data received from our request in the `content` attribute. "
   ]
  },
  {
   "cell_type": "code",
   "execution_count": null,
   "metadata": {
    "ExecuteTime": {
     "end_time": "2021-06-03T12:54:03.480270Z",
     "start_time": "2021-06-03T12:54:03.476642Z"
    }
   },
   "outputs": [],
   "source": [
    "iss_response.content"
   ]
  },
  {
   "cell_type": "markdown",
   "metadata": {},
   "source": [
    "OpenNotify has several API **endpoints**. An endpoint is a server route that is used to retrieve different data from the API. For example, the `/comments` endpoint on the Reddit API might retrieve information about comments, whereas the `/users` endpoint might retrieve data about users. To access them, you would add the endpoint to the base url of the API."
   ]
  },
  {
   "cell_type": "code",
   "execution_count": null,
   "metadata": {
    "ExecuteTime": {
     "end_time": "2021-06-03T12:55:56.971768Z",
     "start_time": "2021-06-03T12:55:56.817189Z"
    }
   },
   "outputs": [],
   "source": [
    "# Let's check out who is in space right now!\n",
    "\n",
    "url = 'http://api.open-notify.org/astros.json'\n",
    "astro_response = requests.get(url)\n",
    "print(astro_response.status_code)"
   ]
  },
  {
   "cell_type": "code",
   "execution_count": null,
   "metadata": {
    "ExecuteTime": {
     "end_time": "2021-06-03T12:56:04.183450Z",
     "start_time": "2021-06-03T12:56:04.179364Z"
    }
   },
   "outputs": [],
   "source": [
    "astro_response.content"
   ]
  },
  {
   "cell_type": "markdown",
   "metadata": {},
   "source": [
    "See the `b'` at the beginning? The `content` is stored in a \"byte literal\" format, not a Python dictionary."
   ]
  },
  {
   "cell_type": "code",
   "execution_count": null,
   "metadata": {
    "ExecuteTime": {
     "end_time": "2021-06-03T12:56:39.093372Z",
     "start_time": "2021-06-03T12:56:39.085499Z"
    }
   },
   "outputs": [],
   "source": [
    "astro_response.content.keys()"
   ]
  },
  {
   "cell_type": "code",
   "execution_count": null,
   "metadata": {
    "ExecuteTime": {
     "end_time": "2021-06-03T12:56:46.917407Z",
     "start_time": "2021-06-03T12:56:46.914433Z"
    }
   },
   "outputs": [],
   "source": [
    "type(astro_response.content)"
   ]
  },
  {
   "cell_type": "markdown",
   "metadata": {},
   "source": [
    "We can look at the `text` attribute instead, but this still gives us a string, not a dictionary."
   ]
  },
  {
   "cell_type": "code",
   "execution_count": null,
   "metadata": {
    "ExecuteTime": {
     "end_time": "2021-06-03T12:57:34.534176Z",
     "start_time": "2021-06-03T12:57:34.531312Z"
    }
   },
   "outputs": [],
   "source": [
    "astro_response.text"
   ]
  },
  {
   "cell_type": "code",
   "execution_count": null,
   "metadata": {
    "ExecuteTime": {
     "end_time": "2021-06-03T13:00:28.926127Z",
     "start_time": "2021-06-03T13:00:28.922501Z"
    }
   },
   "outputs": [],
   "source": [
    "json.loads(astro_response.text)"
   ]
  },
  {
   "cell_type": "code",
   "execution_count": null,
   "metadata": {
    "ExecuteTime": {
     "end_time": "2021-06-03T13:01:47.378851Z",
     "start_time": "2021-06-03T13:01:47.374430Z"
    }
   },
   "outputs": [],
   "source": [
    "#can we use .keys() here \n",
    "astro_data = astro_response.json()\n",
    "astro_data"
   ]
  },
  {
   "cell_type": "markdown",
   "metadata": {},
   "source": [
    "**Activity**: Create a list `astro_names` containing the astronauts' names. Then use an f string to say, \"There are _ people in the space station right now.\" And another f string to say, \"Their names are _.\"\n",
    "\n",
    "<details>\n",
    "    <summary>\n",
    "        Answer here\n",
    "    </summary>\n",
    "    \n",
    "    astro_people = astro_data['people']\n",
    "    \n",
    "    astro_names = [person['name'] for person in astro_people]\n",
    "\n",
    "</details>"
   ]
  },
  {
   "cell_type": "code",
   "execution_count": null,
   "metadata": {},
   "outputs": [],
   "source": []
  }
 ],
 "metadata": {
  "kernelspec": {
   "display_name": "learn-env",
   "language": "python",
   "name": "learn-env"
  },
  "language_info": {
   "codemirror_mode": {
    "name": "ipython",
    "version": 3
   },
   "file_extension": ".py",
   "mimetype": "text/x-python",
   "name": "python",
   "nbconvert_exporter": "python",
   "pygments_lexer": "ipython3",
   "version": "3.6.6"
  },
  "toc": {
   "base_numbering": 1,
   "nav_menu": {},
   "number_sections": true,
   "sideBar": true,
   "skip_h1_title": true,
   "title_cell": "Table of Contents",
   "title_sidebar": "Contents",
   "toc_cell": false,
   "toc_position": {},
   "toc_section_display": true,
   "toc_window_display": false
  }
 },
 "nbformat": 4,
 "nbformat_minor": 2
}
