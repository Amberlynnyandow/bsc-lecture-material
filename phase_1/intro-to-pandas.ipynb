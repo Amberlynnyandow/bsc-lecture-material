{
 "cells": [
  {
   "cell_type": "markdown",
   "metadata": {},
   "source": [
    "# The Data Science Way - CRISP-DM\n",
    "\n",
    "![](https://www.kdnuggets.com/wp-content/uploads/crisp-dm-4-problems-fig1.png)"
   ]
  },
  {
   "cell_type": "markdown",
   "metadata": {},
   "source": [
    "## What is Pandas?\n",
    "\n",
    "Pandas, as [the Anaconda docs](https://docs.anaconda.com/anaconda/packages/py3.7_osx-64/) tell us, offers us \"High-performance, easy-to-use data structures and data analysis tools.\" It's something like \"Excel for Python\", but it's quite a bit more powerful.\n",
    "\n",
    "Let's first import pandas as pd."
   ]
  },
  {
   "cell_type": "code",
   "execution_count": null,
   "metadata": {
    "ExecuteTime": {
     "end_time": "2021-05-26T16:05:03.427453Z",
     "start_time": "2021-05-26T16:05:02.853705Z"
    }
   },
   "outputs": [],
   "source": [
    "import pandas as pd"
   ]
  },
  {
   "cell_type": "markdown",
   "metadata": {},
   "source": [
    "Now read in the heart dataset.\n",
    "\n",
    "Pandas has many methods for reading different types of files! Note that here we have a .csv file.\n",
    "\n",
    "Read about this dataset [here](https://www.kaggle.com/ronitf/heart-disease-uci).\n",
    "\n",
    "Notice the name of the last column!"
   ]
  },
  {
   "cell_type": "code",
   "execution_count": null,
   "metadata": {
    "ExecuteTime": {
     "end_time": "2021-05-26T16:05:04.710693Z",
     "start_time": "2021-05-26T16:05:04.694364Z"
    }
   },
   "outputs": [],
   "source": [
    "df = pd.read_csv('heart.csv')"
   ]
  },
  {
   "cell_type": "markdown",
   "metadata": {},
   "source": [
    "We can import data from other locations like: \n",
    "* **Locally** - /Users/amberyandow/Downloads/data.csv\n",
    "* **Remotely** - http://bit.ly/drinksbycountry\n",
    "\n",
    "_Let's look at the documentation [here](https://pandas.pydata.org/pandas-docs/stable/reference/api/pandas.read_csv.html)_"
   ]
  },
  {
   "cell_type": "markdown",
   "metadata": {},
   "source": [
    "The output of the .read_csv() function is a pandas DataFrame, which has a familiar tabaular structure of rows and columns."
   ]
  },
  {
   "cell_type": "code",
   "execution_count": null,
   "metadata": {
    "ExecuteTime": {
     "end_time": "2021-05-26T16:05:08.061329Z",
     "start_time": "2021-05-26T16:05:08.024419Z"
    }
   },
   "outputs": [],
   "source": [
    "df"
   ]
  },
  {
   "cell_type": "markdown",
   "metadata": {},
   "source": [
    "Two main types of pandas objects are the DataFrame and the Series, the latter being a single column––*plus the index*. **Index** is like an address, that’s how any data point across the dataframe or series can be accessed. Rows and columns both have indexes, rows indices are called as index and for columns its general column names.\n",
    "\n",
    "Now, these column names just won't do... Let's change them!<Br/> \n",
    "_Note:_ Column names should **NOT** have any spaces and should be lowercased"
   ]
  },
  {
   "cell_type": "code",
   "execution_count": null,
   "metadata": {},
   "outputs": [],
   "source": [
    "df = df.rename(columns={})"
   ]
  },
  {
   "cell_type": "code",
   "execution_count": null,
   "metadata": {},
   "outputs": [],
   "source": [
    "#replace spaces with underscores"
   ]
  },
  {
   "cell_type": "markdown",
   "metadata": {},
   "source": [
    "How would we lowercase all of our column names? "
   ]
  },
  {
   "cell_type": "markdown",
   "metadata": {},
   "source": [
    "## Methods for Learning more about the data"
   ]
  },
  {
   "cell_type": "markdown",
   "metadata": {},
   "source": [
    "What does .head( ) do? What do you learn about the dataset by using it here?"
   ]
  },
  {
   "cell_type": "code",
   "execution_count": null,
   "metadata": {},
   "outputs": [],
   "source": []
  },
  {
   "cell_type": "markdown",
   "metadata": {},
   "source": [
    "What about .tail( )? What about .info( ) and .describe( ) and .shape?"
   ]
  },
  {
   "cell_type": "code",
   "execution_count": null,
   "metadata": {},
   "outputs": [],
   "source": []
  },
  {
   "cell_type": "markdown",
   "metadata": {},
   "source": []
  },
  {
   "cell_type": "code",
   "execution_count": null,
   "metadata": {},
   "outputs": [],
   "source": []
  },
  {
   "cell_type": "code",
   "execution_count": null,
   "metadata": {},
   "outputs": [],
   "source": []
  },
  {
   "cell_type": "markdown",
   "metadata": {},
   "source": [
    "## Combining and Adding - DataFrames\n",
    "\n",
    "Here are two rows that need to be added to the dataframe: What does this look like? "
   ]
  },
  {
   "cell_type": "code",
   "execution_count": null,
   "metadata": {
    "ExecuteTime": {
     "end_time": "2021-05-26T14:13:34.236978Z",
     "start_time": "2021-05-26T14:13:34.232220Z"
    }
   },
   "outputs": [],
   "source": [
    "extra_rows = {'age': [40, 30], 'sex': [1, 0], 'cp': [0, 0], 'trestbps': [120, 130],\n",
    "              'chol': [240, 200],\n",
    "             'fbs': [0, 0], 'restecg': [1, 0], 'thalach': [120, 122], 'exang': [0, 1],\n",
    "              'oldpeak': [0.1, 1.0], 'slope': [1, 1], 'ca': [0, 1], 'thal': [2, 3],\n",
    "              'target': [0, 0]}\n",
    "extra_rows"
   ]
  },
  {
   "cell_type": "markdown",
   "metadata": {},
   "source": [
    "**How can we add this to the bottom of our dataset?**"
   ]
  },
  {
   "cell_type": "code",
   "execution_count": null,
   "metadata": {
    "ExecuteTime": {
     "end_time": "2021-05-26T14:14:59.189256Z",
     "start_time": "2021-05-26T14:14:59.185507Z"
    }
   },
   "outputs": [],
   "source": [
    "# Let's first turn this into a DataFrame.\n",
    "# We can use the .from_dict() method.\n",
    "\n",
    "extras = pd.DataFrame().from_dict(extra_rows)"
   ]
  },
  {
   "cell_type": "code",
   "execution_count": null,
   "metadata": {
    "ExecuteTime": {
     "end_time": "2021-05-26T14:16:46.053505Z",
     "start_time": "2021-05-26T14:16:46.049582Z"
    }
   },
   "outputs": [],
   "source": [
    "# Now we just need to concatenate the two DataFrames together.\n",
    "# Note the `ignore_index` parameter! We'll set that to True.\n",
    "\n",
    "df_augmented = pd.concat([df, extras], ignore_index=True)"
   ]
  },
  {
   "cell_type": "markdown",
   "metadata": {},
   "source": [
    "**Why did we need to ignore the index above?**"
   ]
  },
  {
   "cell_type": "code",
   "execution_count": null,
   "metadata": {
    "ExecuteTime": {
     "end_time": "2021-05-26T14:17:21.348099Z",
     "start_time": "2021-05-26T14:17:21.338201Z"
    }
   },
   "outputs": [],
   "source": [
    "# Let's check the end to make sure we were successful!\n",
    "\n",
    "df_augmented.tail()"
   ]
  },
  {
   "cell_type": "markdown",
   "metadata": {},
   "source": [
    "**Notice our target column has a bunch of zeros - that we can see - but there could be other values in that column, use .value_counts() to find out!**"
   ]
  },
  {
   "cell_type": "code",
   "execution_count": null,
   "metadata": {
    "ExecuteTime": {
     "end_time": "2021-05-26T14:21:19.608087Z",
     "start_time": "2021-05-26T14:21:19.602529Z"
    }
   },
   "outputs": [],
   "source": [
    "df['target'].value_counts()"
   ]
  },
  {
   "cell_type": "markdown",
   "metadata": {},
   "source": [
    "When indexing a column you can use brackets OR a period - Which is better? \n",
    "\n",
    "**The case for bracket notation is simple: It always works.**\n",
    "\n",
    "Here are the specific cases in which you must use bracket notation, because dot notation would fail:"
   ]
  },
  {
   "cell_type": "markdown",
   "metadata": {},
   "source": [
    "**If column name includes a space**<br/>\n",
    "df['col name']\n",
    "\n",
    "**If column name matches a DataFrame method**<br/>\n",
    "df['count']\n",
    "\n",
    "**If column name matches a Python keyword**<br/>\n",
    "df['class']\n",
    "\n",
    "**If column name is stored in a variable**<br/>\n",
    "var = 'col_name'<br/>\n",
    "df[var]\n",
    "\n",
    "**If column name is an integer**<br/>\n",
    "df[0]\n",
    "\n",
    "**If new column is created through assignment**<br/>\n",
    "df['new'] = 0\n",
    "\n"
   ]
  },
  {
   "cell_type": "markdown",
   "metadata": {},
   "source": [
    "**So why even consider dot notation?**\n",
    "\n",
    "1. Dot notation is easier to type\n",
    "2. Dot notation is easier to read\n",
    "3. Dot notation limits the usage of brackets"
   ]
  },
  {
   "cell_type": "markdown",
   "metadata": {},
   "source": [
    "## Creating and filtering Columns "
   ]
  },
  {
   "cell_type": "markdown",
   "metadata": {},
   "source": [
    "Let's add a new column to our dataset called \"test\". Set all of its values to 0."
   ]
  },
  {
   "cell_type": "code",
   "execution_count": null,
   "metadata": {
    "ExecuteTime": {
     "end_time": "2021-05-26T14:33:46.000728Z",
     "start_time": "2021-05-26T14:33:45.998210Z"
    }
   },
   "outputs": [],
   "source": [
    "df['test'] = 0"
   ]
  },
  {
   "cell_type": "markdown",
   "metadata": {},
   "source": [
    "I can also add columns whose values are functions of existing columns - this is refered to as **Feature Engineering**!\n",
    "\n",
    "How could I add a column, called 'twice_age', that is double the age column?"
   ]
  },
  {
   "cell_type": "code",
   "execution_count": null,
   "metadata": {
    "ExecuteTime": {
     "end_time": "2021-05-26T14:35:00.672228Z",
     "start_time": "2021-05-26T14:35:00.663462Z"
    }
   },
   "outputs": [],
   "source": [
    "df['twice_age'] = 2 * df['age']"
   ]
  },
  {
   "cell_type": "markdown",
   "metadata": {},
   "source": [
    "We can use filtering techniques to see only certain rows of our data. If we wanted to see only the rows for patients 70 years of age or older, we can simply type:"
   ]
  },
  {
   "cell_type": "code",
   "execution_count": null,
   "metadata": {
    "ExecuteTime": {
     "end_time": "2021-05-26T14:36:37.946427Z",
     "start_time": "2021-05-26T14:36:37.931459Z"
    }
   },
   "outputs": [],
   "source": [
    "df[df['age'] >= 70]"
   ]
  },
  {
   "cell_type": "markdown",
   "metadata": {},
   "source": [
    "Why do I need the _extra_ brackets above?"
   ]
  },
  {
   "cell_type": "markdown",
   "metadata": {},
   "source": [
    "**USE** '&' for \"and\" and '|' for \"or\" when considering multiple conditions"
   ]
  },
  {
   "cell_type": "code",
   "execution_count": null,
   "metadata": {
    "ExecuteTime": {
     "end_time": "2021-05-26T14:40:34.986766Z",
     "start_time": "2021-05-26T14:40:34.974490Z"
    }
   },
   "outputs": [],
   "source": [
    "# Display the patients who are 60 or over as well as the patients whose\n",
    "# trestbps score is greater than 170.\n",
    "\n",
    "df[(df['age'] >= 60) & (df['trestbps'] > 170)]"
   ]
  },
  {
   "cell_type": "markdown",
   "metadata": {},
   "source": [
    "## .loc( ) and .iloc( )\n",
    "\n",
    "![](https://shanelynnwebsite-mid9n9g1q9y8tt.netdna-ssl.com/wp-content/uploads/2016/10/Pandas-selections-and-indexing.png)"
   ]
  },
  {
   "cell_type": "code",
   "execution_count": null,
   "metadata": {
    "ExecuteTime": {
     "end_time": "2021-05-26T14:50:22.089296Z",
     "start_time": "2021-05-26T14:50:22.084161Z"
    }
   },
   "outputs": [],
   "source": [
    "#returns the whole 4th row of the df \n",
    "df.iloc[3]"
   ]
  },
  {
   "cell_type": "code",
   "execution_count": null,
   "metadata": {
    "ExecuteTime": {
     "end_time": "2021-05-26T14:51:47.720474Z",
     "start_time": "2021-05-26T14:51:47.709132Z"
    }
   },
   "outputs": [],
   "source": [
    "#returns rows 5-7\n",
    "df.iloc[5:8]"
   ]
  },
  {
   "cell_type": "code",
   "execution_count": null,
   "metadata": {
    "ExecuteTime": {
     "end_time": "2021-05-26T14:52:42.459295Z",
     "start_time": "2021-05-26T14:52:42.445546Z"
    }
   },
   "outputs": [],
   "source": [
    "#returns COLUMNS 3-6\n",
    "df.iloc[:, 3:7]"
   ]
  },
  {
   "cell_type": "code",
   "execution_count": null,
   "metadata": {
    "ExecuteTime": {
     "end_time": "2021-05-26T14:53:57.207105Z",
     "start_time": "2021-05-26T14:53:57.204852Z"
    }
   },
   "outputs": [],
   "source": [
    "#YOU TRY: return rows 5-9 AND columns 3-8\n"
   ]
  },
  {
   "cell_type": "code",
   "execution_count": null,
   "metadata": {
    "ExecuteTime": {
     "end_time": "2021-05-26T14:55:19.478686Z",
     "start_time": "2021-05-26T14:55:19.474111Z"
    }
   },
   "outputs": [],
   "source": [
    "#returns rows 7-15 the age column\n",
    "df.loc[7:16, \"age\"]"
   ]
  },
  {
   "cell_type": "code",
   "execution_count": null,
   "metadata": {
    "ExecuteTime": {
     "end_time": "2021-05-26T14:55:58.879536Z",
     "start_time": "2021-05-26T14:55:58.851578Z"
    }
   },
   "outputs": [],
   "source": [
    "#returns a NEW df that only contains persons under 45\n",
    "df.loc[df['age']<45]"
   ]
  },
  {
   "cell_type": "markdown",
   "metadata": {},
   "source": [
    "**We can also use .loc to change values in the df or create new columns or return booleans**"
   ]
  },
  {
   "cell_type": "code",
   "execution_count": null,
   "metadata": {},
   "outputs": [],
   "source": []
  }
 ],
 "metadata": {
  "kernelspec": {
   "display_name": "learn-env",
   "language": "python",
   "name": "learn-env"
  },
  "language_info": {
   "codemirror_mode": {
    "name": "ipython",
    "version": 3
   },
   "file_extension": ".py",
   "mimetype": "text/x-python",
   "name": "python",
   "nbconvert_exporter": "python",
   "pygments_lexer": "ipython3",
   "version": "3.6.6"
  },
  "toc": {
   "base_numbering": 1,
   "nav_menu": {},
   "number_sections": true,
   "sideBar": true,
   "skip_h1_title": true,
   "title_cell": "Table of Contents",
   "title_sidebar": "Contents",
   "toc_cell": false,
   "toc_position": {},
   "toc_section_display": true,
   "toc_window_display": false
  }
 },
 "nbformat": 4,
 "nbformat_minor": 2
}
