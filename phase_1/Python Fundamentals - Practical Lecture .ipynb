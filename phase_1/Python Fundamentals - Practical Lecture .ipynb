{
 "cells": [
  {
   "cell_type": "markdown",
   "metadata": {},
   "source": [
    "### Nested Structures "
   ]
  },
  {
   "cell_type": "code",
   "execution_count": null,
   "metadata": {
    "ExecuteTime": {
     "end_time": "2021-05-25T17:32:16.923410Z",
     "start_time": "2021-05-25T17:32:16.918558Z"
    }
   },
   "outputs": [],
   "source": [
    "avengers = {\n",
    "    \"Captain America\": {\n",
    "        'movies':['The First Avenger', 'The Avengers', 'Winter Solider', 'Age of Ultron', \n",
    "                  'Civil War', 'Infinity War', 'Endgame']\n",
    "    }, \n",
    "    \"Thor\": {\n",
    "        'movies':['Thor', 'The Dark World', 'Ragnarok']\n",
    "    }, \n",
    "    \"Iron Man\": {\n",
    "       'movies':['Iron Man', 'Iron Man 2', 'Iron Man 3'] \n",
    "    }}"
   ]
  },
  {
   "cell_type": "code",
   "execution_count": null,
   "metadata": {
    "ExecuteTime": {
     "end_time": "2021-05-25T17:37:31.274383Z",
     "start_time": "2021-05-25T17:37:31.271648Z"
    }
   },
   "outputs": [],
   "source": [
    "#how do we print the movies Captain America was in\n"
   ]
  },
  {
   "cell_type": "code",
   "execution_count": null,
   "metadata": {
    "ExecuteTime": {
     "end_time": "2021-05-25T17:45:11.107106Z",
     "start_time": "2021-05-25T17:45:11.104653Z"
    }
   },
   "outputs": [],
   "source": [
    "#create a list of the avengers names\n"
   ]
  },
  {
   "cell_type": "code",
   "execution_count": null,
   "metadata": {
    "ExecuteTime": {
     "end_time": "2021-05-25T17:47:32.798493Z",
     "start_time": "2021-05-25T17:47:32.788218Z"
    }
   },
   "outputs": [],
   "source": [
    "#then create a list of tuples containing each avenger and their first movie  \n"
   ]
  },
  {
   "cell_type": "code",
   "execution_count": null,
   "metadata": {},
   "outputs": [],
   "source": []
  }
 ],
 "metadata": {
  "kernelspec": {
   "display_name": "learn-env",
   "language": "python",
   "name": "learn-env"
  },
  "language_info": {
   "codemirror_mode": {
    "name": "ipython",
    "version": 3
   },
   "file_extension": ".py",
   "mimetype": "text/x-python",
   "name": "python",
   "nbconvert_exporter": "python",
   "pygments_lexer": "ipython3",
   "version": "3.6.6"
  },
  "toc": {
   "base_numbering": 1,
   "nav_menu": {},
   "number_sections": true,
   "sideBar": true,
   "skip_h1_title": true,
   "title_cell": "Table of Contents",
   "title_sidebar": "Contents",
   "toc_cell": false,
   "toc_position": {},
   "toc_section_display": true,
   "toc_window_display": false
  }
 },
 "nbformat": 4,
 "nbformat_minor": 2
}
