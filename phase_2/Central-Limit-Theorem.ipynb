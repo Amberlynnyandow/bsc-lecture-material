{
 "cells": [
  {
   "cell_type": "markdown",
   "metadata": {},
   "source": [
    "# <center>Central Limit Theorem and Bootstrapping<center/> \n",
    "**<center>Helping us accuractely estimate the parameters of a population<center/>**"
   ]
  },
  {
   "cell_type": "markdown",
   "metadata": {},
   "source": [
    "## The Big Picture \n",
    "1. If you draw large(minimum of 30), random samples from any population(regardless of it's distribution), the means of those samples will be distributed normally around the _population mean_(which is likely unknown).\n",
    "2. Most sample means will lie reasonably close to the population mean; the standard error defines reasonably close. \n",
    "3. It is relatively unlikely that a sample mean will lie more than 2 standard errors from the population mean and extremely unlikely that it will lie 3 or more SE from the population mean. \n"
   ]
  },
  {
   "cell_type": "markdown",
   "metadata": {},
   "source": [
    "### Let's think through an example \n",
    "Suppose we want to know the average income of all people at BSC this summer(students and faculty) but our sample of the entire population consists of people in this room. We're in luck cause there are 39 of us. According to the CLT we could take repeated samples(with replacement) of the persons in this room and get those _sample means_; plot them and then take the mean of those sample means. That sample means _mean_ should be very close to the actual population mean. Some means will be higher and lower due to chance. "
   ]
  },
  {
   "cell_type": "markdown",
   "metadata": {},
   "source": [
    "### Revisting Standard Error \n",
    "SE = $\\frac{\\sigma}{\\sqrt{n}}$ <br/>\n",
    "$\\sigma$ = sample standard deviation <br/>\n",
    "n = number of samples \n",
    "\n",
    "- SE measures the dispersion of the sample means. SD measures the dispersion in the underlying population. \n",
    "- A large SE means that the _sample means_ are spread out widely around the population mean - you can try to solve this problem by getting larger sample sizes. However, if you still have a high SE after getting larger sample sizes you must conclude that the SD of the underlying population must also be large. "
   ]
  },
  {
   "cell_type": "markdown",
   "metadata": {},
   "source": [
    "## Bootstrapping\n",
    "One method of getting the confidence interval is to use bootstrap sampling. The idea is that we sample our sample to get an idea of what extreme values we could have got when sampling the population. With this, we can construct a confidence interval for our sample of the population\n",
    "\n",
    "The important thing to realize is we only use our sample to determine the confidence interval.\n",
    "\n",
    "![](https://miro.medium.com/max/700/1*iH5w0MBdiOlxDOCX6nmqqw.png)"
   ]
  },
  {
   "cell_type": "code",
   "execution_count": 1,
   "metadata": {},
   "outputs": [],
   "source": [
    "import numpy as np\n",
    "import pandas as pd\n",
    "from scipy import stats\n",
    "\n",
    "from matplotlib import pyplot as plt\n",
    "import seaborn as sns\n",
    "sns.set_style('darkgrid')\n",
    "%matplotlib inline\n",
    "\n",
    "import warnings\n",
    "warnings.filterwarnings('ignore')"
   ]
  },
  {
   "cell_type": "code",
   "execution_count": 2,
   "metadata": {},
   "outputs": [],
   "source": [
    "# External file\n",
    "titanic_file = 'https://github.com/MrGeislinger/flatiron-school-data-science-curriculum-resources/raw/main/ProbabilityAndStats/StatisticalDistributions/data/titanic.csv'\n",
    "df_titanic = pd.read_csv(titanic_file)\n",
    "ages = df_titanic.Age.dropna()"
   ]
  },
  {
   "cell_type": "code",
   "execution_count": 5,
   "metadata": {},
   "outputs": [
    {
     "data": {
      "text/plain": [
       "0.42"
      ]
     },
     "metadata": {},
     "output_type": "display_data"
    },
    {
     "data": {
      "text/plain": [
       "80.0"
      ]
     },
     "metadata": {},
     "output_type": "display_data"
    },
    {
     "data": {
      "text/plain": [
       "14.516321150817316"
      ]
     },
     "metadata": {},
     "output_type": "display_data"
    },
    {
     "data": {
      "image/png": "[encoded data removed]",
      "text/plain": [
       "<Figure size 432x288 with 1 Axes>"
      ]
     },
     "metadata": {
      "needs_background": "light"
     },
     "output_type": "display_data"
    }
   ],
   "source": [
    "sns.distplot(ages)\n",
    "display(np.min(ages), np.max(ages), np.std(ages))"
   ]
  },
  {
   "cell_type": "code",
   "execution_count": 8,
   "metadata": {},
   "outputs": [
    {
     "name": "stdout",
     "output_type": "stream",
     "text": [
      "25.7\n"
     ]
    },
    {
     "data": {
      "text/plain": [
       "51     21.0\n",
       "291    19.0\n",
       "93     26.0\n",
       "808    39.0\n",
       "179    36.0\n",
       "161    40.0\n",
       "733    23.0\n",
       "642     2.0\n",
       "489     9.0\n",
       "349    42.0\n",
       "Name: Age, dtype: float64"
      ]
     },
     "metadata": {},
     "output_type": "display_data"
    }
   ],
   "source": [
    "# Get an example sample\n",
    "sample = ages.sample(10, replace=True, random_state=1)\n",
    "print(sample.mean())\n",
    "display(sample)"
   ]
  },
  {
   "cell_type": "code",
   "execution_count": 9,
   "metadata": {},
   "outputs": [],
   "source": [
    "def get_all_sample_means(data, n=10, n_samples=100):\n",
    "    \n",
    "    samples = np.random.choice(data,size=(n_samples,n))\n",
    "    means = np.mean(samples, axis=1)\n",
    "    \n",
    "    return means"
   ]
  },
  {
   "cell_type": "code",
   "execution_count": 10,
   "metadata": {},
   "outputs": [
    {
     "data": {
      "text/plain": [
       "array([27.8  , 23.7  , 30.5  , 29.55 , 20.45 , 27.3  , 25.4  , 23.383,\n",
       "       24.2  , 37.75 , 30.55 , 31.642, 33.5  , 27.5  , 29.2  , 42.4  ,\n",
       "       25.2  , 29.8  , 24.   , 36.   , 30.7  , 34.1  , 28.   , 25.05 ,\n",
       "       29.05 , 25.6  , 32.05 , 31.95 , 33.1  , 31.7  ])"
      ]
     },
     "execution_count": 10,
     "metadata": {},
     "output_type": "execute_result"
    }
   ],
   "source": [
    "# Get many samples and their respective means\n",
    "samples = get_all_sample_means(ages,n=10, n_samples=30)\n",
    "samples"
   ]
  },
  {
   "cell_type": "code",
   "execution_count": 11,
   "metadata": {},
   "outputs": [
    {
     "data": {
      "image/png": "[encoded data removed]",
      "text/plain": [
       "<Figure size 432x288 with 1 Axes>"
      ]
     },
     "metadata": {
      "needs_background": "light"
     },
     "output_type": "display_data"
    }
   ],
   "source": [
    "# See the sample and the full data compared\n",
    "sns.distplot(\n",
    "    samples,    # Shows sample means\n",
    "    kde=False, \n",
    "    hist=False, \n",
    "    rug=True\n",
    ")\n",
    "ax = sns.distplot(ages)\n",
    "ax.vlines(ages.mean(), color='red',ymin=0,ymax=0.05);"
   ]
  },
  {
   "cell_type": "code",
   "execution_count": null,
   "metadata": {},
   "outputs": [],
   "source": [
    "def bootstrap_sample(sample, n_samples=10**4):\n",
    "    \n",
    "    bs_sample_means = get_all_sample_means(\n",
    "        sample, \n",
    "        n=len(sample),\n",
    "        n_samples=n_samples\n",
    "    )\n",
    "    \n",
    "    return bs_sample_means"
   ]
  },
  {
   "cell_type": "code",
   "execution_count": null,
   "metadata": {},
   "outputs": [],
   "source": [
    "b_sample_means = bootstrap_sample(sample)\n",
    "display(np.mean(sample))\n",
    "display(b_sample_means)"
   ]
  },
  {
   "cell_type": "code",
   "execution_count": null,
   "metadata": {},
   "outputs": [],
   "source": [
    "sns.distplot(b_sample_means)\n",
    "plt.axvline(b_sample_means.mean(), color='red')"
   ]
  },
  {
   "cell_type": "code",
   "execution_count": null,
   "metadata": {},
   "outputs": [],
   "source": [
    "np.mean(b_sample_means)"
   ]
  },
  {
   "cell_type": "code",
   "execution_count": null,
   "metadata": {},
   "outputs": [],
   "source": [
    "two_std = np.std(b_sample_means)*2\n",
    "(np.mean(sample)-two_std, np.mean(sample)+two_std)"
   ]
  },
  {
   "cell_type": "code",
   "execution_count": null,
   "metadata": {},
   "outputs": [],
   "source": [
    "#calculate standard error of the mean \n",
    "#Note that we must specify ddof=1 in the argument for this function \n",
    "#This calculates the sample standard deviation as opposed to the population standard deviation.\n",
    "np.std(b_sample_means, ddof=1) / np.sqrt(np.size(b_sample_means))"
   ]
  },
  {
   "cell_type": "code",
   "execution_count": null,
   "metadata": {},
   "outputs": [],
   "source": []
  }
 ],
 "metadata": {
  "kernelspec": {
   "display_name": "learn-env",
   "language": "python",
   "name": "learn-env"
  },
  "language_info": {
   "codemirror_mode": {
    "name": "ipython",
    "version": 3
   },
   "file_extension": ".py",
   "mimetype": "text/x-python",
   "name": "python",
   "nbconvert_exporter": "python",
   "pygments_lexer": "ipython3",
   "version": "3.8.5"
  }
 },
 "nbformat": 4,
 "nbformat_minor": 4
}
