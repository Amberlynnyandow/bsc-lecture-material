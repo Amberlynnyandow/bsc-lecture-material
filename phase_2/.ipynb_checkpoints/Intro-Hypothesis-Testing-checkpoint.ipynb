{
 "cells": [
  {
   "cell_type": "markdown",
   "metadata": {},
   "source": [
    "# Hypothesis Testing \n",
    "\n",
    "### Objectives:\n",
    "* Review Hypothesis testing terminology \n",
    "* Perform z- tests and Student's t-test and interpret the results"
   ]
  },
  {
   "cell_type": "markdown",
   "metadata": {},
   "source": [
    "## What is a statistical hypothesis? What is hypothesis testing?\n",
    "\n",
    "Hypothesis testing is the process through which the null hypothesis is accepted or rejected. Where the goal is to make a decision about the value of a population parameter based on the sample data.\n",
    "_Note:_ A statistical hypothesis is an assumption about a _population parameter_. There two types of statistical hypothesis: _null($H_o$) and alternative hypotheses($H_a$)_. \n",
    "\n",
    "Why do we care about hypothesis testing?\n",
    "\n",
    "**Scenarios:**\n",
    "\n",
    "Chemistry - do inputs from two different barley fields produce different yields?<br/>\n",
    "Astrophysics - do star systems with near-orbiting gas giants have hotter stars?<br/>\n",
    "Economics - demography, surveys, etc.<br/>\n",
    "Medicine - BMI vs. Hypertension, etc.<br/>\n",
    "Business - which ad is more effective given engagement?\n",
    "\n",
    "\n",
    "**Intuition:**\n",
    "\n",
    "Suppose you have a large dataset for a population. The data is normally distributed with mean 0 and standard deviation 1.\n",
    "\n",
    "Along comes a new sample with a sample mean of 2.9.\n",
    "\n",
    "The idea behind hypothesis testing is a desire to quantify our belief as to whether our sample of observations came from the same population as the original dataset. To formalize this intuition, we define a threshold value for deciding whether we believe that the sample is from the same underlying population or not. This threshold is $\\alpha$, the significance threshold.\n",
    "\n",
    "This serves as the foundation for hypothesis testing where we will reject or fail to reject the null hypothesis.\n",
    "_Note:_ We never accept the alternative hypothesis. We ONLY reject OR fail to reject the null.\n",
    "\n",
    "\n",
    "When are one-sample z-tests used?\n",
    "The one-sample z-test is used when you want to know if your sample comes from a particular population. The one-sample z-test is used only for tests related to the sample mean."
   ]
  },
  {
   "cell_type": "markdown",
   "metadata": {},
   "source": [
    "### Steps for executing Hypothesis tests\n",
    "Regardless of the type of statistical hypothesis test you're performing, there are five main steps to executing them:\n",
    "\n",
    "1. Set up a null and alternative hypothesis\n",
    "\n",
    "2. Choose a significance level $\\alpha$ (or use the one assigned).\n",
    "\n",
    "3. Determine the critical test statistic value or p-value. (Find the rejection region for the null hypothesis.)\n",
    "\n",
    "4. Calculate the value of the test statistic.\n",
    "\n",
    "5. Compare the test statistic value to the critical test statistic value to reject the null hypothesis or not.\n",
    "![](https://miro.medium.com/max/1724/1*VXxdieFiYCgR6v7nUaq01g.jpeg)"
   ]
  },
  {
   "cell_type": "markdown",
   "metadata": {},
   "source": [
    "### Decision Rule:\n",
    "\n",
    "The decision rule tells us when we can reject the null hypothesis.\n",
    "\n",
    "It depends on 3 factors:\n",
    "\n",
    "1. The alternative hypothesis\n",
    "    - Is this an upper-tailed, lower-tailed, or two-tailed test?\n",
    "2. The test statistic\n",
    "3. The level of significance $\\alpha$.\n",
    "\n",
    "**Upper-tailed test (right-tailed test):**\n",
    "\n",
    "The null hypothesis is rejected if the test statistic is greater than the critical value.\n",
    "\n",
    "**Lower-tailed test (left-tailed test):**\n",
    "\n",
    "The null hypothesis is rejected if the test statistic is smaller than the critical value.\n",
    "\n",
    "**Two-tailed test:**\n",
    "\n",
    "The null hypothesis is rejected if the test statistic is either larger than an upper critical value or smaller than a lower critical value."
   ]
  },
  {
   "cell_type": "markdown",
   "metadata": {},
   "source": [
    "### Language of Hypothesis testing\n",
    "**Significance Level $\\alpha$**\n",
    "\n",
    "The significance level $\\alpha$ is the threshold at which you're okay with rejecting the null hypothesis. It is the probability of rejecting the null hypothesis when it is true.\n",
    "\n",
    "The most commonly used $\\alpha$ in science is $\\alpha = 0.05$. When you set $\\alpha = 0.05$, you're saying \"I'm okay with rejecting the null hypothesis if there is less than a 5% chance that the results I am seeing are actually due to randomness\".\n",
    "\n",
    "**p-values:**\n",
    "\n",
    "The p-value is the probability of observing a test statistic at least as large as the one observed, by random chance, assuming that the null hypothesis is true.\n",
    "\n",
    "If $p \\lt \\alpha$, we reject the null hypothesis.\n",
    "\n",
    "If $p \\geq \\alpha$, we fail to reject the null hypothesis.\n",
    "\n",
    "A p-value answers the question: what are the chances of getting your result if the null hypothesis is true?\n",
    "\n",
    "We do not accept the alternative hypothesis, we only reject or fail to reject the null hypothesis in favor of the alternative.\n",
    "\n",
    "**What if the experiment we perform fails to reject the null hypothesis?**\n",
    "\n",
    "We do not throw out failed experiments!\n",
    "We say \"this methodology, with this data, does not produce significant results\"\n",
    "Maybe we need more data!\n",
    "\n",
    "**What if I reject the null hypothesis but it turns out I was wrong?** \n",
    "\n",
    "**Type 1 Error:** \n",
    "- **False positives** are type 1 errors and occur when we reject the null hypothesis (favoring the alternative hypothesis) but the \"truth\" is that we should have failed to reject (favoring the null hypothesis).\n",
    "\n",
    "**Type 2 Error:** \n",
    "- **False negatives** are type 2 errors and occur when we fail to reject the null hypothesis (favoring the null hypothesis) but the \"truth\" is that we should have rejected the hypothesis (favoring the alternative hypothesis).\n",
    "\n",
    "This can happen again randomly but usually a symptom of not having a \"good enough\" experiment to notice an effect. We're likely to fail to reject $H_0$ if we don't have enough samples and/or the effect is relatively small.\n",
    "\n",
    "This error can be denoted with $\\beta$ but typically it's talked about in terms of statistical power ($1-\\beta$) which we'll see later. Note that we want $\\beta$ to be small, but statistical power to be high (they're complements of another)\n",
    "\n",
    "Generally, we want our false negative rate $\\beta$ to be about $20\\%$ but again it depends on the application."
   ]
  },
  {
   "cell_type": "markdown",
   "metadata": {},
   "source": [
    "### $z$-tests vs $t$-tests"
   ]
  },
  {
   "cell_type": "markdown",
   "metadata": {},
   "source": [
    "According to the Central Limit Theorem, the sampling distribution of a statistic, like the sample mean, will follow a normal distribution as long as the sample size is sufficiently large. But if we have a small sample size or don't know the population standard deviation, we have to make a correction to the normal distribution. This is what the 𝑡-test effectively does for us by using a 𝑡-distribution over the normal distribution.\n",
    "<img src=\"images/z_or_t_test.png\" width=\"500\">"
   ]
  },
  {
   "cell_type": "markdown",
   "metadata": {},
   "source": [
    "> **$t$-test**:\n",
    "> \n",
    "> - Calculate the **$t$-statistic** using the sample's standard deviation $s$:\n",
    "> $$\\large t = \\frac{\\bar{x}-\\mu}{\\frac{s}{\\sqrt{n}}}$$\n",
    "> - We calculate the p-value from the **$t$-distribution**\n",
    "\n",
    "> **$z$-test**:\n",
    "> \n",
    "> - Calculate the **$z$-statistic** using the populations standard deviation $\\sigma$:\n",
    "> $$\\large z = \\frac{\\bar{x}-\\mu}{\\frac{\\sigma}{\\sqrt{n}}}$$\n",
    "> - We calculate the p-value from the **normal distribution**"
   ]
  },
  {
   "cell_type": "markdown",
   "metadata": {},
   "source": [
    "\n",
    "### Let's start our discussion of hypothesis tests with an example.\n",
    "Suppose that African elephants have weights distributed normally around a mean of 9000 lbs with a standard deviation of 900 lbs. Pachyderm Adventures has recently measured the weights of 35 Gabonese elephants and has calculated their average weight at 8637 lbs.\n",
    "\n",
    "**QUESTION:**Is the average weight of Gabonese elephants different that the average weight of African elephants? Use significance level $\\alpha = 0.05$.\n",
    "\n",
    "<details>\n",
    "    <summary>Q:What are the null and alternative hypotheses? What is the significance level of the test?</summary> \n",
    "- Null hypothesis\n",
    "    - The average weight of Gabonese elephants is the same as the average weight of African elephants.\n",
    "- Alternative hypothesis\n",
    "    - The average weight of Gabonese elephants is different than the average weight of African elephants.\n",
    "    \n",
    "The significance level of our test is $\\alpha = 0.05$.\n",
    "</details>\n",
    "\n",
    "\n",
    "**What should be our test statistic? Are we running an upper, lower, or two-tailed test?**\n",
    "\n",
    "Since we know the population standard deviation, the size of our sample is greater than 30, and we want to know if the sample mean is different from the population mean, we are running a one-tailed test.\n",
    "\n",
    "What's the value of the critical test statistic that we should use for our test?"
   ]
  },
  {
   "cell_type": "code",
   "execution_count": null,
   "metadata": {},
   "outputs": [],
   "source": [
    "from scipy import stats \n",
    "import numpy as np"
   ]
  },
  {
   "cell_type": "code",
   "execution_count": null,
   "metadata": {},
   "outputs": [],
   "source": [
    "# critical z-statistic\n",
    "alpha = 0.05\n",
    "stats.norm.ppf(alpha/2), stats.norm.ppf(1-alpha/2)"
   ]
  },
  {
   "cell_type": "markdown",
   "metadata": {},
   "source": [
    "Since we are performing a one-tailed one-sample z-test and $\\alpha = 0.05$, if the z-score we compute is greater than 1.96 or smaller than -1.96, then we can reject the null hypothesis at significance level 0.05 in favor of the alternative hypothesis.\n",
    "\n",
    "Compute the test statistic where $\\bar x$ is the sample mean, $\\mu$ is the population mean, $\\sigma$ is the population standard deviation, and $n$ is the sample size."
   ]
  },
  {
   "cell_type": "code",
   "execution_count": null,
   "metadata": {},
   "outputs": [],
   "source": [
    "n = 35\n",
    "sigma = 900\n",
    "\n",
    "x_bar = 8637\n",
    "mu = 9000\n",
    "\n",
    "se = sigma/np.sqrt(n)\n",
    "z = (x_bar - mu)/se\n",
    "print(z)"
   ]
  },
  {
   "cell_type": "markdown",
   "metadata": {},
   "source": [
    "> z = -2.39 is smaller than -1.96, thus we can reject the null hypothesis in favor of the alternative hypothesis at significance level $\\alpha = 0.05$."
   ]
  },
  {
   "cell_type": "code",
   "execution_count": null,
   "metadata": {},
   "outputs": [],
   "source": [
    "#alternate way of getting the same answer \n",
    "stats.norm.cdf(z)"
   ]
  },
  {
   "cell_type": "markdown",
   "metadata": {},
   "source": [
    "The area of the tail corresponding to this z-score is 0.0085. This is below 0.025. Thus we reject the null hypothesis in favor of the alternative at significance level $\\alpha = 0.05$."
   ]
  },
  {
   "cell_type": "markdown",
   "metadata": {},
   "source": [
    "### Example using t-test \n",
    "A coffee shop relocates from Manhattan to Brooklyn and wants to make sure that all lattes are consistent before and after their move. They buy a new machine and hire a new barista. In Manhattan, lattes are made with 4 oz of espresso. A random sample of 25 lattes made in their new store in Brooklyn shows a mean of 4.6 oz and standard deviation of 0.22 oz. Are their lattes different now that they've relocated to Brooklyn? Use a significance level of $\\alpha = 0.01$.\n",
    "\n",
    "**State null and alternative hypothesis**\n",
    "\n",
    "**Null:** the amount of espresso in the lattes is the same as before the move.<br/>\n",
    "**Alternative:** the amount of espresso in the lattes is different before and after the move.\n",
    "\n",
    "**What kind of test?**\n",
    "\n",
    "- two-tailed one-sample t-test\n",
    "    - small sample size\n",
    "    - unknown population standard deviation\n",
    "    - two-tailed because we want to know if amounts are same or different"
   ]
  },
  {
   "cell_type": "code",
   "execution_count": null,
   "metadata": {},
   "outputs": [],
   "source": [
    "x_bar = 4.6 \n",
    "mu = 4 \n",
    "s = 0.22 \n",
    "n = 25 \n",
    "\n",
    "df = n-1\n",
    "\n",
    "t = (x_bar - mu)/(s/n**0.5)\n",
    "print(\"The t-statistic for our sample is {}.\".format(round(t, 2)))"
   ]
  },
  {
   "cell_type": "code",
   "execution_count": null,
   "metadata": {},
   "outputs": [],
   "source": [
    "# critical t-statistic values\n",
    "stats.t.ppf(0.005, df), stats.t.ppf(1-0.005, df)"
   ]
  },
  {
   "cell_type": "markdown",
   "metadata": {},
   "source": [
    "Can we reject the null hypothesis?\n",
    "\n",
    "> Yes. t > t_critical. we can reject the null hypothesis in favor of the alternative at $\\alpha = 0.01$."
   ]
  },
  {
   "cell_type": "markdown",
   "metadata": {},
   "source": [
    "## Continuing with Two-sample T-tests\n",
    "Sometimes, we are interested in determining whether two population means are equal. In this case, we use two-sample $t$-tests.\n",
    "\n",
    "There are two types of two-sample t-tests: paired and independent (unpaired) tests.\n",
    "\n",
    "What's the difference?\n",
    "\n",
    "Paired tests: How is a sample affected by a certain treatment? The individuals in the sample remain the same and you compare how they change after treatment.\n",
    "\n",
    "Independent tests: When we compare two different, unrelated samples to each other, we use an independent (or unpaired) two-sample t-test.\n",
    "\n",
    "The test statistic for an unpaired two-sample t-test is slightly different than the test statistic for the one-sample $t$-test.\n",
    "\n",
    "Assuming equal variances, the test statistic for a two-sample $t$-test is given by:\n",
    "\n",
    "$$ t = \\frac{\\bar{x_1} - \\bar{x_2}}{\\sqrt{s^2 \\left( \\frac{1}{n_1} + \\frac{1}{n_2} \\right)}}$$\n",
    "where $s^2$ is the pooled sample variance,\n",
    "\n",
    "$$ s^2 = \\frac{\\sum_{i=1}^{n_1} \\left(x_i - \\bar{x_1}\\right)^2 + \\sum_{j=1}^{n_2} \\left(x_j - \\bar{x_2}\\right)^2 }{n_1 + n_2 - 2} $$\n",
    "Here, $n_1$ is the sample size of sample 1 and $n_2$ is the sample size of sample 2.\n",
    "\n",
    "An independent two-sample $t$-test for samples of size $n_1$ and $n_2$ has $(n_1 + n_2 - 2)$ degrees of freedom.\n",
    "\n",
    "Now let's say we want to compare our Gabonese elephants to a sample of elephants from Kenya."
   ]
  },
  {
   "cell_type": "code",
   "execution_count": null,
   "metadata": {},
   "outputs": [],
   "source": [
    "# We're given these values from the sample\n",
    "gab = np.array([\n",
    "        8234, 8929, 7922, 8688, 8840, \n",
    "        8759, 8127, 8574, 8533, 8944, \n",
    "        8631, 8665, 8712, 8984, 8601, \n",
    "        8559, 8228, 8474, 8708, 8128\n",
    "])\n",
    "\n",
    "ken = [8762, 8880, 8743, 8901,\n",
    "        8252, 8966, 8369, 9001,\n",
    "         8857, 8147, 8927, 9005,\n",
    "         9083, 8477, 8760, 8915,\n",
    "         8927, 8829, 8579, 9002]"
   ]
  },
  {
   "cell_type": "code",
   "execution_count": null,
   "metadata": {},
   "outputs": [],
   "source": [
    "print(np.std(ken))\n",
    "print(np.std(gab))"
   ]
  },
  {
   "cell_type": "code",
   "execution_count": null,
   "metadata": {},
   "outputs": [],
   "source": [
    "print(np.std(ken))\n",
    "print(np.std(gab))"
   ]
  },
  {
   "cell_type": "code",
   "execution_count": null,
   "metadata": {},
   "outputs": [],
   "source": [
    "x_1 = np.mean(gab)\n",
    "x_2 = np.mean(ken)\n",
    "s_1_2 = np.var(gab, ddof = 1)\n",
    "s_2_2 = np.var(ken, ddof = 1)\n",
    "n_1 = len(gab)\n",
    "n_2 = len(ken)\n",
    "s_p_2 = ((n_1 - 1)*s_1_2 + (n_2 - 1 )* s_2_2)/(n_1 + n_2 -2)\n",
    "\n",
    "t = (x_1 - x_2)/np.sqrt(s_p_2*(1/n_1 + 1/n_2))\n",
    "t"
   ]
  },
  {
   "cell_type": "code",
   "execution_count": null,
   "metadata": {},
   "outputs": [],
   "source": [
    "s_p_2 = ((n_1 - 1)*s_1_2 + (n_2 - 1 )* s_2_2)/(n_1 + n_2 -2)\n",
    "s_p_2"
   ]
  },
  {
   "cell_type": "code",
   "execution_count": null,
   "metadata": {},
   "outputs": [],
   "source": [
    "display(s_1_2, s_2_2 )"
   ]
  },
  {
   "cell_type": "code",
   "execution_count": null,
   "metadata": {},
   "outputs": [],
   "source": [
    "stats.ttest_ind(gab, ken, equal_var=False)"
   ]
  },
  {
   "cell_type": "markdown",
   "metadata": {},
   "source": [
    "## Exercises"
   ]
  },
  {
   "cell_type": "markdown",
   "metadata": {},
   "source": [
    "### Gotta Have My Pants! 👖\n",
    "I'm buying jeans from Pants-a-torium. I know nothing about their inventory other than prices after looking at some random jean prices:\n",
    "\n",
    "[20, 30, 30, 50, 75, 25, 30, 30, 40, 80]\n",
    "However, I know that my typical pants store (Pants-R-Us) sells jeans at an average price of \\$58 with a standard deviation of \\\\$18. (Yes, I do descriptive statistics while I shop. Why do you ask?)\n",
    "\n",
    "Should I go just to one store for a less expensive pair of jeans? I'm pretty apprehensive about my decision, so $\\alpha = 0.1$."
   ]
  },
  {
   "cell_type": "markdown",
   "metadata": {},
   "source": [
    "State the null and alternative hypothesis "
   ]
  },
  {
   "cell_type": "code",
   "execution_count": null,
   "metadata": {},
   "outputs": [],
   "source": []
  },
  {
   "cell_type": "markdown",
   "metadata": {},
   "source": [
    "Perform the test"
   ]
  },
  {
   "cell_type": "code",
   "execution_count": null,
   "metadata": {},
   "outputs": [],
   "source": []
  },
  {
   "cell_type": "markdown",
   "metadata": {},
   "source": [
    "Make a decision "
   ]
  },
  {
   "cell_type": "markdown",
   "metadata": {},
   "source": [
    "### Gotta Have My Food Delivered! 🚚\n",
    "You measure the delivery times of ten different restaurants in two different neighborhoods. You want to know if restaurants in the different neighborhoods have the same delivery times. Set your significance threshold to 0.05.\n",
    "\n",
    "We measured this for neighborhood A:\n",
    "\n",
    "delivery_times_A = [28.4, 23.3, 30.4, 28.1, 29.4, 30.6, 27.8, 30.9, 27.0, 32.8]<br/>\n",
    "For neighborhood B, someone already reported the values as a mean time of 26.8 minutes and a standard deviation of 2.6 minutes."
   ]
  },
  {
   "cell_type": "code",
   "execution_count": null,
   "metadata": {},
   "outputs": [],
   "source": []
  },
  {
   "cell_type": "code",
   "execution_count": null,
   "metadata": {},
   "outputs": [],
   "source": []
  },
  {
   "cell_type": "code",
   "execution_count": null,
   "metadata": {},
   "outputs": [],
   "source": []
  },
  {
   "cell_type": "markdown",
   "metadata": {},
   "source": [
    "Imagine we have measured the blood pressure for a population of individuals. The average blood pressure for this population is 72.5 mm Hg, with a standard deviation of 12.5 mm Hg.\n",
    "\n",
    "We then measure the blood pressure of 30 other individuals. Here are the observed blood pressures (in units of mm Hg):\n",
    "\n",
    "62.9, 66.2, 65.0, 84.7, 68.2, 73.1, 68.3, 57.6, 65.8, 67.8, 54.0, 66.8, 56.4, 54.3, 48.3, \n",
    "73.9, 62.2, 53.0, 52.2, 74.5, 66.1, 66.7, 77.7, 73.6, 76.5, 64.2, 59.5, 66.1, 58.3, 64.9\n",
    "\n",
    "We want to know if the average blood pressure of these 30 individuals is significantly lower than the population's average blood pressure, at a significance level of $\\alpha$ = 0.05.\n",
    "\n",
    "State the null and alternative hypotheses for this problem.\n",
    "\n",
    "$H_o$: $\\mu \\leq M $ (The average blood pressure of the sample of individuals is not significantly smaller than the population average blood pressure.)\n",
    "\n",
    "$H_a$: $\\mu \\gt M$ (The average blood pressure of the sample of individuals is significantly smaller than the population average blood pressure.)\n",
    "\n",
    "Here, $\\mu$ is the population average blood pressure, and $M$ is the average blood pressure of the sample of 30 individuals.\n",
    "\n",
    "Perform a one-sample z-test. Interpret the result of the test."
   ]
  },
  {
   "cell_type": "code",
   "execution_count": null,
   "metadata": {},
   "outputs": [],
   "source": [
    "measurements = [62.9, 66.2, 65.0, 84.7, 68.2, 73.1, 68.3, 57.6, 65.8, 67.8, 54.0, 66.8, \n",
    "                56.4, 54.3, 48.3, 73.9, 62.2, 53.0, 52.2, 74.5, 66.1, 66.7, 77.7, 73.6, \n",
    "                76.5, 64.2, 59.5, 66.1, 58.3, 64.9]"
   ]
  },
  {
   "cell_type": "code",
   "execution_count": null,
   "metadata": {},
   "outputs": [],
   "source": []
  },
  {
   "cell_type": "markdown",
   "metadata": {},
   "source": [
    "Now, we want to know if the average blood pressure of these 30 individuals' blood pressure measurements is significantly different than the population's average blood pressure, at a significance threshold of $\\alpha$ = 0.05.\n",
    "\n",
    "State the null and alternative hypothesis:\n",
    "\n",
    "$H_o$: $\\mu = M $\n",
    "\n",
    "$H_a$: $\\mu \\neq M$\n",
    "\n",
    "where $\\mu$ is the population mean, and $M$ is the sample mean.\n",
    "\n",
    "Perform a one-sample z-test. Interpret the results of the test."
   ]
  },
  {
   "cell_type": "code",
   "execution_count": null,
   "metadata": {},
   "outputs": [],
   "source": []
  },
  {
   "cell_type": "code",
   "execution_count": null,
   "metadata": {},
   "outputs": [],
   "source": []
  }
 ],
 "metadata": {
  "kernelspec": {
   "display_name": "learn-env",
   "language": "python",
   "name": "learn-env"
  },
  "language_info": {
   "codemirror_mode": {
    "name": "ipython",
    "version": 3
   },
   "file_extension": ".py",
   "mimetype": "text/x-python",
   "name": "python",
   "nbconvert_exporter": "python",
   "pygments_lexer": "ipython3",
   "version": "3.8.5"
  }
 },
 "nbformat": 4,
 "nbformat_minor": 4
}
