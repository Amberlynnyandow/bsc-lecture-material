{
 "cells": [
  {
   "cell_type": "markdown",
   "metadata": {},
   "source": [
    "# Hypothesis Testing Continued"
   ]
  },
  {
   "cell_type": "markdown",
   "metadata": {},
   "source": [
    "## Recap "
   ]
  },
  {
   "cell_type": "markdown",
   "metadata": {},
   "source": [
    "### **P-values and alpha values:** <br/>\n",
    "The significance threshold $\\alpha$ is the threshold that defines whether a p-value is low or high. If the p-value is less than the significance level $\\alpha$, we reject the null hypothesis at a significance level of $\\alpha$."
   ]
  },
  {
   "cell_type": "markdown",
   "metadata": {},
   "source": [
    "### **Z-scores:** \n",
    "> The z-score tells us how many standard deviations above or below the mean an observation is. z-scores allow us to compare scores from different normal distributions.\n",
    "$$\\large \\text{z} = \\frac{x - \\mu}{\\sigma}$$\n",
    "\n",
    "**z-scores and probabilities:**<br/>\n",
    "To compute the probability of obtaining a z-score less than a given value z, use: <center>stats.norm.cdf(z)<center/>\n",
    "\n",
    "To compute the probability of obtaining a z-score greater than or equal to a given value z, use: \n",
    "    <center>1 - stats.norm.cdf(z)<center/><br/>\n",
    "        \n",
    "To compute the z-score for a given percentile, like the 95th, use:\n",
    "        <center>1 - stats.norm.ppf(0.95)<center/><br/>\n",
    "        \n",
    "_NOTE:_ The _one-sample_ z-test is used when you want to know if your sample comes from a particular population. The _one-sample_ z-test is used only for tests related to the sample mean. The test statistic of one-sample z-tests is called the z-statistic."
   ]
  },
  {
   "cell_type": "markdown",
   "metadata": {},
   "source": [
    "Recall the test statistic for a one-sample z-test is the z-statistic:\n",
    "\n",
    "$$ \\large \\text{z-statistic} = \\dfrac{\\bar x - \\mu_0}{{\\sigma}/{\\sqrt{n}}} $$\n",
    "$\\bar x$ is your sample mean\n",
    "$n$ is the number of items in your sample\n",
    "$\\sigma$ is the population standard deviation\n",
    "$\\mu_0$ is the population mean\n",
    "The z-statistic differs from the standard score formula: we divide the standard deviation by the square root of $n$ to reflect that we are dealing with the sample variance.\n",
    "\n",
    "Imagine we have measured the blood pressure for a population of individuals. The average blood pressure for this population is 72.5 mm Hg, with a standard deviation of 12.5 mm Hg.\n",
    "\n",
    "We then measure the blood pressure of 30 other individuals. Here are the observed blood pressures (in units of mm Hg):\n",
    "\n",
    "62.9, 66.2, 65.0, 84.7, 68.2, 73.1, 68.3, 57.6, 65.8, 67.8, 54.0, 66.8, 56.4, 54.3, 48.3, \n",
    "73.9, 62.2, 53.0, 52.2, 74.5, 66.1, 66.7, 77.7, 73.6, 76.5, 64.2, 59.5, 66.1, 58.3, 64.9\n",
    "\n",
    "We want to know if the average blood pressure of these 30 individuals is significantly lower than the population's average blood pressure, at a significance level of $\\alpha$ = 0.05.\n",
    "\n",
    "State the null and alternative hypotheses for this problem.\n",
    "\n",
    "$H_o$: $\\mu \\leq M $ (The average blood pressure of the sample of individuals is not significantly smaller than the population average blood pressure.)\n",
    "\n",
    "$H_a$: $\\mu \\gt M$ (The average blood pressure of the sample of individuals is significantly smaller than the population average blood pressure.)\n",
    "\n",
    "Here, $\\mu$ is the population average blood pressure, and $M$ is the average blood pressure of the sample of 30 individuals.\n",
    "\n",
    "Perform a one-sample z-test. Interpret the result of the test."
   ]
  },
  {
   "cell_type": "code",
   "execution_count": null,
   "metadata": {},
   "outputs": [],
   "source": [
    "import pandas as pd \n",
    "import numpy as np\n",
    "from scipy import stats \n",
    "import matplotlib.pyplot as plt\n",
    "%matplotlib inline \n",
    "\n",
    "import seaborn as sns\n",
    "sns.set_style('darkgrid')"
   ]
  },
  {
   "cell_type": "code",
   "execution_count": null,
   "metadata": {},
   "outputs": [],
   "source": [
    "measurements = [62.9, 66.2, 65.0, 84.7, 68.2, 73.1, 68.3, 57.6, 65.8, 67.8, 54.0, 66.8, \n",
    "                56.4, 54.3, 48.3, 73.9, 62.2, 53.0, 52.2, 74.5, 66.1, 66.7, 77.7, 73.6, \n",
    "                76.5, 64.2, 59.5, 66.1, 58.3, 64.9]\n",
    "\n"
   ]
  },
  {
   "cell_type": "markdown",
   "metadata": {},
   "source": [
    "### t-distributions - when our sample isn't standard normal \n",
    "> We must use a t-distribution when:<br/>\n",
    "    1. The population standard deviation is unknown<br/>\n",
    "    2. The sample size is <30\n",
    "    \n",
    "![](https://github.com/flatiron-school/ds-confidence_intervals/raw/cbc262a0d52a771b48d737e8c195735cd97113c1/img/z_vs_t.png)\n",
    "\n",
    "**Use ```t = stats.t.ppf(0.95, df=50-1)``` to compute t-score**\n",
    "\n",
    "**Confidence Intervals for $t$-Distribution:**<br/>\n",
    "The construction of confidence intervals for the $t$-distribution is similar to how they are made for the normal distribution. But instead of $z$-scores, we'll have $t$-scores. And if we don't have access to the population standard deviation, we'll make use of the sample standard deviation instead.\n",
    "\n",
    "left endpt.: $\\bar{x} - t\\times\\frac{s}{\\sqrt{n}}$\n",
    "right endpt.: $\\bar{x} + t\\times\\frac{s}{\\sqrt{n}}$\n",
    "\n",
    "**Raw coding CI for t-distribution:**\n",
    "```# Calculating the confidence interval\n",
    "(sample_mean - t * standard_error, sample_mean + t * standard_error)```\n",
    "\n",
    "**Alternate method below: Can only use if you don't need the t-statistic and must have sample values**"
   ]
  },
  {
   "cell_type": "markdown",
   "metadata": {},
   "source": [
    "**Scenario:**\n",
    "\n",
    "You are inspecting a hardware factory and want to construct a 90% confidence interval of acceptable screw lengths. You draw a sample of 30 screws and calculate their mean length as 4.8 centimeters and the standard deviation as 0.4 centimeters. What are the bounds of your confidence interval?"
   ]
  },
  {
   "cell_type": "code",
   "execution_count": null,
   "metadata": {},
   "outputs": [],
   "source": [
    "n = 30\n",
    "mean = 4.8\n"
   ]
  },
  {
   "cell_type": "code",
   "execution_count": null,
   "metadata": {},
   "outputs": [],
   "source": [
    "stats.t.interval(\n",
    "    alpha=0.95,           # Confidence level\n",
    "    df=n-1,               # Degrees of freedom\n",
    "    loc=mean,             # Sample mean\n",
    "    scale=stats.sem()    # Unit scale for t-distribution\n",
    ")"
   ]
  },
  {
   "cell_type": "markdown",
   "metadata": {},
   "source": [
    "## Practice "
   ]
  },
  {
   "cell_type": "markdown",
   "metadata": {},
   "source": [
    "### Gotta Have My Pants! 👖\n",
    "I'm buying jeans from store A and store B. I know nothing about their inventory other than prices.\n",
    "\n",
    "> store1 = [20,30,30,50,75,25,30,30,40,80] <br/>\n",
    "> store2 = [60,30,70,90,60,40,70,40]\n",
    "\n",
    "Should I go just to one store for a less expensive pair of jeans? I'm pretty apprehensive about my decision, so $\\alpha = 0.1$. It's okay to assume the samples have equal variances."
   ]
  },
  {
   "cell_type": "markdown",
   "metadata": {},
   "source": [
    "1. **State the null and alternative hypotheses:**\n",
    "\n"
   ]
  },
  {
   "cell_type": "markdown",
   "metadata": {},
   "source": [
    "2. **What kind of test should we run? Why?**\n",
    "\n"
   ]
  },
  {
   "cell_type": "code",
   "execution_count": null,
   "metadata": {},
   "outputs": [],
   "source": [
    "#perform the test \n",
    "store1 = [20,30,30,50,75,25,30,30,40,80]\n",
    "store2 = [60,30,70,90,60,40,70,40]\n",
    "\n"
   ]
  },
  {
   "cell_type": "markdown",
   "metadata": {},
   "source": [
    "**Make a decision.**\n",
    "\n"
   ]
  },
  {
   "cell_type": "markdown",
   "metadata": {},
   "source": [
    "### Rats on protein diets \n",
    "Consider the gain in weight (in grams) of 19 female rats between 28 and 84 days after birth.\n",
    "\n",
    "Twelve rats were fed on a high protein diet and seven rats were fed on a low protein diet.\n",
    "\n",
    "high_protein = [134, 146, 104, 119, 124, 161, 107, 83, 113, 129, 97, 123] <br/>\n",
    "low_protein = [70, 118, 101, 85, 107, 132, 94] <br/>\n",
    "\n",
    "Is there any difference in the weight gain of rats fed on high protein diet vs low protein diet? It's OK to assume equal sample variances."
   ]
  },
  {
   "cell_type": "markdown",
   "metadata": {},
   "source": [
    "1. **State the Null and alternative hypotheses:**\n"
   ]
  },
  {
   "cell_type": "markdown",
   "metadata": {},
   "source": [
    "2. **What kind of test should we perform and why?**\n",
    "\n"
   ]
  },
  {
   "cell_type": "code",
   "execution_count": null,
   "metadata": {},
   "outputs": [],
   "source": [
    "#perform test - reject or fail to reject \n",
    "high_protein = [134, 146, 104, 119, 124, 161, 107, 83, 113, 129, 97, 123]\n",
    "low_protein = [70, 118, 101, 85, 107, 132, 94]\n"
   ]
  },
  {
   "cell_type": "markdown",
   "metadata": {},
   "source": [
    "We fail to reject the null hypothesis at a significance level of $\\alpha = 0.05$.\n",
    "\n",
    "What if we wanted to test if the rats who ate a high protein diet gained more weight than those who ate a low-protein diet?\n",
    "\n",
    "Null: weight gain by rats who ate high protein diet same as weight gain of low protein diet rats\n",
    "\n",
    "alternative: weight gain by rats who ate high protein diet greater than weight gain of low protein diet rats\n",
    "\n",
    "Kind of test? One-sided unpaired two-sample test\n",
    "\n",
    "Calculate Critical test statistic value:"
   ]
  },
  {
   "cell_type": "code",
   "execution_count": null,
   "metadata": {},
   "outputs": [],
   "source": [
    "stats.t.ppf(q=0.95, df = len(high_protein)+len(low_protein)-2) #critical t-statistic"
   ]
  },
  {
   "cell_type": "markdown",
   "metadata": {},
   "source": [
    "We can reject the null hypothesis in favor of the alternative at alpha = 0.05 (one-sided test). The value of t-statistic lies in rejection region."
   ]
  },
  {
   "cell_type": "markdown",
   "metadata": {},
   "source": [
    "## Summary\n",
    "**Key Takeaways:**\n",
    "\n",
    "- A statistical hypothesis test is a method for testing a hypothesis about a parameter in a population using data measured in a sample.\n",
    "\n",
    "- Hypothesis tests consist of a null hypothesis and an alternative hypothesis.\n",
    "\n",
    "- We test a hypothesis by determining the chance of obtaining a sample statistic if the null hypothesis regarding the population parameter is true.\n",
    "\n",
    "- One-sample z-tests and one-sample t-tests are hypothesis tests for the population mean $\\mu$.\n",
    "\n",
    "- We use a one-sample z-test for the population mean when the population standard deviation is known and the sample size is sufficiently large. We use a one-sample t-test for the population mean when the population standard deviation is unknown or when the sample size is small.\n",
    "\n",
    "- Two-sample t-tests are hypothesis tests for differences in two population means."
   ]
  },
  {
   "cell_type": "code",
   "execution_count": null,
   "metadata": {},
   "outputs": [],
   "source": []
  }
 ],
 "metadata": {
  "kernelspec": {
   "display_name": "learn-env",
   "language": "python",
   "name": "learn-env"
  },
  "language_info": {
   "codemirror_mode": {
    "name": "ipython",
    "version": 3
   },
   "file_extension": ".py",
   "mimetype": "text/x-python",
   "name": "python",
   "nbconvert_exporter": "python",
   "pygments_lexer": "ipython3",
   "version": "3.8.5"
  }
 },
 "nbformat": 4,
 "nbformat_minor": 4
}
