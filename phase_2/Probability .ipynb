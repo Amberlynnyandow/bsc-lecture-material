{
 "cells": [
  {
   "cell_type": "markdown",
   "metadata": {
    "slideshow": {
     "slide_type": "slide"
    }
   },
   "source": [
    "# \n",
    "<center><b><font face=\"verdana\" size=\"6\" color=\"blue\">Classical Probability - The mathematics of chance</font></b></center>\n",
    "\n",
    "![](https://www.popoptiq.com/wp-content/uploads/2014/12/nghjetj.jpg)"
   ]
  },
  {
   "cell_type": "markdown",
   "metadata": {
    "slideshow": {
     "slide_type": "slide"
    }
   },
   "source": [
    "# Topic 11(Probability) - Game Plan & Objectives\n",
    "- [ ] What is probability and why is it important?\n",
    "- [ ] Understand chance behavior and myths associated with it. \n",
    "- [ ] Determine the difference between independent and dependent events \n",
    "- [ ] Review probability axioms/rules and provide examples of each \n",
    "- [ ] Understand and compute conditional probabilities \n",
    "- [ ] Calculate permutations and combinations "
   ]
  },
  {
   "cell_type": "markdown",
   "metadata": {
    "slideshow": {
     "slide_type": "slide"
    }
   },
   "source": [
    "> Chance behavior is unpredictable in the short run but has a regular and predictable distribution of outcomes in the long run. Developing critical thinking skills about the meaning of chance and the value of applying the concept of probability in real life will help you understand probabilistic models; evaluate risk and expected value. \n",
    "\n",
    "> Probability is the central idea behind insurance; decision making; our finanicial system; competitive sports; healthcare industry. \n",
    "\n"
   ]
  },
  {
   "cell_type": "markdown",
   "metadata": {
    "slideshow": {
     "slide_type": "subslide"
    }
   },
   "source": [
    "<center><b><font face=\"verdana\" size=\"4\" color=\"blue\"><ins>The Hot Hand in Basketball</ins></font></b></center>\n",
    "\n",
    "![](https://media.npr.org/assets/img/2018/10/30/rtx6h345-7b5021027ef002e3ba4a01cdf9617f1e2848a1bd-s800-c85.webp)"
   ]
  },
  {
   "cell_type": "markdown",
   "metadata": {
    "slideshow": {
     "slide_type": "subslide"
    }
   },
   "source": [
    "> Taking a shot is an idenpendent event - just like flipping a coin - it doesn't matter what happened in the previous trial. You are not more likely to make a shot based on making a previous shot. <br/> \n",
    "[Great Interview with Thomas Gilovich on Human Behavior](https://www.thepodcastbrowser.com/thomas-gilovich-on-human-behaviour/)"
   ]
  },
  {
   "cell_type": "markdown",
   "metadata": {
    "slideshow": {
     "slide_type": "slide"
    }
   },
   "source": [
    "## Independent VS Dependent Events \n",
    "Not understanding when events are independent is the most common probability mistake.<br/> \n",
    "Two events A and B are said to be independent if the fact that one event has occurred does not affect the probability that another event will occur.\n",
    "<br/>\n",
    "\n",
    "1. <details>\n",
    "    <summary>Is the probability of choosing a card from a deck and then putting it back and choosing another card independent or dependent?</summary> \n",
    "Independent - why? \n",
    "</details>\n",
    "\n",
    "2. <details>\n",
    "    <summary>Is the probability that it will rain today independent or dependent?</summary> \n",
    "Dependent - why? \n",
    "</details>\n",
    "\n",
    "3. <details>\n",
    "    <summary>Is the probability that you will crash your car today or next year independent or dependent?</summary> \n",
    "Dependent - why? \n",
    "</details>"
   ]
  },
  {
   "cell_type": "markdown",
   "metadata": {
    "slideshow": {
     "slide_type": "slide"
    }
   },
   "source": [
    "## Probability = <ins>*desired outcomes/total possible outcomes*</ins>\n",
    "\n",
    "### Axioms: \n",
    "1. Any probability must be a value between 0-1. \n",
    "2. The sum of probabilities of all possible outcomes must have a probability = 1. \n",
    "3. The probability that an event does not occur is 1 - the probability that the event does occur. \n",
    "    - Complement Rule: $ P(A) + P(A ') = 1 $\n",
    "4. If two events are mutually exclusive, the probability that 1 or the other occurs is the sum of their individual probabilities. \n",
    "    - Addition Rule: $P(A \\cup B) = P(A) + P(B)$"
   ]
  },
  {
   "cell_type": "markdown",
   "metadata": {
    "slideshow": {
     "slide_type": "subslide"
    }
   },
   "source": [
    "#### Addition Rule Example: \n",
    "1. 🎲 If you're playing craps in Vegas, the chance of rolling a 7 or 11 in a single throw in the number of combinations that sum to 7 or 11 divided by the total number of combinations that can be thrown \n",
    "$ P(7 \\cup 11) = P(7) + P(11) = \\frac{6}{36} \\ + \\frac{2}{36} \\\\ $\n",
    "\n",
    "2. If the events are NOT mutually exclusive: $P( A \\cup B) = P(A) + P(B) - P(A \\cap B)$\n",
    "<details>\n",
    "    <summary>What is the probability of drawing an ACE or ♠️?</summary> \n",
    "$ P(Ace \\cup ♠️ ) = \\frac{4}{52} \\ + \\frac{13}{52} \\ - \\frac{1}{52} \\\\ $\n",
    "</details> \n"
   ]
  },
  {
   "cell_type": "markdown",
   "metadata": {
    "slideshow": {
     "slide_type": "subslide"
    }
   },
   "source": [
    "#### Multiplication Rule: \n",
    "When considering the logical AND, the probability that events A & B will both occur, we must determine whether those events are mutually exclusive, independent or dependent. \n",
    "1. For mutually exclusive events: $P(A \\cap B)$ = 0\n",
    "2. For independent events: $P(A \\cap B)$ = $P(A) * P(B)$ \n",
    "\n",
    "</br> _Example:_ \n",
    "    <details>\n",
    "        <summary>A card is chosen at random from a deck of 52 cards. It is then replaced and a second card is chosen. What is the probability of choosing a jack and then an eight?</summary>\n",
    "   $ P(Jack \\cup 8 ) = \\frac{4}{52} \\ + \\frac{4}{52} \\ = \\frac{1}{169} $\n",
    "    </details>\n"
   ]
  },
  {
   "cell_type": "markdown",
   "metadata": {
    "slideshow": {
     "slide_type": "subslide"
    }
   },
   "source": [
    "#### Multiplication Rule: _For dependent events_\n",
    "1. $ P(A \\mid B) = \\frac{P(A \\cap B)}{P(B)} $ \n",
    "2. $ P(A \\cap B) = P(B) * P(A \\mid B) $\n",
    "![](https://www.mathsisfun.com/data/images/probability-independent-formula1.svg)\n",
    "\n"
   ]
  },
  {
   "cell_type": "markdown",
   "metadata": {
    "slideshow": {
     "slide_type": "subslide"
    }
   },
   "source": [
    "_Multiplication Rule Example 1:_\n",
    "\n",
    "1. $ P(King \\cap King) = P(King) * P(King \\mid King) = $\n",
    "$ \\frac{4}{52} \\ * \\frac{3}{51} \\ $\n",
    "\n",
    "\n"
   ]
  },
  {
   "cell_type": "markdown",
   "metadata": {
    "slideshow": {
     "slide_type": "subslide"
    }
   },
   "source": [
    "#### Using Tree Diagrams \n",
    "\n",
    "Tree diagrams are helpful for calculating the probability of independent and dependent events. We MULTIPLY probabilities along the branches and we ADD probabilities down columns.\n",
    "\n",
    "The probability of getting at least 1 Head from 2 coin tosses is what? \n",
    "\n",
    "![](https://www.mathsisfun.com/data/images/probability-tree-coin3.svg)"
   ]
  },
  {
   "cell_type": "markdown",
   "metadata": {
    "slideshow": {
     "slide_type": "subslide"
    }
   },
   "source": [
    "_Multiplication Rule Example 2: Using a tree diagram answer the following question._\n",
    "\n",
    "You are in a free throw competition and you get $100 if you can make 1 basket. There are 2 options. First option is, you take 2 shots with a 2/3 probability of making it. The second option is, you take 3 shots with a 1/2 probability of making it. Which option do you choose?"
   ]
  },
  {
   "cell_type": "markdown",
   "metadata": {
    "slideshow": {
     "slide_type": "slide"
    }
   },
   "source": [
    "####   Law of Total Probability \n",
    "It's used to find the probability of an event, A, when you don’t know enough about A’s probabilities to calculate it directly. Instead, you take a related event, B, and use that to calculate the probability for A.\n",
    "\n",
    "$P(A) = P(A \\mid B) P(B) + P(A \\mid B^c)P(B^c)$\n",
    "![](https://www.statisticshowto.com/wp-content/uploads/2016/04/total-probability-rule.png)\n",
    "https://www.statisticshowto.com/total-probability-rule/"
   ]
  },
  {
   "cell_type": "markdown",
   "metadata": {
    "slideshow": {
     "slide_type": "subslide"
    }
   },
   "source": [
    "_Law of total probability example:_\n",
    "\n",
    "80% of people attend their primary care physician regularly; 35% of those people have no health problems crop up during the following year. Out of the 20% of people who don’t see their doctor regularly, only 5% have no health issues during the following year. What is the probability a random person will have no health problems in the following year?\n",
    "\n",
    "![](https://www.statisticshowto.com/wp-content/uploads/2016/04/total-probability-theorem-2.png)\n",
    "\n",
    "For this example, we want the probability a random person will have no health problems. If you look at the graph, the branches leading to “no health problems” are the top branch and the third branch down. The probabilities listed in red are 0.28 and 0.01, so the solution is:\n",
    "0.28 + 0.01 = 0.29."
   ]
  },
  {
   "cell_type": "markdown",
   "metadata": {
    "slideshow": {
     "slide_type": "slide"
    }
   },
   "source": [
    "## Permutations\n",
    "ORDER matters - THINK **P**ermutation **P**osition</br>\n",
    "\n",
    "**An ordering of objects.** $P_{r}^{n}= \\dfrac{n!}{(n-r)!}$\n",
    "\n",
    "n =\ttotal number of objects<br/>\n",
    "r =\thow many ways to choose\n",
    "\n",
    "\n",
    "_Remember factorials:_ n! =  to multiply a series of descending natural numbers. The factorial of n is denoted by n!\n",
    "For n>0,\n",
    "\n",
    "n! = 1×2×3×4×...×n"
   ]
  },
  {
   "cell_type": "markdown",
   "metadata": {
    "slideshow": {
     "slide_type": "subslide"
    }
   },
   "source": [
    "_Permutations Example 1:_\n",
    "\n",
    "What order could 16 pool balls be in? \n",
    "_Without Repition:_ 16! - Our first choice has 16 possibilities; our second choice has 15; our third choice has 14 and so on... "
   ]
  },
  {
   "cell_type": "code",
   "execution_count": null,
   "metadata": {
    "slideshow": {
     "slide_type": "subslide"
    }
   },
   "outputs": [],
   "source": [
    "from math import factorial\n",
    "\n",
    "factorial(16)"
   ]
  },
  {
   "cell_type": "code",
   "execution_count": null,
   "metadata": {
    "slideshow": {
     "slide_type": "fragment"
    }
   },
   "outputs": [],
   "source": [
    "#What if we only want to choose 3 balls... \n",
    "n = 16\n",
    "n_r = 13\n",
    "factorial(n)/factorial(n_r)"
   ]
  },
  {
   "cell_type": "markdown",
   "metadata": {
    "slideshow": {
     "slide_type": "subslide"
    }
   },
   "source": [
    "_Permutations Example 2:_\n",
    "\n",
    "You are trying to break the code - to hack into the mainframe, and stop the KGB from launching US missiles remotely.\n",
    "\n",
    "You know the password is some 5 letter anagram of a subset of the word pochemuchka\n",
    "\n",
    "How many potential passwords are there? i.e., how large is the set of password options?"
   ]
  },
  {
   "cell_type": "code",
   "execution_count": null,
   "metadata": {
    "slideshow": {
     "slide_type": "subslide"
    }
   },
   "outputs": [],
   "source": [
    "from itertools import permutations"
   ]
  },
  {
   "cell_type": "code",
   "execution_count": null,
   "metadata": {
    "slideshow": {
     "slide_type": "fragment"
    }
   },
   "outputs": [],
   "source": [
    "x = list(permutations(\"pochemuchka\", 5))"
   ]
  },
  {
   "cell_type": "code",
   "execution_count": null,
   "metadata": {
    "slideshow": {
     "slide_type": "fragment"
    }
   },
   "outputs": [],
   "source": [
    "len(x)"
   ]
  },
  {
   "cell_type": "code",
   "execution_count": null,
   "metadata": {
    "slideshow": {
     "slide_type": "fragment"
    }
   },
   "outputs": [],
   "source": [
    "11 * 10 * 9 * 8 * 7"
   ]
  },
  {
   "cell_type": "code",
   "execution_count": null,
   "metadata": {
    "slideshow": {
     "slide_type": "fragment"
    }
   },
   "outputs": [],
   "source": [
    "len(set(x))"
   ]
  },
  {
   "cell_type": "markdown",
   "metadata": {
    "slideshow": {
     "slide_type": "slide"
    }
   },
   "source": [
    "## Combinations\n",
    "**Order is not important** \n",
    "$C_{k}^{n}= \\dfrac{n!}{(n-k)!*k!}$\n",
    "\n",
    "We take the same permutations formula but since order doesn't matter - we can just reduce it by how many ways the objects could be in order. "
   ]
  },
  {
   "cell_type": "markdown",
   "metadata": {
    "slideshow": {
     "slide_type": "subslide"
    }
   },
   "source": [
    "#### Card Problems\n",
    "\n",
    "1. Count the number of possible five-card hands that can be dealt from a standard deck of 52 cards\n",
    "2. Count the number of ways that a particular type of poker hand can occur\n",
    "3. The probability of being dealt any particular type of hand is equal to the number of ways it can occur divided by the total number of possible five-card hands.\n",
    "\n",
    "Consider dealing a hand of five playing cards. An individual card has a rank and suit, like 'J♥' for the Jack of Hearts, and a deck has 52 cards:\n"
   ]
  },
  {
   "cell_type": "markdown",
   "metadata": {
    "slideshow": {
     "slide_type": "subslide"
    }
   },
   "source": [
    "**Now determine:** <br/>\n",
    "a. the probability of getting dealt 3 of a kind in 5-card poker <br/>\n",
    "b. the probability of getting a pair in 5-card poker <br/>\n",
    "c. the probability of getting a full-house in 5-card poker "
   ]
  },
  {
   "cell_type": "markdown",
   "metadata": {
    "slideshow": {
     "slide_type": "subslide"
    }
   },
   "source": [
    "**More Examples:**\n",
    "1. If there are 10 people on a committee. How many ways are there of choosing a President, Vice President and Secretary?\n",
    "\n",
    "2. If there are 30 people on your tennis team, how many ways could you choose 2 co-captains?\n",
    "\n",
    "3. If a board has 10 women and 7 men, how many ways can you form a committee containing 4 members such that:\n",
    "a. All 4 are men?\n",
    "b. 2 are men 2 are women?\n",
    "c. At least 1 is a woman?"
   ]
  },
  {
   "cell_type": "code",
   "execution_count": null,
   "metadata": {},
   "outputs": [],
   "source": []
  }
 ],
 "metadata": {
  "celltoolbar": "Slideshow",
  "kernelspec": {
   "display_name": "learn-env",
   "language": "python",
   "name": "learn-env"
  },
  "language_info": {
   "codemirror_mode": {
    "name": "ipython",
    "version": 3
   },
   "file_extension": ".py",
   "mimetype": "text/x-python",
   "name": "python",
   "nbconvert_exporter": "python",
   "pygments_lexer": "ipython3",
   "version": "3.8.5"
  }
 },
 "nbformat": 4,
 "nbformat_minor": 4
}
