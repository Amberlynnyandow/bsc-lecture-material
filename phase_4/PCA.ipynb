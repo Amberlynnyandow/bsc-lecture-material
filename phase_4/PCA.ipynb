{
 "cells": [
  {
   "cell_type": "markdown",
   "metadata": {},
   "source": [
    "# Principle Component Analysis "
   ]
  },
  {
   "cell_type": "markdown",
   "metadata": {},
   "source": [
    "## Objectives\n",
    "\n",
    "### **What** is PCA? \n",
    "- Set-up example problem with shipping costs data \n",
    "- Walk thru simple PCA problem start to finish \n",
    "\n",
    "### **Why** do we need PCA? \n",
    "- Discuss advantages/disadvantages of PCA \n",
    "- When would you want to use PCA? \n",
    "\n",
    "### **How** do we apply PCA to a data problem using sci-kit learn? \n",
    "- Apply each step in PCA manually to shipping data \n",
    "- Model shipping data with PCA components \n",
    "- Walk-thru a second example with cars data and pipelines "
   ]
  },
  {
   "cell_type": "code",
   "execution_count": 1,
   "metadata": {},
   "outputs": [],
   "source": [
    "import pandas as pd\n",
    "import numpy as np\n",
    "import seaborn as sns\n",
    "import matplotlib.pyplot as plt\n",
    "plt.style.use('fivethirtyeight')\n",
    "%matplotlib inline\n",
    "\n",
    "from sklearn.preprocessing import StandardScaler, OneHotEncoder\n",
    "from sklearn.impute import SimpleImputer\n",
    "from sklearn.compose import ColumnTransformer\n",
    "from sklearn.pipeline import Pipeline\n",
    "from sklearn.model_selection import train_test_split\n",
    "from sklearn.linear_model import LinearRegression\n",
    "from sklearn.decomposition import PCA"
   ]
  },
  {
   "cell_type": "markdown",
   "metadata": {},
   "source": [
    "# Scenario: Shipping Costs\n",
    "Let's say that we want to predict the cost to ship a package based on its properties.\n",
    "\n",
    "White board walk-thru..."
   ]
  },
  {
   "cell_type": "markdown",
   "metadata": {},
   "source": [
    "## Pros, cons and use cases of PCA \n"
   ]
  },
  {
   "cell_type": "markdown",
   "metadata": {},
   "source": [
    "> PCA is a feature extraction technique typically used to reduce dimensionality(Can you think of another one?). It combines our input variables in a way that allows us to drop the 'least important' variables while still retaining the most valuable parts. \n",
    "\n",
    "**More features** = More dimensions --> Overfitting "
   ]
  },
  {
   "cell_type": "markdown",
   "metadata": {},
   "source": [
    "### When to use it? \n",
    "1. When you want to eliminate features but are unsure which ones to remove.  \n",
    "2. You want to create independent variables.  \n",
    "3. Interpretability is not a priority. "
   ]
  },
  {
   "cell_type": "code",
   "execution_count": 2,
   "metadata": {},
   "outputs": [
    {
     "data": {
      "text/html": [
       "<div>\n",
       "<style scoped>\n",
       "    .dataframe tbody tr th:only-of-type {\n",
       "        vertical-align: middle;\n",
       "    }\n",
       "\n",
       "    .dataframe tbody tr th {\n",
       "        vertical-align: top;\n",
       "    }\n",
       "\n",
       "    .dataframe thead th {\n",
       "        text-align: right;\n",
       "    }\n",
       "</style>\n",
       "<table border=\"1\" class=\"dataframe\">\n",
       "  <thead>\n",
       "    <tr style=\"text-align: right;\">\n",
       "      <th></th>\n",
       "      <th>Shipping Cost ($)</th>\n",
       "      <th>Length (in)</th>\n",
       "      <th>Width (in)</th>\n",
       "      <th>Height (in)</th>\n",
       "      <th>Weight (lb)</th>\n",
       "      <th>Distance (mi)</th>\n",
       "    </tr>\n",
       "  </thead>\n",
       "  <tbody>\n",
       "    <tr>\n",
       "      <th>0</th>\n",
       "      <td>24</td>\n",
       "      <td>36</td>\n",
       "      <td>32</td>\n",
       "      <td>9</td>\n",
       "      <td>18</td>\n",
       "      <td>1079</td>\n",
       "    </tr>\n",
       "    <tr>\n",
       "      <th>1</th>\n",
       "      <td>38</td>\n",
       "      <td>41</td>\n",
       "      <td>31</td>\n",
       "      <td>12</td>\n",
       "      <td>18</td>\n",
       "      <td>1797</td>\n",
       "    </tr>\n",
       "    <tr>\n",
       "      <th>2</th>\n",
       "      <td>38</td>\n",
       "      <td>34</td>\n",
       "      <td>34</td>\n",
       "      <td>15</td>\n",
       "      <td>24</td>\n",
       "      <td>1722</td>\n",
       "    </tr>\n",
       "    <tr>\n",
       "      <th>3</th>\n",
       "      <td>20</td>\n",
       "      <td>32</td>\n",
       "      <td>22</td>\n",
       "      <td>8</td>\n",
       "      <td>8</td>\n",
       "      <td>461</td>\n",
       "    </tr>\n",
       "    <tr>\n",
       "      <th>4</th>\n",
       "      <td>24</td>\n",
       "      <td>37</td>\n",
       "      <td>24</td>\n",
       "      <td>14</td>\n",
       "      <td>19</td>\n",
       "      <td>491</td>\n",
       "    </tr>\n",
       "    <tr>\n",
       "      <th>5</th>\n",
       "      <td>21</td>\n",
       "      <td>32</td>\n",
       "      <td>20</td>\n",
       "      <td>3</td>\n",
       "      <td>6</td>\n",
       "      <td>1029</td>\n",
       "    </tr>\n",
       "    <tr>\n",
       "      <th>6</th>\n",
       "      <td>27</td>\n",
       "      <td>33</td>\n",
       "      <td>23</td>\n",
       "      <td>7</td>\n",
       "      <td>11</td>\n",
       "      <td>945</td>\n",
       "    </tr>\n",
       "    <tr>\n",
       "      <th>7</th>\n",
       "      <td>31</td>\n",
       "      <td>40</td>\n",
       "      <td>31</td>\n",
       "      <td>16</td>\n",
       "      <td>22</td>\n",
       "      <td>1649</td>\n",
       "    </tr>\n",
       "    <tr>\n",
       "      <th>8</th>\n",
       "      <td>30</td>\n",
       "      <td>37</td>\n",
       "      <td>28</td>\n",
       "      <td>12</td>\n",
       "      <td>20</td>\n",
       "      <td>1310</td>\n",
       "    </tr>\n",
       "    <tr>\n",
       "      <th>9</th>\n",
       "      <td>26</td>\n",
       "      <td>29</td>\n",
       "      <td>29</td>\n",
       "      <td>11</td>\n",
       "      <td>11</td>\n",
       "      <td>161</td>\n",
       "    </tr>\n",
       "  </tbody>\n",
       "</table>\n",
       "</div>"
      ],
      "text/plain": [
       "   Shipping Cost ($)  Length (in)  Width (in)  Height (in)  Weight (lb)  \\\n",
       "0                 24           36          32            9           18   \n",
       "1                 38           41          31           12           18   \n",
       "2                 38           34          34           15           24   \n",
       "3                 20           32          22            8            8   \n",
       "4                 24           37          24           14           19   \n",
       "5                 21           32          20            3            6   \n",
       "6                 27           33          23            7           11   \n",
       "7                 31           40          31           16           22   \n",
       "8                 30           37          28           12           20   \n",
       "9                 26           29          29           11           11   \n",
       "\n",
       "   Distance (mi)  \n",
       "0           1079  \n",
       "1           1797  \n",
       "2           1722  \n",
       "3            461  \n",
       "4            491  \n",
       "5           1029  \n",
       "6            945  \n",
       "7           1649  \n",
       "8           1310  \n",
       "9            161  "
      ]
     },
     "execution_count": 2,
     "metadata": {},
     "output_type": "execute_result"
    }
   ],
   "source": [
    "packages = pd.read_csv('data/packages.csv')\n",
    "packages.head(10)"
   ]
  },
  {
   "cell_type": "markdown",
   "metadata": {},
   "source": [
    "## Revisting Dimensionality\n",
    "You can think about each variable as a dimension, and thus each package as a data point. If we take just one feature, we can easily visualize this in 2 dimensional space"
   ]
  },
  {
   "cell_type": "code",
   "execution_count": 3,
   "metadata": {},
   "outputs": [
    {
     "data": {
      "image/png": "[encoded data removed]",
      "text/plain": [
       "<Figure size 432x288 with 1 Axes>"
      ]
     },
     "metadata": {},
     "output_type": "display_data"
    }
   ],
   "source": [
    "plt.style.use('fivethirtyeight')\n",
    "packages.plot(kind='scatter', y='Shipping Cost ($)', x='Length (in)');"
   ]
  },
  {
   "cell_type": "markdown",
   "metadata": {},
   "source": [
    "> You can think of each package as a point in six-dimensional space - 5 dimensions for our features and 1 for our target."
   ]
  },
  {
   "cell_type": "markdown",
   "metadata": {},
   "source": [
    "## Remember Correlation and Covariance Matrices?\n",
    "The first four features in this dataset all relate to package size, so we might expect them to be strongly related."
   ]
  },
  {
   "cell_type": "code",
   "execution_count": 4,
   "metadata": {},
   "outputs": [
    {
     "data": {
      "image/png": "[encoded data removed]",
      "text/plain": [
       "<Figure size 432x288 with 2 Axes>"
      ]
     },
     "metadata": {},
     "output_type": "display_data"
    }
   ],
   "source": [
    "sns.heatmap(packages.corr(),\n",
    "            annot=True,\n",
    "            fmt='0.2g',\n",
    "            vmin=-1,\n",
    "            vmax=1,\n",
    "            center=0,\n",
    "            cmap='coolwarm');"
   ]
  },
  {
   "cell_type": "markdown",
   "metadata": {},
   "source": [
    "PCA does not use this correlation matrix, which is conveniently scaled between -1 and 1. Rather, it uses the covariance matrix, which is scaled in square units of the original variables. This makes PCA very sensitive to the scale of the variables."
   ]
  },
  {
   "cell_type": "code",
   "execution_count": 5,
   "metadata": {},
   "outputs": [
    {
     "data": {
      "image/png": "[encoded data removed]",
      "text/plain": [
       "<Figure size 576x360 with 2 Axes>"
      ]
     },
     "metadata": {},
     "output_type": "display_data"
    }
   ],
   "source": [
    "f, ax = plt.subplots(figsize=(8, 5))\n",
    "ax = sns.heatmap(packages.cov(),\n",
    "            annot=True,\n",
    "            fmt='0.2g',\n",
    "            center=0,\n",
    "            cmap='coolwarm');"
   ]
  },
  {
   "cell_type": "markdown",
   "metadata": {},
   "source": [
    "Let's normalize our variables to mean = 0 & SD = 1, which will make our covariance matrix equal the correlation matrix."
   ]
  },
  {
   "cell_type": "code",
   "execution_count": 6,
   "metadata": {},
   "outputs": [
    {
     "data": {
      "image/png": "[encoded data removed]",
      "text/plain": [
       "<Figure size 432x288 with 2 Axes>"
      ]
     },
     "metadata": {},
     "output_type": "display_data"
    }
   ],
   "source": [
    "packages_scaled = (packages - packages.mean())/packages.std()\n",
    "sns.heatmap(packages_scaled.cov(),\n",
    "            annot=True,\n",
    "            fmt='0.2g',\n",
    "            center=0,\n",
    "            cmap='coolwarm');"
   ]
  },
  {
   "cell_type": "markdown",
   "metadata": {},
   "source": [
    "Notice that, for the centered data matrix $X$, the covariance matrix $C$ is equal to $\\frac{1}{n-1}X^TX$:"
   ]
  },
  {
   "cell_type": "code",
   "execution_count": 7,
   "metadata": {},
   "outputs": [
    {
     "data": {
      "text/html": [
       "<div>\n",
       "<style scoped>\n",
       "    .dataframe tbody tr th:only-of-type {\n",
       "        vertical-align: middle;\n",
       "    }\n",
       "\n",
       "    .dataframe tbody tr th {\n",
       "        vertical-align: top;\n",
       "    }\n",
       "\n",
       "    .dataframe thead th {\n",
       "        text-align: right;\n",
       "    }\n",
       "</style>\n",
       "<table border=\"1\" class=\"dataframe\">\n",
       "  <thead>\n",
       "    <tr style=\"text-align: right;\">\n",
       "      <th></th>\n",
       "      <th>Shipping Cost ($)</th>\n",
       "      <th>Length (in)</th>\n",
       "      <th>Width (in)</th>\n",
       "      <th>Height (in)</th>\n",
       "      <th>Weight (lb)</th>\n",
       "      <th>Distance (mi)</th>\n",
       "    </tr>\n",
       "  </thead>\n",
       "  <tbody>\n",
       "    <tr>\n",
       "      <th>Shipping Cost ($)</th>\n",
       "      <td>1.000000</td>\n",
       "      <td>0.826989</td>\n",
       "      <td>0.849963</td>\n",
       "      <td>0.800307</td>\n",
       "      <td>0.774526</td>\n",
       "      <td>0.266277</td>\n",
       "    </tr>\n",
       "    <tr>\n",
       "      <th>Length (in)</th>\n",
       "      <td>0.826989</td>\n",
       "      <td>1.000000</td>\n",
       "      <td>0.862847</td>\n",
       "      <td>0.746525</td>\n",
       "      <td>0.738311</td>\n",
       "      <td>0.026250</td>\n",
       "    </tr>\n",
       "    <tr>\n",
       "      <th>Width (in)</th>\n",
       "      <td>0.849963</td>\n",
       "      <td>0.862847</td>\n",
       "      <td>1.000000</td>\n",
       "      <td>0.837949</td>\n",
       "      <td>0.747395</td>\n",
       "      <td>0.017698</td>\n",
       "    </tr>\n",
       "    <tr>\n",
       "      <th>Height (in)</th>\n",
       "      <td>0.800307</td>\n",
       "      <td>0.746525</td>\n",
       "      <td>0.837949</td>\n",
       "      <td>1.000000</td>\n",
       "      <td>0.861819</td>\n",
       "      <td>-0.032043</td>\n",
       "    </tr>\n",
       "    <tr>\n",
       "      <th>Weight (lb)</th>\n",
       "      <td>0.774526</td>\n",
       "      <td>0.738311</td>\n",
       "      <td>0.747395</td>\n",
       "      <td>0.861819</td>\n",
       "      <td>1.000000</td>\n",
       "      <td>-0.024568</td>\n",
       "    </tr>\n",
       "    <tr>\n",
       "      <th>Distance (mi)</th>\n",
       "      <td>0.266277</td>\n",
       "      <td>0.026250</td>\n",
       "      <td>0.017698</td>\n",
       "      <td>-0.032043</td>\n",
       "      <td>-0.024568</td>\n",
       "      <td>1.000000</td>\n",
       "    </tr>\n",
       "  </tbody>\n",
       "</table>\n",
       "</div>"
      ],
      "text/plain": [
       "                   Shipping Cost ($)  Length (in)  Width (in)  Height (in)  \\\n",
       "Shipping Cost ($)           1.000000     0.826989    0.849963     0.800307   \n",
       "Length (in)                 0.826989     1.000000    0.862847     0.746525   \n",
       "Width (in)                  0.849963     0.862847    1.000000     0.837949   \n",
       "Height (in)                 0.800307     0.746525    0.837949     1.000000   \n",
       "Weight (lb)                 0.774526     0.738311    0.747395     0.861819   \n",
       "Distance (mi)               0.266277     0.026250    0.017698    -0.032043   \n",
       "\n",
       "                   Weight (lb)  Distance (mi)  \n",
       "Shipping Cost ($)     0.774526       0.266277  \n",
       "Length (in)           0.738311       0.026250  \n",
       "Width (in)            0.747395       0.017698  \n",
       "Height (in)           0.861819      -0.032043  \n",
       "Weight (lb)           1.000000      -0.024568  \n",
       "Distance (mi)        -0.024568       1.000000  "
      ]
     },
     "execution_count": 7,
     "metadata": {},
     "output_type": "execute_result"
    }
   ],
   "source": [
    "packages_scaled.T.dot(packages_scaled) / (len(packages_scaled)-1)"
   ]
  },
  {
   "cell_type": "markdown",
   "metadata": {},
   "source": [
    "> That means that the covariance matrix preserves the information about the spread of our dataset. What we want to do now is to explain that spread, one linear transformation (one **eigenvector**) at a time.\n",
    "\n",
    "Let's try to reduce the dimensionality of our dataset. Since the features capturing size are strongly correlated, we might expect to be able to reduce our feature dimensions down to two without losing much information (i.e. variance in our features)."
   ]
  },
  {
   "cell_type": "markdown",
   "metadata": {},
   "source": [
    "## Eigendecomposition\n",
    "\n",
    "We will use an **eigendecomposition** of the covariance matrix to create a new set of dimensions. We can then decide how many of these dimensions to keep based on how much variance is captured by each dimension.\n",
    "\n",
    "Here, we show you how to do this using the NumPy `.eig()` function, but we will learn how to do PCA more easily in `sklearn` later."
   ]
  },
  {
   "cell_type": "code",
   "execution_count": 8,
   "metadata": {},
   "outputs": [],
   "source": [
    "y_packages_scaled = packages_scaled['Shipping Cost ($)']\n",
    "X_packages_scaled = packages_scaled.drop('Shipping Cost ($)', axis=1)\n",
    "\n",
    "cov_mat = X_packages_scaled.cov().values #array of our covariance values \n",
    "eigvals, eigvecs = np.linalg.eig(cov_mat)"
   ]
  },
  {
   "cell_type": "code",
   "execution_count": 9,
   "metadata": {},
   "outputs": [
    {
     "data": {
      "text/plain": [
       "array([[ 1.        ,  0.86284654,  0.74652451,  0.73831054,  0.02624986],\n",
       "       [ 0.86284654,  1.        ,  0.83794881,  0.74739527,  0.01769847],\n",
       "       [ 0.74652451,  0.83794881,  1.        ,  0.86181886, -0.03204252],\n",
       "       [ 0.73831054,  0.74739527,  0.86181886,  1.        , -0.02456763],\n",
       "       [ 0.02624986,  0.01769847, -0.03204252, -0.02456763,  1.        ]])"
      ]
     },
     "execution_count": 9,
     "metadata": {},
     "output_type": "execute_result"
    }
   ],
   "source": [
    "cov_mat"
   ]
  },
  {
   "cell_type": "markdown",
   "metadata": {},
   "source": [
    "This decomposition gives us two things: eigenvalues and eigenvectors."
   ]
  },
  {
   "cell_type": "markdown",
   "metadata": {},
   "source": [
    "## Eigenvalues\n",
    "Eigenvalues represent the relative amount of variance captured by each new dimension. The average eigenvalue will be 1, so we look for values over 1 to identify dimensions that capture more variance than average."
   ]
  },
  {
   "cell_type": "code",
   "execution_count": 10,
   "metadata": {},
   "outputs": [
    {
     "data": {
      "text/plain": [
       "array([3.39821068, 1.00381562, 0.3338863 , 0.08609481, 0.17799259])"
      ]
     },
     "execution_count": 10,
     "metadata": {},
     "output_type": "execute_result"
    }
   ],
   "source": [
    "eigvals"
   ]
  },
  {
   "cell_type": "markdown",
   "metadata": {},
   "source": [
    "> It looks like we have one great dimension capturing 3.4x more variance than average, one OK dimension capturing an average amount of variance, and three other dimensions that don't capture much variance. This is in line with what we were expecting! It means that we can just use the first two dimensions - and drop the last three - without losing much variance/information from our predictors."
   ]
  },
  {
   "cell_type": "markdown",
   "metadata": {},
   "source": [
    "### Proportion of Variance\n",
    "You can also divide your eigenvalues by the number of features and then interpret them as the proportion of variance in the features captured by each dimension."
   ]
  },
  {
   "cell_type": "code",
   "execution_count": 11,
   "metadata": {},
   "outputs": [
    {
     "data": {
      "text/plain": [
       "array([0.67964214, 0.20076312, 0.06677726, 0.01721896, 0.03559852])"
      ]
     },
     "execution_count": 11,
     "metadata": {},
     "output_type": "execute_result"
    }
   ],
   "source": [
    "eigvals/5"
   ]
  },
  {
   "cell_type": "markdown",
   "metadata": {},
   "source": [
    "## Eigenvectors (aka Principal Components)\n",
    "Eigenvectors represent the new dimensions, which we call principal components when doing PCA. There is one eigenvector for each dimension, and they are all combined together into one matrix."
   ]
  },
  {
   "cell_type": "code",
   "execution_count": 12,
   "metadata": {},
   "outputs": [
    {
     "data": {
      "text/plain": [
       "array([[ 0.49219397,  0.04575099, -0.58937372,  0.39011986,  0.50606033],\n",
       "       [ 0.50780159,  0.03152634, -0.38635373, -0.59429315, -0.48855918],\n",
       "       [ 0.5075545 , -0.03825687,  0.38501594,  0.58895092, -0.49580679],\n",
       "       [ 0.49220305, -0.03337828,  0.59133959, -0.38424744,  0.50920864],\n",
       "       [-0.00268878,  0.9971636 ,  0.07382155,  0.01062355, -0.00974944]])"
      ]
     },
     "execution_count": 12,
     "metadata": {},
     "output_type": "execute_result"
    }
   ],
   "source": [
    "eigvecs"
   ]
  },
  {
   "cell_type": "markdown",
   "metadata": {},
   "source": [
    "In PCA, the values in our eigenvectors are called component weights, and they tell us how much variance of each feature is captured by that dimension. These weights range from -1 to 1, but the relative sizes are what matter."
   ]
  },
  {
   "cell_type": "markdown",
   "metadata": {},
   "source": [
    "### Orthogonality\n",
    "These eigenvectors are orthogonal, meaning their dot product is zero. Think of it like being at right angles, like the x and y axes of a graph, but in higher-dimensional space."
   ]
  },
  {
   "cell_type": "code",
   "execution_count": 13,
   "metadata": {},
   "outputs": [
    {
     "data": {
      "text/plain": [
       "-8.326672684688674e-17"
      ]
     },
     "execution_count": 13,
     "metadata": {},
     "output_type": "execute_result"
    }
   ],
   "source": [
    "eigvec1 = eigvecs[:, 0]\n",
    "eigvec2 = eigvecs[:, 1]\n",
    "eigvec1.dot(eigvec2)"
   ]
  },
  {
   "cell_type": "markdown",
   "metadata": {},
   "source": [
    "### First Principal Component\n",
    "The first column of `eigvecs` is our first eigenvector, corresponding to the eigenvalue of 3.4. Let's look at it."
   ]
  },
  {
   "cell_type": "code",
   "execution_count": 14,
   "metadata": {},
   "outputs": [
    {
     "data": {
      "text/plain": [
       "array([ 0.49219397,  0.50780159,  0.5075545 ,  0.49220305, -0.00268878])"
      ]
     },
     "execution_count": 14,
     "metadata": {},
     "output_type": "execute_result"
    }
   ],
   "source": [
    "eigvec1"
   ]
  },
  {
   "cell_type": "markdown",
   "metadata": {},
   "source": [
    "Notice that the first four numbers are relatively large, while the fifth is near zero. This means that this first dimension is almost entirely capturing the shared variance in our four size features, as we hoped! It's also interesting to note that the weights for the four features are almost equal, so they are equally represented in this dimension."
   ]
  },
  {
   "cell_type": "markdown",
   "metadata": {},
   "source": [
    "### Second Principal Component\n",
    "Let's look at our second eigenvector and see what features it seems to be capturing."
   ]
  },
  {
   "cell_type": "code",
   "execution_count": 15,
   "metadata": {},
   "outputs": [
    {
     "data": {
      "text/plain": [
       "array([ 0.04575099,  0.03152634, -0.03825687, -0.03337828,  0.9971636 ])"
      ]
     },
     "execution_count": 15,
     "metadata": {},
     "output_type": "execute_result"
    }
   ],
   "source": [
    "eigvec2"
   ]
  },
  {
   "cell_type": "markdown",
   "metadata": {},
   "source": [
    "Looks like it is almost entirely capturing the distance dimension, which makes sense, since that is not related to the package size at all. It has an eigenvalue of 1, which is appropriate, since the eigenvector only captures one feature, which wasn't captured at all in the first principal component."
   ]
  },
  {
   "cell_type": "markdown",
   "metadata": {},
   "source": [
    "### Remaining Principal Components\n",
    "Since the remaining eigenvalues were all much less than 1, we can ignore the eigenvectors associated with them. We will not include components corresponding to them in our model."
   ]
  },
  {
   "cell_type": "markdown",
   "metadata": {},
   "source": [
    "## Sidebar: Properties of Eigenvectors\n",
    "These eigenvectors have **unit length** (length 1) in multi-dimensional space."
   ]
  },
  {
   "cell_type": "code",
   "execution_count": 16,
   "metadata": {},
   "outputs": [
    {
     "data": {
      "text/plain": [
       "0.9999999999999999"
      ]
     },
     "execution_count": 16,
     "metadata": {},
     "output_type": "execute_result"
    }
   ],
   "source": [
    "#sum of the sinular values \n",
    "np.linalg.norm(eigvec1)"
   ]
  },
  {
   "cell_type": "markdown",
   "metadata": {},
   "source": [
    "Eigenvectors are related to eigenvalues by the following property: $\\vec{x}$ is an eigenvector of the matrix $A$ if $A\\vec{x} = \\lambda\\vec{x}$, for some eigenvalue $\\lambda$."
   ]
  },
  {
   "cell_type": "code",
   "execution_count": 17,
   "metadata": {},
   "outputs": [
    {
     "data": {
      "text/plain": [
       "array([ 1.67257881,  1.72561679,  1.72477713,  1.67260965, -0.00913704])"
      ]
     },
     "execution_count": 17,
     "metadata": {},
     "output_type": "execute_result"
    }
   ],
   "source": [
    "cov_mat.dot(eigvec1)"
   ]
  },
  {
   "cell_type": "code",
   "execution_count": 18,
   "metadata": {},
   "outputs": [
    {
     "data": {
      "text/plain": [
       "array([ 1.67257881,  1.72561679,  1.72477713,  1.67260965, -0.00913704])"
      ]
     },
     "execution_count": 18,
     "metadata": {},
     "output_type": "execute_result"
    }
   ],
   "source": [
    "eigval1 = eigvals[0]\n",
    "eigval1*eigvec1"
   ]
  },
  {
   "cell_type": "markdown",
   "metadata": {},
   "source": [
    "## Transforming Data\n",
    "We will now use these principal components to create new features. These features will be weighted sums (aka linear combinations) of existing features, using the component weights from the eigenvectors."
   ]
  },
  {
   "cell_type": "markdown",
   "metadata": {},
   "source": [
    "### First Component\n",
    "We will now create a new feature using the first principal component."
   ]
  },
  {
   "cell_type": "code",
   "execution_count": 19,
   "metadata": {},
   "outputs": [
    {
     "data": {
      "text/plain": [
       "array([ 0.49219397,  0.50780159,  0.5075545 ,  0.49220305, -0.00268878])"
      ]
     },
     "execution_count": 19,
     "metadata": {},
     "output_type": "execute_result"
    }
   ],
   "source": [
    "eigvec1"
   ]
  },
  {
   "cell_type": "markdown",
   "metadata": {},
   "source": [
    "Our first feature will be calculated as follows:\n",
    "\n",
    "**PC1** = 0.492 * Length + 0.508 * Width + 0.508 * Height + 0.492 * Weight - 0.003 * Distance\n",
    "\n",
    "We use a dot product between the data and the eigenvector to do the arithmetic for us."
   ]
  },
  {
   "cell_type": "code",
   "execution_count": 20,
   "metadata": {},
   "outputs": [
    {
     "data": {
      "text/html": [
       "<div>\n",
       "<style scoped>\n",
       "    .dataframe tbody tr th:only-of-type {\n",
       "        vertical-align: middle;\n",
       "    }\n",
       "\n",
       "    .dataframe tbody tr th {\n",
       "        vertical-align: top;\n",
       "    }\n",
       "\n",
       "    .dataframe thead th {\n",
       "        text-align: right;\n",
       "    }\n",
       "</style>\n",
       "<table border=\"1\" class=\"dataframe\">\n",
       "  <thead>\n",
       "    <tr style=\"text-align: right;\">\n",
       "      <th></th>\n",
       "      <th>PC1</th>\n",
       "    </tr>\n",
       "  </thead>\n",
       "  <tbody>\n",
       "    <tr>\n",
       "      <th>0</th>\n",
       "      <td>1.192513</td>\n",
       "    </tr>\n",
       "    <tr>\n",
       "      <th>1</th>\n",
       "      <td>1.688493</td>\n",
       "    </tr>\n",
       "    <tr>\n",
       "      <th>2</th>\n",
       "      <td>2.234645</td>\n",
       "    </tr>\n",
       "    <tr>\n",
       "      <th>3</th>\n",
       "      <td>-0.290959</td>\n",
       "    </tr>\n",
       "    <tr>\n",
       "      <th>4</th>\n",
       "      <td>1.414106</td>\n",
       "    </tr>\n",
       "  </tbody>\n",
       "</table>\n",
       "</div>"
      ],
      "text/plain": [
       "        PC1\n",
       "0  1.192513\n",
       "1  1.688493\n",
       "2  2.234645\n",
       "3 -0.290959\n",
       "4  1.414106"
      ]
     },
     "execution_count": 20,
     "metadata": {},
     "output_type": "execute_result"
    }
   ],
   "source": [
    "data_array = X_packages_scaled.values\n",
    "pc1 = data_array.dot(eigvec1)\n",
    "X_packages_pca = pd.DataFrame(data = pc1, columns=['PC1'])\n",
    "X_packages_pca.head()"
   ]
  },
  {
   "cell_type": "markdown",
   "metadata": {},
   "source": [
    "### All Components\n",
    "\n",
    "You can calculate all the new features at once using a dot product with the `eigvecs` matrix, which has all the eigenvectors in it."
   ]
  },
  {
   "cell_type": "code",
   "execution_count": 21,
   "metadata": {},
   "outputs": [
    {
     "data": {
      "text/html": [
       "<div>\n",
       "<style scoped>\n",
       "    .dataframe tbody tr th:only-of-type {\n",
       "        vertical-align: middle;\n",
       "    }\n",
       "\n",
       "    .dataframe tbody tr th {\n",
       "        vertical-align: top;\n",
       "    }\n",
       "\n",
       "    .dataframe thead th {\n",
       "        text-align: right;\n",
       "    }\n",
       "</style>\n",
       "<table border=\"1\" class=\"dataframe\">\n",
       "  <thead>\n",
       "    <tr style=\"text-align: right;\">\n",
       "      <th></th>\n",
       "      <th>PC1</th>\n",
       "      <th>PC2</th>\n",
       "      <th>PC3</th>\n",
       "      <th>PC4</th>\n",
       "      <th>PC5</th>\n",
       "    </tr>\n",
       "  </thead>\n",
       "  <tbody>\n",
       "    <tr>\n",
       "      <th>0</th>\n",
       "      <td>1.192513</td>\n",
       "      <td>-0.011650</td>\n",
       "      <td>-0.407876</td>\n",
       "      <td>-0.588424</td>\n",
       "      <td>0.163901</td>\n",
       "    </tr>\n",
       "    <tr>\n",
       "      <th>1</th>\n",
       "      <td>1.688493</td>\n",
       "      <td>1.205932</td>\n",
       "      <td>-0.317144</td>\n",
       "      <td>0.041075</td>\n",
       "      <td>0.133948</td>\n",
       "    </tr>\n",
       "    <tr>\n",
       "      <th>2</th>\n",
       "      <td>2.234645</td>\n",
       "      <td>1.006587</td>\n",
       "      <td>0.664870</td>\n",
       "      <td>-0.348741</td>\n",
       "      <td>-0.253999</td>\n",
       "    </tr>\n",
       "    <tr>\n",
       "      <th>3</th>\n",
       "      <td>-0.290959</td>\n",
       "      <td>-1.061686</td>\n",
       "      <td>-0.735155</td>\n",
       "      <td>0.266194</td>\n",
       "      <td>-0.092025</td>\n",
       "    </tr>\n",
       "    <tr>\n",
       "      <th>4</th>\n",
       "      <td>1.414106</td>\n",
       "      <td>-1.079541</td>\n",
       "      <td>0.265270</td>\n",
       "      <td>0.496291</td>\n",
       "      <td>0.181112</td>\n",
       "    </tr>\n",
       "    <tr>\n",
       "      <th>5</th>\n",
       "      <td>-1.061393</td>\n",
       "      <td>-0.051879</td>\n",
       "      <td>-1.143796</td>\n",
       "      <td>-0.110168</td>\n",
       "      <td>0.380225</td>\n",
       "    </tr>\n",
       "    <tr>\n",
       "      <th>6</th>\n",
       "      <td>-0.100198</td>\n",
       "      <td>-0.235135</td>\n",
       "      <td>-0.611887</td>\n",
       "      <td>-0.027946</td>\n",
       "      <td>0.206453</td>\n",
       "    </tr>\n",
       "    <tr>\n",
       "      <th>7</th>\n",
       "      <td>2.330934</td>\n",
       "      <td>0.899571</td>\n",
       "      <td>0.360289</td>\n",
       "      <td>0.285432</td>\n",
       "      <td>-0.051032</td>\n",
       "    </tr>\n",
       "    <tr>\n",
       "      <th>8</th>\n",
       "      <td>1.476768</td>\n",
       "      <td>0.340101</td>\n",
       "      <td>0.126462</td>\n",
       "      <td>-0.034181</td>\n",
       "      <td>0.239101</td>\n",
       "    </tr>\n",
       "    <tr>\n",
       "      <th>9</th>\n",
       "      <td>0.456826</td>\n",
       "      <td>-1.600189</td>\n",
       "      <td>-0.406495</td>\n",
       "      <td>-0.071489</td>\n",
       "      <td>-0.692824</td>\n",
       "    </tr>\n",
       "  </tbody>\n",
       "</table>\n",
       "</div>"
      ],
      "text/plain": [
       "        PC1       PC2       PC3       PC4       PC5\n",
       "0  1.192513 -0.011650 -0.407876 -0.588424  0.163901\n",
       "1  1.688493  1.205932 -0.317144  0.041075  0.133948\n",
       "2  2.234645  1.006587  0.664870 -0.348741 -0.253999\n",
       "3 -0.290959 -1.061686 -0.735155  0.266194 -0.092025\n",
       "4  1.414106 -1.079541  0.265270  0.496291  0.181112\n",
       "5 -1.061393 -0.051879 -1.143796 -0.110168  0.380225\n",
       "6 -0.100198 -0.235135 -0.611887 -0.027946  0.206453\n",
       "7  2.330934  0.899571  0.360289  0.285432 -0.051032\n",
       "8  1.476768  0.340101  0.126462 -0.034181  0.239101\n",
       "9  0.456826 -1.600189 -0.406495 -0.071489 -0.692824"
      ]
     },
     "execution_count": 21,
     "metadata": {},
     "output_type": "execute_result"
    }
   ],
   "source": [
    "pcs = data_array.dot(eigvecs)\n",
    "X_packages_pca = pd.DataFrame(data = pcs, columns=['PC1', 'PC2', 'PC3', 'PC4', 'PC5'])\n",
    "X_packages_pca.head(10)"
   ]
  },
  {
   "cell_type": "markdown",
   "metadata": {},
   "source": [
    "## Feature Correlations\n",
    "Because we used eigenvectors to construct our new features, we have completely solved any multicollinearity issues. This is because the eigenvectors define new, uncorrelated dimensions:"
   ]
  },
  {
   "cell_type": "code",
   "execution_count": 22,
   "metadata": {},
   "outputs": [
    {
     "data": {
      "image/png": "[encoded data removed]",
      "text/plain": [
       "<Figure size 432x288 with 2 Axes>"
      ]
     },
     "metadata": {},
     "output_type": "display_data"
    }
   ],
   "source": [
    "sns.heatmap(X_packages_pca.corr(),\n",
    "            annot=True,\n",
    "            fmt='0.2g',\n",
    "            vmin=-1,\n",
    "            vmax=1,\n",
    "            center=0,\n",
    "            cmap= 'coolwarm');"
   ]
  },
  {
   "cell_type": "markdown",
   "metadata": {},
   "source": [
    "## PCA in `sklearn`"
   ]
  },
  {
   "cell_type": "code",
   "execution_count": 23,
   "metadata": {},
   "outputs": [],
   "source": [
    "pca = PCA(n_components=2) # Check out how `n_components` works\n",
    "\n",
    "X_packages_pca2 = pca.fit_transform(X_packages_scaled)"
   ]
  },
  {
   "cell_type": "code",
   "execution_count": 24,
   "metadata": {},
   "outputs": [
    {
     "data": {
      "text/plain": [
       "array([3.39821068, 1.00381562])"
      ]
     },
     "execution_count": 24,
     "metadata": {},
     "output_type": "execute_result"
    }
   ],
   "source": [
    "#what is this? \n",
    "pca.explained_variance_"
   ]
  },
  {
   "cell_type": "code",
   "execution_count": 25,
   "metadata": {},
   "outputs": [
    {
     "data": {
      "text/plain": [
       "array([0.67964214, 0.20076312])"
      ]
     },
     "execution_count": 25,
     "metadata": {},
     "output_type": "execute_result"
    }
   ],
   "source": [
    "pca.explained_variance_ratio_"
   ]
  },
  {
   "cell_type": "markdown",
   "metadata": {},
   "source": [
    "Sometimes the signs get flipped on the eigenvectors - don't worry about it. Think of \"up\" and \"down\" as both representing the same dimension, just in opposite directions."
   ]
  },
  {
   "cell_type": "code",
   "execution_count": 26,
   "metadata": {},
   "outputs": [
    {
     "data": {
      "text/plain": [
       "array([[-0.49219397, -0.50780159, -0.5075545 , -0.49220305,  0.00268878],\n",
       "       [-0.04575099, -0.03152634,  0.03825687,  0.03337828, -0.9971636 ]])"
      ]
     },
     "execution_count": 26,
     "metadata": {},
     "output_type": "execute_result"
    }
   ],
   "source": [
    "pca.components_"
   ]
  },
  {
   "cell_type": "markdown",
   "metadata": {},
   "source": [
    "## Modeling\n",
    "Then you can use your transformed data as you would in any model\n",
    "Now let's compare linear regression without PCA to linear regression with PCA. \n",
    "\n",
    "Note that we are skipping the validation process with these models - we'll do that later."
   ]
  },
  {
   "cell_type": "code",
   "execution_count": 27,
   "metadata": {},
   "outputs": [
    {
     "data": {
      "text/plain": [
       "0.8551465133243148"
      ]
     },
     "execution_count": 27,
     "metadata": {},
     "output_type": "execute_result"
    }
   ],
   "source": [
    "#lr no PCA \n",
    "lr = LinearRegression()\n",
    "lr.fit(X_packages_scaled, y_packages_scaled)\n",
    "lr.score(X_packages_scaled, y_packages_scaled)"
   ]
  },
  {
   "cell_type": "code",
   "execution_count": 28,
   "metadata": {},
   "outputs": [
    {
     "data": {
      "text/plain": [
       "0.8520244462637743"
      ]
     },
     "execution_count": 28,
     "metadata": {},
     "output_type": "execute_result"
    }
   ],
   "source": [
    "#lr with PCA \n",
    "lr_pca = LinearRegression()\n",
    "lr_pca.fit(X_packages_pca2, y_packages_scaled)\n",
    "lr_pca.score(X_packages_pca2, y_packages_scaled)"
   ]
  },
  {
   "cell_type": "markdown",
   "metadata": {},
   "source": [
    "# Scenario: Car Properties\n",
    "Use PCA to reduce the dimensionality of features in the example below: Predict car mpg using car properties. We've done the data prep. Now you practice the modeling, including scoring on the test set."
   ]
  },
  {
   "cell_type": "markdown",
   "metadata": {},
   "source": [
    "## Data Prep"
   ]
  },
  {
   "cell_type": "code",
   "execution_count": 30,
   "metadata": {},
   "outputs": [],
   "source": [
    "cars = pd.read_csv('data/cars.csv')"
   ]
  },
  {
   "cell_type": "code",
   "execution_count": 31,
   "metadata": {},
   "outputs": [
    {
     "data": {
      "text/html": [
       "<div>\n",
       "<style scoped>\n",
       "    .dataframe tbody tr th:only-of-type {\n",
       "        vertical-align: middle;\n",
       "    }\n",
       "\n",
       "    .dataframe tbody tr th {\n",
       "        vertical-align: top;\n",
       "    }\n",
       "\n",
       "    .dataframe thead th {\n",
       "        text-align: right;\n",
       "    }\n",
       "</style>\n",
       "<table border=\"1\" class=\"dataframe\">\n",
       "  <thead>\n",
       "    <tr style=\"text-align: right;\">\n",
       "      <th></th>\n",
       "      <th>mpg</th>\n",
       "      <th>cylinders</th>\n",
       "      <th>cubicinches</th>\n",
       "      <th>hp</th>\n",
       "      <th>weightlbs</th>\n",
       "      <th>time-to-60</th>\n",
       "      <th>year</th>\n",
       "      <th>brand</th>\n",
       "    </tr>\n",
       "  </thead>\n",
       "  <tbody>\n",
       "    <tr>\n",
       "      <th>0</th>\n",
       "      <td>14.0</td>\n",
       "      <td>8</td>\n",
       "      <td>350</td>\n",
       "      <td>165</td>\n",
       "      <td>4209</td>\n",
       "      <td>12</td>\n",
       "      <td>1972</td>\n",
       "      <td>US.</td>\n",
       "    </tr>\n",
       "    <tr>\n",
       "      <th>1</th>\n",
       "      <td>31.9</td>\n",
       "      <td>4</td>\n",
       "      <td>89</td>\n",
       "      <td>71</td>\n",
       "      <td>1925</td>\n",
       "      <td>14</td>\n",
       "      <td>1980</td>\n",
       "      <td>Europe.</td>\n",
       "    </tr>\n",
       "    <tr>\n",
       "      <th>2</th>\n",
       "      <td>17.0</td>\n",
       "      <td>8</td>\n",
       "      <td>302</td>\n",
       "      <td>140</td>\n",
       "      <td>3449</td>\n",
       "      <td>11</td>\n",
       "      <td>1971</td>\n",
       "      <td>US.</td>\n",
       "    </tr>\n",
       "    <tr>\n",
       "      <th>3</th>\n",
       "      <td>15.0</td>\n",
       "      <td>8</td>\n",
       "      <td>400</td>\n",
       "      <td>150</td>\n",
       "      <td>3761</td>\n",
       "      <td>10</td>\n",
       "      <td>1971</td>\n",
       "      <td>US.</td>\n",
       "    </tr>\n",
       "    <tr>\n",
       "      <th>4</th>\n",
       "      <td>30.5</td>\n",
       "      <td>4</td>\n",
       "      <td>98</td>\n",
       "      <td>63</td>\n",
       "      <td>2051</td>\n",
       "      <td>17</td>\n",
       "      <td>1978</td>\n",
       "      <td>US.</td>\n",
       "    </tr>\n",
       "  </tbody>\n",
       "</table>\n",
       "</div>"
      ],
      "text/plain": [
       "    mpg   cylinders  cubicinches   hp  weightlbs   time-to-60   year     brand\n",
       "0  14.0           8          350  165       4209           12   1972       US.\n",
       "1  31.9           4           89   71       1925           14   1980   Europe.\n",
       "2  17.0           8          302  140       3449           11   1971       US.\n",
       "3  15.0           8          400  150       3761           10   1971       US.\n",
       "4  30.5           4           98   63       2051           17   1978       US."
      ]
     },
     "execution_count": 31,
     "metadata": {},
     "output_type": "execute_result"
    }
   ],
   "source": [
    "cars.head()"
   ]
  },
  {
   "cell_type": "code",
   "execution_count": 32,
   "metadata": {},
   "outputs": [
    {
     "name": "stdout",
     "output_type": "stream",
     "text": [
      "<class 'pandas.core.frame.DataFrame'>\n",
      "RangeIndex: 261 entries, 0 to 260\n",
      "Data columns (total 8 columns):\n",
      " #   Column        Non-Null Count  Dtype  \n",
      "---  ------        --------------  -----  \n",
      " 0   mpg           261 non-null    float64\n",
      " 1    cylinders    261 non-null    int64  \n",
      " 2    cubicinches  261 non-null    object \n",
      " 3    hp           261 non-null    int64  \n",
      " 4    weightlbs    261 non-null    object \n",
      " 5    time-to-60   261 non-null    int64  \n",
      " 6    year         261 non-null    int64  \n",
      " 7    brand        261 non-null    object \n",
      "dtypes: float64(1), int64(4), object(3)\n",
      "memory usage: 16.4+ KB\n"
     ]
    }
   ],
   "source": [
    "cars.info()"
   ]
  },
  {
   "cell_type": "code",
   "execution_count": 33,
   "metadata": {},
   "outputs": [],
   "source": [
    "cars[' cubicinches'].replace(' ', np.nan, inplace=True)\n",
    "cars[' cubicinches'] = cars[' cubicinches'].astype(float)"
   ]
  },
  {
   "cell_type": "code",
   "execution_count": 34,
   "metadata": {},
   "outputs": [],
   "source": [
    "cars[' weightlbs'].replace(' ', np.nan, inplace=True)\n",
    "cars[' weightlbs'] = cars[' weightlbs'].astype(float)"
   ]
  },
  {
   "cell_type": "code",
   "execution_count": 35,
   "metadata": {},
   "outputs": [],
   "source": [
    "X_train, X_test, y_train, y_test = train_test_split(cars.drop('mpg', axis=1),\n",
    "                                                    cars['mpg'],\n",
    "                                                   random_state=20)"
   ]
  },
  {
   "cell_type": "code",
   "execution_count": 36,
   "metadata": {},
   "outputs": [],
   "source": [
    "ct1 = ColumnTransformer(transformers=[\n",
    "    ('imputer', SimpleImputer(), [1, 3])],\n",
    "    remainder='passthrough')"
   ]
  },
  {
   "cell_type": "code",
   "execution_count": 37,
   "metadata": {},
   "outputs": [],
   "source": [
    "ct2 = ColumnTransformer(transformers=[\n",
    "    ('scaler', StandardScaler(), [0, 1, 2, 3, 4, 5]),\n",
    "    ('ohe', OneHotEncoder(), [6])],\n",
    "    remainder='passthrough')"
   ]
  },
  {
   "cell_type": "code",
   "execution_count": 38,
   "metadata": {},
   "outputs": [],
   "source": [
    "pipe = Pipeline(steps=[\n",
    "    ('ct1', ct1),\n",
    "    ('ct2', ct2)\n",
    "])"
   ]
  },
  {
   "cell_type": "code",
   "execution_count": 39,
   "metadata": {},
   "outputs": [
    {
     "data": {
      "text/plain": [
       "Pipeline(steps=[('ct1',\n",
       "                 ColumnTransformer(remainder='passthrough',\n",
       "                                   transformers=[('imputer', SimpleImputer(),\n",
       "                                                  [1, 3])])),\n",
       "                ('ct2',\n",
       "                 ColumnTransformer(remainder='passthrough',\n",
       "                                   transformers=[('scaler', StandardScaler(),\n",
       "                                                  [0, 1, 2, 3, 4, 5]),\n",
       "                                                 ('ohe', OneHotEncoder(),\n",
       "                                                  [6])]))])"
      ]
     },
     "execution_count": 39,
     "metadata": {},
     "output_type": "execute_result"
    }
   ],
   "source": [
    "pipe.fit(X_train)"
   ]
  },
  {
   "cell_type": "code",
   "execution_count": 40,
   "metadata": {},
   "outputs": [],
   "source": [
    "X_tr_pp = pipe.transform(X_train)\n",
    "X_te_pp = pipe.transform(X_test)"
   ]
  },
  {
   "cell_type": "markdown",
   "metadata": {},
   "source": [
    "## Your Model"
   ]
  },
  {
   "cell_type": "code",
   "execution_count": 42,
   "metadata": {},
   "outputs": [
    {
     "name": "stdout",
     "output_type": "stream",
     "text": [
      "0.8194994945551486\n",
      "0.7735358857922057\n"
     ]
    }
   ],
   "source": [
    "#fit linear regression model and score on training and testing data \n",
    "## Let's start with a linear regression\n",
    "lr = LinearRegression().fit(X_tr_pp, y_train)\n",
    "## Score on train\n",
    "print(lr.score(X_tr_pp, y_train))\n",
    "## Score on test\n",
    "print(lr.score(X_te_pp, y_test))"
   ]
  },
  {
   "cell_type": "markdown",
   "metadata": {},
   "source": [
    "<details>\n",
    "    <summary>\n",
    "        No peeking until you've tried it out first!\n",
    "    </summary>\n",
    "<code>\n",
    "## Let's start with a linear regression\n",
    "lr = LinearRegression().fit(X_tr_pp, y_train)\n",
    "## Score on train\n",
    "lr.score(X_tr_pp, y_train)\n",
    "## Score on test\n",
    "lr.score(X_te_pp, y_test)\n",
    "    </code>\n",
    "</details>"
   ]
  },
  {
   "cell_type": "code",
   "execution_count": 43,
   "metadata": {},
   "outputs": [
    {
     "data": {
      "text/plain": [
       "array([ 2.17732336, -4.6448535 , -1.55471557, -1.15449626, -0.26656104,\n",
       "        2.60363016,  0.70774264,  0.91202361, -1.61976625])"
      ]
     },
     "execution_count": 43,
     "metadata": {},
     "output_type": "execute_result"
    }
   ],
   "source": [
    "# Get the coefficients of the best-fit hyperplane\n",
    "\n",
    "lr.coef_"
   ]
  },
  {
   "cell_type": "markdown",
   "metadata": {},
   "source": [
    "Thus, our best-fit hyperplane is given by:\n",
    "\n",
    "$2.177\\times in^3\\_sd - 4.645\\times lbs.\\_sd - 1.555\\times cyl\\_sd - 1.154\\times hp\\_sd -  0.267\\times time_{60}\\_sd + 2.604\\times yr\\_sd + 0.708\\times brand_{Europe} + 0.912\\times brand_{Japan} - 1.620\\times brand_{US}$"
   ]
  },
  {
   "cell_type": "code",
   "execution_count": 44,
   "metadata": {},
   "outputs": [
    {
     "data": {
      "text/plain": [
       "Index(['mpg', ' cylinders', ' cubicinches', ' hp', ' weightlbs', ' time-to-60',\n",
       "       ' year', ' brand'],\n",
       "      dtype='object')"
      ]
     },
     "execution_count": 44,
     "metadata": {},
     "output_type": "execute_result"
    }
   ],
   "source": [
    "cars.columns"
   ]
  },
  {
   "cell_type": "code",
   "execution_count": 45,
   "metadata": {},
   "outputs": [],
   "source": [
    "cars_pca = PCA(n_components=3) \n",
    "\n",
    "X_train_new = cars_pca.fit_transform(X_tr_pp)\n",
    "X_test_new = cars_pca.transform(X_te_pp)"
   ]
  },
  {
   "cell_type": "code",
   "execution_count": 46,
   "metadata": {},
   "outputs": [
    {
     "data": {
      "text/plain": [
       "array([[ 0.46506451,  0.43518467,  0.44943159,  0.45378187, -0.34911855,\n",
       "        -0.18689228, -0.06760958, -0.07285705,  0.14046662],\n",
       "       [-0.09930756, -0.19558568, -0.1307369 ,  0.00607634, -0.12532964,\n",
       "        -0.93748658,  0.12914047,  0.02246622, -0.15160669],\n",
       "       [ 0.14145019,  0.34167073,  0.18676559, -0.14371985,  0.8507263 ,\n",
       "        -0.23865846,  0.04252368, -0.13151308,  0.08898941]])"
      ]
     },
     "execution_count": 46,
     "metadata": {},
     "output_type": "execute_result"
    }
   ],
   "source": [
    "cars_pca.components_"
   ]
  },
  {
   "cell_type": "markdown",
   "metadata": {},
   "source": [
    "The results of our PCA are as follows:\n",
    "\n",
    "1. **PC1** = 0.465 * cubicinches_sd + 0.435 * weightlbs_sd + 0.449 * cylinders_sd + 0.454 * hp_sd - 0.349 * time-to-60_sd - 0.187 * year_sd - 0.068 * Europe - 0.073 * Japan + 0.140 * US\n",
    "\n",
    "2. **PC2** = -0.099 * cubicinches_sd - 0.196 * weightlbs_sd - 0.131 * cylinders_sd + 0.006 * hp_sd - 0.125 * time-to-60_sd - 0.937 * year_sd + 0.129 * Europe + 0.022 * Japan - 0.152 * US\n",
    "\n",
    "3. **PC3** = 0.141 * cubicinches_sd + 0.342 * weightlbs_sd + 0.187 * cylinders_sd - 0.144 * hp_sd + 0.851 * time-to-60_sd - 0.239 * year_sd + 0.043 * Europe - 0.132 * Japan + 0.089 * US"
   ]
  },
  {
   "cell_type": "markdown",
   "metadata": {},
   "source": [
    "### Modeling with New Dimensions\n",
    "Now that we have optimized our features, we can build a new model with them!"
   ]
  },
  {
   "cell_type": "code",
   "execution_count": 47,
   "metadata": {},
   "outputs": [
    {
     "data": {
      "text/plain": [
       "0.7943370879818065"
      ]
     },
     "execution_count": 47,
     "metadata": {},
     "output_type": "execute_result"
    }
   ],
   "source": [
    "lr_pca = LinearRegression()\n",
    "lr_pca.fit(X_train_new, y_train)\n",
    "lr_pca.score(X_train_new, y_train)"
   ]
  },
  {
   "cell_type": "code",
   "execution_count": 48,
   "metadata": {},
   "outputs": [],
   "source": [
    "X_test_new = cars_pca.transform(X_te_pp)"
   ]
  },
  {
   "cell_type": "code",
   "execution_count": 49,
   "metadata": {},
   "outputs": [
    {
     "data": {
      "text/plain": [
       "0.716300851467498"
      ]
     },
     "execution_count": 49,
     "metadata": {},
     "output_type": "execute_result"
    }
   ],
   "source": [
    "lr_pca.score(X_test_new, y_test)"
   ]
  },
  {
   "cell_type": "code",
   "execution_count": 50,
   "metadata": {},
   "outputs": [
    {
     "data": {
      "text/plain": [
       "array([-2.96675854, -1.16151928, -2.48560914])"
      ]
     },
     "execution_count": 50,
     "metadata": {},
     "output_type": "execute_result"
    }
   ],
   "source": [
    "lr_pca.coef_"
   ]
  },
  {
   "cell_type": "markdown",
   "metadata": {},
   "source": [
    "Thus, our best-fit hyperplane is given by:\n",
    "\n",
    "$-2.967\\times PC1 - 1.162\\times PC2 -2.486\\times PC3$"
   ]
  },
  {
   "cell_type": "markdown",
   "metadata": {},
   "source": [
    "## Reassembling the whole dataset for the sake of visualization\n"
   ]
  },
  {
   "cell_type": "code",
   "execution_count": 51,
   "metadata": {},
   "outputs": [],
   "source": [
    "X_transformed = np.vstack([X_train_new, X_test_new])\n",
    "y_new = np.concatenate([y_train, y_test])"
   ]
  },
  {
   "cell_type": "code",
   "execution_count": 52,
   "metadata": {},
   "outputs": [
    {
     "data": {
      "text/html": [
       "<div>\n",
       "<style scoped>\n",
       "    .dataframe tbody tr th:only-of-type {\n",
       "        vertical-align: middle;\n",
       "    }\n",
       "\n",
       "    .dataframe tbody tr th {\n",
       "        vertical-align: top;\n",
       "    }\n",
       "\n",
       "    .dataframe thead th {\n",
       "        text-align: right;\n",
       "    }\n",
       "</style>\n",
       "<table border=\"1\" class=\"dataframe\">\n",
       "  <thead>\n",
       "    <tr style=\"text-align: right;\">\n",
       "      <th></th>\n",
       "      <th>PC1</th>\n",
       "      <th>PC2</th>\n",
       "      <th>PC3</th>\n",
       "      <th>y</th>\n",
       "    </tr>\n",
       "  </thead>\n",
       "  <tbody>\n",
       "    <tr>\n",
       "      <th>0</th>\n",
       "      <td>-1.964657</td>\n",
       "      <td>-0.799510</td>\n",
       "      <td>-0.120081</td>\n",
       "      <td>31.3</td>\n",
       "    </tr>\n",
       "    <tr>\n",
       "      <th>1</th>\n",
       "      <td>-2.697423</td>\n",
       "      <td>1.117819</td>\n",
       "      <td>1.210028</td>\n",
       "      <td>26.0</td>\n",
       "    </tr>\n",
       "    <tr>\n",
       "      <th>2</th>\n",
       "      <td>-1.521356</td>\n",
       "      <td>1.870060</td>\n",
       "      <td>-0.475974</td>\n",
       "      <td>30.0</td>\n",
       "    </tr>\n",
       "    <tr>\n",
       "      <th>3</th>\n",
       "      <td>4.196965</td>\n",
       "      <td>1.192402</td>\n",
       "      <td>-1.005452</td>\n",
       "      <td>14.0</td>\n",
       "    </tr>\n",
       "    <tr>\n",
       "      <th>4</th>\n",
       "      <td>2.851495</td>\n",
       "      <td>0.150932</td>\n",
       "      <td>0.227496</td>\n",
       "      <td>15.0</td>\n",
       "    </tr>\n",
       "  </tbody>\n",
       "</table>\n",
       "</div>"
      ],
      "text/plain": [
       "        PC1       PC2       PC3     y\n",
       "0 -1.964657 -0.799510 -0.120081  31.3\n",
       "1 -2.697423  1.117819  1.210028  26.0\n",
       "2 -1.521356  1.870060 -0.475974  30.0\n",
       "3  4.196965  1.192402 -1.005452  14.0\n",
       "4  2.851495  0.150932  0.227496  15.0"
      ]
     },
     "execution_count": 52,
     "metadata": {},
     "output_type": "execute_result"
    }
   ],
   "source": [
    "df = pd.DataFrame(np.hstack([X_transformed, y_new[:, np.newaxis]]),\n",
    "                  columns=['PC1', 'PC2', 'PC3', 'y'])\n",
    "df.head()"
   ]
  },
  {
   "cell_type": "code",
   "execution_count": 53,
   "metadata": {},
   "outputs": [
    {
     "data": {
      "image/png": "[encoded data removed]",
      "text/plain": [
       "<Figure size 428.15x360 with 1 Axes>"
      ]
     },
     "metadata": {},
     "output_type": "display_data"
    }
   ],
   "source": [
    "plt.style.use('fivethirtyeight')\n",
    "sns.relplot(data=df,\n",
    "            x='PC1',\n",
    "            y='PC2',\n",
    "           hue='y');"
   ]
  },
  {
   "cell_type": "code",
   "execution_count": 54,
   "metadata": {},
   "outputs": [
    {
     "data": {
      "image/png": "[encoded data removed]",
      "text/plain": [
       "<Figure size 432x288 with 1 Axes>"
      ]
     },
     "metadata": {},
     "output_type": "display_data"
    }
   ],
   "source": [
    "plt.plot(np.cumsum(cars_pca.explained_variance_ratio_))\n",
    "plt.xlabel('number of components')\n",
    "plt.ylabel('cumulative explained variance');"
   ]
  },
  {
   "cell_type": "code",
   "execution_count": 55,
   "metadata": {},
   "outputs": [
    {
     "data": {
      "image/png": "[encoded data removed]",
      "text/plain": [
       "<Figure size 864x432 with 2 Axes>"
      ]
     },
     "metadata": {},
     "output_type": "display_data"
    }
   ],
   "source": [
    "plt.figure(figsize=(12, 6))\n",
    "sns.heatmap(cars_pca.components_, cmap='plasma');"
   ]
  },
  {
   "cell_type": "markdown",
   "metadata": {},
   "source": [
    "# Review \n",
    "1. How does PCA accomplish dimensionality reduction? \n",
    "2. When do you want to use PCA? \n",
    "3. Which variables have the greatest influence on PCA? \n",
    "4. Can you define what a loading; an eigenvalue and an eigenvector are? "
   ]
  },
  {
   "cell_type": "code",
   "execution_count": null,
   "metadata": {},
   "outputs": [],
   "source": []
  }
 ],
 "metadata": {
  "kernelspec": {
   "display_name": "learn-env",
   "language": "python",
   "name": "learn-env"
  },
  "language_info": {
   "codemirror_mode": {
    "name": "ipython",
    "version": 3
   },
   "file_extension": ".py",
   "mimetype": "text/x-python",
   "name": "python",
   "nbconvert_exporter": "python",
   "pygments_lexer": "ipython3",
   "version": "3.8.5"
  }
 },
 "nbformat": 4,
 "nbformat_minor": 4
}
