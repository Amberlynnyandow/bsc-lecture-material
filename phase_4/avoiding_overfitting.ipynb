{
 "cells": [
  {
   "cell_type": "markdown",
   "metadata": {
    "toc": true
   },
   "source": [
    "<h1>Table of Contents<span class=\"tocSkip\"></span></h1>\n",
    "<div class=\"toc\"><ul class=\"toc-item\"><li><span><a href=\"#Worrying-About-Overfitting\" data-toc-modified-id=\"Worrying-About-Overfitting-1\"><span class=\"toc-item-num\">1&nbsp;&nbsp;</span>Worrying About Overfitting</a></span><ul class=\"toc-item\"><li><span><a href=\"#Use-Train-Validation-Test\" data-toc-modified-id=\"Use-Train-Validation-Test-1.1\"><span class=\"toc-item-num\">1.1&nbsp;&nbsp;</span>Use Train-Validation-Test</a></span></li><li><span><a href=\"#Model-Complexity-Graph\" data-toc-modified-id=\"Model-Complexity-Graph-1.2\"><span class=\"toc-item-num\">1.2&nbsp;&nbsp;</span>Model Complexity Graph</a></span><ul class=\"toc-item\"><li><span><a href=\"#Early-Stopping\" data-toc-modified-id=\"Early-Stopping-1.2.1\"><span class=\"toc-item-num\">1.2.1&nbsp;&nbsp;</span>Early Stopping</a></span></li></ul></li></ul></li><li><span><a href=\"#When-a-Good-Model-Goes-Bad\" data-toc-modified-id=\"When-a-Good-Model-Goes-Bad-2\"><span class=\"toc-item-num\">2&nbsp;&nbsp;</span>When a Good Model Goes Bad</a></span><ul class=\"toc-item\"><li><span><a href=\"#L1-Regularization---Absolute-Value\" data-toc-modified-id=\"L1-Regularization---Absolute-Value-2.1\"><span class=\"toc-item-num\">2.1&nbsp;&nbsp;</span>L1 Regularization - Absolute Value</a></span></li><li><span><a href=\"#L2-Regularization---Squared-Value\" data-toc-modified-id=\"L2-Regularization---Squared-Value-2.2\"><span class=\"toc-item-num\">2.2&nbsp;&nbsp;</span>L2 Regularization - Squared Value</a></span></li><li><span><a href=\"#Comparing-L1-&amp;-L2-Regularization\" data-toc-modified-id=\"Comparing-L1-&amp;-L2-Regularization-2.3\"><span class=\"toc-item-num\">2.3&nbsp;&nbsp;</span>Comparing L1 &amp; L2 Regularization</a></span></li><li><span><a href=\"#Code-Implementation\" data-toc-modified-id=\"Code-Implementation-2.4\"><span class=\"toc-item-num\">2.4&nbsp;&nbsp;</span>Code Implementation</a></span><ul class=\"toc-item\"><li><span><a href=\"#Overcomplicated-Model\" data-toc-modified-id=\"Overcomplicated-Model-2.4.1\"><span class=\"toc-item-num\">2.4.1&nbsp;&nbsp;</span>Overcomplicated Model</a></span></li><li><span><a href=\"#Regulated-Model\" data-toc-modified-id=\"Regulated-Model-2.4.2\"><span class=\"toc-item-num\">2.4.2&nbsp;&nbsp;</span>Regulated Model</a></span></li></ul></li></ul></li><li><span><a href=\"#Dropout\" data-toc-modified-id=\"Dropout-3\"><span class=\"toc-item-num\">3&nbsp;&nbsp;</span>Dropout</a></span><ul class=\"toc-item\"><li><span><a href=\"#Avoiding-the-Self-Perpetuating-Strength-Training\" data-toc-modified-id=\"Avoiding-the-Self-Perpetuating-Strength-Training-3.1\"><span class=\"toc-item-num\">3.1&nbsp;&nbsp;</span>Avoiding the Self-Perpetuating Strength Training</a></span></li><li><span><a href=\"#Example-Code\" data-toc-modified-id=\"Example-Code-3.2\"><span class=\"toc-item-num\">3.2&nbsp;&nbsp;</span>Example Code</a></span></li></ul></li></ul></div>"
   ]
  },
  {
   "cell_type": "code",
   "execution_count": 1,
   "metadata": {},
   "outputs": [],
   "source": [
    "import numpy as np\n",
    "import matplotlib.pyplot as plt\n",
    "%matplotlib inline\n",
    "plt.style.use('fivethirtyeight')\n",
    "\n",
    "from sklearn.datasets import load_digits\n",
    "from sklearn.model_selection import train_test_split\n",
    "\n",
    "import tensorflow as tf \n",
    "from tensorflow import keras \n",
    "from tensorflow.keras.layers import Dense, Dropout\n",
    "from tensorflow.keras.models import Sequential\n",
    "from tensorflow.keras.callbacks import ModelCheckpoint\n"
   ]
  },
  {
   "cell_type": "markdown",
   "metadata": {
    "heading_collapsed": true
   },
   "source": [
    "# Worrying About Overfitting"
   ]
  },
  {
   "cell_type": "markdown",
   "metadata": {
    "hidden": true
   },
   "source": [
    "A big issue is making sure we don't overfit our model"
   ]
  },
  {
   "cell_type": "markdown",
   "metadata": {
    "heading_collapsed": true,
    "hidden": true
   },
   "source": [
    "## Use Train-Validation-Test"
   ]
  },
  {
   "cell_type": "markdown",
   "metadata": {
    "hidden": true
   },
   "source": [
    "- Think of **training** as what you study for a test\n",
    "- Think of **validation** is using a practice test (note sometimes called **dev**)\n",
    "- Think of **testing** as what you use to judge the model \n",
    "\n",
    "> ***holdout*** is when your test dataset is never used for training (unlike in cross-validation)"
   ]
  },
  {
   "cell_type": "markdown",
   "metadata": {
    "hidden": true
   },
   "source": [
    "> The **validation** & **test** sets should come from the same distribution.\n",
    ">\n",
    "> _Why would this matter?_"
   ]
  },
  {
   "cell_type": "markdown",
   "metadata": {
    "heading_collapsed": true,
    "hidden": true
   },
   "source": [
    "## Model Complexity Graph"
   ]
  },
  {
   "cell_type": "markdown",
   "metadata": {
    "hidden": true
   },
   "source": [
    "- Underfitting\n",
    "    + low complexity --> high bias, low variance\n",
    "    + training error: large\n",
    "    + testing error: large\n",
    "- Overfitting\n",
    "    + high complexity --> low bias, high variance\n",
    "    + training error: low\n",
    "    + testing error: large"
   ]
  },
  {
   "cell_type": "markdown",
   "metadata": {
    "heading_collapsed": true,
    "hidden": true
   },
   "source": [
    "### Early Stopping \n",
    "A widely used regularization technique in deep learning. It stops training when generalization error increases. "
   ]
  },
  {
   "cell_type": "markdown",
   "metadata": {
    "hidden": true
   },
   "source": [
    "Let's first create a model we can play around with:"
   ]
  },
  {
   "cell_type": "code",
   "execution_count": 3,
   "metadata": {
    "hidden": true
   },
   "outputs": [
    {
     "data": {
      "text/plain": [
       "(1797, 10)"
      ]
     },
     "execution_count": 3,
     "metadata": {},
     "output_type": "execute_result"
    }
   ],
   "source": [
    "# Get data to train with\n",
    "digits = load_digits()\n",
    "X = digits.data\n",
    "y = digits.target # Note targets are simply 0-9 associated with class\n",
    "\n",
    "# Convert target to one-hot encoded vector\n",
    "y = keras.utils.to_categorical(y)\n",
    "y.shape"
   ]
  },
  {
   "cell_type": "markdown",
   "metadata": {
    "hidden": true
   },
   "source": [
    "> **NOTE**:\n",
    ">\n",
    "> We could have kept the targets as integers instead of using `to_categorical()` to make\n",
    "> one-hot encoded vectors. In that case we would use [`SparseCategoricalCrossentropy`](https://keras.io/api/losses/probabilistic_losses/#sparsecategoricalcrossentropy-class)\n",
    ">\n",
    "> For more on Keras' different built-in losses, see the documentation: https://keras.io/api/losses/"
   ]
  },
  {
   "cell_type": "code",
   "execution_count": 4,
   "metadata": {
    "hidden": true
   },
   "outputs": [],
   "source": [
    "X_train, X_test, y_train, y_test =\\\n",
    "    train_test_split(X, y, random_state=27, test_size=0.2)\n",
    "\n",
    "X_train, X_valid, y_train, y_valid =\\\n",
    "    train_test_split(X_train, y_train, random_state=27, test_size=0.2)    "
   ]
  },
  {
   "cell_type": "code",
   "execution_count": 6,
   "metadata": {
    "hidden": true
   },
   "outputs": [
    {
     "data": {
      "text/plain": [
       "array([[ 0.,  0.,  9., ...,  0.,  0.,  0.],\n",
       "       [ 0.,  0.,  4., ...,  5.,  0.,  0.],\n",
       "       [ 0.,  0.,  1., ...,  0.,  0.,  0.],\n",
       "       ...,\n",
       "       [ 0.,  0.,  1., ..., 12.,  7.,  0.],\n",
       "       [ 0.,  0.,  9., ...,  0.,  0.,  0.],\n",
       "       [ 0.,  0.,  0., ..., 13.,  0.,  0.]])"
      ]
     },
     "execution_count": 6,
     "metadata": {},
     "output_type": "execute_result"
    }
   ],
   "source": [
    "X_train"
   ]
  },
  {
   "cell_type": "code",
   "execution_count": 7,
   "metadata": {
    "hidden": true
   },
   "outputs": [
    {
     "data": {
      "text/plain": [
       "array([[0., 0., 0., ..., 1., 0., 0.],\n",
       "       [1., 0., 0., ..., 0., 0., 0.],\n",
       "       [0., 0., 0., ..., 1., 0., 0.],\n",
       "       ...,\n",
       "       [0., 0., 0., ..., 0., 0., 0.],\n",
       "       [0., 0., 0., ..., 1., 0., 0.],\n",
       "       [0., 1., 0., ..., 0., 0., 0.]], dtype=float32)"
      ]
     },
     "execution_count": 7,
     "metadata": {},
     "output_type": "execute_result"
    }
   ],
   "source": [
    "y_train"
   ]
  },
  {
   "cell_type": "code",
   "execution_count": 8,
   "metadata": {},
   "outputs": [
    {
     "data": {
      "text/plain": [
       "(1149, 64)"
      ]
     },
     "execution_count": 8,
     "metadata": {},
     "output_type": "execute_result"
    }
   ],
   "source": [
    "X_train.shape"
   ]
  },
  {
   "cell_type": "code",
   "execution_count": 9,
   "metadata": {
    "hidden": true
   },
   "outputs": [],
   "source": [
    "model = Sequential()\n",
    "model.add(Dense(12, activation='relu', input_dim=64))\n",
    "model.add(Dense(10, activation='sigmoid'))\n",
    "\n",
    "# Note we use 'categorical_crossentropy' since target is one-hot encoded\n",
    "model.compile(optimizer='rmsprop',\n",
    "              loss='categorical_crossentropy',\n",
    "              metrics=['accuracy'])\n",
    "\n"
   ]
  },
  {
   "cell_type": "markdown",
   "metadata": {
    "hidden": true
   },
   "source": [
    "We train our model but only keep the best model it comes across. We can do this with a [ModelCheckpoint callback](https://keras.io/callbacks/#modelcheckpoint)"
   ]
  },
  {
   "cell_type": "code",
   "execution_count": 10,
   "metadata": {
    "hidden": true,
    "scrolled": true
   },
   "outputs": [
    {
     "name": "stdout",
     "output_type": "stream",
     "text": [
      "Epoch 1/100\n",
      "36/36 [==============================] - 1s 6ms/step - loss: 6.6368 - accuracy: 0.1218 - val_loss: 3.8057 - val_accuracy: 0.1319\n",
      "Epoch 2/100\n",
      "36/36 [==============================] - 0s 2ms/step - loss: 2.8500 - accuracy: 0.1732 - val_loss: 2.3201 - val_accuracy: 0.1771\n",
      "Epoch 3/100\n",
      "36/36 [==============================] - 0s 2ms/step - loss: 2.1120 - accuracy: 0.2681 - val_loss: 1.9607 - val_accuracy: 0.3229\n",
      "Epoch 4/100\n",
      "36/36 [==============================] - 0s 2ms/step - loss: 1.8184 - accuracy: 0.3760 - val_loss: 1.7422 - val_accuracy: 0.4236\n",
      "Epoch 5/100\n",
      "36/36 [==============================] - 0s 2ms/step - loss: 1.6013 - accuracy: 0.4473 - val_loss: 1.5691 - val_accuracy: 0.4583\n",
      "Epoch 6/100\n",
      "36/36 [==============================] - 0s 2ms/step - loss: 1.4385 - accuracy: 0.4943 - val_loss: 1.4428 - val_accuracy: 0.5035\n",
      "Epoch 7/100\n",
      "36/36 [==============================] - 0s 2ms/step - loss: 1.2985 - accuracy: 0.5440 - val_loss: 1.3514 - val_accuracy: 0.5208\n",
      "Epoch 8/100\n",
      "36/36 [==============================] - 0s 2ms/step - loss: 1.1732 - accuracy: 0.5927 - val_loss: 1.2421 - val_accuracy: 0.5799\n",
      "Epoch 9/100\n",
      "36/36 [==============================] - 0s 2ms/step - loss: 1.0625 - accuracy: 0.6475 - val_loss: 1.1359 - val_accuracy: 0.6250\n",
      "Epoch 10/100\n",
      "36/36 [==============================] - 0s 2ms/step - loss: 0.9683 - accuracy: 0.7050 - val_loss: 1.0459 - val_accuracy: 0.6736\n",
      "Epoch 11/100\n",
      "36/36 [==============================] - 0s 2ms/step - loss: 0.8890 - accuracy: 0.7285 - val_loss: 0.9734 - val_accuracy: 0.6840\n",
      "Epoch 12/100\n",
      "36/36 [==============================] - 0s 2ms/step - loss: 0.8141 - accuracy: 0.7668 - val_loss: 0.9039 - val_accuracy: 0.7014\n",
      "Epoch 13/100\n",
      "36/36 [==============================] - 0s 2ms/step - loss: 0.7514 - accuracy: 0.7859 - val_loss: 0.8385 - val_accuracy: 0.7396\n",
      "Epoch 14/100\n",
      "36/36 [==============================] - 0s 2ms/step - loss: 0.6904 - accuracy: 0.7972 - val_loss: 0.7764 - val_accuracy: 0.7604\n",
      "Epoch 15/100\n",
      "36/36 [==============================] - 0s 2ms/step - loss: 0.6290 - accuracy: 0.8111 - val_loss: 0.7234 - val_accuracy: 0.7986\n",
      "Epoch 16/100\n",
      "36/36 [==============================] - 0s 2ms/step - loss: 0.5696 - accuracy: 0.8259 - val_loss: 0.6911 - val_accuracy: 0.8090\n",
      "Epoch 17/100\n",
      "36/36 [==============================] - 0s 2ms/step - loss: 0.5125 - accuracy: 0.8433 - val_loss: 0.6557 - val_accuracy: 0.8160\n",
      "Epoch 18/100\n",
      "36/36 [==============================] - 0s 2ms/step - loss: 0.4609 - accuracy: 0.8607 - val_loss: 0.6039 - val_accuracy: 0.8299\n",
      "Epoch 19/100\n",
      "36/36 [==============================] - 0s 1ms/step - loss: 0.4216 - accuracy: 0.8747 - val_loss: 0.5759 - val_accuracy: 0.8403\n",
      "Epoch 20/100\n",
      "36/36 [==============================] - 0s 1ms/step - loss: 0.3854 - accuracy: 0.8790 - val_loss: 0.5451 - val_accuracy: 0.8542\n",
      "Epoch 21/100\n",
      "36/36 [==============================] - 0s 1ms/step - loss: 0.3543 - accuracy: 0.8921 - val_loss: 0.5048 - val_accuracy: 0.8646\n",
      "Epoch 22/100\n",
      "36/36 [==============================] - 0s 1ms/step - loss: 0.3258 - accuracy: 0.9060 - val_loss: 0.4936 - val_accuracy: 0.8542\n",
      "Epoch 23/100\n",
      "36/36 [==============================] - 0s 1ms/step - loss: 0.2993 - accuracy: 0.9130 - val_loss: 0.4504 - val_accuracy: 0.8681\n",
      "Epoch 24/100\n",
      "36/36 [==============================] - 0s 1ms/step - loss: 0.2811 - accuracy: 0.9199 - val_loss: 0.4123 - val_accuracy: 0.8785\n",
      "Epoch 25/100\n",
      "36/36 [==============================] - 0s 1ms/step - loss: 0.2654 - accuracy: 0.9173 - val_loss: 0.4106 - val_accuracy: 0.8889\n",
      "Epoch 26/100\n",
      "36/36 [==============================] - 0s 1ms/step - loss: 0.2468 - accuracy: 0.9208 - val_loss: 0.3889 - val_accuracy: 0.8889\n",
      "Epoch 27/100\n",
      "36/36 [==============================] - 0s 1ms/step - loss: 0.2308 - accuracy: 0.9312 - val_loss: 0.3697 - val_accuracy: 0.8924\n",
      "Epoch 28/100\n",
      "36/36 [==============================] - 0s 1ms/step - loss: 0.2198 - accuracy: 0.9304 - val_loss: 0.3734 - val_accuracy: 0.8924\n",
      "Epoch 29/100\n",
      "36/36 [==============================] - 0s 1ms/step - loss: 0.2080 - accuracy: 0.9382 - val_loss: 0.3606 - val_accuracy: 0.8924\n",
      "Epoch 30/100\n",
      "36/36 [==============================] - 0s 1ms/step - loss: 0.1948 - accuracy: 0.9417 - val_loss: 0.3468 - val_accuracy: 0.8993\n",
      "Epoch 31/100\n",
      "36/36 [==============================] - 0s 1ms/step - loss: 0.1872 - accuracy: 0.9469 - val_loss: 0.3443 - val_accuracy: 0.8924\n",
      "Epoch 32/100\n",
      "36/36 [==============================] - 0s 1ms/step - loss: 0.1775 - accuracy: 0.9495 - val_loss: 0.3225 - val_accuracy: 0.9132\n",
      "Epoch 33/100\n",
      "36/36 [==============================] - 0s 1ms/step - loss: 0.1690 - accuracy: 0.9478 - val_loss: 0.3295 - val_accuracy: 0.9201\n",
      "Epoch 34/100\n",
      "36/36 [==============================] - 0s 1ms/step - loss: 0.1623 - accuracy: 0.9513 - val_loss: 0.3369 - val_accuracy: 0.9132\n",
      "Epoch 35/100\n",
      "36/36 [==============================] - 0s 1ms/step - loss: 0.1528 - accuracy: 0.9574 - val_loss: 0.3060 - val_accuracy: 0.9167\n",
      "Epoch 36/100\n",
      "36/36 [==============================] - 0s 1ms/step - loss: 0.1440 - accuracy: 0.9582 - val_loss: 0.3092 - val_accuracy: 0.9132\n",
      "Epoch 37/100\n",
      "36/36 [==============================] - 0s 1ms/step - loss: 0.1358 - accuracy: 0.9608 - val_loss: 0.3050 - val_accuracy: 0.9167\n",
      "Epoch 38/100\n",
      "36/36 [==============================] - 0s 1ms/step - loss: 0.1287 - accuracy: 0.9652 - val_loss: 0.3072 - val_accuracy: 0.9097\n",
      "Epoch 39/100\n",
      "36/36 [==============================] - 0s 1ms/step - loss: 0.1260 - accuracy: 0.9626 - val_loss: 0.2881 - val_accuracy: 0.9201\n",
      "Epoch 40/100\n",
      "36/36 [==============================] - 0s 1ms/step - loss: 0.1203 - accuracy: 0.9634 - val_loss: 0.2679 - val_accuracy: 0.9236\n",
      "Epoch 41/100\n",
      "36/36 [==============================] - 0s 1ms/step - loss: 0.1117 - accuracy: 0.9721 - val_loss: 0.2787 - val_accuracy: 0.9201\n",
      "Epoch 42/100\n",
      "36/36 [==============================] - 0s 1ms/step - loss: 0.1113 - accuracy: 0.9669 - val_loss: 0.2941 - val_accuracy: 0.9167\n",
      "Epoch 43/100\n",
      "36/36 [==============================] - 0s 1ms/step - loss: 0.1050 - accuracy: 0.9695 - val_loss: 0.2715 - val_accuracy: 0.9201\n",
      "Epoch 44/100\n",
      "36/36 [==============================] - 0s 1ms/step - loss: 0.1025 - accuracy: 0.9704 - val_loss: 0.2659 - val_accuracy: 0.9236\n",
      "Epoch 45/100\n",
      "36/36 [==============================] - 0s 1ms/step - loss: 0.0963 - accuracy: 0.9756 - val_loss: 0.2602 - val_accuracy: 0.9236\n",
      "Epoch 46/100\n",
      "36/36 [==============================] - 0s 1ms/step - loss: 0.0940 - accuracy: 0.9782 - val_loss: 0.2648 - val_accuracy: 0.9201\n",
      "Epoch 47/100\n",
      "36/36 [==============================] - 0s 996us/step - loss: 0.0890 - accuracy: 0.9774 - val_loss: 0.2404 - val_accuracy: 0.9236\n",
      "Epoch 48/100\n",
      "36/36 [==============================] - 0s 986us/step - loss: 0.0876 - accuracy: 0.9739 - val_loss: 0.2565 - val_accuracy: 0.9167\n",
      "Epoch 49/100\n",
      "36/36 [==============================] - 0s 989us/step - loss: 0.0839 - accuracy: 0.9782 - val_loss: 0.2350 - val_accuracy: 0.9236\n",
      "Epoch 50/100\n",
      "36/36 [==============================] - 0s 1ms/step - loss: 0.0826 - accuracy: 0.9800 - val_loss: 0.2410 - val_accuracy: 0.9201\n",
      "Epoch 51/100\n",
      "36/36 [==============================] - 0s 985us/step - loss: 0.0792 - accuracy: 0.9791 - val_loss: 0.2455 - val_accuracy: 0.9132\n",
      "Epoch 52/100\n",
      "36/36 [==============================] - 0s 1ms/step - loss: 0.0763 - accuracy: 0.9809 - val_loss: 0.2311 - val_accuracy: 0.9236\n",
      "Epoch 53/100\n",
      "36/36 [==============================] - 0s 1ms/step - loss: 0.0739 - accuracy: 0.9826 - val_loss: 0.2315 - val_accuracy: 0.9167\n",
      "Epoch 54/100\n",
      "36/36 [==============================] - 0s 1ms/step - loss: 0.0727 - accuracy: 0.9826 - val_loss: 0.2387 - val_accuracy: 0.9201\n",
      "Epoch 55/100\n",
      "36/36 [==============================] - 0s 1ms/step - loss: 0.0690 - accuracy: 0.9843 - val_loss: 0.2270 - val_accuracy: 0.9271\n",
      "Epoch 56/100\n",
      "36/36 [==============================] - 0s 1ms/step - loss: 0.0676 - accuracy: 0.9878 - val_loss: 0.2380 - val_accuracy: 0.9271\n",
      "Epoch 57/100\n",
      "36/36 [==============================] - 0s 2ms/step - loss: 0.0655 - accuracy: 0.9878 - val_loss: 0.2297 - val_accuracy: 0.9306\n",
      "Epoch 58/100\n",
      "36/36 [==============================] - 0s 2ms/step - loss: 0.0640 - accuracy: 0.9861 - val_loss: 0.2272 - val_accuracy: 0.9340\n"
     ]
    },
    {
     "name": "stdout",
     "output_type": "stream",
     "text": [
      "Epoch 59/100\n",
      "36/36 [==============================] - 0s 1ms/step - loss: 0.0629 - accuracy: 0.9861 - val_loss: 0.2154 - val_accuracy: 0.9306\n",
      "Epoch 60/100\n",
      "36/36 [==============================] - 0s 2ms/step - loss: 0.0597 - accuracy: 0.9878 - val_loss: 0.2229 - val_accuracy: 0.9271\n",
      "Epoch 61/100\n",
      "36/36 [==============================] - 0s 2ms/step - loss: 0.0600 - accuracy: 0.9869 - val_loss: 0.2225 - val_accuracy: 0.9306\n",
      "Epoch 62/100\n",
      "36/36 [==============================] - 0s 1ms/step - loss: 0.0562 - accuracy: 0.9869 - val_loss: 0.2066 - val_accuracy: 0.9340\n",
      "Epoch 63/100\n",
      "36/36 [==============================] - 0s 2ms/step - loss: 0.0543 - accuracy: 0.9878 - val_loss: 0.1985 - val_accuracy: 0.9340\n",
      "Epoch 64/100\n",
      "36/36 [==============================] - 0s 2ms/step - loss: 0.0553 - accuracy: 0.9878 - val_loss: 0.2017 - val_accuracy: 0.9340\n",
      "Epoch 65/100\n",
      "36/36 [==============================] - 0s 2ms/step - loss: 0.0515 - accuracy: 0.9878 - val_loss: 0.2199 - val_accuracy: 0.9306\n",
      "Epoch 66/100\n",
      "36/36 [==============================] - 0s 2ms/step - loss: 0.0525 - accuracy: 0.9887 - val_loss: 0.2091 - val_accuracy: 0.9306\n",
      "Epoch 67/100\n",
      "36/36 [==============================] - 0s 2ms/step - loss: 0.0506 - accuracy: 0.9887 - val_loss: 0.2222 - val_accuracy: 0.9306\n",
      "Epoch 68/100\n",
      "36/36 [==============================] - 0s 2ms/step - loss: 0.0483 - accuracy: 0.9922 - val_loss: 0.2079 - val_accuracy: 0.9340\n",
      "Epoch 69/100\n",
      "36/36 [==============================] - 0s 2ms/step - loss: 0.0468 - accuracy: 0.9904 - val_loss: 0.2453 - val_accuracy: 0.9306\n",
      "Epoch 70/100\n",
      "36/36 [==============================] - 0s 2ms/step - loss: 0.0468 - accuracy: 0.9887 - val_loss: 0.2196 - val_accuracy: 0.9340\n",
      "Epoch 71/100\n",
      "36/36 [==============================] - 0s 2ms/step - loss: 0.0454 - accuracy: 0.9904 - val_loss: 0.2205 - val_accuracy: 0.9340\n",
      "Epoch 72/100\n",
      "36/36 [==============================] - 0s 2ms/step - loss: 0.0443 - accuracy: 0.9896 - val_loss: 0.2159 - val_accuracy: 0.9306\n",
      "Epoch 73/100\n",
      "36/36 [==============================] - 0s 2ms/step - loss: 0.0415 - accuracy: 0.9904 - val_loss: 0.2211 - val_accuracy: 0.9340\n",
      "Epoch 74/100\n",
      "36/36 [==============================] - 0s 2ms/step - loss: 0.0407 - accuracy: 0.9922 - val_loss: 0.1984 - val_accuracy: 0.9340\n",
      "Epoch 75/100\n",
      "36/36 [==============================] - 0s 2ms/step - loss: 0.0416 - accuracy: 0.9913 - val_loss: 0.1996 - val_accuracy: 0.9306\n",
      "Epoch 76/100\n",
      "36/36 [==============================] - 0s 2ms/step - loss: 0.0399 - accuracy: 0.9922 - val_loss: 0.2094 - val_accuracy: 0.9306\n",
      "Epoch 77/100\n",
      "36/36 [==============================] - 0s 2ms/step - loss: 0.0392 - accuracy: 0.9930 - val_loss: 0.2079 - val_accuracy: 0.9340\n",
      "Epoch 78/100\n",
      "36/36 [==============================] - 0s 1ms/step - loss: 0.0377 - accuracy: 0.9922 - val_loss: 0.2070 - val_accuracy: 0.9306\n",
      "Epoch 79/100\n",
      "36/36 [==============================] - 0s 1ms/step - loss: 0.0361 - accuracy: 0.9948 - val_loss: 0.2043 - val_accuracy: 0.9340\n",
      "Epoch 80/100\n",
      "36/36 [==============================] - 0s 1ms/step - loss: 0.0362 - accuracy: 0.9930 - val_loss: 0.1994 - val_accuracy: 0.9306\n",
      "Epoch 81/100\n",
      "36/36 [==============================] - 0s 1ms/step - loss: 0.0343 - accuracy: 0.9930 - val_loss: 0.2156 - val_accuracy: 0.9306\n",
      "Epoch 82/100\n",
      "36/36 [==============================] - 0s 1ms/step - loss: 0.0332 - accuracy: 0.9956 - val_loss: 0.2143 - val_accuracy: 0.9410\n",
      "Epoch 83/100\n",
      "36/36 [==============================] - 0s 1ms/step - loss: 0.0325 - accuracy: 0.9930 - val_loss: 0.2218 - val_accuracy: 0.9271\n",
      "Epoch 84/100\n",
      "36/36 [==============================] - 0s 1ms/step - loss: 0.0320 - accuracy: 0.9965 - val_loss: 0.2155 - val_accuracy: 0.9306\n",
      "Epoch 85/100\n",
      "36/36 [==============================] - 0s 1ms/step - loss: 0.0296 - accuracy: 0.9948 - val_loss: 0.2166 - val_accuracy: 0.9375\n",
      "Epoch 86/100\n",
      "36/36 [==============================] - 0s 1ms/step - loss: 0.0299 - accuracy: 0.9939 - val_loss: 0.2067 - val_accuracy: 0.9410\n",
      "Epoch 87/100\n",
      "36/36 [==============================] - 0s 1ms/step - loss: 0.0303 - accuracy: 0.9939 - val_loss: 0.2138 - val_accuracy: 0.9375\n",
      "Epoch 88/100\n",
      "36/36 [==============================] - 0s 1ms/step - loss: 0.0283 - accuracy: 0.9939 - val_loss: 0.2099 - val_accuracy: 0.9340\n",
      "Epoch 89/100\n",
      "36/36 [==============================] - 0s 1ms/step - loss: 0.0275 - accuracy: 0.9956 - val_loss: 0.2033 - val_accuracy: 0.9375\n",
      "Epoch 90/100\n",
      "36/36 [==============================] - 0s 1ms/step - loss: 0.0271 - accuracy: 0.9948 - val_loss: 0.2075 - val_accuracy: 0.9340\n",
      "Epoch 91/100\n",
      "36/36 [==============================] - 0s 1ms/step - loss: 0.0267 - accuracy: 0.9965 - val_loss: 0.2047 - val_accuracy: 0.9340\n",
      "Epoch 92/100\n",
      "36/36 [==============================] - 0s 1ms/step - loss: 0.0245 - accuracy: 0.9974 - val_loss: 0.2147 - val_accuracy: 0.9410\n",
      "Epoch 93/100\n",
      "36/36 [==============================] - 0s 1ms/step - loss: 0.0243 - accuracy: 0.9948 - val_loss: 0.2135 - val_accuracy: 0.9375\n",
      "Epoch 94/100\n",
      "36/36 [==============================] - 0s 2ms/step - loss: 0.0242 - accuracy: 0.9948 - val_loss: 0.2108 - val_accuracy: 0.9340\n",
      "Epoch 95/100\n",
      "36/36 [==============================] - 0s 1ms/step - loss: 0.0238 - accuracy: 0.9956 - val_loss: 0.2136 - val_accuracy: 0.9340\n",
      "Epoch 96/100\n",
      "36/36 [==============================] - 0s 1ms/step - loss: 0.0224 - accuracy: 0.9974 - val_loss: 0.2149 - val_accuracy: 0.9410\n",
      "Epoch 97/100\n",
      "36/36 [==============================] - 0s 1ms/step - loss: 0.0209 - accuracy: 0.9974 - val_loss: 0.2216 - val_accuracy: 0.9375\n",
      "Epoch 98/100\n",
      "36/36 [==============================] - 0s 1ms/step - loss: 0.0217 - accuracy: 0.9965 - val_loss: 0.2176 - val_accuracy: 0.9375\n",
      "Epoch 99/100\n",
      "36/36 [==============================] - 0s 1ms/step - loss: 0.0204 - accuracy: 0.9965 - val_loss: 0.2260 - val_accuracy: 0.9375\n",
      "Epoch 100/100\n",
      "36/36 [==============================] - ETA: 0s - loss: 0.0232 - accuracy: 1.00 - 0s 2ms/step - loss: 0.0198 - accuracy: 0.9983 - val_loss: 0.2175 - val_accuracy: 0.9340\n"
     ]
    }
   ],
   "source": [
    "checkpoint = tf.keras.callbacks.ModelCheckpoint(\"best_model.h5\", save_best_only=True)\n",
    "\n",
    "history = model.fit(X_train, y_train, epochs=100,\n",
    "                    validation_data=(X_valid, y_valid),\n",
    "                    callbacks=[checkpoint]\n",
    ")"
   ]
  },
  {
   "cell_type": "code",
   "execution_count": 11,
   "metadata": {
    "hidden": true
   },
   "outputs": [
    {
     "data": {
      "text/plain": [
       "dict_keys(['loss', 'accuracy', 'val_loss', 'val_accuracy'])"
      ]
     },
     "execution_count": 11,
     "metadata": {},
     "output_type": "execute_result"
    }
   ],
   "source": [
    "history.history.keys()"
   ]
  },
  {
   "cell_type": "code",
   "execution_count": 12,
   "metadata": {
    "hidden": true
   },
   "outputs": [
    {
     "data": {
      "image/png": "[encoded data removed]",
      "text/plain": [
       "<Figure size 432x288 with 1 Axes>"
      ]
     },
     "metadata": {},
     "output_type": "display_data"
    }
   ],
   "source": [
    "metrics = ['loss','val_loss']\n",
    "for metric in metrics:\n",
    "    plt.plot(history.history[metric], label=metric)\n",
    "\n",
    "plt.legend()\n",
    "plt.tight_layout()"
   ]
  },
  {
   "cell_type": "code",
   "execution_count": 13,
   "metadata": {
    "hidden": true,
    "scrolled": true
   },
   "outputs": [],
   "source": [
    "# Now points to the best model found during the fit\n",
    "model = keras.models.load_model(\"best_model.h5\")"
   ]
  },
  {
   "cell_type": "markdown",
   "metadata": {
    "hidden": true
   },
   "source": [
    "We can also stop our training early when our test error isn't really changing. We can do this with a [EarlyStopping callback](https://keras.io/callbacks/#earlystopping)"
   ]
  },
  {
   "cell_type": "code",
   "execution_count": 14,
   "metadata": {
    "hidden": true,
    "scrolled": true
   },
   "outputs": [
    {
     "name": "stdout",
     "output_type": "stream",
     "text": [
      "Epoch 1/100\n",
      "36/36 [==============================] - 1s 5ms/step - loss: 0.9446 - accuracy: 0.0992 - val_loss: 0.6044 - val_accuracy: 0.1736\n",
      "Epoch 2/100\n",
      "36/36 [==============================] - 0s 2ms/step - loss: 0.5425 - accuracy: 0.1358 - val_loss: 0.4763 - val_accuracy: 0.1944\n",
      "Epoch 3/100\n",
      "36/36 [==============================] - 0s 2ms/step - loss: 0.4379 - accuracy: 0.1741 - val_loss: 0.3972 - val_accuracy: 0.2257\n",
      "Epoch 4/100\n",
      "36/36 [==============================] - 0s 2ms/step - loss: 0.3662 - accuracy: 0.2550 - val_loss: 0.3412 - val_accuracy: 0.2812\n",
      "Epoch 5/100\n",
      "36/36 [==============================] - 0s 2ms/step - loss: 0.3165 - accuracy: 0.2959 - val_loss: 0.3021 - val_accuracy: 0.3264\n",
      "Epoch 6/100\n",
      "36/36 [==============================] - 0s 2ms/step - loss: 0.2820 - accuracy: 0.3316 - val_loss: 0.2691 - val_accuracy: 0.3819\n",
      "Epoch 7/100\n",
      "36/36 [==============================] - 0s 2ms/step - loss: 0.2530 - accuracy: 0.4421 - val_loss: 0.2431 - val_accuracy: 0.5035\n",
      "Epoch 8/100\n",
      "36/36 [==============================] - 0s 2ms/step - loss: 0.2296 - accuracy: 0.5300 - val_loss: 0.2235 - val_accuracy: 0.5694\n",
      "Epoch 9/100\n",
      "36/36 [==============================] - 0s 2ms/step - loss: 0.2096 - accuracy: 0.6301 - val_loss: 0.2058 - val_accuracy: 0.6389\n",
      "Epoch 10/100\n",
      "36/36 [==============================] - 0s 2ms/step - loss: 0.1933 - accuracy: 0.6710 - val_loss: 0.1903 - val_accuracy: 0.6944\n",
      "Epoch 11/100\n",
      "36/36 [==============================] - 0s 2ms/step - loss: 0.1782 - accuracy: 0.7171 - val_loss: 0.1752 - val_accuracy: 0.7188\n",
      "Epoch 12/100\n",
      "36/36 [==============================] - 0s 2ms/step - loss: 0.1644 - accuracy: 0.7354 - val_loss: 0.1612 - val_accuracy: 0.7465\n",
      "Epoch 13/100\n",
      "36/36 [==============================] - 0s 2ms/step - loss: 0.1518 - accuracy: 0.7546 - val_loss: 0.1495 - val_accuracy: 0.7674\n"
     ]
    }
   ],
   "source": [
    "# Recreating/resetting the model\n",
    "model = Sequential()\n",
    "model.add(Dense(12, activation='relu', input_dim=64))\n",
    "model.add(Dense(10, activation='sigmoid'))\n",
    "\n",
    "model.compile(optimizer='rmsprop',\n",
    "              loss='categorical_crossentropy',\n",
    "              metrics=['accuracy'])\n",
    "\n",
    "\n",
    "checkpoint = keras.callbacks.EarlyStopping(\n",
    "                                monitor='val_loss', # What to watch\n",
    "                                min_delta=0.1, # How much change to get\n",
    "                                patience=5 # No change after 5 epochs\n",
    ")\n",
    "\n",
    "history = model.fit(X_train, y_train, epochs=100,\n",
    "                    validation_data=(X_valid, y_valid),\n",
    "                    callbacks=[checkpoint]\n",
    ")"
   ]
  },
  {
   "cell_type": "code",
   "execution_count": 15,
   "metadata": {
    "hidden": true
   },
   "outputs": [
    {
     "data": {
      "image/png": "[encoded data removed]",
      "text/plain": [
       "<Figure size 432x288 with 1 Axes>"
      ]
     },
     "metadata": {},
     "output_type": "display_data"
    }
   ],
   "source": [
    "metrics = ['loss','val_loss']\n",
    "for metric in metrics:\n",
    "    plt.plot(history.history[metric], label=metric)\n",
    "\n",
    "plt.legend()\n",
    "plt.tight_layout()"
   ]
  },
  {
   "cell_type": "markdown",
   "metadata": {
    "heading_collapsed": true
   },
   "source": [
    "# When a Good Model Goes Bad"
   ]
  },
  {
   "cell_type": "markdown",
   "metadata": {
    "hidden": true
   },
   "source": [
    "When a model has large weights, the model is \"too confident\"\n",
    "\n",
    "We need to punish large (confident) weights by contributing them to the error function"
   ]
  },
  {
   "cell_type": "markdown",
   "metadata": {
    "hidden": true
   },
   "source": [
    "![](images/punishing_model_metaphor.jpg)"
   ]
  },
  {
   "cell_type": "markdown",
   "metadata": {
    "heading_collapsed": true,
    "hidden": true
   },
   "source": [
    "## L1 Regularization - Absolute Value"
   ]
  },
  {
   "cell_type": "markdown",
   "metadata": {
    "hidden": true
   },
   "source": [
    "- Tend to get sparse vectors (small weights go to 0)\n",
    "- Reduce number of weights\n",
    "- Good feature selection to pick out importance\n",
    "\n",
    "$$ J(W,b) = -\\dfrac{1}{m} \\sum^m_{i=1}\\big[\\mathcal{L}(\\hat y_i, y_i)+ \\dfrac{\\lambda}{m}|w_i| \\big]$$"
   ]
  },
  {
   "cell_type": "markdown",
   "metadata": {
    "heading_collapsed": true,
    "hidden": true
   },
   "source": [
    "## L2 Regularization - Squared Value"
   ]
  },
  {
   "cell_type": "markdown",
   "metadata": {
    "hidden": true
   },
   "source": [
    "- Not sparse vectors (weights homogeneous & small)\n",
    "- Tends to give better results for training\n",
    "\n",
    "    \n",
    "$$ J(W,b) = -\\dfrac{1}{m} \\sum^m_{i=1}\\big[\\mathcal{L}(\\hat y_i, y_i)+ \\dfrac{\\lambda}{m}w_i^2 \\big]$$"
   ]
  },
  {
   "cell_type": "markdown",
   "metadata": {
    "heading_collapsed": true,
    "hidden": true
   },
   "source": [
    "## Comparing L1 & L2 Regularization"
   ]
  },
  {
   "cell_type": "markdown",
   "metadata": {
    "hidden": true
   },
   "source": [
    "> Typically you'll want to use L2 regularization "
   ]
  },
  {
   "cell_type": "markdown",
   "metadata": {
    "hidden": true
   },
   "source": [
    "+ subtle; consider vectors: [1,0] & [0.5, 0.5] \n",
    "+ recall we want smallest value for our value\n",
    "+ L2 prefers [0.5,0.5] over [1,0] "
   ]
  },
  {
   "cell_type": "markdown",
   "metadata": {
    "heading_collapsed": true,
    "hidden": true
   },
   "source": [
    "## Code Implementation\n"
   ]
  },
  {
   "cell_type": "markdown",
   "metadata": {
    "heading_collapsed": true,
    "hidden": true
   },
   "source": [
    "### Overcomplicated Model"
   ]
  },
  {
   "cell_type": "code",
   "execution_count": 16,
   "metadata": {
    "hidden": true
   },
   "outputs": [],
   "source": [
    "def build_complex_model():\n",
    "    model = Sequential()\n",
    "    model.add(Dense(32, activation='relu', input_dim=64))\n",
    "    model.add(Dense(24, activation='relu'))\n",
    "    model.add(Dense(24, activation='relu'))\n",
    "    model.add(Dense(10, activation='sigmoid'))\n",
    "    \n",
    "    return model"
   ]
  },
  {
   "cell_type": "code",
   "execution_count": 17,
   "metadata": {
    "hidden": true
   },
   "outputs": [
    {
     "name": "stdout",
     "output_type": "stream",
     "text": [
      "Model: \"sequential_2\"\n",
      "_________________________________________________________________\n",
      "Layer (type)                 Output Shape              Param #   \n",
      "=================================================================\n",
      "dense_4 (Dense)              (None, 32)                2080      \n",
      "_________________________________________________________________\n",
      "dense_5 (Dense)              (None, 24)                792       \n",
      "_________________________________________________________________\n",
      "dense_6 (Dense)              (None, 24)                600       \n",
      "_________________________________________________________________\n",
      "dense_7 (Dense)              (None, 10)                250       \n",
      "=================================================================\n",
      "Total params: 3,722\n",
      "Trainable params: 3,722\n",
      "Non-trainable params: 0\n",
      "_________________________________________________________________\n"
     ]
    }
   ],
   "source": [
    "model = build_complex_model()\n",
    "\n",
    "model.compile(optimizer='rmsprop',\n",
    "              loss='categorical_crossentropy',\n",
    "              metrics=['accuracy'])\n",
    "\n",
    "model.summary()"
   ]
  },
  {
   "cell_type": "code",
   "execution_count": 18,
   "metadata": {
    "hidden": true,
    "scrolled": true
   },
   "outputs": [
    {
     "name": "stdout",
     "output_type": "stream",
     "text": [
      "Epoch 1/100\n",
      "36/36 [==============================] - 1s 4ms/step - loss: 2.4503 - accuracy: 0.1697 - val_loss: 1.7718 - val_accuracy: 0.3576\n",
      "Epoch 2/100\n",
      "36/36 [==============================] - 0s 1ms/step - loss: 1.3439 - accuracy: 0.5753 - val_loss: 0.9811 - val_accuracy: 0.7014\n",
      "Epoch 3/100\n",
      "36/36 [==============================] - 0s 1ms/step - loss: 0.7556 - accuracy: 0.7702 - val_loss: 0.6280 - val_accuracy: 0.8021\n",
      "Epoch 4/100\n",
      "36/36 [==============================] - 0s 1ms/step - loss: 0.4814 - accuracy: 0.8660 - val_loss: 0.4981 - val_accuracy: 0.8333\n",
      "Epoch 5/100\n",
      "36/36 [==============================] - 0s 1ms/step - loss: 0.3414 - accuracy: 0.9051 - val_loss: 0.3551 - val_accuracy: 0.8958\n",
      "Epoch 6/100\n",
      "36/36 [==============================] - 0s 1ms/step - loss: 0.2530 - accuracy: 0.9173 - val_loss: 0.3075 - val_accuracy: 0.9062\n",
      "Epoch 7/100\n",
      "36/36 [==============================] - 0s 1ms/step - loss: 0.1981 - accuracy: 0.9434 - val_loss: 0.2679 - val_accuracy: 0.9201\n",
      "Epoch 8/100\n",
      "36/36 [==============================] - 0s 1ms/step - loss: 0.1616 - accuracy: 0.9469 - val_loss: 0.2248 - val_accuracy: 0.9340\n",
      "Epoch 9/100\n",
      "36/36 [==============================] - 0s 1ms/step - loss: 0.1300 - accuracy: 0.9617 - val_loss: 0.2108 - val_accuracy: 0.9410\n",
      "Epoch 10/100\n",
      "36/36 [==============================] - 0s 1ms/step - loss: 0.1085 - accuracy: 0.9669 - val_loss: 0.1822 - val_accuracy: 0.9514\n",
      "Epoch 11/100\n",
      "36/36 [==============================] - 0s 1ms/step - loss: 0.0914 - accuracy: 0.9782 - val_loss: 0.1672 - val_accuracy: 0.9583\n",
      "Epoch 12/100\n",
      "36/36 [==============================] - 0s 1ms/step - loss: 0.0855 - accuracy: 0.9748 - val_loss: 0.1671 - val_accuracy: 0.9549\n",
      "Epoch 13/100\n",
      "36/36 [==============================] - 0s 1ms/step - loss: 0.0698 - accuracy: 0.9800 - val_loss: 0.1574 - val_accuracy: 0.9514\n",
      "Epoch 14/100\n",
      "36/36 [==============================] - 0s 1ms/step - loss: 0.0594 - accuracy: 0.9861 - val_loss: 0.1519 - val_accuracy: 0.9514\n",
      "Epoch 15/100\n",
      "36/36 [==============================] - 0s 1ms/step - loss: 0.0563 - accuracy: 0.9843 - val_loss: 0.1690 - val_accuracy: 0.9549\n",
      "Epoch 16/100\n",
      "36/36 [==============================] - 0s 1ms/step - loss: 0.0461 - accuracy: 0.9861 - val_loss: 0.1421 - val_accuracy: 0.9549\n",
      "Epoch 17/100\n",
      "36/36 [==============================] - 0s 1ms/step - loss: 0.0395 - accuracy: 0.9913 - val_loss: 0.2085 - val_accuracy: 0.9271\n",
      "Epoch 18/100\n",
      "36/36 [==============================] - 0s 1ms/step - loss: 0.0405 - accuracy: 0.9887 - val_loss: 0.1424 - val_accuracy: 0.9479\n",
      "Epoch 19/100\n",
      "36/36 [==============================] - 0s 1ms/step - loss: 0.0334 - accuracy: 0.9904 - val_loss: 0.1248 - val_accuracy: 0.9653\n",
      "Epoch 20/100\n",
      "36/36 [==============================] - 0s 1ms/step - loss: 0.0261 - accuracy: 0.9948 - val_loss: 0.1143 - val_accuracy: 0.9653\n",
      "Epoch 21/100\n",
      "36/36 [==============================] - 0s 1ms/step - loss: 0.0273 - accuracy: 0.9939 - val_loss: 0.1567 - val_accuracy: 0.9549\n",
      "Epoch 22/100\n",
      "36/36 [==============================] - 0s 1ms/step - loss: 0.0222 - accuracy: 0.9956 - val_loss: 0.1024 - val_accuracy: 0.9792\n",
      "Epoch 23/100\n",
      "36/36 [==============================] - 0s 1ms/step - loss: 0.0180 - accuracy: 0.9939 - val_loss: 0.1148 - val_accuracy: 0.9688\n",
      "Epoch 24/100\n",
      "36/36 [==============================] - 0s 1ms/step - loss: 0.0174 - accuracy: 0.9965 - val_loss: 0.1132 - val_accuracy: 0.9618\n",
      "Epoch 25/100\n",
      "36/36 [==============================] - 0s 1ms/step - loss: 0.0112 - accuracy: 1.0000 - val_loss: 0.0998 - val_accuracy: 0.9757\n",
      "Epoch 26/100\n",
      "36/36 [==============================] - 0s 1ms/step - loss: 0.0122 - accuracy: 0.9974 - val_loss: 0.1278 - val_accuracy: 0.9514\n",
      "Epoch 27/100\n",
      "36/36 [==============================] - 0s 1ms/step - loss: 0.0086 - accuracy: 0.9991 - val_loss: 0.1064 - val_accuracy: 0.9688\n",
      "Epoch 28/100\n",
      "36/36 [==============================] - 0s 1ms/step - loss: 0.0072 - accuracy: 0.9991 - val_loss: 0.1379 - val_accuracy: 0.9479\n",
      "Epoch 29/100\n",
      "36/36 [==============================] - 0s 1ms/step - loss: 0.0066 - accuracy: 1.0000 - val_loss: 0.0969 - val_accuracy: 0.9688\n",
      "Epoch 30/100\n",
      "36/36 [==============================] - 0s 1ms/step - loss: 0.0045 - accuracy: 0.9991 - val_loss: 0.1093 - val_accuracy: 0.9688\n",
      "Epoch 31/100\n",
      "36/36 [==============================] - 0s 1ms/step - loss: 0.0041 - accuracy: 1.0000 - val_loss: 0.1057 - val_accuracy: 0.9688\n",
      "Epoch 32/100\n",
      "36/36 [==============================] - 0s 1ms/step - loss: 0.0030 - accuracy: 1.0000 - val_loss: 0.1075 - val_accuracy: 0.9722\n",
      "Epoch 33/100\n",
      "36/36 [==============================] - 0s 1ms/step - loss: 0.0022 - accuracy: 1.0000 - val_loss: 0.1452 - val_accuracy: 0.9583\n",
      "Epoch 34/100\n",
      "36/36 [==============================] - 0s 1ms/step - loss: 0.0030 - accuracy: 1.0000 - val_loss: 0.1137 - val_accuracy: 0.9722\n",
      "Epoch 35/100\n",
      "36/36 [==============================] - 0s 1ms/step - loss: 0.0037 - accuracy: 0.9991 - val_loss: 0.1061 - val_accuracy: 0.9653\n",
      "Epoch 36/100\n",
      "36/36 [==============================] - 0s 1ms/step - loss: 0.0014 - accuracy: 1.0000 - val_loss: 0.1079 - val_accuracy: 0.9722\n",
      "Epoch 37/100\n",
      "36/36 [==============================] - 0s 1ms/step - loss: 0.0014 - accuracy: 1.0000 - val_loss: 0.2084 - val_accuracy: 0.9653\n",
      "Epoch 38/100\n",
      "36/36 [==============================] - 0s 1ms/step - loss: 0.0016 - accuracy: 1.0000 - val_loss: 0.1213 - val_accuracy: 0.9653\n",
      "Epoch 39/100\n",
      "36/36 [==============================] - 0s 1ms/step - loss: 0.0028 - accuracy: 0.9991 - val_loss: 0.1151 - val_accuracy: 0.9757\n",
      "Epoch 40/100\n",
      "36/36 [==============================] - 0s 1ms/step - loss: 7.9856e-04 - accuracy: 1.0000 - val_loss: 0.1535 - val_accuracy: 0.9688\n",
      "Epoch 41/100\n",
      "36/36 [==============================] - 0s 1ms/step - loss: 9.7039e-04 - accuracy: 1.0000 - val_loss: 0.1243 - val_accuracy: 0.9688\n",
      "Epoch 42/100\n",
      "36/36 [==============================] - 0s 1ms/step - loss: 0.0016 - accuracy: 1.0000 - val_loss: 0.1154 - val_accuracy: 0.9688\n",
      "Epoch 43/100\n",
      "36/36 [==============================] - 0s 1ms/step - loss: 2.7285e-04 - accuracy: 1.0000 - val_loss: 0.1202 - val_accuracy: 0.9757\n",
      "Epoch 44/100\n",
      "36/36 [==============================] - 0s 1ms/step - loss: 5.6373e-04 - accuracy: 1.0000 - val_loss: 0.1232 - val_accuracy: 0.9792\n",
      "Epoch 45/100\n",
      "36/36 [==============================] - 0s 1ms/step - loss: 9.8647e-04 - accuracy: 1.0000 - val_loss: 0.1115 - val_accuracy: 0.9722\n",
      "Epoch 46/100\n",
      "36/36 [==============================] - 0s 2ms/step - loss: 0.0033 - accuracy: 0.9991 - val_loss: 0.1305 - val_accuracy: 0.9757\n",
      "Epoch 47/100\n",
      "36/36 [==============================] - 0s 1ms/step - loss: 2.9394e-04 - accuracy: 1.0000 - val_loss: 0.1164 - val_accuracy: 0.9722\n",
      "Epoch 48/100\n",
      "36/36 [==============================] - 0s 1ms/step - loss: 1.7470e-04 - accuracy: 1.0000 - val_loss: 0.1044 - val_accuracy: 0.9722\n",
      "Epoch 49/100\n",
      "36/36 [==============================] - 0s 1ms/step - loss: 6.2828e-04 - accuracy: 1.0000 - val_loss: 0.1343 - val_accuracy: 0.9757\n",
      "Epoch 50/100\n",
      "36/36 [==============================] - 0s 1ms/step - loss: 2.8083e-04 - accuracy: 1.0000 - val_loss: 0.1036 - val_accuracy: 0.9792\n",
      "Epoch 51/100\n",
      "36/36 [==============================] - 0s 1ms/step - loss: 1.2164e-04 - accuracy: 1.0000 - val_loss: 0.1421 - val_accuracy: 0.9722\n",
      "Epoch 52/100\n",
      "36/36 [==============================] - 0s 1ms/step - loss: 0.0011 - accuracy: 0.9991 - val_loss: 0.1051 - val_accuracy: 0.9792\n",
      "Epoch 53/100\n",
      "36/36 [==============================] - 0s 1ms/step - loss: 4.7706e-05 - accuracy: 1.0000 - val_loss: 0.1194 - val_accuracy: 0.9757\n",
      "Epoch 54/100\n",
      "36/36 [==============================] - 0s 1ms/step - loss: 5.3221e-04 - accuracy: 1.0000 - val_loss: 0.1362 - val_accuracy: 0.9688\n",
      "Epoch 55/100\n",
      "36/36 [==============================] - 0s 1ms/step - loss: 5.1204e-05 - accuracy: 1.0000 - val_loss: 0.1248 - val_accuracy: 0.9688\n",
      "Epoch 56/100\n",
      "36/36 [==============================] - 0s 1ms/step - loss: 2.6126e-05 - accuracy: 1.0000 - val_loss: 0.1313 - val_accuracy: 0.9757\n",
      "Epoch 57/100\n",
      "36/36 [==============================] - 0s 1ms/step - loss: 3.6485e-04 - accuracy: 1.0000 - val_loss: 0.1199 - val_accuracy: 0.9792\n",
      "Epoch 58/100\n"
     ]
    },
    {
     "name": "stdout",
     "output_type": "stream",
     "text": [
      "36/36 [==============================] - 0s 1ms/step - loss: 2.2809e-05 - accuracy: 1.0000 - val_loss: 0.1204 - val_accuracy: 0.9792\n",
      "Epoch 59/100\n",
      "36/36 [==============================] - 0s 1ms/step - loss: 7.8080e-04 - accuracy: 1.0000 - val_loss: 0.1337 - val_accuracy: 0.9722\n",
      "Epoch 60/100\n",
      "36/36 [==============================] - 0s 1ms/step - loss: 2.8048e-05 - accuracy: 1.0000 - val_loss: 0.1355 - val_accuracy: 0.9757\n",
      "Epoch 61/100\n",
      "36/36 [==============================] - 0s 1ms/step - loss: 1.5115e-05 - accuracy: 1.0000 - val_loss: 0.1255 - val_accuracy: 0.9792\n",
      "Epoch 62/100\n",
      "36/36 [==============================] - 0s 1ms/step - loss: 5.4852e-04 - accuracy: 1.0000 - val_loss: 0.2137 - val_accuracy: 0.9618\n",
      "Epoch 63/100\n",
      "36/36 [==============================] - 0s 1ms/step - loss: 0.0010 - accuracy: 1.0000 - val_loss: 0.1171 - val_accuracy: 0.9792\n",
      "Epoch 64/100\n",
      "36/36 [==============================] - 0s 1ms/step - loss: 1.3609e-05 - accuracy: 1.0000 - val_loss: 0.1158 - val_accuracy: 0.9757\n",
      "Epoch 65/100\n",
      "36/36 [==============================] - 0s 1ms/step - loss: 6.0642e-05 - accuracy: 1.0000 - val_loss: 0.1547 - val_accuracy: 0.9722\n",
      "Epoch 66/100\n",
      "36/36 [==============================] - 0s 1ms/step - loss: 1.8034e-05 - accuracy: 1.0000 - val_loss: 0.1453 - val_accuracy: 0.9722\n",
      "Epoch 67/100\n",
      "36/36 [==============================] - 0s 1ms/step - loss: 2.4456e-05 - accuracy: 1.0000 - val_loss: 0.1292 - val_accuracy: 0.9792\n",
      "Epoch 68/100\n",
      "36/36 [==============================] - 0s 1ms/step - loss: 2.4528e-04 - accuracy: 1.0000 - val_loss: 0.1497 - val_accuracy: 0.9722\n",
      "Epoch 69/100\n",
      "36/36 [==============================] - 0s 1ms/step - loss: 1.2267e-05 - accuracy: 1.0000 - val_loss: 0.1270 - val_accuracy: 0.9826\n",
      "Epoch 70/100\n",
      "36/36 [==============================] - 0s 1ms/step - loss: 8.1517e-06 - accuracy: 1.0000 - val_loss: 0.1548 - val_accuracy: 0.9722\n",
      "Epoch 71/100\n",
      "36/36 [==============================] - 0s 1ms/step - loss: 3.8818e-04 - accuracy: 1.0000 - val_loss: 0.1469 - val_accuracy: 0.9792\n",
      "Epoch 72/100\n",
      "36/36 [==============================] - 0s 1ms/step - loss: 6.8617e-06 - accuracy: 1.0000 - val_loss: 0.1536 - val_accuracy: 0.9722\n",
      "Epoch 73/100\n",
      "36/36 [==============================] - 0s 1ms/step - loss: 3.9965e-06 - accuracy: 1.0000 - val_loss: 0.1450 - val_accuracy: 0.9722\n",
      "Epoch 74/100\n",
      "36/36 [==============================] - 0s 1ms/step - loss: 1.2083e-05 - accuracy: 1.0000 - val_loss: 0.1459 - val_accuracy: 0.9757\n",
      "Epoch 75/100\n",
      "36/36 [==============================] - 0s 1ms/step - loss: 6.6857e-06 - accuracy: 1.0000 - val_loss: 0.1465 - val_accuracy: 0.9792\n",
      "Epoch 76/100\n",
      "36/36 [==============================] - 0s 1ms/step - loss: 4.0853e-06 - accuracy: 1.0000 - val_loss: 0.2040 - val_accuracy: 0.9722\n",
      "Epoch 77/100\n",
      "36/36 [==============================] - 0s 1ms/step - loss: 6.9476e-04 - accuracy: 1.0000 - val_loss: 0.1697 - val_accuracy: 0.9757\n",
      "Epoch 78/100\n",
      "36/36 [==============================] - 0s 1ms/step - loss: 4.1580e-06 - accuracy: 1.0000 - val_loss: 0.1492 - val_accuracy: 0.9757\n",
      "Epoch 79/100\n",
      "36/36 [==============================] - 0s 1ms/step - loss: 2.5390e-06 - accuracy: 1.0000 - val_loss: 0.1633 - val_accuracy: 0.9757\n",
      "Epoch 80/100\n",
      "36/36 [==============================] - 0s 1ms/step - loss: 1.8445e-06 - accuracy: 1.0000 - val_loss: 0.1549 - val_accuracy: 0.9757\n",
      "Epoch 81/100\n",
      "36/36 [==============================] - 0s 1ms/step - loss: 5.4238e-04 - accuracy: 1.0000 - val_loss: 0.1658 - val_accuracy: 0.9722\n",
      "Epoch 82/100\n",
      "36/36 [==============================] - 0s 1ms/step - loss: 1.6426e-06 - accuracy: 1.0000 - val_loss: 0.1545 - val_accuracy: 0.9722\n",
      "Epoch 83/100\n",
      "36/36 [==============================] - 0s 1ms/step - loss: 8.4555e-07 - accuracy: 1.0000 - val_loss: 0.1474 - val_accuracy: 0.9757\n",
      "Epoch 84/100\n",
      "36/36 [==============================] - 0s 1ms/step - loss: 6.6202e-07 - accuracy: 1.0000 - val_loss: 0.1651 - val_accuracy: 0.9722\n",
      "Epoch 85/100\n",
      "36/36 [==============================] - 0s 1ms/step - loss: 4.4244e-05 - accuracy: 1.0000 - val_loss: 0.1890 - val_accuracy: 0.9757\n",
      "Epoch 86/100\n",
      "36/36 [==============================] - 0s 1ms/step - loss: 6.7260e-07 - accuracy: 1.0000 - val_loss: 0.1996 - val_accuracy: 0.9757\n",
      "Epoch 87/100\n",
      "36/36 [==============================] - 0s 1ms/step - loss: 5.9708e-07 - accuracy: 1.0000 - val_loss: 0.2000 - val_accuracy: 0.9722\n",
      "Epoch 88/100\n",
      "36/36 [==============================] - 0s 1ms/step - loss: 2.5482e-05 - accuracy: 1.0000 - val_loss: 0.1963 - val_accuracy: 0.9653\n",
      "Epoch 89/100\n",
      "36/36 [==============================] - 0s 1ms/step - loss: 3.2160e-06 - accuracy: 1.0000 - val_loss: 0.1768 - val_accuracy: 0.9722\n",
      "Epoch 90/100\n",
      "36/36 [==============================] - 0s 1ms/step - loss: 2.5498e-05 - accuracy: 1.0000 - val_loss: 0.2149 - val_accuracy: 0.9722\n",
      "Epoch 91/100\n",
      "36/36 [==============================] - 0s 1ms/step - loss: 3.1585e-06 - accuracy: 1.0000 - val_loss: 0.1759 - val_accuracy: 0.9688\n",
      "Epoch 92/100\n",
      "36/36 [==============================] - 0s 1ms/step - loss: 2.8894e-07 - accuracy: 1.0000 - val_loss: 0.1808 - val_accuracy: 0.9722\n",
      "Epoch 93/100\n",
      "36/36 [==============================] - 0s 1ms/step - loss: 9.3389e-05 - accuracy: 1.0000 - val_loss: 0.2332 - val_accuracy: 0.9722\n",
      "Epoch 94/100\n",
      "36/36 [==============================] - 0s 1ms/step - loss: 3.5991e-06 - accuracy: 1.0000 - val_loss: 0.2067 - val_accuracy: 0.9722\n",
      "Epoch 95/100\n",
      "36/36 [==============================] - 0s 1ms/step - loss: 2.4931e-07 - accuracy: 1.0000 - val_loss: 0.1927 - val_accuracy: 0.9688\n",
      "Epoch 96/100\n",
      "36/36 [==============================] - 0s 1ms/step - loss: 1.9941e-07 - accuracy: 1.0000 - val_loss: 0.1957 - val_accuracy: 0.9757\n",
      "Epoch 97/100\n",
      "36/36 [==============================] - 0s 1ms/step - loss: 2.9413e-06 - accuracy: 1.0000 - val_loss: 0.2167 - val_accuracy: 0.9722\n",
      "Epoch 98/100\n",
      "36/36 [==============================] - 0s 1ms/step - loss: 5.8508e-06 - accuracy: 1.0000 - val_loss: 0.1971 - val_accuracy: 0.9757\n",
      "Epoch 99/100\n",
      "36/36 [==============================] - 0s 1ms/step - loss: 1.4629e-07 - accuracy: 1.0000 - val_loss: 0.1988 - val_accuracy: 0.9757\n",
      "Epoch 100/100\n",
      "36/36 [==============================] - 0s 1ms/step - loss: 2.6218e-05 - accuracy: 1.0000 - val_loss: 0.2185 - val_accuracy: 0.9757\n"
     ]
    }
   ],
   "source": [
    "history = model.fit(X_train, y_train, epochs=100,\n",
    "                    validation_data=(X_valid, y_valid)\n",
    ")"
   ]
  },
  {
   "cell_type": "code",
   "execution_count": 19,
   "metadata": {
    "hidden": true
   },
   "outputs": [
    {
     "data": {
      "image/png": "[encoded data removed]",
      "text/plain": [
       "<Figure size 432x288 with 1 Axes>"
      ]
     },
     "metadata": {},
     "output_type": "display_data"
    }
   ],
   "source": [
    "metrics = ['loss','val_loss']\n",
    "for metric in metrics:\n",
    "    plt.plot(history.history[metric], label=metric)\n",
    "\n",
    "plt.legend()\n",
    "plt.tight_layout()"
   ]
  },
  {
   "cell_type": "markdown",
   "metadata": {
    "hidden": true
   },
   "source": [
    "We can see our overcomplicated model could use some regularization"
   ]
  },
  {
   "cell_type": "markdown",
   "metadata": {
    "heading_collapsed": true,
    "hidden": true
   },
   "source": [
    "### Regulated Model\n",
    "\n",
    "* L1 regularization adds “absolute value of magnitude” as penalty term to the loss function. Some people say L1 can help with compressing the model. But in practice, L1 regularization makes your model sparse, helps only a little bit. L2 regularization is just used much more often.\n",
    "\n",
    "* L2 regularization (also known as weight decay) adds “squared magnitude” as penalty term to the loss function and it is used much more often than L1.\n",
    "\n",
    "**Application:** To add a regularizer to a layer, you simply have to pass in the prefered regularization technique to the layer’s keyword argument ‘kernel_regularizer’ then decide whether you want to add l1 or l2 regularization from keras.regularizers. You can tune the strength of the regularizer also. "
   ]
  },
  {
   "cell_type": "code",
   "execution_count": 20,
   "metadata": {
    "hidden": true
   },
   "outputs": [],
   "source": [
    "def build_regulated_model():\n",
    "    model = Sequential()\n",
    "    model.add(\n",
    "        Dense(\n",
    "            32, \n",
    "            activation='relu',\n",
    "            kernel_regularizer=keras.regularizers.l2(l2=0.01),\n",
    "            input_dim=64)\n",
    "    )\n",
    "    model.add(\n",
    "        Dense(\n",
    "            24, \n",
    "            activation='relu',\n",
    "            kernel_regularizer=keras.regularizers.l2(l2=0.01)\n",
    "        )\n",
    "    )\n",
    "    model.add(\n",
    "        Dense(\n",
    "            24, \n",
    "            activation='relu',\n",
    "            kernel_regularizer=keras.regularizers.l2(l2=0.01)\n",
    "        )\n",
    "    )\n",
    "    model.add(Dense(10, activation='sigmoid'))\n",
    "    \n",
    "    return model"
   ]
  },
  {
   "cell_type": "code",
   "execution_count": 21,
   "metadata": {
    "hidden": true
   },
   "outputs": [
    {
     "name": "stdout",
     "output_type": "stream",
     "text": [
      "Model: \"sequential_3\"\n",
      "_________________________________________________________________\n",
      "Layer (type)                 Output Shape              Param #   \n",
      "=================================================================\n",
      "dense_8 (Dense)              (None, 32)                2080      \n",
      "_________________________________________________________________\n",
      "dense_9 (Dense)              (None, 24)                792       \n",
      "_________________________________________________________________\n",
      "dense_10 (Dense)             (None, 24)                600       \n",
      "_________________________________________________________________\n",
      "dense_11 (Dense)             (None, 10)                250       \n",
      "=================================================================\n",
      "Total params: 3,722\n",
      "Trainable params: 3,722\n",
      "Non-trainable params: 0\n",
      "_________________________________________________________________\n"
     ]
    }
   ],
   "source": [
    "model = build_regulated_model()\n",
    "\n",
    "model.compile(optimizer='rmsprop',\n",
    "              loss='binary_crossentropy',\n",
    "              metrics=['accuracy'])\n",
    "\n",
    "model.summary()"
   ]
  },
  {
   "cell_type": "code",
   "execution_count": 22,
   "metadata": {
    "hidden": true,
    "scrolled": true
   },
   "outputs": [
    {
     "name": "stdout",
     "output_type": "stream",
     "text": [
      "Epoch 1/100\n",
      "36/36 [==============================] - 1s 4ms/step - loss: 1.2956 - accuracy: 0.1880 - val_loss: 1.0428 - val_accuracy: 0.3576\n",
      "Epoch 2/100\n",
      "36/36 [==============================] - 0s 1ms/step - loss: 0.9349 - accuracy: 0.4682 - val_loss: 0.8235 - val_accuracy: 0.5660\n",
      "Epoch 3/100\n",
      "36/36 [==============================] - 0s 2ms/step - loss: 0.7381 - accuracy: 0.6823 - val_loss: 0.6499 - val_accuracy: 0.7847\n",
      "Epoch 4/100\n",
      "36/36 [==============================] - 0s 2ms/step - loss: 0.5843 - accuracy: 0.7990 - val_loss: 0.5247 - val_accuracy: 0.8333\n",
      "Epoch 5/100\n",
      "36/36 [==============================] - 0s 2ms/step - loss: 0.4781 - accuracy: 0.8651 - val_loss: 0.4352 - val_accuracy: 0.8646\n",
      "Epoch 6/100\n",
      "36/36 [==============================] - 0s 2ms/step - loss: 0.4048 - accuracy: 0.8903 - val_loss: 0.3835 - val_accuracy: 0.8958\n",
      "Epoch 7/100\n",
      "36/36 [==============================] - 0s 2ms/step - loss: 0.3537 - accuracy: 0.9043 - val_loss: 0.3351 - val_accuracy: 0.9132\n",
      "Epoch 8/100\n",
      "36/36 [==============================] - 0s 2ms/step - loss: 0.3165 - accuracy: 0.9147 - val_loss: 0.3031 - val_accuracy: 0.9167\n",
      "Epoch 9/100\n",
      "36/36 [==============================] - 0s 2ms/step - loss: 0.2901 - accuracy: 0.9130 - val_loss: 0.2859 - val_accuracy: 0.8993\n",
      "Epoch 10/100\n",
      "36/36 [==============================] - 0s 1ms/step - loss: 0.2687 - accuracy: 0.9269 - val_loss: 0.2683 - val_accuracy: 0.9062\n",
      "Epoch 11/100\n",
      "36/36 [==============================] - 0s 1ms/step - loss: 0.2523 - accuracy: 0.9217 - val_loss: 0.2485 - val_accuracy: 0.9340\n",
      "Epoch 12/100\n",
      "36/36 [==============================] - 0s 1ms/step - loss: 0.2393 - accuracy: 0.9252 - val_loss: 0.2341 - val_accuracy: 0.9375\n",
      "Epoch 13/100\n",
      "36/36 [==============================] - 0s 1ms/step - loss: 0.2271 - accuracy: 0.9339 - val_loss: 0.2249 - val_accuracy: 0.9306\n",
      "Epoch 14/100\n",
      "36/36 [==============================] - 0s 1ms/step - loss: 0.2176 - accuracy: 0.9330 - val_loss: 0.2170 - val_accuracy: 0.9306\n",
      "Epoch 15/100\n",
      "36/36 [==============================] - 0s 1ms/step - loss: 0.2088 - accuracy: 0.9417 - val_loss: 0.2093 - val_accuracy: 0.9340\n",
      "Epoch 16/100\n",
      "36/36 [==============================] - 0s 1ms/step - loss: 0.2005 - accuracy: 0.9339 - val_loss: 0.2090 - val_accuracy: 0.9410\n",
      "Epoch 17/100\n",
      "36/36 [==============================] - 0s 1ms/step - loss: 0.1934 - accuracy: 0.9426 - val_loss: 0.1923 - val_accuracy: 0.9444\n",
      "Epoch 18/100\n",
      "36/36 [==============================] - 0s 1ms/step - loss: 0.1873 - accuracy: 0.9469 - val_loss: 0.1877 - val_accuracy: 0.9444\n",
      "Epoch 19/100\n",
      "36/36 [==============================] - 0s 1ms/step - loss: 0.1815 - accuracy: 0.9426 - val_loss: 0.1825 - val_accuracy: 0.9340\n",
      "Epoch 20/100\n",
      "36/36 [==============================] - 0s 1ms/step - loss: 0.1769 - accuracy: 0.9452 - val_loss: 0.1755 - val_accuracy: 0.9479\n",
      "Epoch 21/100\n",
      "36/36 [==============================] - 0s 1ms/step - loss: 0.1712 - accuracy: 0.9478 - val_loss: 0.1758 - val_accuracy: 0.9549\n",
      "Epoch 22/100\n",
      "36/36 [==============================] - 0s 1ms/step - loss: 0.1680 - accuracy: 0.9452 - val_loss: 0.1706 - val_accuracy: 0.9410\n",
      "Epoch 23/100\n",
      "36/36 [==============================] - 0s 1ms/step - loss: 0.1632 - accuracy: 0.9469 - val_loss: 0.1659 - val_accuracy: 0.9514\n",
      "Epoch 24/100\n",
      "36/36 [==============================] - 0s 1ms/step - loss: 0.1598 - accuracy: 0.9547 - val_loss: 0.1655 - val_accuracy: 0.9479\n",
      "Epoch 25/100\n",
      "36/36 [==============================] - 0s 1ms/step - loss: 0.1565 - accuracy: 0.9547 - val_loss: 0.1629 - val_accuracy: 0.9340\n",
      "Epoch 26/100\n",
      "36/36 [==============================] - 0s 1ms/step - loss: 0.1539 - accuracy: 0.9539 - val_loss: 0.1545 - val_accuracy: 0.9444\n",
      "Epoch 27/100\n",
      "36/36 [==============================] - 0s 1ms/step - loss: 0.1510 - accuracy: 0.9530 - val_loss: 0.1567 - val_accuracy: 0.9479\n",
      "Epoch 28/100\n",
      "36/36 [==============================] - 0s 1ms/step - loss: 0.1480 - accuracy: 0.9547 - val_loss: 0.1509 - val_accuracy: 0.9514\n",
      "Epoch 29/100\n",
      "36/36 [==============================] - 0s 1ms/step - loss: 0.1458 - accuracy: 0.9521 - val_loss: 0.1497 - val_accuracy: 0.9549\n",
      "Epoch 30/100\n",
      "36/36 [==============================] - 0s 1ms/step - loss: 0.1436 - accuracy: 0.9521 - val_loss: 0.1515 - val_accuracy: 0.9340\n",
      "Epoch 31/100\n",
      "36/36 [==============================] - 0s 1ms/step - loss: 0.1412 - accuracy: 0.9600 - val_loss: 0.1443 - val_accuracy: 0.9514\n",
      "Epoch 32/100\n",
      "36/36 [==============================] - 0s 1ms/step - loss: 0.1390 - accuracy: 0.9600 - val_loss: 0.1448 - val_accuracy: 0.9479\n",
      "Epoch 33/100\n",
      "36/36 [==============================] - 0s 1ms/step - loss: 0.1375 - accuracy: 0.9539 - val_loss: 0.1416 - val_accuracy: 0.9479\n",
      "Epoch 34/100\n",
      "36/36 [==============================] - 0s 1ms/step - loss: 0.1363 - accuracy: 0.9521 - val_loss: 0.1395 - val_accuracy: 0.9549\n",
      "Epoch 35/100\n",
      "36/36 [==============================] - 0s 1ms/step - loss: 0.1336 - accuracy: 0.9574 - val_loss: 0.1379 - val_accuracy: 0.9583\n",
      "Epoch 36/100\n",
      "36/36 [==============================] - 0s 1ms/step - loss: 0.1324 - accuracy: 0.9600 - val_loss: 0.1352 - val_accuracy: 0.9410\n",
      "Epoch 37/100\n",
      "36/36 [==============================] - 0s 1ms/step - loss: 0.1312 - accuracy: 0.9574 - val_loss: 0.1337 - val_accuracy: 0.9549\n",
      "Epoch 38/100\n",
      "36/36 [==============================] - 0s 1ms/step - loss: 0.1294 - accuracy: 0.9634 - val_loss: 0.1360 - val_accuracy: 0.9514\n",
      "Epoch 39/100\n",
      "36/36 [==============================] - 0s 1ms/step - loss: 0.1286 - accuracy: 0.9582 - val_loss: 0.1323 - val_accuracy: 0.9514\n",
      "Epoch 40/100\n",
      "36/36 [==============================] - 0s 1ms/step - loss: 0.1271 - accuracy: 0.9669 - val_loss: 0.1351 - val_accuracy: 0.9479\n",
      "Epoch 41/100\n",
      "36/36 [==============================] - 0s 1ms/step - loss: 0.1255 - accuracy: 0.9661 - val_loss: 0.1337 - val_accuracy: 0.9479\n",
      "Epoch 42/100\n",
      "36/36 [==============================] - 0s 1ms/step - loss: 0.1247 - accuracy: 0.9591 - val_loss: 0.1280 - val_accuracy: 0.9514\n",
      "Epoch 43/100\n",
      "36/36 [==============================] - 0s 1ms/step - loss: 0.1228 - accuracy: 0.9661 - val_loss: 0.1276 - val_accuracy: 0.9583\n",
      "Epoch 44/100\n",
      "36/36 [==============================] - 0s 1ms/step - loss: 0.1215 - accuracy: 0.9626 - val_loss: 0.1286 - val_accuracy: 0.9549\n",
      "Epoch 45/100\n",
      "36/36 [==============================] - 0s 1ms/step - loss: 0.1210 - accuracy: 0.9643 - val_loss: 0.1290 - val_accuracy: 0.9479\n",
      "Epoch 46/100\n",
      "36/36 [==============================] - 0s 1ms/step - loss: 0.1201 - accuracy: 0.9565 - val_loss: 0.1282 - val_accuracy: 0.9618\n",
      "Epoch 47/100\n",
      "36/36 [==============================] - 0s 1ms/step - loss: 0.1193 - accuracy: 0.9565 - val_loss: 0.1270 - val_accuracy: 0.9583\n",
      "Epoch 48/100\n",
      "36/36 [==============================] - 0s 1ms/step - loss: 0.1179 - accuracy: 0.9704 - val_loss: 0.1263 - val_accuracy: 0.9479\n",
      "Epoch 49/100\n",
      "36/36 [==============================] - 0s 1ms/step - loss: 0.1179 - accuracy: 0.9608 - val_loss: 0.1217 - val_accuracy: 0.9618\n",
      "Epoch 50/100\n",
      "36/36 [==============================] - 0s 1ms/step - loss: 0.1163 - accuracy: 0.9669 - val_loss: 0.1223 - val_accuracy: 0.9549\n",
      "Epoch 51/100\n",
      "36/36 [==============================] - 0s 1ms/step - loss: 0.1151 - accuracy: 0.9687 - val_loss: 0.1189 - val_accuracy: 0.9653\n",
      "Epoch 52/100\n",
      "36/36 [==============================] - 0s 2ms/step - loss: 0.1148 - accuracy: 0.9617 - val_loss: 0.1172 - val_accuracy: 0.9618\n",
      "Epoch 53/100\n",
      "36/36 [==============================] - 0s 2ms/step - loss: 0.1137 - accuracy: 0.9600 - val_loss: 0.1189 - val_accuracy: 0.9514\n",
      "Epoch 54/100\n",
      "36/36 [==============================] - 0s 2ms/step - loss: 0.1130 - accuracy: 0.9678 - val_loss: 0.1191 - val_accuracy: 0.9444\n",
      "Epoch 55/100\n",
      "36/36 [==============================] - 0s 2ms/step - loss: 0.1125 - accuracy: 0.9634 - val_loss: 0.1182 - val_accuracy: 0.9583\n",
      "Epoch 56/100\n",
      "36/36 [==============================] - 0s 2ms/step - loss: 0.1113 - accuracy: 0.9687 - val_loss: 0.1164 - val_accuracy: 0.9653\n",
      "Epoch 57/100\n",
      "36/36 [==============================] - 0s 2ms/step - loss: 0.1098 - accuracy: 0.9678 - val_loss: 0.1135 - val_accuracy: 0.9722\n",
      "Epoch 58/100\n",
      "36/36 [==============================] - 0s 2ms/step - loss: 0.1098 - accuracy: 0.9713 - val_loss: 0.1195 - val_accuracy: 0.9583\n"
     ]
    },
    {
     "name": "stdout",
     "output_type": "stream",
     "text": [
      "Epoch 59/100\n",
      "36/36 [==============================] - 0s 2ms/step - loss: 0.1092 - accuracy: 0.9652 - val_loss: 0.1141 - val_accuracy: 0.9514\n",
      "Epoch 60/100\n",
      "36/36 [==============================] - 0s 2ms/step - loss: 0.1092 - accuracy: 0.9669 - val_loss: 0.1124 - val_accuracy: 0.9618\n",
      "Epoch 61/100\n",
      "36/36 [==============================] - 0s 5ms/step - loss: 0.1076 - accuracy: 0.9730 - val_loss: 0.1166 - val_accuracy: 0.9479\n",
      "Epoch 62/100\n",
      "36/36 [==============================] - 0s 1ms/step - loss: 0.1070 - accuracy: 0.9678 - val_loss: 0.1141 - val_accuracy: 0.9479\n",
      "Epoch 63/100\n",
      "36/36 [==============================] - 0s 1ms/step - loss: 0.1068 - accuracy: 0.9634 - val_loss: 0.1149 - val_accuracy: 0.9479\n",
      "Epoch 64/100\n",
      "36/36 [==============================] - 0s 2ms/step - loss: 0.1058 - accuracy: 0.9713 - val_loss: 0.1107 - val_accuracy: 0.9653\n",
      "Epoch 65/100\n",
      "36/36 [==============================] - 0s 2ms/step - loss: 0.1054 - accuracy: 0.9678 - val_loss: 0.1183 - val_accuracy: 0.9444\n",
      "Epoch 66/100\n",
      "36/36 [==============================] - 0s 2ms/step - loss: 0.1044 - accuracy: 0.9687 - val_loss: 0.1142 - val_accuracy: 0.9444\n",
      "Epoch 67/100\n",
      "36/36 [==============================] - 0s 1ms/step - loss: 0.1041 - accuracy: 0.9765 - val_loss: 0.1091 - val_accuracy: 0.9479\n",
      "Epoch 68/100\n",
      "36/36 [==============================] - 0s 1ms/step - loss: 0.1041 - accuracy: 0.9730 - val_loss: 0.1121 - val_accuracy: 0.9549\n",
      "Epoch 69/100\n",
      "36/36 [==============================] - 0s 1ms/step - loss: 0.1030 - accuracy: 0.9739 - val_loss: 0.1069 - val_accuracy: 0.9583\n",
      "Epoch 70/100\n",
      "36/36 [==============================] - 0s 1ms/step - loss: 0.1022 - accuracy: 0.9730 - val_loss: 0.1074 - val_accuracy: 0.9653\n",
      "Epoch 71/100\n",
      "36/36 [==============================] - 0s 1ms/step - loss: 0.1016 - accuracy: 0.9695 - val_loss: 0.1055 - val_accuracy: 0.9583\n",
      "Epoch 72/100\n",
      "36/36 [==============================] - 0s 1ms/step - loss: 0.1012 - accuracy: 0.9687 - val_loss: 0.1098 - val_accuracy: 0.9514\n",
      "Epoch 73/100\n",
      "36/36 [==============================] - 0s 1ms/step - loss: 0.1018 - accuracy: 0.9669 - val_loss: 0.1062 - val_accuracy: 0.9514\n",
      "Epoch 74/100\n",
      "36/36 [==============================] - 0s 1ms/step - loss: 0.0999 - accuracy: 0.9739 - val_loss: 0.1132 - val_accuracy: 0.9340\n",
      "Epoch 75/100\n",
      "36/36 [==============================] - 0s 1ms/step - loss: 0.1004 - accuracy: 0.9704 - val_loss: 0.1114 - val_accuracy: 0.9514\n",
      "Epoch 76/100\n",
      "36/36 [==============================] - 0s 1ms/step - loss: 0.0993 - accuracy: 0.9739 - val_loss: 0.1070 - val_accuracy: 0.9514\n",
      "Epoch 77/100\n",
      "36/36 [==============================] - 0s 1ms/step - loss: 0.0988 - accuracy: 0.9730 - val_loss: 0.1065 - val_accuracy: 0.9583\n",
      "Epoch 78/100\n",
      "36/36 [==============================] - 0s 1ms/step - loss: 0.0989 - accuracy: 0.9713 - val_loss: 0.1027 - val_accuracy: 0.9722\n",
      "Epoch 79/100\n",
      "36/36 [==============================] - 0s 1ms/step - loss: 0.0980 - accuracy: 0.9678 - val_loss: 0.1024 - val_accuracy: 0.9514\n",
      "Epoch 80/100\n",
      "36/36 [==============================] - 0s 2ms/step - loss: 0.0977 - accuracy: 0.9730 - val_loss: 0.1035 - val_accuracy: 0.9583\n",
      "Epoch 81/100\n",
      "36/36 [==============================] - 0s 1ms/step - loss: 0.0964 - accuracy: 0.9739 - val_loss: 0.1017 - val_accuracy: 0.9549\n",
      "Epoch 82/100\n",
      "36/36 [==============================] - 0s 1ms/step - loss: 0.0967 - accuracy: 0.9713 - val_loss: 0.0998 - val_accuracy: 0.9653\n",
      "Epoch 83/100\n",
      "36/36 [==============================] - 0s 1ms/step - loss: 0.0957 - accuracy: 0.9765 - val_loss: 0.1015 - val_accuracy: 0.9653\n",
      "Epoch 84/100\n",
      "36/36 [==============================] - 0s 1ms/step - loss: 0.0957 - accuracy: 0.9748 - val_loss: 0.1005 - val_accuracy: 0.9688\n",
      "Epoch 85/100\n",
      "36/36 [==============================] - 0s 1ms/step - loss: 0.0946 - accuracy: 0.9713 - val_loss: 0.0994 - val_accuracy: 0.9688\n",
      "Epoch 86/100\n",
      "36/36 [==============================] - 0s 1ms/step - loss: 0.0948 - accuracy: 0.9756 - val_loss: 0.1006 - val_accuracy: 0.9514\n",
      "Epoch 87/100\n",
      "36/36 [==============================] - 0s 1ms/step - loss: 0.0958 - accuracy: 0.9695 - val_loss: 0.1064 - val_accuracy: 0.9444\n",
      "Epoch 88/100\n",
      "36/36 [==============================] - 0s 2ms/step - loss: 0.0937 - accuracy: 0.9765 - val_loss: 0.1051 - val_accuracy: 0.9479\n",
      "Epoch 89/100\n",
      "36/36 [==============================] - 0s 1ms/step - loss: 0.0936 - accuracy: 0.9748 - val_loss: 0.1006 - val_accuracy: 0.9583\n",
      "Epoch 90/100\n",
      "36/36 [==============================] - 0s 1ms/step - loss: 0.0933 - accuracy: 0.9713 - val_loss: 0.0983 - val_accuracy: 0.9618\n",
      "Epoch 91/100\n",
      "36/36 [==============================] - 0s 1ms/step - loss: 0.0927 - accuracy: 0.9730 - val_loss: 0.0971 - val_accuracy: 0.9688\n",
      "Epoch 92/100\n",
      "36/36 [==============================] - 0s 1ms/step - loss: 0.0923 - accuracy: 0.9756 - val_loss: 0.0968 - val_accuracy: 0.9653\n",
      "Epoch 93/100\n",
      "36/36 [==============================] - 0s 1ms/step - loss: 0.0916 - accuracy: 0.9817 - val_loss: 0.1035 - val_accuracy: 0.9444\n",
      "Epoch 94/100\n",
      "36/36 [==============================] - 0s 1ms/step - loss: 0.0909 - accuracy: 0.9817 - val_loss: 0.0971 - val_accuracy: 0.9618\n",
      "Epoch 95/100\n",
      "36/36 [==============================] - 0s 1ms/step - loss: 0.0910 - accuracy: 0.9756 - val_loss: 0.0969 - val_accuracy: 0.9549\n",
      "Epoch 96/100\n",
      "36/36 [==============================] - 0s 1ms/step - loss: 0.0909 - accuracy: 0.9765 - val_loss: 0.1003 - val_accuracy: 0.9653\n",
      "Epoch 97/100\n",
      "36/36 [==============================] - 0s 1ms/step - loss: 0.0903 - accuracy: 0.9774 - val_loss: 0.0973 - val_accuracy: 0.9514\n",
      "Epoch 98/100\n",
      "36/36 [==============================] - 0s 1ms/step - loss: 0.0904 - accuracy: 0.9730 - val_loss: 0.0948 - val_accuracy: 0.9722\n",
      "Epoch 99/100\n",
      "36/36 [==============================] - 0s 1ms/step - loss: 0.0902 - accuracy: 0.9748 - val_loss: 0.0969 - val_accuracy: 0.9583\n",
      "Epoch 100/100\n",
      "36/36 [==============================] - 0s 1ms/step - loss: 0.0894 - accuracy: 0.9782 - val_loss: 0.0958 - val_accuracy: 0.9618\n"
     ]
    }
   ],
   "source": [
    "history = model.fit(X_train, y_train, epochs=100,\n",
    "                    validation_data=(X_valid, y_valid)\n",
    ")"
   ]
  },
  {
   "cell_type": "code",
   "execution_count": 23,
   "metadata": {
    "hidden": true
   },
   "outputs": [
    {
     "data": {
      "image/png": "[encoded data removed]",
      "text/plain": [
       "<Figure size 432x288 with 1 Axes>"
      ]
     },
     "metadata": {},
     "output_type": "display_data"
    }
   ],
   "source": [
    "metrics = ['loss','val_loss']\n",
    "for metric in metrics:\n",
    "    plt.plot(history.history[metric], label=metric)\n",
    "\n",
    "plt.legend()\n",
    "plt.tight_layout()"
   ]
  },
  {
   "cell_type": "markdown",
   "metadata": {
    "heading_collapsed": true
   },
   "source": [
    "# Dropout"
   ]
  },
  {
   "cell_type": "markdown",
   "metadata": {
    "hidden": true
   },
   "source": [
    "You want to even out your workouts, otherwise you may have some strange results..."
   ]
  },
  {
   "cell_type": "markdown",
   "metadata": {
    "hidden": true
   },
   "source": [
    "<img src='img/homer-dropout-comparison.jpg'/>"
   ]
  },
  {
   "cell_type": "markdown",
   "metadata": {
    "hidden": true
   },
   "source": [
    "Well, our neural network models are the same way. The model should get _evenly_ trained. We don't want to train the same node/pathway over and over again.\n",
    "We'll assign probabilities of 'dropout' and then let fate decide.\n",
    "\n",
    "So what does dropout do? At every iteration, it randomly selects some nodes and removes them along with all of their incoming and outgoing connections as shown below.\n",
    "![](https://cdn.analyticsvidhya.com/wp-content/uploads/2018/04/Screen-Shot-2018-04-03-at-11.52.06-PM.png)\n",
    "\n",
    "So each iteration has a different set of nodes and this results in a different set of outputs. It can also be thought of as an ensemble technique in machine learning.\n",
    "\n",
    "Ensemble models usually perform better than a single model as they capture more randomness. Similarly, dropout also performs better than a normal neural network model.\n"
   ]
  },
  {
   "cell_type": "markdown",
   "metadata": {
    "heading_collapsed": true,
    "hidden": true
   },
   "source": [
    "## Avoiding the Self-Perpetuating Strength Training"
   ]
  },
  {
   "cell_type": "markdown",
   "metadata": {
    "hidden": true
   },
   "source": [
    "When working out, we'd train our left and right arms evenly and switch our exercise routine throughout the week.\n",
    "\n",
    "In neural networks, we switch around which nodes we use during our training."
   ]
  },
  {
   "cell_type": "markdown",
   "metadata": {
    "hidden": true
   },
   "source": [
    "Assign a probability of using a given node for that epoch (usually about 20% chance). When we have many epochs, we likely will even out the randomness"
   ]
  },
  {
   "cell_type": "markdown",
   "metadata": {
    "hidden": true
   },
   "source": [
    "<img src='img/layered-neural-net.jpg'/>"
   ]
  },
  {
   "cell_type": "markdown",
   "metadata": {
    "heading_collapsed": true,
    "hidden": true
   },
   "source": [
    "## Example Code"
   ]
  },
  {
   "cell_type": "code",
   "execution_count": 24,
   "metadata": {
    "hidden": true
   },
   "outputs": [
    {
     "name": "stdout",
     "output_type": "stream",
     "text": [
      "Model: \"sequential_4\"\n",
      "_________________________________________________________________\n",
      "Layer (type)                 Output Shape              Param #   \n",
      "=================================================================\n",
      "input_layer (Dense)          (None, 32)                2080      \n",
      "_________________________________________________________________\n",
      "input_dropout (Dropout)      (None, 32)                0         \n",
      "_________________________________________________________________\n",
      "hidden_layer1 (Dense)        (None, 24)                792       \n",
      "_________________________________________________________________\n",
      "hidden_layer1_dropout (Dropo (None, 24)                0         \n",
      "_________________________________________________________________\n",
      "hidden_layer2 (Dense)        (None, 24)                600       \n",
      "_________________________________________________________________\n",
      "hidden_layer2_dropout (Dropo (None, 24)                0         \n",
      "_________________________________________________________________\n",
      "output (Dense)               (None, 10)                250       \n",
      "=================================================================\n",
      "Total params: 3,722\n",
      "Trainable params: 3,722\n",
      "Non-trainable params: 0\n",
      "_________________________________________________________________\n"
     ]
    }
   ],
   "source": [
    "n_classes = 10\n",
    "\n",
    "model = Sequential()\n",
    "\n",
    "# Input Layer\n",
    "model.add(Dense(32, input_dim=64, activation='relu', name='input_layer'))\n",
    "model.add(Dropout(0.2, name='input_dropout'))\n",
    "# Hidden Layer\n",
    "model.add(Dense(24, activation='relu', name='hidden_layer1'))\n",
    "model.add(Dropout(0.2, name='hidden_layer1_dropout'))\n",
    "# Hidden Layer\n",
    "model.add(Dense(24, activation='relu', name='hidden_layer2'))\n",
    "model.add(Dropout(0.2, name='hidden_layer2_dropout'))\n",
    "# Output Layer\n",
    "model.add(Dense(n_classes, activation='softmax', name='output'))\n",
    "\n",
    "model.summary()"
   ]
  },
  {
   "cell_type": "code",
   "execution_count": 25,
   "metadata": {
    "hidden": true,
    "scrolled": true
   },
   "outputs": [
    {
     "name": "stdout",
     "output_type": "stream",
     "text": [
      "Epoch 1/100\n",
      "36/36 [==============================] - 1s 5ms/step - loss: 3.4690 - accuracy: 0.1131 - val_loss: 2.2278 - val_accuracy: 0.1597\n",
      "Epoch 2/100\n",
      "36/36 [==============================] - 0s 1ms/step - loss: 2.3473 - accuracy: 0.1810 - val_loss: 1.9986 - val_accuracy: 0.3924\n",
      "Epoch 3/100\n",
      "36/36 [==============================] - 0s 2ms/step - loss: 2.0720 - accuracy: 0.2724 - val_loss: 1.7282 - val_accuracy: 0.5486\n",
      "Epoch 4/100\n",
      "36/36 [==============================] - 0s 2ms/step - loss: 1.8449 - accuracy: 0.3464 - val_loss: 1.4303 - val_accuracy: 0.6528\n",
      "Epoch 5/100\n",
      "36/36 [==============================] - 0s 2ms/step - loss: 1.6225 - accuracy: 0.4621 - val_loss: 1.1578 - val_accuracy: 0.7535\n",
      "Epoch 6/100\n",
      "36/36 [==============================] - 0s 2ms/step - loss: 1.4524 - accuracy: 0.5048 - val_loss: 0.9700 - val_accuracy: 0.7743\n",
      "Epoch 7/100\n",
      "36/36 [==============================] - 0s 2ms/step - loss: 1.3057 - accuracy: 0.5457 - val_loss: 0.7998 - val_accuracy: 0.8160\n",
      "Epoch 8/100\n",
      "36/36 [==============================] - 0s 2ms/step - loss: 1.1529 - accuracy: 0.6249 - val_loss: 0.6596 - val_accuracy: 0.8542\n",
      "Epoch 9/100\n",
      "36/36 [==============================] - 0s 2ms/step - loss: 1.0492 - accuracy: 0.6336 - val_loss: 0.5745 - val_accuracy: 0.8785\n",
      "Epoch 10/100\n",
      "36/36 [==============================] - 0s 2ms/step - loss: 0.9692 - accuracy: 0.6693 - val_loss: 0.4624 - val_accuracy: 0.9062\n",
      "Epoch 11/100\n",
      "36/36 [==============================] - 0s 2ms/step - loss: 0.8845 - accuracy: 0.6954 - val_loss: 0.4442 - val_accuracy: 0.9028\n",
      "Epoch 12/100\n",
      "36/36 [==============================] - 0s 1ms/step - loss: 0.7969 - accuracy: 0.7189 - val_loss: 0.3677 - val_accuracy: 0.9028\n",
      "Epoch 13/100\n",
      "36/36 [==============================] - 0s 1ms/step - loss: 0.7213 - accuracy: 0.7467 - val_loss: 0.3421 - val_accuracy: 0.9132\n",
      "Epoch 14/100\n",
      "36/36 [==============================] - 0s 1ms/step - loss: 0.7413 - accuracy: 0.7581 - val_loss: 0.3060 - val_accuracy: 0.9167\n",
      "Epoch 15/100\n",
      "36/36 [==============================] - 0s 1ms/step - loss: 0.6989 - accuracy: 0.7755 - val_loss: 0.2903 - val_accuracy: 0.9271\n",
      "Epoch 16/100\n",
      "36/36 [==============================] - 0s 1ms/step - loss: 0.6067 - accuracy: 0.8068 - val_loss: 0.2792 - val_accuracy: 0.9306\n",
      "Epoch 17/100\n",
      "36/36 [==============================] - 0s 1ms/step - loss: 0.5759 - accuracy: 0.8233 - val_loss: 0.2646 - val_accuracy: 0.9340\n",
      "Epoch 18/100\n",
      "36/36 [==============================] - 0s 2ms/step - loss: 0.6140 - accuracy: 0.8042 - val_loss: 0.2629 - val_accuracy: 0.9549\n",
      "Epoch 19/100\n",
      "36/36 [==============================] - 0s 2ms/step - loss: 0.5716 - accuracy: 0.8068 - val_loss: 0.2461 - val_accuracy: 0.9583\n",
      "Epoch 20/100\n",
      "36/36 [==============================] - 0s 2ms/step - loss: 0.5133 - accuracy: 0.8329 - val_loss: 0.2269 - val_accuracy: 0.9514\n",
      "Epoch 21/100\n",
      "36/36 [==============================] - 0s 2ms/step - loss: 0.5300 - accuracy: 0.8242 - val_loss: 0.2145 - val_accuracy: 0.9444\n",
      "Epoch 22/100\n",
      "36/36 [==============================] - 0s 2ms/step - loss: 0.4512 - accuracy: 0.8564 - val_loss: 0.2134 - val_accuracy: 0.9514\n",
      "Epoch 23/100\n",
      "36/36 [==============================] - 0s 2ms/step - loss: 0.4622 - accuracy: 0.8607 - val_loss: 0.2080 - val_accuracy: 0.9444\n",
      "Epoch 24/100\n",
      "36/36 [==============================] - 0s 2ms/step - loss: 0.4358 - accuracy: 0.8468 - val_loss: 0.2026 - val_accuracy: 0.9479\n",
      "Epoch 25/100\n",
      "36/36 [==============================] - 0s 2ms/step - loss: 0.4418 - accuracy: 0.8547 - val_loss: 0.2096 - val_accuracy: 0.9514\n",
      "Epoch 26/100\n",
      "36/36 [==============================] - 0s 2ms/step - loss: 0.4132 - accuracy: 0.8721 - val_loss: 0.1595 - val_accuracy: 0.9583\n",
      "Epoch 27/100\n",
      "36/36 [==============================] - 0s 2ms/step - loss: 0.4085 - accuracy: 0.8686 - val_loss: 0.1652 - val_accuracy: 0.9618\n",
      "Epoch 28/100\n",
      "36/36 [==============================] - 0s 2ms/step - loss: 0.3853 - accuracy: 0.8764 - val_loss: 0.1718 - val_accuracy: 0.9549\n",
      "Epoch 29/100\n",
      "36/36 [==============================] - 0s 2ms/step - loss: 0.3598 - accuracy: 0.8834 - val_loss: 0.1708 - val_accuracy: 0.9549\n",
      "Epoch 30/100\n",
      "36/36 [==============================] - 0s 2ms/step - loss: 0.3457 - accuracy: 0.8921 - val_loss: 0.1669 - val_accuracy: 0.9479\n",
      "Epoch 31/100\n",
      "36/36 [==============================] - 0s 1ms/step - loss: 0.4089 - accuracy: 0.8851 - val_loss: 0.1615 - val_accuracy: 0.9514\n",
      "Epoch 32/100\n",
      "36/36 [==============================] - 0s 1ms/step - loss: 0.3496 - accuracy: 0.8895 - val_loss: 0.1695 - val_accuracy: 0.9514\n",
      "Epoch 33/100\n",
      "36/36 [==============================] - 0s 2ms/step - loss: 0.3048 - accuracy: 0.9069 - val_loss: 0.1645 - val_accuracy: 0.9583\n",
      "Epoch 34/100\n",
      "36/36 [==============================] - 0s 1ms/step - loss: 0.3239 - accuracy: 0.8903 - val_loss: 0.1699 - val_accuracy: 0.9514\n",
      "Epoch 35/100\n",
      "36/36 [==============================] - 0s 1ms/step - loss: 0.3591 - accuracy: 0.8886 - val_loss: 0.1506 - val_accuracy: 0.9583\n",
      "Epoch 36/100\n",
      "36/36 [==============================] - 0s 1ms/step - loss: 0.3330 - accuracy: 0.9025 - val_loss: 0.1587 - val_accuracy: 0.9618\n",
      "Epoch 37/100\n",
      "36/36 [==============================] - 0s 1ms/step - loss: 0.3021 - accuracy: 0.9077 - val_loss: 0.1380 - val_accuracy: 0.9653\n",
      "Epoch 38/100\n",
      "36/36 [==============================] - 0s 1ms/step - loss: 0.3286 - accuracy: 0.8982 - val_loss: 0.1476 - val_accuracy: 0.9583\n",
      "Epoch 39/100\n",
      "36/36 [==============================] - 0s 1ms/step - loss: 0.2911 - accuracy: 0.9025 - val_loss: 0.1514 - val_accuracy: 0.9583\n",
      "Epoch 40/100\n",
      "36/36 [==============================] - 0s 1ms/step - loss: 0.3220 - accuracy: 0.9017 - val_loss: 0.1333 - val_accuracy: 0.9618\n",
      "Epoch 41/100\n",
      "36/36 [==============================] - 0s 1ms/step - loss: 0.3119 - accuracy: 0.9130 - val_loss: 0.1491 - val_accuracy: 0.9514\n",
      "Epoch 42/100\n",
      "36/36 [==============================] - 0s 1ms/step - loss: 0.2797 - accuracy: 0.9034 - val_loss: 0.1490 - val_accuracy: 0.9549\n",
      "Epoch 43/100\n",
      "36/36 [==============================] - 0s 1ms/step - loss: 0.2439 - accuracy: 0.9164 - val_loss: 0.1512 - val_accuracy: 0.9653\n",
      "Epoch 44/100\n",
      "36/36 [==============================] - 0s 1ms/step - loss: 0.2638 - accuracy: 0.9164 - val_loss: 0.1552 - val_accuracy: 0.9549\n",
      "Epoch 45/100\n",
      "36/36 [==============================] - 0s 2ms/step - loss: 0.2369 - accuracy: 0.9260 - val_loss: 0.1697 - val_accuracy: 0.9479\n",
      "Epoch 46/100\n",
      "36/36 [==============================] - 0s 2ms/step - loss: 0.3089 - accuracy: 0.9147 - val_loss: 0.1603 - val_accuracy: 0.9653\n",
      "Epoch 47/100\n",
      "36/36 [==============================] - 0s 2ms/step - loss: 0.2695 - accuracy: 0.9173 - val_loss: 0.1526 - val_accuracy: 0.9549\n",
      "Epoch 48/100\n",
      "36/36 [==============================] - 0s 2ms/step - loss: 0.2167 - accuracy: 0.9278 - val_loss: 0.1491 - val_accuracy: 0.9653\n",
      "Epoch 49/100\n",
      "36/36 [==============================] - 0s 2ms/step - loss: 0.2392 - accuracy: 0.9225 - val_loss: 0.1701 - val_accuracy: 0.9549\n",
      "Epoch 50/100\n",
      "36/36 [==============================] - 0s 2ms/step - loss: 0.2595 - accuracy: 0.9260 - val_loss: 0.1382 - val_accuracy: 0.9653\n",
      "Epoch 51/100\n",
      "36/36 [==============================] - 0s 1ms/step - loss: 0.2567 - accuracy: 0.9182 - val_loss: 0.1469 - val_accuracy: 0.9722\n",
      "Epoch 52/100\n",
      "36/36 [==============================] - 0s 1ms/step - loss: 0.2485 - accuracy: 0.9269 - val_loss: 0.1415 - val_accuracy: 0.9688\n",
      "Epoch 53/100\n",
      "36/36 [==============================] - 0s 1ms/step - loss: 0.2680 - accuracy: 0.9243 - val_loss: 0.1360 - val_accuracy: 0.9653\n",
      "Epoch 54/100\n",
      "36/36 [==============================] - 0s 2ms/step - loss: 0.2485 - accuracy: 0.9225 - val_loss: 0.1440 - val_accuracy: 0.9618\n",
      "Epoch 55/100\n",
      "36/36 [==============================] - 0s 2ms/step - loss: 0.2343 - accuracy: 0.9365 - val_loss: 0.1311 - val_accuracy: 0.9757\n",
      "Epoch 56/100\n",
      "36/36 [==============================] - 0s 2ms/step - loss: 0.2554 - accuracy: 0.9304 - val_loss: 0.1304 - val_accuracy: 0.9722\n",
      "Epoch 57/100\n",
      "36/36 [==============================] - 0s 2ms/step - loss: 0.2037 - accuracy: 0.9312 - val_loss: 0.1369 - val_accuracy: 0.9653\n",
      "Epoch 58/100\n",
      "36/36 [==============================] - 0s 2ms/step - loss: 0.2236 - accuracy: 0.9330 - val_loss: 0.1366 - val_accuracy: 0.9722\n"
     ]
    },
    {
     "name": "stdout",
     "output_type": "stream",
     "text": [
      "Epoch 59/100\n",
      "36/36 [==============================] - 0s 1ms/step - loss: 0.2090 - accuracy: 0.9391 - val_loss: 0.1469 - val_accuracy: 0.9618\n",
      "Epoch 60/100\n",
      "36/36 [==============================] - 0s 1ms/step - loss: 0.1965 - accuracy: 0.9399 - val_loss: 0.1354 - val_accuracy: 0.9583\n",
      "Epoch 61/100\n",
      "36/36 [==============================] - 0s 2ms/step - loss: 0.2209 - accuracy: 0.9330 - val_loss: 0.1445 - val_accuracy: 0.9583\n",
      "Epoch 62/100\n",
      "36/36 [==============================] - 0s 2ms/step - loss: 0.1738 - accuracy: 0.9408 - val_loss: 0.1380 - val_accuracy: 0.9722\n",
      "Epoch 63/100\n",
      "36/36 [==============================] - 0s 2ms/step - loss: 0.1925 - accuracy: 0.9399 - val_loss: 0.1340 - val_accuracy: 0.9722\n",
      "Epoch 64/100\n",
      "36/36 [==============================] - 0s 2ms/step - loss: 0.2072 - accuracy: 0.9408 - val_loss: 0.1451 - val_accuracy: 0.9688\n",
      "Epoch 65/100\n",
      "36/36 [==============================] - 0s 2ms/step - loss: 0.1988 - accuracy: 0.9391 - val_loss: 0.1334 - val_accuracy: 0.9688\n",
      "Epoch 66/100\n",
      "36/36 [==============================] - 0s 2ms/step - loss: 0.2040 - accuracy: 0.9452 - val_loss: 0.1275 - val_accuracy: 0.9653\n",
      "Epoch 67/100\n",
      "36/36 [==============================] - 0s 2ms/step - loss: 0.1687 - accuracy: 0.9521 - val_loss: 0.1155 - val_accuracy: 0.9653\n",
      "Epoch 68/100\n",
      "36/36 [==============================] - 0s 2ms/step - loss: 0.1994 - accuracy: 0.9391 - val_loss: 0.1504 - val_accuracy: 0.9618\n",
      "Epoch 69/100\n",
      "36/36 [==============================] - 0s 2ms/step - loss: 0.2078 - accuracy: 0.9382 - val_loss: 0.1205 - val_accuracy: 0.9757\n",
      "Epoch 70/100\n",
      "36/36 [==============================] - 0s 2ms/step - loss: 0.2100 - accuracy: 0.9373 - val_loss: 0.1172 - val_accuracy: 0.9688\n",
      "Epoch 71/100\n",
      "36/36 [==============================] - 0s 2ms/step - loss: 0.1807 - accuracy: 0.9469 - val_loss: 0.1375 - val_accuracy: 0.9653\n",
      "Epoch 72/100\n",
      "36/36 [==============================] - 0s 2ms/step - loss: 0.1760 - accuracy: 0.9521 - val_loss: 0.1365 - val_accuracy: 0.9688\n",
      "Epoch 73/100\n",
      "36/36 [==============================] - 0s 2ms/step - loss: 0.2014 - accuracy: 0.9417 - val_loss: 0.1241 - val_accuracy: 0.9722\n",
      "Epoch 74/100\n",
      "36/36 [==============================] - 0s 2ms/step - loss: 0.1828 - accuracy: 0.9460 - val_loss: 0.1375 - val_accuracy: 0.9653\n",
      "Epoch 75/100\n",
      "36/36 [==============================] - 0s 1ms/step - loss: 0.2050 - accuracy: 0.9434 - val_loss: 0.1316 - val_accuracy: 0.9722\n",
      "Epoch 76/100\n",
      "36/36 [==============================] - 0s 1ms/step - loss: 0.1654 - accuracy: 0.9513 - val_loss: 0.1374 - val_accuracy: 0.9722\n",
      "Epoch 77/100\n",
      "36/36 [==============================] - 0s 1ms/step - loss: 0.1920 - accuracy: 0.9382 - val_loss: 0.1510 - val_accuracy: 0.9618\n",
      "Epoch 78/100\n",
      "36/36 [==============================] - 0s 1ms/step - loss: 0.1675 - accuracy: 0.9513 - val_loss: 0.1767 - val_accuracy: 0.9583\n",
      "Epoch 79/100\n",
      "36/36 [==============================] - 0s 1ms/step - loss: 0.1880 - accuracy: 0.9443 - val_loss: 0.1497 - val_accuracy: 0.9618\n",
      "Epoch 80/100\n",
      "36/36 [==============================] - 0s 1ms/step - loss: 0.1706 - accuracy: 0.9495 - val_loss: 0.1335 - val_accuracy: 0.9722\n",
      "Epoch 81/100\n",
      "36/36 [==============================] - 0s 1ms/step - loss: 0.1894 - accuracy: 0.9417 - val_loss: 0.1252 - val_accuracy: 0.9722\n",
      "Epoch 82/100\n",
      "36/36 [==============================] - 0s 1ms/step - loss: 0.2049 - accuracy: 0.9391 - val_loss: 0.1365 - val_accuracy: 0.9653\n",
      "Epoch 83/100\n",
      "36/36 [==============================] - 0s 1ms/step - loss: 0.1395 - accuracy: 0.9539 - val_loss: 0.1243 - val_accuracy: 0.9792\n",
      "Epoch 84/100\n",
      "36/36 [==============================] - 0s 1ms/step - loss: 0.1801 - accuracy: 0.9495 - val_loss: 0.1583 - val_accuracy: 0.9653\n",
      "Epoch 85/100\n",
      "36/36 [==============================] - 0s 1ms/step - loss: 0.1761 - accuracy: 0.9547 - val_loss: 0.1319 - val_accuracy: 0.9757\n",
      "Epoch 86/100\n",
      "36/36 [==============================] - 0s 1ms/step - loss: 0.1459 - accuracy: 0.9539 - val_loss: 0.1398 - val_accuracy: 0.9688\n",
      "Epoch 87/100\n",
      "36/36 [==============================] - 0s 1ms/step - loss: 0.1622 - accuracy: 0.9487 - val_loss: 0.1651 - val_accuracy: 0.9618\n",
      "Epoch 88/100\n",
      "36/36 [==============================] - 0s 1ms/step - loss: 0.1686 - accuracy: 0.9513 - val_loss: 0.1378 - val_accuracy: 0.9653\n",
      "Epoch 89/100\n",
      "36/36 [==============================] - 0s 2ms/step - loss: 0.1852 - accuracy: 0.9487 - val_loss: 0.1327 - val_accuracy: 0.9757\n",
      "Epoch 90/100\n",
      "36/36 [==============================] - 0s 2ms/step - loss: 0.1447 - accuracy: 0.9634 - val_loss: 0.1233 - val_accuracy: 0.9688\n",
      "Epoch 91/100\n",
      "36/36 [==============================] - 0s 2ms/step - loss: 0.1829 - accuracy: 0.9469 - val_loss: 0.1065 - val_accuracy: 0.9757\n",
      "Epoch 92/100\n",
      "36/36 [==============================] - 0s 2ms/step - loss: 0.1458 - accuracy: 0.9547 - val_loss: 0.1365 - val_accuracy: 0.9618\n",
      "Epoch 93/100\n",
      "36/36 [==============================] - 0s 2ms/step - loss: 0.1837 - accuracy: 0.9460 - val_loss: 0.1307 - val_accuracy: 0.9653\n",
      "Epoch 94/100\n",
      "36/36 [==============================] - 0s 2ms/step - loss: 0.1543 - accuracy: 0.9547 - val_loss: 0.1298 - val_accuracy: 0.9688\n",
      "Epoch 95/100\n",
      "36/36 [==============================] - 0s 2ms/step - loss: 0.1842 - accuracy: 0.9521 - val_loss: 0.1304 - val_accuracy: 0.9722\n",
      "Epoch 96/100\n",
      "36/36 [==============================] - 0s 2ms/step - loss: 0.1533 - accuracy: 0.9478 - val_loss: 0.1447 - val_accuracy: 0.9653\n",
      "Epoch 97/100\n",
      "36/36 [==============================] - 0s 2ms/step - loss: 0.1650 - accuracy: 0.9556 - val_loss: 0.1594 - val_accuracy: 0.9618\n",
      "Epoch 98/100\n",
      "36/36 [==============================] - 0s 2ms/step - loss: 0.1486 - accuracy: 0.9600 - val_loss: 0.1492 - val_accuracy: 0.9653\n",
      "Epoch 99/100\n",
      "36/36 [==============================] - 0s 2ms/step - loss: 0.1687 - accuracy: 0.9565 - val_loss: 0.1584 - val_accuracy: 0.9653\n",
      "Epoch 100/100\n",
      "36/36 [==============================] - 0s 2ms/step - loss: 0.1446 - accuracy: 0.9513 - val_loss: 0.1592 - val_accuracy: 0.9618\n"
     ]
    }
   ],
   "source": [
    "model.compile(optimizer='rmsprop',\n",
    "              loss='categorical_crossentropy',\n",
    "              metrics=['accuracy'])\n",
    "\n",
    "history = model.fit(X_train, y_train, epochs=100,\n",
    "                    validation_data=(X_valid, y_valid)\n",
    ")"
   ]
  },
  {
   "cell_type": "code",
   "execution_count": 26,
   "metadata": {
    "hidden": true
   },
   "outputs": [
    {
     "data": {
      "image/png": "[encoded data removed]",
      "text/plain": [
       "<Figure size 432x288 with 1 Axes>"
      ]
     },
     "metadata": {},
     "output_type": "display_data"
    }
   ],
   "source": [
    "metrics = ['loss','val_loss']\n",
    "for metric in metrics:\n",
    "    plt.plot(history.history[metric], label=metric)\n",
    "\n",
    "plt.legend()\n",
    "plt.tight_layout()"
   ]
  },
  {
   "cell_type": "markdown",
   "metadata": {},
   "source": [
    "## Final Notes\n",
    "\n",
    "### On batch size: \n",
    "- Starting with a batch size of 32 is a good idea. If you receive mini-batch errors you could try reducing the size of your batch by powers of 2(128->64->32->16) \n",
    "- If your model trains well(cost is reducing consistently) but each epoch takes a long time to run, you could try increasing your batch size(you will need ram to spare). Also, you are more likely to get caught at a local minimum with larger batches. \n",
    "\n",
    "### On Optimization functions: \n",
    "- Check out [THIS](https://github.com/Amberlynnyandow/bsc-lecture-material/blob/main/phase_4/optimizations.ipynb) notebook for more details on different optimizers and their uses. "
   ]
  },
  {
   "cell_type": "code",
   "execution_count": null,
   "metadata": {},
   "outputs": [],
   "source": []
  }
 ],
 "metadata": {
  "kernelspec": {
   "display_name": "Python 3",
   "language": "python",
   "name": "python3"
  },
  "language_info": {
   "codemirror_mode": {
    "name": "ipython",
    "version": 3
   },
   "file_extension": ".py",
   "mimetype": "text/x-python",
   "name": "python",
   "nbconvert_exporter": "python",
   "pygments_lexer": "ipython3",
   "version": "3.8.8"
  },
  "toc": {
   "base_numbering": 1,
   "nav_menu": {},
   "number_sections": true,
   "sideBar": true,
   "skip_h1_title": false,
   "title_cell": "Table of Contents",
   "title_sidebar": "Contents",
   "toc_cell": true,
   "toc_position": {
    "height": "calc(100% - 180px)",
    "left": "10px",
    "top": "150px",
    "width": "271px"
   },
   "toc_section_display": true,
   "toc_window_display": true
  },
  "varInspector": {
   "cols": {
    "lenName": 16,
    "lenType": 16,
    "lenVar": 40
   },
   "kernels_config": {
    "python": {
     "delete_cmd_postfix": "",
     "delete_cmd_prefix": "del ",
     "library": "var_list.py",
     "varRefreshCmd": "print(var_dic_list())"
    },
    "r": {
     "delete_cmd_postfix": ") ",
     "delete_cmd_prefix": "rm(",
     "library": "var_list.r",
     "varRefreshCmd": "cat(var_dic_list()) "
    }
   },
   "types_to_exclude": [
    "module",
    "function",
    "builtin_function_or_method",
    "instance",
    "_Feature"
   ],
   "window_display": false
  }
 },
 "nbformat": 4,
 "nbformat_minor": 2
}
