{
 "cells": [
  {
   "cell_type": "markdown",
   "id": "9b25947c",
   "metadata": {},
   "source": [
    "## EXERCISE: \n",
    "**Use OOP to create a gradient descent class with Linear Regression using MSE(same as RSS only divided by total # of data points) as a Cost Function**"
   ]
  },
  {
   "cell_type": "markdown",
   "id": "97936aea",
   "metadata": {},
   "source": [
    "### Reminder: Steps to find the optimal slope and intercept of a line of best fit using RSS as our cost function \n",
    "1. Take the partial derivative of the loss function for each parameter(gradient).\n",
    "2. Pick random values for the parameters. \n",
    "3. Plug the parameter values into the derivatives. \n",
    "4. Calculate the step sizes (slope * learning rate) \n",
    "5. Calculate new parameters (old parameters - step size) \n",
    "6. Repeat steps 3-5 until max number of steps is reached or minimum step size is reached. \n"
   ]
  },
  {
   "cell_type": "code",
   "execution_count": null,
   "id": "2c2986ba",
   "metadata": {},
   "outputs": [],
   "source": [
    "import numpy as np "
   ]
  },
  {
   "cell_type": "code",
   "execution_count": null,
   "id": "b543a657",
   "metadata": {},
   "outputs": [],
   "source": [
    "class GradientDescentRSS:\n",
    "    None "
   ]
  },
  {
   "cell_type": "markdown",
   "id": "4333cea2",
   "metadata": {},
   "source": [
    "## Let's see if it worked!"
   ]
  },
  {
   "cell_type": "code",
   "execution_count": null,
   "id": "6c26fd82",
   "metadata": {},
   "outputs": [],
   "source": [
    "#create a cloud of points normally distributed around the line y=x \n",
    "np.random.seed(42)\n",
    "X = np.array(sorted(list(range(5))*20)) + np.random.normal(size=100, scale=0.5)\n",
    "y = np.array(sorted(list(range(5))*20)) + np.random.normal(size=100, scale=0.25)"
   ]
  },
  {
   "cell_type": "code",
   "execution_count": null,
   "id": "f6c83e2c",
   "metadata": {},
   "outputs": [],
   "source": [
    "#instantiate a linear regression "
   ]
  },
  {
   "cell_type": "code",
   "execution_count": null,
   "id": "9cba0d4c",
   "metadata": {},
   "outputs": [],
   "source": [
    "#fit gradient descent to our data"
   ]
  },
  {
   "cell_type": "code",
   "execution_count": null,
   "id": "f12b6afa",
   "metadata": {},
   "outputs": [],
   "source": [
    "#create a scatter plot with a predicted line of best fit to our data \n",
    "import matplotlib.pyplot as plt \n",
    "%matplotlib inline \n",
    "plt.scatter(X, y, color='black')\n",
    "plt.plot(X, lr.predict(X))"
   ]
  },
  {
   "cell_type": "code",
   "execution_count": null,
   "id": "379bfeaa",
   "metadata": {},
   "outputs": [],
   "source": [
    "#What are the values of our intercept and slope?"
   ]
  }
 ],
 "metadata": {
  "kernelspec": {
   "display_name": "learn-env",
   "language": "python",
   "name": "learn-env"
  },
  "language_info": {
   "codemirror_mode": {
    "name": "ipython",
    "version": 3
   },
   "file_extension": ".py",
   "mimetype": "text/x-python",
   "name": "python",
   "nbconvert_exporter": "python",
   "pygments_lexer": "ipython3",
   "version": "3.8.5"
  }
 },
 "nbformat": 4,
 "nbformat_minor": 5
}
