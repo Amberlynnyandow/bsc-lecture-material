{
 "cells": [
  {
   "cell_type": "markdown",
   "id": "9a72fa62",
   "metadata": {},
   "source": [
    "# Linear Algebra \n",
    "## Why is it important? \n",
    "\n",
    "Linear algebra is a fundamental aspect of data science models and problems, including image processing, deep learning, natural language processing, recommender systems, and dimensionality reduction techniques like principal components analysis, which we will cover later.\n",
    "\n",
    "We'll see linear algebra can be used to model complicated things like language: \n",
    "\n",
    "<img src = \"img/Word-Vectors.png\">\n",
    "\n",
    "Linear algebra is important for image compression and recognition\n",
    "\n",
    "<img src = \"img/images.gif\">\n",
    "\n",
    "Recommendation engines are able to make much more sophisticated recommendations by using linear algebra in conjunction with user and content data.\n",
    "\n",
    "<img src = \"img/netflix.png\">\n",
    "\n",
    "It's the basis for machine learning models. "
   ]
  },
  {
   "cell_type": "markdown",
   "id": "75f70710",
   "metadata": {},
   "source": [
    "# Objectives\n",
    "\n",
    "* Understand vectors and dot products \n",
    "* Understand matrices and dot products \n",
    "* Be able to calculate indentity matrices and inverse matrices \n",
    "* Understand how vectors and matrices are used to solve linear equations \n",
    "* Get a better picture of what is happening mathematically in linear regression "
   ]
  },
  {
   "cell_type": "markdown",
   "id": "19931f68",
   "metadata": {},
   "source": [
    "## Understanding Scalars, Vectors and Matrices \n",
    "In linear algebra data is represented in the form of linear equations. These linear equations are in turn represented in the form of matrices and vectors.\n",
    "\n",
    "The number of variables as well as the number of equations may vary depending upon the conditions, but the representation is always in form of matrices and vectors.\n",
    "\n",
    "![](https://github.com/flatiron-school/ds-linear_algebra-kvo32/raw/405e8e626ce74afca9b95394720ab38c3124a65f/img/different_tensors.png)"
   ]
  },
  {
   "cell_type": "markdown",
   "id": "f53042c2",
   "metadata": {},
   "source": [
    "## Vectors "
   ]
  },
  {
   "cell_type": "markdown",
   "id": "1d2d16b9",
   "metadata": {},
   "source": [
    "### What are they? \n",
    "A vector is a numeric element that has both magnitude and direction. The magnitude represents a distance (for example, \"2 miles\") and the direction indicates which way the vector is headed (for example, \"East\").\n",
    "\n",
    "We tend to work with vectors by expressing their components as _cartesian coordinates_; that is, x and y values that define the number of units travelled along each dimension. So the coordinates of a (2,1) vector, which we represent like this, \\begin{equation}\\vec{v} = \\begin{bmatrix}2 \\\\ 1 \\end{bmatrix}\\end{equation} indicate that we must travel 2 units along the x axis, and 1 unit along the y axis.\n",
    "\n",
    "However, you can also work with vectors in terms of their polar coordinates; that is coordinates that describe the magnitude and direction of the vector. The magnitude is the overall distance of the vector from tail to head, and the direction is the angle at which the vector is oriented.\n"
   ]
  },
  {
   "cell_type": "markdown",
   "id": "552f0ac9",
   "metadata": {},
   "source": [
    "# Vector arithmetic \n"
   ]
  },
  {
   "cell_type": "markdown",
   "id": "1766589b",
   "metadata": {},
   "source": [
    "\n",
    "## Vector Addition\n",
    "\n",
    "Vector addition is simple: Just add the components together. \n",
    "\n",
    "Say we have two two-dimensional vectors $\\mathbf{v_1}$ and $\\mathbf{v_2}$, where $\\mathbf{v_1} = \\begin{bmatrix}\n",
    "8 \\\\\n",
    "14\n",
    "\\end{bmatrix}$ and $\\mathbf{v_2} = \\begin{bmatrix}\n",
    "7 \\\\\n",
    "6\n",
    "\\end{bmatrix}$. \n",
    "\n",
    "The sum of the two vectors, $\\mathbf{v}$, is equal to: \n",
    "$$\\mathbf{v} = \\mathbf{v_1} + \\mathbf{v_2} = \\begin{bmatrix}\n",
    "15 \\\\\n",
    "20\n",
    "\\end{bmatrix} $$\n",
    "\n",
    "How do we code this? "
   ]
  },
  {
   "cell_type": "code",
   "execution_count": null,
   "id": "6ac655d3",
   "metadata": {},
   "outputs": [],
   "source": [
    "# Try this \n",
    "\n",
    "v_1 = [8, 14]\n",
    "v_2 = [7, 6]\n",
    "\n",
    "v_1 + v_2"
   ]
  },
  {
   "cell_type": "markdown",
   "id": "49948d9d",
   "metadata": {},
   "source": [
    "This doesn't work!   \n",
    "\n",
    "\n",
    "> Base Python is not good for non-scalar arithmetic. This is one of the many places where NumPy can come in very handy! "
   ]
  },
  {
   "cell_type": "code",
   "execution_count": null,
   "id": "dd7ccff7",
   "metadata": {},
   "outputs": [],
   "source": [
    "# Let's try this again, using NumPy arrays \n",
    "\n",
    "import numpy as np \n",
    "#your code here"
   ]
  },
  {
   "cell_type": "markdown",
   "id": "935764ee",
   "metadata": {},
   "source": [
    "Notice we defined our vector as a numpy array. We passed in a list of values to create our vectors. \n",
    "\n",
    "> To represent a two-dimensional vector, we pass in a two-element list. If we wanted to represent a higher n-dimensional vector, we would pass in an n-element list to np.array. "
   ]
  },
  {
   "cell_type": "markdown",
   "id": "da4c9836",
   "metadata": {},
   "source": [
    "## Vector Multiplication\n",
    "\n",
    "Is base Python any better for vector _multiplication_ ? "
   ]
  },
  {
   "cell_type": "code",
   "execution_count": null,
   "id": "2e212673",
   "metadata": {},
   "outputs": [],
   "source": [
    "# Try multiplying the vectors (4, 14) and (8, 6)\n",
    "\n",
    "v_1 = (4, 14)\n",
    "v_2 = (8, 6)\n",
    "\n",
    "v_1*v_2"
   ]
  },
  {
   "cell_type": "markdown",
   "id": "82adeefa",
   "metadata": {},
   "source": [
    "Not really! \n",
    "\n",
    "There are multiple ways of understanding the notion of vector multiplication: \n",
    "* you can take the _dot product_ of two vectors to return a scalar\n",
    "* you can take the _cross product_ of two vectors to return a new vector\n",
    "\n",
    "The one we'll use the most is the _dot product_ of two vectors, which is defined as follows: \n",
    "\n",
    "> The dot product is the sum of the pairwise products of the vector's entries. \n",
    "\n",
    "Thus, for $\\mathbf{v_1} = \\begin{bmatrix}\n",
    "8 \\\\\n",
    "14\n",
    "\\end{bmatrix}$ and $\\mathbf{v_2} = \\begin{bmatrix}\n",
    "7 \\\\\n",
    "6\n",
    "\\end{bmatrix}$,  $\\mathbf{v_1} \\cdot \\mathbf{v_2} = 8(7) + 14(6) = 56 + 84 = 140 $ \n",
    "\n",
    "The dot product of two vectors is only defined when the two vectors have the same number of dimensions or elements\n",
    "\n",
    "Let's compute the dot product of two vectors with NumPy! "
   ]
  },
  {
   "cell_type": "code",
   "execution_count": null,
   "id": "ec3b8e55",
   "metadata": {},
   "outputs": [],
   "source": [
    "# Define the vectors as arrays using numpy \n",
    "v_1 = np.array([8, 14])\n",
    "v_2 = np.array([7, 6])"
   ]
  },
  {
   "cell_type": "code",
   "execution_count": null,
   "id": "56b8d56c",
   "metadata": {},
   "outputs": [],
   "source": [
    "v_1.dot(v_2)"
   ]
  },
  {
   "cell_type": "markdown",
   "id": "8119dc1d",
   "metadata": {},
   "source": [
    "# Higher dimensions: from vectors to matrices \n",
    "\n",
    "For higher dimensions we can use _matrices_. \n",
    "\n",
    "Suppose we have a two-dimensional system of linear equations. \n",
    "\n",
    "Let's reuse our previous example: \n",
    "\n",
    "$$2x + 4y = 10 \\\\\n",
    "x + 4y = 7$$\n",
    "\n",
    "We can write this as: \n",
    "\n",
    "$$A\\mathbf{x} = \\mathbf{b}$$ \n",
    "\n",
    "where \n",
    "\n",
    "$$A = \\begin{bmatrix}\n",
    "2 & 4 \\\\\n",
    "1 & 4 \n",
    "\\end{bmatrix},$$\n",
    "\n",
    "$$\\mathbf{x} = \\begin{bmatrix}\n",
    "x \\\\\n",
    "y\n",
    "\\end{bmatrix},$$ \n",
    "\n",
    "and \n",
    "\n",
    "$$\\mathbf{b} = \\begin{bmatrix}\n",
    "10 \\\\\n",
    "7\n",
    "\\end{bmatrix}$$\n",
    "\n",
    "Here, $A$ is the **matrix** of linear coefficients that relate the input variables $\\mathbf{x}$ (a vector of inputs) to the output variables $\\mathbf{b}$ (a vector of outputs). \n",
    "\n",
    "We'll look into how to solve systems of linear equations using numpy later in this lesson. First, we need to look at how to define matrices in NumPy! \n"
   ]
  },
  {
   "cell_type": "markdown",
   "id": "046e7534",
   "metadata": {},
   "source": [
    "## How do you define a matrix in NumPy? \n",
    "\n",
    "To define a matrix using NumPy, you need to pass a list of lists to `np.array`. \n",
    "\n",
    "Imagine we wanted to define the matrix $A = \\begin{bmatrix}\n",
    "2 & 4 \\\\\n",
    "1 & 4 \n",
    "\\end{bmatrix}$ \n",
    "\n",
    "To define the matrix $A$ using NumPy, run the following code: \n",
    "\n",
    "```python\n",
    "# Define the matrix A using np.array\n",
    "A = np.array([[2, 4], [1, 4]])\n",
    "print(A)\n",
    "```"
   ]
  },
  {
   "cell_type": "code",
   "execution_count": null,
   "id": "3b87f714",
   "metadata": {},
   "outputs": [],
   "source": [
    "# Define the matrix A using np.array\n",
    "A = np.array([[2, 4], [1, 4]])\n",
    "print(A)"
   ]
  },
  {
   "cell_type": "markdown",
   "id": "d5456207",
   "metadata": {},
   "source": [
    "If you want to define a $3\\times2$ dimensional matrix $B = \\begin{bmatrix}\n",
    "1 & 2 \\\\\n",
    "3 & 4 \\\\\n",
    "5 & 6\n",
    "\\end{bmatrix}$  , you  need to pass a list of 3 lists with 2 elements to `np.array`. \n"
   ]
  },
  {
   "cell_type": "code",
   "execution_count": null,
   "id": "f17ba3f0",
   "metadata": {},
   "outputs": [],
   "source": [
    "B = [[1, 2], [3, 4], [5, 6]]\n",
    "B = np.array(B)\n",
    "print(B)"
   ]
  },
  {
   "cell_type": "code",
   "execution_count": null,
   "id": "ed09a2fb",
   "metadata": {},
   "outputs": [],
   "source": [
    " print(B.shape)"
   ]
  },
  {
   "cell_type": "markdown",
   "id": "71c99967",
   "metadata": {},
   "source": [
    "## The transpose of a matrix\n",
    "\n",
    "Taking the transpose of a matrix will flip the rows and columns of a matrix. \n",
    "\n",
    "You'll find this an important step when performing operations with arrays in numpy. \n",
    "\n",
    "Compute $B^T$, the transpose of $B$, using `np.transpose()`, print it, and print its shape. "
   ]
  },
  {
   "cell_type": "code",
   "execution_count": null,
   "id": "ace49af4",
   "metadata": {},
   "outputs": [],
   "source": [
    "B_transpose = np.transpose(B)\n",
    "print(B_transpose)\n",
    "print(\"The shape of this matrix is {}.\".format(B_transpose.shape))"
   ]
  },
  {
   "cell_type": "markdown",
   "id": "b934d2f5",
   "metadata": {},
   "source": [
    "## Matrix Multiplication \n",
    "\n",
    "Just as there are different notions of multiplication for vectors, there are also different notions of multiplications for matrices. Two different types of matrix multiplication are:\n",
    "\n",
    "* the Hadamard product, where multiplication proceeds element-wise, like matrix addition\n",
    "\n",
    "* the dot product\n",
    "\n",
    "### The dot product of two matrices \n",
    "Often, when people talk about multiplying matrices, they are talking about the dot product. From now on, when we talk about multiplying two matrices together, we'll be talking about taking the dot product of the two matrices. \n",
    "\n",
    "The dot product of two matrices can be calculated as follows: \n",
    "\n",
    "\\begin{equation}\n",
    "\\begin{bmatrix}\n",
    "a_{1,1} & a_{1,2} \\\\\n",
    "a_{2,1} & a_{2,2}\n",
    "\\end{bmatrix}\n",
    "\\times\n",
    "\\begin{bmatrix}\n",
    "b_{1,1} & b_{1,2} \\\\\n",
    "b_{2,1} & b_{2,2}\n",
    "\\end{bmatrix}\n",
    "=\n",
    "\\begin{bmatrix}\n",
    "a_{1,1}\\times b_{1,1} + a_{1,2}\\times b_{2,1} & a_{1,1}\\times b_{1,2} + a_{1,2}\\times b_{2,2} \\\\\n",
    "a_{2,1}\\times b_{1,1} + a_{2,2}\\times b_{2,1} & a_{2,1}\\times b_{1,2} + a_{2,2}\\times b_{2,2}\n",
    "\\end{bmatrix}\n",
    "\\end{equation}\n",
    "\n",
    "* Take the entries in each _row_ of the left matrix and multiply them, respectively, by the entries in each _column_ of the right matrix, and then add them up. \n",
    "\n",
    "* This is like the dot product we calculated above for our two vectors! \n",
    "\n",
    "**To be able to perform the dot product of two matrices $A$ and $B$, $AB$, the number of columns of A must be equal to the number of rows of B.** \n",
    "\n",
    "The number of rows of the product matrix, $AB$, will equal the number of rows of $A$ and the number of columns will equal the number of columns of $B$.\n",
    "\n",
    "Also, note that matrix dot-multiplication is NOT commutative! In general, $AB \\neq BA$.\n",
    "\n",
    "\n",
    "\n",
    "\n",
    "Let's practice matrix multiplication using NumPy! "
   ]
  },
  {
   "cell_type": "markdown",
   "id": "0a79b9dd",
   "metadata": {},
   "source": [
    "Let's compute the dot product of the previously defined matrices A and B using NumPy. \n",
    "\n",
    "To compute the dot product of two matrices A and B we use the same `.dot()` notation as before for matrix multiplication. (Using `A * B` will compute the element-wise Hadamard product). \n",
    "\n",
    "Can we compute $AB$? Why? "
   ]
  },
  {
   "cell_type": "code",
   "execution_count": null,
   "id": "b93069a1",
   "metadata": {},
   "outputs": [],
   "source": [
    "#your code here"
   ]
  },
  {
   "cell_type": "markdown",
   "id": "f27cea08",
   "metadata": {},
   "source": [
    "> No, we cannot. The number of columns of A is not equal to the number of rows of B. \n",
    "\n",
    "Compute $BA$ using NumPy."
   ]
  },
  {
   "cell_type": "code",
   "execution_count": null,
   "id": "546a73d5",
   "metadata": {},
   "outputs": [],
   "source": [
    "B.dot(A)"
   ]
  },
  {
   "cell_type": "markdown",
   "id": "c9f832c9",
   "metadata": {},
   "source": [
    "> We can compute $BA$ because the number of columns of B is equal to the number of rows of A. \n",
    "\n",
    " <details>\n",
    "        <summary>Q: What is $B^T B$ equal to? What are some of the properties of the resulting matrix? </summary>\n",
    "  $B^T B$ is a square matrix of 2 x 2 dimensionality. \n",
    "    </details>"
   ]
  },
  {
   "cell_type": "code",
   "execution_count": null,
   "id": "863481c2",
   "metadata": {},
   "outputs": [],
   "source": [
    "#your code here"
   ]
  },
  {
   "cell_type": "markdown",
   "id": "e4855488",
   "metadata": {},
   "source": [
    "<details>\n",
    "        <summary>Q: What is $B B^T$ equal to? Do we expect it to be the same as $B^T B$? </summary>\n",
    "  We don't expect it to be the same. The dimensionality of this matrix is 3 x 3. It's, however, a square, symmetric matrix. \n",
    "\n",
    "Matrix multiplication is not commutative: the order of multiplication matters. \n",
    "    </details>"
   ]
  },
  {
   "cell_type": "code",
   "execution_count": null,
   "id": "c61872e8",
   "metadata": {},
   "outputs": [],
   "source": [
    "#your code here"
   ]
  },
  {
   "cell_type": "markdown",
   "id": "fce042a6",
   "metadata": {},
   "source": [
    "## The inverse of a matrix\n",
    "\n",
    "Matrix division is not defined. We cannot divide one matrix by another.\n",
    "\n",
    "The inverse of $A$, denoted by $A^{-1}$, **is only defined if A is a square matrix**, where the number of rows and columns of A is the same. \n",
    "\n",
    "When a matrix $A$ is multiplied by its inverse $A^{-1}$, $A^{-1} A$, we obtain an identity matrix $I$ of the same dimension as $A$, which contains 1's along the main diagonal of the matrix and 0's everywhere \n",
    "else. \n",
    "\n",
    "We use `np.linalg.inv(A)` to compute the inverse of a square matrix $A$ using NumPy.\n",
    "\n",
    "Compute the inverse of $A = \\begin{bmatrix}\n",
    "2 & 4 \\\\\n",
    "1 & 4 \n",
    "\\end{bmatrix}$  using NumPy and print it. Check that $A A^{-1}$ is equal to the identity matrix. "
   ]
  },
  {
   "cell_type": "code",
   "execution_count": null,
   "id": "dc4ed49a",
   "metadata": {},
   "outputs": [],
   "source": [
    "A = np.array([[2, 4], [1, 4]])\n",
    "\n",
    "A_inv = np.linalg.inv(A)\n",
    "\n",
    "print(A_inv)"
   ]
  },
  {
   "cell_type": "code",
   "execution_count": null,
   "id": "5457bd10",
   "metadata": {},
   "outputs": [],
   "source": [
    "print(A.dot(A_inv))"
   ]
  },
  {
   "cell_type": "markdown",
   "id": "347c1498",
   "metadata": {},
   "source": [
    "## How do we solve a system of linear equations using NumPy? \n",
    "\n",
    "Let's go back to the example of a two-dimensional system of linear equations. \n",
    "\n",
    "$$2x + 4y = 10 \\\\\n",
    "x + 4y = 7$$\n",
    "\n",
    "We saw that can write this as: \n",
    "\n",
    "$$A\\mathbf{x} = \\mathbf{b}$$ \n",
    "\n",
    "where \n",
    "\n",
    "$$A = \\begin{bmatrix}\n",
    "2 & 4 \\\\\n",
    "1 & 4 \n",
    "\\end{bmatrix},$$\n",
    "\n",
    "$$\\mathbf{x} = \\begin{bmatrix}\n",
    "x \\\\\n",
    "y\n",
    "\\end{bmatrix},$$ \n",
    "\n",
    "and \n",
    "\n",
    "$$\\mathbf{b} = \\begin{bmatrix}\n",
    "10 \\\\\n",
    "7\n",
    "\\end{bmatrix}$$\n",
    "\n",
    "To solve for $\\mathbf{x}$, we cannot divide $\\mathbf{b}$ by A! \n",
    "\n",
    "To solve for $\\mathbf{x}$, we need to multiply both sides of the equation $A\\mathbf{x} = \\mathbf{b}$ by the **inverse matrix** of $A$:  \n",
    "\n",
    "$$\\mathbf{x} = A^{-1}\\mathbf{b}$$\n",
    "\n",
    "Solve for $\\mathbf{x}$. "
   ]
  },
  {
   "cell_type": "code",
   "execution_count": null,
   "id": "a658ad5a",
   "metadata": {},
   "outputs": [],
   "source": [
    "#your code here "
   ]
  },
  {
   "cell_type": "markdown",
   "id": "ce956ca0",
   "metadata": {},
   "source": [
    "# Simple Linear Regression: Ordinary Least Squares using NumPy "
   ]
  },
  {
   "cell_type": "markdown",
   "id": "00182f15",
   "metadata": {},
   "source": [
    "Let's look at a toy example. \n",
    "\n",
    "We have the following data:\n",
    "\n",
    "```python\n",
    "x = [1, 2, 3, 4]\n",
    "y = [7, 4, 3, 2]\n",
    "```\n",
    "\n",
    "Here, x is the number of cups of coffee Joe drank during three consecutive days, and y is the number of hours he slept each of those nights.  \n",
    "\n",
    "We want to fit a line to this data to describe the relationship between the number of cups of coffee Joe drank in a day and the hours he was able to sleep each night with a linear model. \n",
    "\n",
    "This line will be of the form $y = mx + b$, where y is the number of hours of sleep per night, x is the number of cups of coffee drank in the day, m is the slope of the line, and b the y-intercept of the line. \n",
    "\n",
    "Using this, we can write: \n",
    "\n",
    "$$ b + m*1 = 7 \\\\\n",
    "b + m*2 = 4 \\\\\n",
    "b + m*3 = 3 \\\\\n",
    "b + m*4 = 2$$\n",
    "\n",
    "This is a system of linear equations that can be written in matrix form as follows: \n",
    "\n",
    "$$\n",
    "    \\left[ {\\begin{array}{cc}\n",
    "   1 & 1 \\\\\n",
    "   1 & 2 \\\\\n",
    "   1 & 3 \\\\\n",
    "   1 & 4\n",
    "  \\end{array} } \\right]\n",
    "   \\left[ {\\begin{array}{c}\n",
    "   b \\\\\n",
    "   m \\\\\n",
    "  \\end{array} } \\right] =\n",
    "    \\left[ {\\begin{array}{c}\n",
    "    7 \\\\\n",
    "    4 \\\\\n",
    "    3 \\\\\n",
    "    2\n",
    "  \\end{array} } \\right] \n",
    "$$\n",
    "\n",
    "We are hoping that there is some _linear combination_ of the columns of the first matrix that will give us our vector of observed values $y$. \n",
    "\n",
    "Before we proceed, let's visualize our data using a scatter plot:"
   ]
  },
  {
   "cell_type": "code",
   "execution_count": null,
   "id": "149b25b1",
   "metadata": {},
   "outputs": [],
   "source": [
    "import matplotlib.pyplot as plt \n",
    "plt.style.use('fivethirtyeight')\n",
    "%matplotlib inline \n",
    "\n",
    "x = [1, 2, 3, 4]\n",
    "y = [7, 4, 3, 2]\n",
    "\n",
    "plt.scatter(x, y)\n",
    "plt.xlabel('cups of coffee')\n",
    "plt.ylabel('hours of sleep');"
   ]
  },
  {
   "cell_type": "markdown",
   "id": "a3307e34",
   "metadata": {},
   "source": [
    "We can see our points do not lie on a line. A linear model won't fit our data perfectly. \n",
    "\n",
    "> Every line we attempt to draw through these points will have some error associated with it."
   ]
  },
  {
   "cell_type": "markdown",
   "id": "5d583e51",
   "metadata": {},
   "source": [
    "## Ordinary Least Squares\n",
    "\n",
    "Ordinary least squares tells us that our linear regression equation can be represented as the sum of a linear term and an error term: \n",
    "\n",
    "$$y = X\\beta + error$$\n",
    "\n",
    "To solve for the best estimate of $\\beta$, we are going to assume that on average, the error is equal to 0, thus:  \n",
    "\n",
    "$$ y = X \\beta $$\n",
    "\n",
    "In our toy example, \n",
    "\n",
    "$$X = \\begin{bmatrix}\n",
    "1 & 1 \\\\\n",
    "1 & 2 \\\\ \n",
    "1 & 3 \\\\\n",
    "1 & 4 \n",
    "\\end{bmatrix},$$ \n",
    "\n",
    "$$\\beta = \\begin{bmatrix}\n",
    "b \\\\\n",
    "m\n",
    "\\end{bmatrix},\n",
    "$$\n",
    "\n",
    "and \n",
    "\n",
    "$$y = \\begin{bmatrix}\n",
    "7 \\\\\n",
    "4 \\\\ \n",
    "3 \\\\\n",
    "2\n",
    "\\end{bmatrix}.$$\n",
    "\n",
    "$\\beta$ is a vector comprised of the intercept $b$ for the line and the slope $m$ for the line."
   ]
  },
  {
   "cell_type": "markdown",
   "id": "f28a49ff",
   "metadata": {},
   "source": [
    "Why does the matrix $X$ include a column of ones? \n",
    "\n",
    "> We need a column of ones for the intercept $b$. If we don't include an intercept term in our linear model, we would be constraining our lines to pass through the origin, which limits the types of relationships the model we're fitting can describe. "
   ]
  },
  {
   "cell_type": "markdown",
   "id": "34d09be1",
   "metadata": {},
   "source": [
    "<details>\n",
    "        <summary>Q: Can you compute the inverse of $X$? </summary>\n",
    "   No, because it is not a square matrix. \n",
    "    </details>\n",
    "\n"
   ]
  },
  {
   "cell_type": "markdown",
   "id": "b3f96179",
   "metadata": {},
   "source": [
    "To solve for $\\beta$, we need to make $X$ into a square matrix by multiplying both sides of the equation from the left by $X^T$ : \n",
    "\n",
    "$$X^T y = X^T X \\beta $$"
   ]
  },
  {
   "cell_type": "markdown",
   "id": "9c103859",
   "metadata": {},
   "source": [
    "Now we have a square matrix that with any luck has an inverse, which we will call $(X^T X)^{-1}$. \n",
    "\n",
    "Multiply both sides from the left by this inverse, and we have\n",
    "\n",
    "$$(X^T X)^{-1} X^T y =(X^T X)^{-1} X^T X\\beta $$"
   ]
  },
  {
   "cell_type": "markdown",
   "id": "50690c77",
   "metadata": {},
   "source": [
    "It turns out that a matrix multiplied by its inverse is the identity matrix $(X^{-1} X)= I$:\n",
    "\n",
    "$$(X^T X)^{-1} X^T y =I \\beta $$\n",
    "\n",
    "\n",
    "You know that $I\\beta= \\beta$. \n",
    "\n",
    "So, if you want to solve for $\\beta$ (that is, remember, equivalent to finding the values $m$ and $b$ in this case), you find that:\n",
    "\n",
    "$$ \\beta = (X^T X)^{-1} X^T y $$"
   ]
  },
  {
   "cell_type": "markdown",
   "id": "810c6d58",
   "metadata": {},
   "source": [
    "Find $\\beta$ using Ordinary Least Squares."
   ]
  },
  {
   "cell_type": "code",
   "execution_count": null,
   "id": "6e5388d1",
   "metadata": {},
   "outputs": [],
   "source": [
    "#your code here "
   ]
  },
  {
   "cell_type": "markdown",
   "id": "cc20ff26",
   "metadata": {},
   "source": [
    "Plot the best line obtained via Ordinary Least Squares against the original data. "
   ]
  },
  {
   "cell_type": "code",
   "execution_count": null,
   "id": "4376a36a",
   "metadata": {},
   "outputs": [],
   "source": [
    "#your code here "
   ]
  },
  {
   "cell_type": "markdown",
   "id": "7d813e9c",
   "metadata": {},
   "source": [
    "# Summary: \n",
    "\n",
    "* You have seen that linear algebra has many applications in data science, from image processing to recommender systems. \n",
    "\n",
    "* You can use libraries like NumPy to represent vectors and matrices, and perform operations like addition and multiplication. \n",
    "\n",
    "* You can use NumPy to compute the shape and transpose of an array, and to compute the inverse of square matrices. \n",
    "\n",
    "* NumPy allows you to solve complicated systems of linear equations quickly.  "
   ]
  },
  {
   "cell_type": "code",
   "execution_count": null,
   "id": "fb78065f",
   "metadata": {},
   "outputs": [],
   "source": []
  }
 ],
 "metadata": {
  "kernelspec": {
   "display_name": "learn-env",
   "language": "python",
   "name": "learn-env"
  },
  "language_info": {
   "codemirror_mode": {
    "name": "ipython",
    "version": 3
   },
   "file_extension": ".py",
   "mimetype": "text/x-python",
   "name": "python",
   "nbconvert_exporter": "python",
   "pygments_lexer": "ipython3",
   "version": "3.8.5"
  }
 },
 "nbformat": 4,
 "nbformat_minor": 5
}
