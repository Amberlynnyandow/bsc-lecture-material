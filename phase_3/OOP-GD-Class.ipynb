{
 "cells": [
  {
   "cell_type": "markdown",
   "id": "7c34f746",
   "metadata": {},
   "source": [
    "## EXERCISE: \n",
    "**Use OOP to create a gradient descent class with Linear Regression using MSE(same as RSS only divided by total # of data points) as a Cost Function**"
   ]
  },
  {
   "cell_type": "markdown",
   "id": "9d00b58d",
   "metadata": {},
   "source": [
    "### Reminder: Steps to find the optimal slope and intercept of a line of best fit using RSS as our cost function \n",
    "1. Take the partial derivative of the loss function for each parameter(gradient).\n",
    "2. Pick random values for the parameters. \n",
    "3. Plug the parameter values into the derivatives. \n",
    "4. Calculate the step sizes (slope * learning rate) \n",
    "5. Calculate new parameters (old parameters - step size) \n",
    "6. Repeat steps 3-5 until max number of steps is reached or minimum step size is reached. \n"
   ]
  },
  {
   "cell_type": "code",
   "execution_count": 1,
   "id": "ab9ac09a",
   "metadata": {},
   "outputs": [],
   "source": [
    "import numpy as np "
   ]
  },
  {
   "cell_type": "code",
   "execution_count": 2,
   "id": "7456aba1",
   "metadata": {},
   "outputs": [],
   "source": [
    "class GradientDescentMSE:\n",
    "    #initializer\n",
    "    def __init__(self, learning_rate=0.1, iterations=1000):\n",
    "        self.learning_rate, self.iterations = learning_rate, iterations\n",
    "        \n",
    "    #fit\n",
    "    def fit(self, X, y):\n",
    "        m = 0 \n",
    "        b = 0\n",
    "        n = X.shape[0]\n",
    "        for _ in range(self.iterations):\n",
    "            b_gradient = -2 * np.sum(y - (m*X + b))/n\n",
    "            m_gradient = -2 * np.sum(X*(y - (m*X + b)))/n\n",
    "            b = b - (self.learning_rate * b_gradient)\n",
    "            m = m - (self.learning_rate * m_gradient)\n",
    "        self.m, self.b = m, b\n",
    "        \n",
    "        \n",
    "    #predict\n",
    "    def predict(self, X):\n",
    "        return self.m*X + self.b \n",
    "        "
   ]
  },
  {
   "cell_type": "markdown",
   "id": "38bd0223",
   "metadata": {},
   "source": [
    "## Let's see if it worked!"
   ]
  },
  {
   "cell_type": "code",
   "execution_count": 3,
   "id": "4e0e9f6d",
   "metadata": {},
   "outputs": [],
   "source": [
    "#create a cloud of points normally distributed around the line y=x \n",
    "np.random.seed(42)\n",
    "X = np.array(sorted(list(range(5))*20)) + np.random.normal(size=100, scale=0.5)\n",
    "y = np.array(sorted(list(range(5))*20)) + np.random.normal(size=100, scale=0.25)"
   ]
  },
  {
   "cell_type": "code",
   "execution_count": 4,
   "id": "f7e2a6f0",
   "metadata": {},
   "outputs": [],
   "source": [
    "#instantiate a linear regression \n",
    "lr = GradientDescentMSE()"
   ]
  },
  {
   "cell_type": "code",
   "execution_count": 5,
   "id": "ab706a8f",
   "metadata": {},
   "outputs": [],
   "source": [
    "#fit gradient descent to our data\n",
    "lr.fit(X, y)"
   ]
  },
  {
   "cell_type": "code",
   "execution_count": 6,
   "id": "6f778bce",
   "metadata": {},
   "outputs": [
    {
     "data": {
      "text/plain": [
       "[<matplotlib.lines.Line2D at 0x7fa74a394af0>]"
      ]
     },
     "execution_count": 6,
     "metadata": {},
     "output_type": "execute_result"
    },
    {
     "data": {
      "image/png": "[encoded data removed]",
      "text/plain": [
       "<Figure size 432x288 with 1 Axes>"
      ]
     },
     "metadata": {
      "needs_background": "light"
     },
     "output_type": "display_data"
    }
   ],
   "source": [
    "#create a scatter plot with a predicted line of best fit to our data \n",
    "import matplotlib.pyplot as plt \n",
    "%matplotlib inline \n",
    "plt.scatter(X, y, color='black')\n",
    "plt.plot(X, lr.predict(X))"
   ]
  },
  {
   "cell_type": "code",
   "execution_count": 7,
   "id": "28e60211",
   "metadata": {},
   "outputs": [
    {
     "name": "stdout",
     "output_type": "stream",
     "text": [
      "0.28875762105975056\n",
      "0.8812889601846241\n"
     ]
    }
   ],
   "source": [
    "#What are the values of our intercept and slope?\n",
    "print(lr.b)\n",
    "print(lr.m)"
   ]
  },
  {
   "cell_type": "code",
   "execution_count": null,
   "id": "1a990f2f",
   "metadata": {},
   "outputs": [],
   "source": []
  }
 ],
 "metadata": {
  "kernelspec": {
   "display_name": "learn-env",
   "language": "python",
   "name": "learn-env"
  },
  "language_info": {
   "codemirror_mode": {
    "name": "ipython",
    "version": 3
   },
   "file_extension": ".py",
   "mimetype": "text/x-python",
   "name": "python",
   "nbconvert_exporter": "python",
   "pygments_lexer": "ipython3",
   "version": "3.8.5"
  }
 },
 "nbformat": 4,
 "nbformat_minor": 5
}
